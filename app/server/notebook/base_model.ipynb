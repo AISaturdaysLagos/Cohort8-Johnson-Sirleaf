{
 "cells": [
  {
   "cell_type": "markdown",
   "id": "67bb34cf",
   "metadata": {},
   "source": [
    "<h1 align=center><font size = 5>AI SATURDAY LAGOS COHORT 8</font></h1>   \n",
    "\n",
    "<h1 align=center><font size = 5>TEAM JOHNSON-SIRLEAF </font></h1>  \n",
    "<h2 align=center><font size = 6>MACHINE LEARNING APPROACH TO\n",
    "PREDICTING DIABETES RISKS</font></h2>\n",
    "\n",
    "<h5 align=center><font size = 2>Data Source: <a href=\"https://www.kaggle.com/datasets/iammustafatz/diabetes-prediction-dataset\" target=\"_blank\">Kaggle.<a/></font></h5>"
   ]
  },
  {
   "cell_type": "markdown",
   "id": "e327f8e1",
   "metadata": {},
   "source": [
    "## DATA PREPARATION"
   ]
  },
  {
   "cell_type": "code",
   "execution_count": 1,
   "id": "55283733",
   "metadata": {},
   "outputs": [],
   "source": [
    "# import libraries\n",
    "\n",
    "import numpy as np                      # for mahematical operations\n",
    "import pandas as pd                     # for data manipulation and cleaning\n",
    "import seaborn as sns                   # for data visulization\n",
    "import matplotlib as mpl\n",
    "import plotly.express as px             # for data visulization\n",
    "import matplotlib.pyplot as plt         # for data visulization\n",
    "\n",
    "from sklearn.preprocessing import OneHotEncoder, LabelEncoder"
   ]
  },
  {
   "cell_type": "markdown",
   "id": "cb607e84",
   "metadata": {},
   "source": [
    "### Data Loading"
   ]
  },
  {
   "cell_type": "code",
   "execution_count": 2,
   "id": "4f763e69",
   "metadata": {},
   "outputs": [],
   "source": [
    "# Read in dataset\n",
    "df = pd.read_csv('../data/diabetes_prediction_dataset.csv')"
   ]
  },
  {
   "cell_type": "code",
   "execution_count": 3,
   "id": "9c78de62",
   "metadata": {},
   "outputs": [
    {
     "data": {
      "text/html": [
       "<div>\n",
       "<style scoped>\n",
       "    .dataframe tbody tr th:only-of-type {\n",
       "        vertical-align: middle;\n",
       "    }\n",
       "\n",
       "    .dataframe tbody tr th {\n",
       "        vertical-align: top;\n",
       "    }\n",
       "\n",
       "    .dataframe thead th {\n",
       "        text-align: right;\n",
       "    }\n",
       "</style>\n",
       "<table border=\"1\" class=\"dataframe\">\n",
       "  <thead>\n",
       "    <tr style=\"text-align: right;\">\n",
       "      <th></th>\n",
       "      <th>gender</th>\n",
       "      <th>age</th>\n",
       "      <th>hypertension</th>\n",
       "      <th>heart_disease</th>\n",
       "      <th>smoking_history</th>\n",
       "      <th>bmi</th>\n",
       "      <th>HbA1c_level</th>\n",
       "      <th>blood_glucose_level</th>\n",
       "      <th>diabetes</th>\n",
       "    </tr>\n",
       "  </thead>\n",
       "  <tbody>\n",
       "    <tr>\n",
       "      <th>0</th>\n",
       "      <td>Female</td>\n",
       "      <td>80.0</td>\n",
       "      <td>0</td>\n",
       "      <td>1</td>\n",
       "      <td>never</td>\n",
       "      <td>25.19</td>\n",
       "      <td>6.6</td>\n",
       "      <td>140</td>\n",
       "      <td>0</td>\n",
       "    </tr>\n",
       "    <tr>\n",
       "      <th>1</th>\n",
       "      <td>Female</td>\n",
       "      <td>54.0</td>\n",
       "      <td>0</td>\n",
       "      <td>0</td>\n",
       "      <td>No Info</td>\n",
       "      <td>27.32</td>\n",
       "      <td>6.6</td>\n",
       "      <td>80</td>\n",
       "      <td>0</td>\n",
       "    </tr>\n",
       "    <tr>\n",
       "      <th>2</th>\n",
       "      <td>Male</td>\n",
       "      <td>28.0</td>\n",
       "      <td>0</td>\n",
       "      <td>0</td>\n",
       "      <td>never</td>\n",
       "      <td>27.32</td>\n",
       "      <td>5.7</td>\n",
       "      <td>158</td>\n",
       "      <td>0</td>\n",
       "    </tr>\n",
       "  </tbody>\n",
       "</table>\n",
       "</div>"
      ],
      "text/plain": [
       "   gender   age  hypertension  heart_disease smoking_history    bmi  \\\n",
       "0  Female  80.0             0              1           never  25.19   \n",
       "1  Female  54.0             0              0         No Info  27.32   \n",
       "2    Male  28.0             0              0           never  27.32   \n",
       "\n",
       "   HbA1c_level  blood_glucose_level  diabetes  \n",
       "0          6.6                  140         0  \n",
       "1          6.6                   80         0  \n",
       "2          5.7                  158         0  "
      ]
     },
     "execution_count": 3,
     "metadata": {},
     "output_type": "execute_result"
    }
   ],
   "source": [
    "df.head(3)"
   ]
  },
  {
   "cell_type": "code",
   "execution_count": 4,
   "id": "3544af40",
   "metadata": {},
   "outputs": [
    {
     "name": "stdout",
     "output_type": "stream",
     "text": [
      "The number of data points for non diabetic patients is (91500, 9)\n",
      "The number of data points for diabetic patients is (8500, 9)\n"
     ]
    }
   ],
   "source": [
    "# Proof of Imbalanced Dataset\n",
    "Data_diabetic = df[df[\"diabetes\"] == 1]\n",
    "Data_not_diabetic = df[df[\"diabetes\"] == 0]\n",
    "print(f\"The number of data points for non diabetic patients is {Data_not_diabetic.shape}\")\n",
    "print(f\"The number of data points for diabetic patients is {Data_diabetic.shape}\")"
   ]
  },
  {
   "cell_type": "markdown",
   "id": "0d4efe94",
   "metadata": {},
   "source": [
    "### Data Dictionary"
   ]
  },
  {
   "cell_type": "markdown",
   "id": "ce0cfd19",
   "metadata": {},
   "source": [
    "| variable       | class     | description                                                                  |\n",
    "|:---------------|:----------|:-----------------------------------------------------------------------------|\n",
    "| Gender               | character | Biological sex of the individual  |\n",
    "| Age                  | numeric   | Age of the individual  |\n",
    "| Hypertension         | numeric   | 0 = No Hypertension / 1 = Has Hypertension|\n",
    "| Heart_disease        | numeric   | 0 = No Heart disease / 1 = Has Heart disease|\n",
    "| Smoking_history      | character | 5 categories i.e not current,former,No Info,current,never and ever |\n",
    "| bmi                  | numeric   | Body Mass Index, a measure of body fat based on weight and height|\n",
    "| HbA1c_level          | numeric   | Hemoglobin A1c, a measure of a person's average blood sugar level over the past 2-3 months|\n",
    "| Blood_glucose_level  | numeric | Amount of glucose in the bloodstream at a given time|\n",
    "| Diabetes             | numeric | 0 indicates absence of diabetes, 1 indicates presence of Diabetes|"
   ]
  },
  {
   "cell_type": "code",
   "execution_count": 5,
   "id": "24ce4465",
   "metadata": {},
   "outputs": [
    {
     "data": {
      "text/plain": [
       "gender                  object\n",
       "age                    float64\n",
       "hypertension             int64\n",
       "heart_disease            int64\n",
       "smoking_history         object\n",
       "bmi                    float64\n",
       "HbA1c_level            float64\n",
       "blood_glucose_level      int64\n",
       "diabetes                 int64\n",
       "dtype: object"
      ]
     },
     "execution_count": 5,
     "metadata": {},
     "output_type": "execute_result"
    }
   ],
   "source": [
    "# check the data types of each features\n",
    "df.dtypes"
   ]
  },
  {
   "cell_type": "code",
   "execution_count": 6,
   "id": "c1236ef8",
   "metadata": {},
   "outputs": [
    {
     "data": {
      "text/plain": [
       "(100000, 9)"
      ]
     },
     "execution_count": 6,
     "metadata": {},
     "output_type": "execute_result"
    }
   ],
   "source": [
    "# check the shape of the data\n",
    "df.shape"
   ]
  },
  {
   "cell_type": "code",
   "execution_count": 7,
   "id": "e8022d6d",
   "metadata": {},
   "outputs": [
    {
     "data": {
      "text/plain": [
       "gender                 0\n",
       "age                    0\n",
       "hypertension           0\n",
       "heart_disease          0\n",
       "smoking_history        0\n",
       "bmi                    0\n",
       "HbA1c_level            0\n",
       "blood_glucose_level    0\n",
       "diabetes               0\n",
       "dtype: int64"
      ]
     },
     "execution_count": 7,
     "metadata": {},
     "output_type": "execute_result"
    }
   ],
   "source": [
    "df.isnull().sum()"
   ]
  },
  {
   "cell_type": "code",
   "execution_count": 8,
   "id": "756f66ee",
   "metadata": {},
   "outputs": [
    {
     "name": "stdout",
     "output_type": "stream",
     "text": [
      "<class 'pandas.core.frame.DataFrame'>\n",
      "RangeIndex: 100000 entries, 0 to 99999\n",
      "Data columns (total 9 columns):\n",
      " #   Column               Non-Null Count   Dtype  \n",
      "---  ------               --------------   -----  \n",
      " 0   gender               100000 non-null  object \n",
      " 1   age                  100000 non-null  float64\n",
      " 2   hypertension         100000 non-null  int64  \n",
      " 3   heart_disease        100000 non-null  int64  \n",
      " 4   smoking_history      100000 non-null  object \n",
      " 5   bmi                  100000 non-null  float64\n",
      " 6   HbA1c_level          100000 non-null  float64\n",
      " 7   blood_glucose_level  100000 non-null  int64  \n",
      " 8   diabetes             100000 non-null  int64  \n",
      "dtypes: float64(3), int64(4), object(2)\n",
      "memory usage: 6.9+ MB\n"
     ]
    }
   ],
   "source": [
    "df.info()"
   ]
  },
  {
   "cell_type": "code",
   "execution_count": 9,
   "id": "7cf3a571",
   "metadata": {
    "scrolled": true
   },
   "outputs": [
    {
     "data": {
      "text/html": [
       "<div>\n",
       "<style scoped>\n",
       "    .dataframe tbody tr th:only-of-type {\n",
       "        vertical-align: middle;\n",
       "    }\n",
       "\n",
       "    .dataframe tbody tr th {\n",
       "        vertical-align: top;\n",
       "    }\n",
       "\n",
       "    .dataframe thead th {\n",
       "        text-align: right;\n",
       "    }\n",
       "</style>\n",
       "<table border=\"1\" class=\"dataframe\">\n",
       "  <thead>\n",
       "    <tr style=\"text-align: right;\">\n",
       "      <th></th>\n",
       "      <th>age</th>\n",
       "      <th>hypertension</th>\n",
       "      <th>heart_disease</th>\n",
       "      <th>bmi</th>\n",
       "      <th>HbA1c_level</th>\n",
       "      <th>blood_glucose_level</th>\n",
       "      <th>diabetes</th>\n",
       "    </tr>\n",
       "  </thead>\n",
       "  <tbody>\n",
       "    <tr>\n",
       "      <th>count</th>\n",
       "      <td>100000.000000</td>\n",
       "      <td>100000.00000</td>\n",
       "      <td>100000.000000</td>\n",
       "      <td>100000.000000</td>\n",
       "      <td>100000.000000</td>\n",
       "      <td>100000.000000</td>\n",
       "      <td>100000.000000</td>\n",
       "    </tr>\n",
       "    <tr>\n",
       "      <th>mean</th>\n",
       "      <td>41.885856</td>\n",
       "      <td>0.07485</td>\n",
       "      <td>0.039420</td>\n",
       "      <td>27.320767</td>\n",
       "      <td>5.527507</td>\n",
       "      <td>138.058060</td>\n",
       "      <td>0.085000</td>\n",
       "    </tr>\n",
       "    <tr>\n",
       "      <th>std</th>\n",
       "      <td>22.516840</td>\n",
       "      <td>0.26315</td>\n",
       "      <td>0.194593</td>\n",
       "      <td>6.636783</td>\n",
       "      <td>1.070672</td>\n",
       "      <td>40.708136</td>\n",
       "      <td>0.278883</td>\n",
       "    </tr>\n",
       "    <tr>\n",
       "      <th>min</th>\n",
       "      <td>0.080000</td>\n",
       "      <td>0.00000</td>\n",
       "      <td>0.000000</td>\n",
       "      <td>10.010000</td>\n",
       "      <td>3.500000</td>\n",
       "      <td>80.000000</td>\n",
       "      <td>0.000000</td>\n",
       "    </tr>\n",
       "    <tr>\n",
       "      <th>25%</th>\n",
       "      <td>24.000000</td>\n",
       "      <td>0.00000</td>\n",
       "      <td>0.000000</td>\n",
       "      <td>23.630000</td>\n",
       "      <td>4.800000</td>\n",
       "      <td>100.000000</td>\n",
       "      <td>0.000000</td>\n",
       "    </tr>\n",
       "    <tr>\n",
       "      <th>50%</th>\n",
       "      <td>43.000000</td>\n",
       "      <td>0.00000</td>\n",
       "      <td>0.000000</td>\n",
       "      <td>27.320000</td>\n",
       "      <td>5.800000</td>\n",
       "      <td>140.000000</td>\n",
       "      <td>0.000000</td>\n",
       "    </tr>\n",
       "    <tr>\n",
       "      <th>75%</th>\n",
       "      <td>60.000000</td>\n",
       "      <td>0.00000</td>\n",
       "      <td>0.000000</td>\n",
       "      <td>29.580000</td>\n",
       "      <td>6.200000</td>\n",
       "      <td>159.000000</td>\n",
       "      <td>0.000000</td>\n",
       "    </tr>\n",
       "    <tr>\n",
       "      <th>max</th>\n",
       "      <td>80.000000</td>\n",
       "      <td>1.00000</td>\n",
       "      <td>1.000000</td>\n",
       "      <td>95.690000</td>\n",
       "      <td>9.000000</td>\n",
       "      <td>300.000000</td>\n",
       "      <td>1.000000</td>\n",
       "    </tr>\n",
       "  </tbody>\n",
       "</table>\n",
       "</div>"
      ],
      "text/plain": [
       "                 age  hypertension  heart_disease            bmi  \\\n",
       "count  100000.000000  100000.00000  100000.000000  100000.000000   \n",
       "mean       41.885856       0.07485       0.039420      27.320767   \n",
       "std        22.516840       0.26315       0.194593       6.636783   \n",
       "min         0.080000       0.00000       0.000000      10.010000   \n",
       "25%        24.000000       0.00000       0.000000      23.630000   \n",
       "50%        43.000000       0.00000       0.000000      27.320000   \n",
       "75%        60.000000       0.00000       0.000000      29.580000   \n",
       "max        80.000000       1.00000       1.000000      95.690000   \n",
       "\n",
       "         HbA1c_level  blood_glucose_level       diabetes  \n",
       "count  100000.000000        100000.000000  100000.000000  \n",
       "mean        5.527507           138.058060       0.085000  \n",
       "std         1.070672            40.708136       0.278883  \n",
       "min         3.500000            80.000000       0.000000  \n",
       "25%         4.800000           100.000000       0.000000  \n",
       "50%         5.800000           140.000000       0.000000  \n",
       "75%         6.200000           159.000000       0.000000  \n",
       "max         9.000000           300.000000       1.000000  "
      ]
     },
     "execution_count": 9,
     "metadata": {},
     "output_type": "execute_result"
    }
   ],
   "source": [
    "# Checking statistics of the numeric features\n",
    "df.describe()"
   ]
  },
  {
   "cell_type": "markdown",
   "id": "311fcdac",
   "metadata": {},
   "source": [
    "### Data Wrangling"
   ]
  },
  {
   "cell_type": "code",
   "execution_count": 10,
   "id": "b107e8ab",
   "metadata": {},
   "outputs": [],
   "source": [
    "# save a copy of the data\n",
    "df_copy = df.copy('Dataset/diabetes_prediction_dataset.csv')"
   ]
  },
  {
   "cell_type": "code",
   "execution_count": 11,
   "id": "0bc37d81",
   "metadata": {},
   "outputs": [],
   "source": [
    "def df_wrangle(df, dtype_convert, OneHot_cols):\n",
    "    '''\n",
    "    This function wrangles (cleans) our dataset by correcting datypes and One-Hot\n",
    "    encoding dpecified columns\n",
    "    \n",
    "    Inputs\n",
    "    df: (dataframe), dataframe to wrangle\n",
    "    dtype_convert: (dictionary), pairs of column, dtype to convert to\n",
    "    OneHot_col: (list), columns in the dataframe to One-Hot encode\n",
    "    \n",
    "    Output\n",
    "    df: (dataframe), wrangled (cleaned) dataframe\n",
    "    '''\n",
    "    \n",
    "    # convert datatypes to correct formats\n",
    "    for col, dtype in dtype_convert.items():\n",
    "        df[col] = df[col].astype(dtype)\n",
    "        \n",
    "    # One_Hot encode neccesary columns\n",
    "    \n",
    "    # Initialize the One-Hot Encoder\n",
    "    encoder = OneHotEncoder()\n",
    "    \n",
    "    # One-Hot encode each column\n",
    "    for col in OneHot_cols:\n",
    "        # variable to store new column names\n",
    "        df_col_name = []\n",
    "        \n",
    "        # unique values in current column\n",
    "        vals = df[col].unique()             \n",
    "\n",
    "        for val in vals:\n",
    "            # replace spaces in values with underscore\n",
    "            val = val.replace(' ', '_')\n",
    "            \n",
    "            # combine initial column name and current value as new column name\n",
    "            df_col_name.append(col+'_'+val) \n",
    "                                            \n",
    "        # encode the columns\n",
    "        encoded_df = pd.DataFrame(encoder.fit_transform(df[[col]]).toarray())\n",
    "        \n",
    "        # rename the new columns\n",
    "        encoded_df.columns = df_col_name\n",
    "        \n",
    "        # add new columns to dataframe\n",
    "        df = df.join(encoded_df)\n",
    "\n",
    "    # drop the initial columns\n",
    "    df.drop(OneHot_cols, axis=1, inplace=True)\n",
    "    \n",
    "    return df"
   ]
  },
  {
   "cell_type": "code",
   "execution_count": 12,
   "id": "9f3ce2ee",
   "metadata": {},
   "outputs": [],
   "source": [
    "df = df_wrangle(df, {'age':'int'}, ['gender', 'smoking_history'])"
   ]
  },
  {
   "cell_type": "code",
   "execution_count": 13,
   "id": "424848b1",
   "metadata": {},
   "outputs": [
    {
     "data": {
      "text/html": [
       "<div>\n",
       "<style scoped>\n",
       "    .dataframe tbody tr th:only-of-type {\n",
       "        vertical-align: middle;\n",
       "    }\n",
       "\n",
       "    .dataframe tbody tr th {\n",
       "        vertical-align: top;\n",
       "    }\n",
       "\n",
       "    .dataframe thead th {\n",
       "        text-align: right;\n",
       "    }\n",
       "</style>\n",
       "<table border=\"1\" class=\"dataframe\">\n",
       "  <thead>\n",
       "    <tr style=\"text-align: right;\">\n",
       "      <th></th>\n",
       "      <th>age</th>\n",
       "      <th>hypertension</th>\n",
       "      <th>heart_disease</th>\n",
       "      <th>bmi</th>\n",
       "      <th>HbA1c_level</th>\n",
       "      <th>blood_glucose_level</th>\n",
       "      <th>diabetes</th>\n",
       "      <th>gender_Female</th>\n",
       "      <th>gender_Male</th>\n",
       "      <th>gender_Other</th>\n",
       "      <th>smoking_history_never</th>\n",
       "      <th>smoking_history_No_Info</th>\n",
       "      <th>smoking_history_current</th>\n",
       "      <th>smoking_history_former</th>\n",
       "      <th>smoking_history_ever</th>\n",
       "      <th>smoking_history_not_current</th>\n",
       "    </tr>\n",
       "  </thead>\n",
       "  <tbody>\n",
       "    <tr>\n",
       "      <th>0</th>\n",
       "      <td>80</td>\n",
       "      <td>0</td>\n",
       "      <td>1</td>\n",
       "      <td>25.19</td>\n",
       "      <td>6.6</td>\n",
       "      <td>140</td>\n",
       "      <td>0</td>\n",
       "      <td>1.0</td>\n",
       "      <td>0.0</td>\n",
       "      <td>0.0</td>\n",
       "      <td>0.0</td>\n",
       "      <td>0.0</td>\n",
       "      <td>0.0</td>\n",
       "      <td>0.0</td>\n",
       "      <td>1.0</td>\n",
       "      <td>0.0</td>\n",
       "    </tr>\n",
       "    <tr>\n",
       "      <th>1</th>\n",
       "      <td>54</td>\n",
       "      <td>0</td>\n",
       "      <td>0</td>\n",
       "      <td>27.32</td>\n",
       "      <td>6.6</td>\n",
       "      <td>80</td>\n",
       "      <td>0</td>\n",
       "      <td>1.0</td>\n",
       "      <td>0.0</td>\n",
       "      <td>0.0</td>\n",
       "      <td>1.0</td>\n",
       "      <td>0.0</td>\n",
       "      <td>0.0</td>\n",
       "      <td>0.0</td>\n",
       "      <td>0.0</td>\n",
       "      <td>0.0</td>\n",
       "    </tr>\n",
       "    <tr>\n",
       "      <th>2</th>\n",
       "      <td>28</td>\n",
       "      <td>0</td>\n",
       "      <td>0</td>\n",
       "      <td>27.32</td>\n",
       "      <td>5.7</td>\n",
       "      <td>158</td>\n",
       "      <td>0</td>\n",
       "      <td>0.0</td>\n",
       "      <td>1.0</td>\n",
       "      <td>0.0</td>\n",
       "      <td>0.0</td>\n",
       "      <td>0.0</td>\n",
       "      <td>0.0</td>\n",
       "      <td>0.0</td>\n",
       "      <td>1.0</td>\n",
       "      <td>0.0</td>\n",
       "    </tr>\n",
       "    <tr>\n",
       "      <th>3</th>\n",
       "      <td>36</td>\n",
       "      <td>0</td>\n",
       "      <td>0</td>\n",
       "      <td>23.45</td>\n",
       "      <td>5.0</td>\n",
       "      <td>155</td>\n",
       "      <td>0</td>\n",
       "      <td>1.0</td>\n",
       "      <td>0.0</td>\n",
       "      <td>0.0</td>\n",
       "      <td>0.0</td>\n",
       "      <td>1.0</td>\n",
       "      <td>0.0</td>\n",
       "      <td>0.0</td>\n",
       "      <td>0.0</td>\n",
       "      <td>0.0</td>\n",
       "    </tr>\n",
       "    <tr>\n",
       "      <th>4</th>\n",
       "      <td>76</td>\n",
       "      <td>1</td>\n",
       "      <td>1</td>\n",
       "      <td>20.14</td>\n",
       "      <td>4.8</td>\n",
       "      <td>155</td>\n",
       "      <td>0</td>\n",
       "      <td>0.0</td>\n",
       "      <td>1.0</td>\n",
       "      <td>0.0</td>\n",
       "      <td>0.0</td>\n",
       "      <td>1.0</td>\n",
       "      <td>0.0</td>\n",
       "      <td>0.0</td>\n",
       "      <td>0.0</td>\n",
       "      <td>0.0</td>\n",
       "    </tr>\n",
       "  </tbody>\n",
       "</table>\n",
       "</div>"
      ],
      "text/plain": [
       "   age  hypertension  heart_disease    bmi  HbA1c_level  blood_glucose_level  \\\n",
       "0   80             0              1  25.19          6.6                  140   \n",
       "1   54             0              0  27.32          6.6                   80   \n",
       "2   28             0              0  27.32          5.7                  158   \n",
       "3   36             0              0  23.45          5.0                  155   \n",
       "4   76             1              1  20.14          4.8                  155   \n",
       "\n",
       "   diabetes  gender_Female  gender_Male  gender_Other  smoking_history_never  \\\n",
       "0         0            1.0          0.0           0.0                    0.0   \n",
       "1         0            1.0          0.0           0.0                    1.0   \n",
       "2         0            0.0          1.0           0.0                    0.0   \n",
       "3         0            1.0          0.0           0.0                    0.0   \n",
       "4         0            0.0          1.0           0.0                    0.0   \n",
       "\n",
       "   smoking_history_No_Info  smoking_history_current  smoking_history_former  \\\n",
       "0                      0.0                      0.0                     0.0   \n",
       "1                      0.0                      0.0                     0.0   \n",
       "2                      0.0                      0.0                     0.0   \n",
       "3                      1.0                      0.0                     0.0   \n",
       "4                      1.0                      0.0                     0.0   \n",
       "\n",
       "   smoking_history_ever  smoking_history_not_current  \n",
       "0                   1.0                          0.0  \n",
       "1                   0.0                          0.0  \n",
       "2                   1.0                          0.0  \n",
       "3                   0.0                          0.0  \n",
       "4                   0.0                          0.0  "
      ]
     },
     "execution_count": 13,
     "metadata": {},
     "output_type": "execute_result"
    }
   ],
   "source": [
    "df.head()"
   ]
  },
  {
   "cell_type": "code",
   "execution_count": 14,
   "id": "68ad28c8",
   "metadata": {},
   "outputs": [
    {
     "name": "stdout",
     "output_type": "stream",
     "text": [
      "<class 'pandas.core.frame.DataFrame'>\n",
      "RangeIndex: 100000 entries, 0 to 99999\n",
      "Data columns (total 16 columns):\n",
      " #   Column                       Non-Null Count   Dtype  \n",
      "---  ------                       --------------   -----  \n",
      " 0   age                          100000 non-null  int32  \n",
      " 1   hypertension                 100000 non-null  int64  \n",
      " 2   heart_disease                100000 non-null  int64  \n",
      " 3   bmi                          100000 non-null  float64\n",
      " 4   HbA1c_level                  100000 non-null  float64\n",
      " 5   blood_glucose_level          100000 non-null  int64  \n",
      " 6   diabetes                     100000 non-null  int64  \n",
      " 7   gender_Female                100000 non-null  float64\n",
      " 8   gender_Male                  100000 non-null  float64\n",
      " 9   gender_Other                 100000 non-null  float64\n",
      " 10  smoking_history_never        100000 non-null  float64\n",
      " 11  smoking_history_No_Info      100000 non-null  float64\n",
      " 12  smoking_history_current      100000 non-null  float64\n",
      " 13  smoking_history_former       100000 non-null  float64\n",
      " 14  smoking_history_ever         100000 non-null  float64\n",
      " 15  smoking_history_not_current  100000 non-null  float64\n",
      "dtypes: float64(11), int32(1), int64(4)\n",
      "memory usage: 11.8 MB\n"
     ]
    }
   ],
   "source": [
    "df.info()"
   ]
  },
  {
   "cell_type": "code",
   "execution_count": 15,
   "id": "ca13ce39",
   "metadata": {},
   "outputs": [
    {
     "data": {
      "text/html": [
       "<div>\n",
       "<style scoped>\n",
       "    .dataframe tbody tr th:only-of-type {\n",
       "        vertical-align: middle;\n",
       "    }\n",
       "\n",
       "    .dataframe tbody tr th {\n",
       "        vertical-align: top;\n",
       "    }\n",
       "\n",
       "    .dataframe thead th {\n",
       "        text-align: right;\n",
       "    }\n",
       "</style>\n",
       "<table border=\"1\" class=\"dataframe\">\n",
       "  <thead>\n",
       "    <tr style=\"text-align: right;\">\n",
       "      <th></th>\n",
       "      <th>age</th>\n",
       "      <th>hypertension</th>\n",
       "      <th>heart_disease</th>\n",
       "      <th>bmi</th>\n",
       "      <th>HbA1c_level</th>\n",
       "      <th>blood_glucose_level</th>\n",
       "      <th>diabetes</th>\n",
       "      <th>gender_Female</th>\n",
       "      <th>gender_Male</th>\n",
       "      <th>gender_Other</th>\n",
       "      <th>smoking_history_never</th>\n",
       "      <th>smoking_history_No_Info</th>\n",
       "      <th>smoking_history_current</th>\n",
       "      <th>smoking_history_former</th>\n",
       "      <th>smoking_history_ever</th>\n",
       "      <th>smoking_history_not_current</th>\n",
       "    </tr>\n",
       "  </thead>\n",
       "  <tbody>\n",
       "    <tr>\n",
       "      <th>count</th>\n",
       "      <td>100000.000000</td>\n",
       "      <td>100000.00000</td>\n",
       "      <td>100000.000000</td>\n",
       "      <td>100000.000000</td>\n",
       "      <td>100000.000000</td>\n",
       "      <td>100000.000000</td>\n",
       "      <td>100000.000000</td>\n",
       "      <td>100000.000000</td>\n",
       "      <td>100000.000000</td>\n",
       "      <td>100000.000000</td>\n",
       "      <td>100000.000000</td>\n",
       "      <td>100000.000000</td>\n",
       "      <td>100000.000000</td>\n",
       "      <td>100000.000000</td>\n",
       "      <td>100000.00000</td>\n",
       "      <td>100000.00000</td>\n",
       "    </tr>\n",
       "    <tr>\n",
       "      <th>mean</th>\n",
       "      <td>41.875660</td>\n",
       "      <td>0.07485</td>\n",
       "      <td>0.039420</td>\n",
       "      <td>27.320767</td>\n",
       "      <td>5.527507</td>\n",
       "      <td>138.058060</td>\n",
       "      <td>0.085000</td>\n",
       "      <td>0.585520</td>\n",
       "      <td>0.414300</td>\n",
       "      <td>0.000180</td>\n",
       "      <td>0.358160</td>\n",
       "      <td>0.092860</td>\n",
       "      <td>0.040040</td>\n",
       "      <td>0.093520</td>\n",
       "      <td>0.35095</td>\n",
       "      <td>0.06447</td>\n",
       "    </tr>\n",
       "    <tr>\n",
       "      <th>std</th>\n",
       "      <td>22.535417</td>\n",
       "      <td>0.26315</td>\n",
       "      <td>0.194593</td>\n",
       "      <td>6.636783</td>\n",
       "      <td>1.070672</td>\n",
       "      <td>40.708136</td>\n",
       "      <td>0.278883</td>\n",
       "      <td>0.492635</td>\n",
       "      <td>0.492603</td>\n",
       "      <td>0.013415</td>\n",
       "      <td>0.479462</td>\n",
       "      <td>0.290238</td>\n",
       "      <td>0.196054</td>\n",
       "      <td>0.291161</td>\n",
       "      <td>0.47727</td>\n",
       "      <td>0.24559</td>\n",
       "    </tr>\n",
       "    <tr>\n",
       "      <th>min</th>\n",
       "      <td>0.000000</td>\n",
       "      <td>0.00000</td>\n",
       "      <td>0.000000</td>\n",
       "      <td>10.010000</td>\n",
       "      <td>3.500000</td>\n",
       "      <td>80.000000</td>\n",
       "      <td>0.000000</td>\n",
       "      <td>0.000000</td>\n",
       "      <td>0.000000</td>\n",
       "      <td>0.000000</td>\n",
       "      <td>0.000000</td>\n",
       "      <td>0.000000</td>\n",
       "      <td>0.000000</td>\n",
       "      <td>0.000000</td>\n",
       "      <td>0.00000</td>\n",
       "      <td>0.00000</td>\n",
       "    </tr>\n",
       "    <tr>\n",
       "      <th>25%</th>\n",
       "      <td>24.000000</td>\n",
       "      <td>0.00000</td>\n",
       "      <td>0.000000</td>\n",
       "      <td>23.630000</td>\n",
       "      <td>4.800000</td>\n",
       "      <td>100.000000</td>\n",
       "      <td>0.000000</td>\n",
       "      <td>0.000000</td>\n",
       "      <td>0.000000</td>\n",
       "      <td>0.000000</td>\n",
       "      <td>0.000000</td>\n",
       "      <td>0.000000</td>\n",
       "      <td>0.000000</td>\n",
       "      <td>0.000000</td>\n",
       "      <td>0.00000</td>\n",
       "      <td>0.00000</td>\n",
       "    </tr>\n",
       "    <tr>\n",
       "      <th>50%</th>\n",
       "      <td>43.000000</td>\n",
       "      <td>0.00000</td>\n",
       "      <td>0.000000</td>\n",
       "      <td>27.320000</td>\n",
       "      <td>5.800000</td>\n",
       "      <td>140.000000</td>\n",
       "      <td>0.000000</td>\n",
       "      <td>1.000000</td>\n",
       "      <td>0.000000</td>\n",
       "      <td>0.000000</td>\n",
       "      <td>0.000000</td>\n",
       "      <td>0.000000</td>\n",
       "      <td>0.000000</td>\n",
       "      <td>0.000000</td>\n",
       "      <td>0.00000</td>\n",
       "      <td>0.00000</td>\n",
       "    </tr>\n",
       "    <tr>\n",
       "      <th>75%</th>\n",
       "      <td>60.000000</td>\n",
       "      <td>0.00000</td>\n",
       "      <td>0.000000</td>\n",
       "      <td>29.580000</td>\n",
       "      <td>6.200000</td>\n",
       "      <td>159.000000</td>\n",
       "      <td>0.000000</td>\n",
       "      <td>1.000000</td>\n",
       "      <td>1.000000</td>\n",
       "      <td>0.000000</td>\n",
       "      <td>1.000000</td>\n",
       "      <td>0.000000</td>\n",
       "      <td>0.000000</td>\n",
       "      <td>0.000000</td>\n",
       "      <td>1.00000</td>\n",
       "      <td>0.00000</td>\n",
       "    </tr>\n",
       "    <tr>\n",
       "      <th>max</th>\n",
       "      <td>80.000000</td>\n",
       "      <td>1.00000</td>\n",
       "      <td>1.000000</td>\n",
       "      <td>95.690000</td>\n",
       "      <td>9.000000</td>\n",
       "      <td>300.000000</td>\n",
       "      <td>1.000000</td>\n",
       "      <td>1.000000</td>\n",
       "      <td>1.000000</td>\n",
       "      <td>1.000000</td>\n",
       "      <td>1.000000</td>\n",
       "      <td>1.000000</td>\n",
       "      <td>1.000000</td>\n",
       "      <td>1.000000</td>\n",
       "      <td>1.00000</td>\n",
       "      <td>1.00000</td>\n",
       "    </tr>\n",
       "  </tbody>\n",
       "</table>\n",
       "</div>"
      ],
      "text/plain": [
       "                 age  hypertension  heart_disease            bmi  \\\n",
       "count  100000.000000  100000.00000  100000.000000  100000.000000   \n",
       "mean       41.875660       0.07485       0.039420      27.320767   \n",
       "std        22.535417       0.26315       0.194593       6.636783   \n",
       "min         0.000000       0.00000       0.000000      10.010000   \n",
       "25%        24.000000       0.00000       0.000000      23.630000   \n",
       "50%        43.000000       0.00000       0.000000      27.320000   \n",
       "75%        60.000000       0.00000       0.000000      29.580000   \n",
       "max        80.000000       1.00000       1.000000      95.690000   \n",
       "\n",
       "         HbA1c_level  blood_glucose_level       diabetes  gender_Female  \\\n",
       "count  100000.000000        100000.000000  100000.000000  100000.000000   \n",
       "mean        5.527507           138.058060       0.085000       0.585520   \n",
       "std         1.070672            40.708136       0.278883       0.492635   \n",
       "min         3.500000            80.000000       0.000000       0.000000   \n",
       "25%         4.800000           100.000000       0.000000       0.000000   \n",
       "50%         5.800000           140.000000       0.000000       1.000000   \n",
       "75%         6.200000           159.000000       0.000000       1.000000   \n",
       "max         9.000000           300.000000       1.000000       1.000000   \n",
       "\n",
       "         gender_Male   gender_Other  smoking_history_never  \\\n",
       "count  100000.000000  100000.000000          100000.000000   \n",
       "mean        0.414300       0.000180               0.358160   \n",
       "std         0.492603       0.013415               0.479462   \n",
       "min         0.000000       0.000000               0.000000   \n",
       "25%         0.000000       0.000000               0.000000   \n",
       "50%         0.000000       0.000000               0.000000   \n",
       "75%         1.000000       0.000000               1.000000   \n",
       "max         1.000000       1.000000               1.000000   \n",
       "\n",
       "       smoking_history_No_Info  smoking_history_current  \\\n",
       "count            100000.000000            100000.000000   \n",
       "mean                  0.092860                 0.040040   \n",
       "std                   0.290238                 0.196054   \n",
       "min                   0.000000                 0.000000   \n",
       "25%                   0.000000                 0.000000   \n",
       "50%                   0.000000                 0.000000   \n",
       "75%                   0.000000                 0.000000   \n",
       "max                   1.000000                 1.000000   \n",
       "\n",
       "       smoking_history_former  smoking_history_ever  \\\n",
       "count           100000.000000          100000.00000   \n",
       "mean                 0.093520               0.35095   \n",
       "std                  0.291161               0.47727   \n",
       "min                  0.000000               0.00000   \n",
       "25%                  0.000000               0.00000   \n",
       "50%                  0.000000               0.00000   \n",
       "75%                  0.000000               1.00000   \n",
       "max                  1.000000               1.00000   \n",
       "\n",
       "       smoking_history_not_current  \n",
       "count                 100000.00000  \n",
       "mean                       0.06447  \n",
       "std                        0.24559  \n",
       "min                        0.00000  \n",
       "25%                        0.00000  \n",
       "50%                        0.00000  \n",
       "75%                        0.00000  \n",
       "max                        1.00000  "
      ]
     },
     "execution_count": 15,
     "metadata": {},
     "output_type": "execute_result"
    }
   ],
   "source": [
    "df.describe()"
   ]
  },
  {
   "cell_type": "code",
   "execution_count": null,
   "id": "9c74f325",
   "metadata": {},
   "outputs": [],
   "source": []
  },
  {
   "cell_type": "code",
   "execution_count": 16,
   "id": "1889cf7e",
   "metadata": {},
   "outputs": [
    {
     "data": {
      "text/plain": [
       "3888"
      ]
     },
     "execution_count": 16,
     "metadata": {},
     "output_type": "execute_result"
    }
   ],
   "source": [
    "df.duplicated().sum()"
   ]
  },
  {
   "cell_type": "code",
   "execution_count": 17,
   "id": "ad4a28f9",
   "metadata": {},
   "outputs": [],
   "source": [
    "df.drop_duplicates(inplace=True)"
   ]
  },
  {
   "cell_type": "code",
   "execution_count": null,
   "id": "a3520324",
   "metadata": {},
   "outputs": [],
   "source": []
  },
  {
   "cell_type": "markdown",
   "id": "5f0ce201",
   "metadata": {},
   "source": [
    "### Defining Model Variables and Target"
   ]
  },
  {
   "cell_type": "code",
<<<<<<< HEAD
<<<<<<< HEAD
   "execution_count": 61,
=======
   "execution_count": 18,
>>>>>>> 703ad96d37e5504cb659c1aa96a46ea8f303edbf
=======
   "execution_count": 16,
>>>>>>> parent of b801da6 (save changes)
   "id": "e103dda9",
   "metadata": {},
   "outputs": [
    {
     "data": {
      "text/plain": [
       "(96112, 15)"
      ]
     },
<<<<<<< HEAD
<<<<<<< HEAD
     "execution_count": 61,
=======
     "execution_count": 18,
>>>>>>> 703ad96d37e5504cb659c1aa96a46ea8f303edbf
=======
     "execution_count": 16,
>>>>>>> parent of b801da6 (save changes)
     "metadata": {},
     "output_type": "execute_result"
    }
   ],
   "source": [
    "X = df.drop('diabetes', axis=1)\n",
    "X.shape"
   ]
  },
  {
   "cell_type": "code",
<<<<<<< HEAD
<<<<<<< HEAD
   "execution_count": 62,
=======
   "execution_count": 19,
>>>>>>> 703ad96d37e5504cb659c1aa96a46ea8f303edbf
=======
   "execution_count": 17,
>>>>>>> parent of b801da6 (save changes)
   "id": "3b281989",
   "metadata": {},
   "outputs": [
    {
     "data": {
      "text/plain": [
       "(96112,)"
      ]
     },
<<<<<<< HEAD
<<<<<<< HEAD
     "execution_count": 62,
=======
     "execution_count": 19,
>>>>>>> 703ad96d37e5504cb659c1aa96a46ea8f303edbf
=======
     "execution_count": 17,
>>>>>>> parent of b801da6 (save changes)
     "metadata": {},
     "output_type": "execute_result"
    }
   ],
   "source": [
    "y = df['diabetes']\n",
    "y.shape"
   ]
  },
  {
   "cell_type": "markdown",
   "id": "ad13620d",
   "metadata": {},
   "source": [
    "## Data Splitting for Model Building\n",
    "\n",
    "### Method 1 - Train, Dev, Test\n",
    "\n",
    "For the first method of our data splitting, the dataset contains 100,000 samples of data. The splitting would be done in the ratio 90:5:5, which implies 90000 data point for training, 5000 data points for dev set and test sets respectively\n",
    "\n",
    "This is because 5% (5,000) samples is enough for each of our development and test sets.\n",
    "\n",
    "NB: Both dev set and test sets are referred to as validation dataset in our code."
   ]
  },
  {
   "cell_type": "code",
<<<<<<< HEAD
<<<<<<< HEAD
   "execution_count": 63,
=======
   "execution_count": 20,
>>>>>>> 703ad96d37e5504cb659c1aa96a46ea8f303edbf
=======
   "execution_count": 18,
>>>>>>> parent of b801da6 (save changes)
   "id": "e3bc1da3",
   "metadata": {},
   "outputs": [],
   "source": [
    "from sklearn.model_selection import train_test_split"
   ]
  },
  {
   "cell_type": "markdown",
   "id": "d1d47100",
   "metadata": {},
   "source": [
    "#### Training set"
   ]
  },
  {
   "cell_type": "code",
<<<<<<< HEAD
<<<<<<< HEAD
   "execution_count": 64,
=======
   "execution_count": 21,
>>>>>>> 703ad96d37e5504cb659c1aa96a46ea8f303edbf
=======
   "execution_count": 19,
>>>>>>> parent of b801da6 (save changes)
   "id": "ce9889a9",
   "metadata": {},
   "outputs": [
    {
     "name": "stdout",
     "output_type": "stream",
     "text": [
      "(86500, 15)\n",
      "(86500,)\n",
      "(9612, 15)\n",
      "(9612,)\n"
     ]
    }
   ],
   "source": [
    "# 90,000 data points for training of dataset\n",
    "X_train, X_val, y_train, y_val = train_test_split(X, y, test_size=0.1, random_state=123)\n",
    "print(X_train.shape)\n",
    "print(y_train.shape)\n",
    "print(X_val.shape)\n",
    "print(y_val.shape)"
   ]
  },
  {
   "cell_type": "markdown",
   "id": "aab9adf9",
   "metadata": {},
   "source": [
    "##### Validation Set - Dev and Test set\n",
    "We are going to use about 10,000 data points for our validation test set. The `X_dev` and `y_dev` is the training dataset in the validation cycle, while the `X_test` and `y_test` are the test dataset in the validation cycle."
   ]
  },
  {
   "cell_type": "code",
<<<<<<< HEAD
<<<<<<< HEAD
   "execution_count": 65,
=======
   "execution_count": 22,
>>>>>>> 703ad96d37e5504cb659c1aa96a46ea8f303edbf
=======
   "execution_count": 20,
>>>>>>> parent of b801da6 (save changes)
   "id": "a52244a2",
   "metadata": {},
   "outputs": [],
   "source": [
    "X_dev, X_test, y_dev, y_test = train_test_split(X_val, y_val, test_size=0.5, random_state=123)"
   ]
  },
  {
   "cell_type": "code",
<<<<<<< HEAD
<<<<<<< HEAD
   "execution_count": 66,
=======
   "execution_count": 23,
>>>>>>> 703ad96d37e5504cb659c1aa96a46ea8f303edbf
=======
   "execution_count": 21,
>>>>>>> parent of b801da6 (save changes)
   "id": "31df607b",
   "metadata": {},
   "outputs": [
    {
     "name": "stdout",
     "output_type": "stream",
     "text": [
      "Shape of X_train (86500, 15)    Shape of y_train (86500,)\n",
      "Shape of X_dev (4806, 15)       Shape of y_dev (4806,)\n",
      "Shape of X_test (4806, 15)      Shape of y_test (4806,)\n"
     ]
    }
   ],
   "source": [
    "print(f'Shape of X_train {X_train.shape}    Shape of y_train {y_train.shape}')\n",
    "print(f'Shape of X_dev {X_dev.shape}       Shape of y_dev {y_dev.shape}')\n",
    "print(f'Shape of X_test {X_test.shape}      Shape of y_test {y_test.shape}')"
   ]
  },
  {
   "cell_type": "markdown",
   "id": "92ca23a3",
   "metadata": {},
   "source": [
    "##### Visualization"
   ]
  },
  {
   "cell_type": "code",
   "execution_count": 24,
   "id": "b120e393",
   "metadata": {},
   "outputs": [],
   "source": [
    "from sklearn.preprocessing import StandardScaler\n",
    "# Normalizing train features for training model.\n",
    "scaler = StandardScaler().fit(X_train)\n",
    "X_train_scaled_temp = scaler.transform(X_train)"
   ]
  },
  {
   "cell_type": "code",
   "execution_count": 25,
   "id": "ccaf7ec3",
   "metadata": {},
   "outputs": [],
   "source": [
    "from sklearn.decomposition import PCA"
   ]
  },
  {
   "cell_type": "code",
   "execution_count": 26,
   "id": "46897b1a",
   "metadata": {},
   "outputs": [],
   "source": [
    "pca = PCA(3)\n",
    "projected = pca.fit_transform(X_train_scaled_temp)"
   ]
  },
  {
   "cell_type": "code",
   "execution_count": 27,
   "id": "25e9a313",
   "metadata": {},
   "outputs": [],
   "source": [
    "mask_true = y_train == 1.0"
   ]
  },
  {
   "cell_type": "code",
   "execution_count": 28,
   "id": "2f91b481",
   "metadata": {},
   "outputs": [
    {
     "data": {
      "application/javascript": [
       "/* Put everything inside the global mpl namespace */\n",
       "/* global mpl */\n",
       "window.mpl = {};\n",
       "\n",
       "mpl.get_websocket_type = function () {\n",
       "    if (typeof WebSocket !== 'undefined') {\n",
       "        return WebSocket;\n",
       "    } else if (typeof MozWebSocket !== 'undefined') {\n",
       "        return MozWebSocket;\n",
       "    } else {\n",
       "        alert(\n",
       "            'Your browser does not have WebSocket support. ' +\n",
       "                'Please try Chrome, Safari or Firefox ≥ 6. ' +\n",
       "                'Firefox 4 and 5 are also supported but you ' +\n",
       "                'have to enable WebSockets in about:config.'\n",
       "        );\n",
       "    }\n",
       "};\n",
       "\n",
       "mpl.figure = function (figure_id, websocket, ondownload, parent_element) {\n",
       "    this.id = figure_id;\n",
       "\n",
       "    this.ws = websocket;\n",
       "\n",
       "    this.supports_binary = this.ws.binaryType !== undefined;\n",
       "\n",
       "    if (!this.supports_binary) {\n",
       "        var warnings = document.getElementById('mpl-warnings');\n",
       "        if (warnings) {\n",
       "            warnings.style.display = 'block';\n",
       "            warnings.textContent =\n",
       "                'This browser does not support binary websocket messages. ' +\n",
       "                'Performance may be slow.';\n",
       "        }\n",
       "    }\n",
       "\n",
       "    this.imageObj = new Image();\n",
       "\n",
       "    this.context = undefined;\n",
       "    this.message = undefined;\n",
       "    this.canvas = undefined;\n",
       "    this.rubberband_canvas = undefined;\n",
       "    this.rubberband_context = undefined;\n",
       "    this.format_dropdown = undefined;\n",
       "\n",
       "    this.image_mode = 'full';\n",
       "\n",
       "    this.root = document.createElement('div');\n",
       "    this.root.setAttribute('style', 'display: inline-block');\n",
       "    this._root_extra_style(this.root);\n",
       "\n",
       "    parent_element.appendChild(this.root);\n",
       "\n",
       "    this._init_header(this);\n",
       "    this._init_canvas(this);\n",
       "    this._init_toolbar(this);\n",
       "\n",
       "    var fig = this;\n",
       "\n",
       "    this.waiting = false;\n",
       "\n",
       "    this.ws.onopen = function () {\n",
       "        fig.send_message('supports_binary', { value: fig.supports_binary });\n",
       "        fig.send_message('send_image_mode', {});\n",
       "        if (fig.ratio !== 1) {\n",
       "            fig.send_message('set_device_pixel_ratio', {\n",
       "                device_pixel_ratio: fig.ratio,\n",
       "            });\n",
       "        }\n",
       "        fig.send_message('refresh', {});\n",
       "    };\n",
       "\n",
       "    this.imageObj.onload = function () {\n",
       "        if (fig.image_mode === 'full') {\n",
       "            // Full images could contain transparency (where diff images\n",
       "            // almost always do), so we need to clear the canvas so that\n",
       "            // there is no ghosting.\n",
       "            fig.context.clearRect(0, 0, fig.canvas.width, fig.canvas.height);\n",
       "        }\n",
       "        fig.context.drawImage(fig.imageObj, 0, 0);\n",
       "    };\n",
       "\n",
       "    this.imageObj.onunload = function () {\n",
       "        fig.ws.close();\n",
       "    };\n",
       "\n",
       "    this.ws.onmessage = this._make_on_message_function(this);\n",
       "\n",
       "    this.ondownload = ondownload;\n",
       "};\n",
       "\n",
       "mpl.figure.prototype._init_header = function () {\n",
       "    var titlebar = document.createElement('div');\n",
       "    titlebar.classList =\n",
       "        'ui-dialog-titlebar ui-widget-header ui-corner-all ui-helper-clearfix';\n",
       "    var titletext = document.createElement('div');\n",
       "    titletext.classList = 'ui-dialog-title';\n",
       "    titletext.setAttribute(\n",
       "        'style',\n",
       "        'width: 100%; text-align: center; padding: 3px;'\n",
       "    );\n",
       "    titlebar.appendChild(titletext);\n",
       "    this.root.appendChild(titlebar);\n",
       "    this.header = titletext;\n",
       "};\n",
       "\n",
       "mpl.figure.prototype._canvas_extra_style = function (_canvas_div) {};\n",
       "\n",
       "mpl.figure.prototype._root_extra_style = function (_canvas_div) {};\n",
       "\n",
       "mpl.figure.prototype._init_canvas = function () {\n",
       "    var fig = this;\n",
       "\n",
       "    var canvas_div = (this.canvas_div = document.createElement('div'));\n",
       "    canvas_div.setAttribute('tabindex', '0');\n",
       "    canvas_div.setAttribute(\n",
       "        'style',\n",
       "        'border: 1px solid #ddd;' +\n",
       "            'box-sizing: content-box;' +\n",
       "            'clear: both;' +\n",
       "            'min-height: 1px;' +\n",
       "            'min-width: 1px;' +\n",
       "            'outline: 0;' +\n",
       "            'overflow: hidden;' +\n",
       "            'position: relative;' +\n",
       "            'resize: both;' +\n",
       "            'z-index: 2;'\n",
       "    );\n",
       "\n",
       "    function on_keyboard_event_closure(name) {\n",
       "        return function (event) {\n",
       "            return fig.key_event(event, name);\n",
       "        };\n",
       "    }\n",
       "\n",
       "    canvas_div.addEventListener(\n",
       "        'keydown',\n",
       "        on_keyboard_event_closure('key_press')\n",
       "    );\n",
       "    canvas_div.addEventListener(\n",
       "        'keyup',\n",
       "        on_keyboard_event_closure('key_release')\n",
       "    );\n",
       "\n",
       "    this._canvas_extra_style(canvas_div);\n",
       "    this.root.appendChild(canvas_div);\n",
       "\n",
       "    var canvas = (this.canvas = document.createElement('canvas'));\n",
       "    canvas.classList.add('mpl-canvas');\n",
       "    canvas.setAttribute(\n",
       "        'style',\n",
       "        'box-sizing: content-box;' +\n",
       "            'pointer-events: none;' +\n",
       "            'position: relative;' +\n",
       "            'z-index: 0;'\n",
       "    );\n",
       "\n",
       "    this.context = canvas.getContext('2d');\n",
       "\n",
       "    var backingStore =\n",
       "        this.context.backingStorePixelRatio ||\n",
       "        this.context.webkitBackingStorePixelRatio ||\n",
       "        this.context.mozBackingStorePixelRatio ||\n",
       "        this.context.msBackingStorePixelRatio ||\n",
       "        this.context.oBackingStorePixelRatio ||\n",
       "        this.context.backingStorePixelRatio ||\n",
       "        1;\n",
       "\n",
       "    this.ratio = (window.devicePixelRatio || 1) / backingStore;\n",
       "\n",
       "    var rubberband_canvas = (this.rubberband_canvas = document.createElement(\n",
       "        'canvas'\n",
       "    ));\n",
       "    rubberband_canvas.setAttribute(\n",
       "        'style',\n",
       "        'box-sizing: content-box;' +\n",
       "            'left: 0;' +\n",
       "            'pointer-events: none;' +\n",
       "            'position: absolute;' +\n",
       "            'top: 0;' +\n",
       "            'z-index: 1;'\n",
       "    );\n",
       "\n",
       "    // Apply a ponyfill if ResizeObserver is not implemented by browser.\n",
       "    if (this.ResizeObserver === undefined) {\n",
       "        if (window.ResizeObserver !== undefined) {\n",
       "            this.ResizeObserver = window.ResizeObserver;\n",
       "        } else {\n",
       "            var obs = _JSXTOOLS_RESIZE_OBSERVER({});\n",
       "            this.ResizeObserver = obs.ResizeObserver;\n",
       "        }\n",
       "    }\n",
       "\n",
       "    this.resizeObserverInstance = new this.ResizeObserver(function (entries) {\n",
       "        var nentries = entries.length;\n",
       "        for (var i = 0; i < nentries; i++) {\n",
       "            var entry = entries[i];\n",
       "            var width, height;\n",
       "            if (entry.contentBoxSize) {\n",
       "                if (entry.contentBoxSize instanceof Array) {\n",
       "                    // Chrome 84 implements new version of spec.\n",
       "                    width = entry.contentBoxSize[0].inlineSize;\n",
       "                    height = entry.contentBoxSize[0].blockSize;\n",
       "                } else {\n",
       "                    // Firefox implements old version of spec.\n",
       "                    width = entry.contentBoxSize.inlineSize;\n",
       "                    height = entry.contentBoxSize.blockSize;\n",
       "                }\n",
       "            } else {\n",
       "                // Chrome <84 implements even older version of spec.\n",
       "                width = entry.contentRect.width;\n",
       "                height = entry.contentRect.height;\n",
       "            }\n",
       "\n",
       "            // Keep the size of the canvas and rubber band canvas in sync with\n",
       "            // the canvas container.\n",
       "            if (entry.devicePixelContentBoxSize) {\n",
       "                // Chrome 84 implements new version of spec.\n",
       "                canvas.setAttribute(\n",
       "                    'width',\n",
       "                    entry.devicePixelContentBoxSize[0].inlineSize\n",
       "                );\n",
       "                canvas.setAttribute(\n",
       "                    'height',\n",
       "                    entry.devicePixelContentBoxSize[0].blockSize\n",
       "                );\n",
       "            } else {\n",
       "                canvas.setAttribute('width', width * fig.ratio);\n",
       "                canvas.setAttribute('height', height * fig.ratio);\n",
       "            }\n",
       "            /* This rescales the canvas back to display pixels, so that it\n",
       "             * appears correct on HiDPI screens. */\n",
       "            canvas.style.width = width + 'px';\n",
       "            canvas.style.height = height + 'px';\n",
       "\n",
       "            rubberband_canvas.setAttribute('width', width);\n",
       "            rubberband_canvas.setAttribute('height', height);\n",
       "\n",
       "            // And update the size in Python. We ignore the initial 0/0 size\n",
       "            // that occurs as the element is placed into the DOM, which should\n",
       "            // otherwise not happen due to the minimum size styling.\n",
       "            if (fig.ws.readyState == 1 && width != 0 && height != 0) {\n",
       "                fig.request_resize(width, height);\n",
       "            }\n",
       "        }\n",
       "    });\n",
       "    this.resizeObserverInstance.observe(canvas_div);\n",
       "\n",
       "    function on_mouse_event_closure(name) {\n",
       "        /* User Agent sniffing is bad, but WebKit is busted:\n",
       "         * https://bugs.webkit.org/show_bug.cgi?id=144526\n",
       "         * https://bugs.webkit.org/show_bug.cgi?id=181818\n",
       "         * The worst that happens here is that they get an extra browser\n",
       "         * selection when dragging, if this check fails to catch them.\n",
       "         */\n",
       "        var UA = navigator.userAgent;\n",
       "        var isWebKit = /AppleWebKit/.test(UA) && !/Chrome/.test(UA);\n",
       "        if(isWebKit) {\n",
       "            return function (event) {\n",
       "                /* This prevents the web browser from automatically changing to\n",
       "                 * the text insertion cursor when the button is pressed. We\n",
       "                 * want to control all of the cursor setting manually through\n",
       "                 * the 'cursor' event from matplotlib */\n",
       "                event.preventDefault()\n",
       "                return fig.mouse_event(event, name);\n",
       "            };\n",
       "        } else {\n",
       "            return function (event) {\n",
       "                return fig.mouse_event(event, name);\n",
       "            };\n",
       "        }\n",
       "    }\n",
       "\n",
       "    canvas_div.addEventListener(\n",
       "        'mousedown',\n",
       "        on_mouse_event_closure('button_press')\n",
       "    );\n",
       "    canvas_div.addEventListener(\n",
       "        'mouseup',\n",
       "        on_mouse_event_closure('button_release')\n",
       "    );\n",
       "    canvas_div.addEventListener(\n",
       "        'dblclick',\n",
       "        on_mouse_event_closure('dblclick')\n",
       "    );\n",
       "    // Throttle sequential mouse events to 1 every 20ms.\n",
       "    canvas_div.addEventListener(\n",
       "        'mousemove',\n",
       "        on_mouse_event_closure('motion_notify')\n",
       "    );\n",
       "\n",
       "    canvas_div.addEventListener(\n",
       "        'mouseenter',\n",
       "        on_mouse_event_closure('figure_enter')\n",
       "    );\n",
       "    canvas_div.addEventListener(\n",
       "        'mouseleave',\n",
       "        on_mouse_event_closure('figure_leave')\n",
       "    );\n",
       "\n",
       "    canvas_div.addEventListener('wheel', function (event) {\n",
       "        if (event.deltaY < 0) {\n",
       "            event.step = 1;\n",
       "        } else {\n",
       "            event.step = -1;\n",
       "        }\n",
       "        on_mouse_event_closure('scroll')(event);\n",
       "    });\n",
       "\n",
       "    canvas_div.appendChild(canvas);\n",
       "    canvas_div.appendChild(rubberband_canvas);\n",
       "\n",
       "    this.rubberband_context = rubberband_canvas.getContext('2d');\n",
       "    this.rubberband_context.strokeStyle = '#000000';\n",
       "\n",
       "    this._resize_canvas = function (width, height, forward) {\n",
       "        if (forward) {\n",
       "            canvas_div.style.width = width + 'px';\n",
       "            canvas_div.style.height = height + 'px';\n",
       "        }\n",
       "    };\n",
       "\n",
       "    // Disable right mouse context menu.\n",
       "    canvas_div.addEventListener('contextmenu', function (_e) {\n",
       "        event.preventDefault();\n",
       "        return false;\n",
       "    });\n",
       "\n",
       "    function set_focus() {\n",
       "        canvas.focus();\n",
       "        canvas_div.focus();\n",
       "    }\n",
       "\n",
       "    window.setTimeout(set_focus, 100);\n",
       "};\n",
       "\n",
       "mpl.figure.prototype._init_toolbar = function () {\n",
       "    var fig = this;\n",
       "\n",
       "    var toolbar = document.createElement('div');\n",
       "    toolbar.classList = 'mpl-toolbar';\n",
       "    this.root.appendChild(toolbar);\n",
       "\n",
       "    function on_click_closure(name) {\n",
       "        return function (_event) {\n",
       "            return fig.toolbar_button_onclick(name);\n",
       "        };\n",
       "    }\n",
       "\n",
       "    function on_mouseover_closure(tooltip) {\n",
       "        return function (event) {\n",
       "            if (!event.currentTarget.disabled) {\n",
       "                return fig.toolbar_button_onmouseover(tooltip);\n",
       "            }\n",
       "        };\n",
       "    }\n",
       "\n",
       "    fig.buttons = {};\n",
       "    var buttonGroup = document.createElement('div');\n",
       "    buttonGroup.classList = 'mpl-button-group';\n",
       "    for (var toolbar_ind in mpl.toolbar_items) {\n",
       "        var name = mpl.toolbar_items[toolbar_ind][0];\n",
       "        var tooltip = mpl.toolbar_items[toolbar_ind][1];\n",
       "        var image = mpl.toolbar_items[toolbar_ind][2];\n",
       "        var method_name = mpl.toolbar_items[toolbar_ind][3];\n",
       "\n",
       "        if (!name) {\n",
       "            /* Instead of a spacer, we start a new button group. */\n",
       "            if (buttonGroup.hasChildNodes()) {\n",
       "                toolbar.appendChild(buttonGroup);\n",
       "            }\n",
       "            buttonGroup = document.createElement('div');\n",
       "            buttonGroup.classList = 'mpl-button-group';\n",
       "            continue;\n",
       "        }\n",
       "\n",
       "        var button = (fig.buttons[name] = document.createElement('button'));\n",
       "        button.classList = 'mpl-widget';\n",
       "        button.setAttribute('role', 'button');\n",
       "        button.setAttribute('aria-disabled', 'false');\n",
       "        button.addEventListener('click', on_click_closure(method_name));\n",
       "        button.addEventListener('mouseover', on_mouseover_closure(tooltip));\n",
       "\n",
       "        var icon_img = document.createElement('img');\n",
       "        icon_img.src = '_images/' + image + '.png';\n",
       "        icon_img.srcset = '_images/' + image + '_large.png 2x';\n",
       "        icon_img.alt = tooltip;\n",
       "        button.appendChild(icon_img);\n",
       "\n",
       "        buttonGroup.appendChild(button);\n",
       "    }\n",
       "\n",
       "    if (buttonGroup.hasChildNodes()) {\n",
       "        toolbar.appendChild(buttonGroup);\n",
       "    }\n",
       "\n",
       "    var fmt_picker = document.createElement('select');\n",
       "    fmt_picker.classList = 'mpl-widget';\n",
       "    toolbar.appendChild(fmt_picker);\n",
       "    this.format_dropdown = fmt_picker;\n",
       "\n",
       "    for (var ind in mpl.extensions) {\n",
       "        var fmt = mpl.extensions[ind];\n",
       "        var option = document.createElement('option');\n",
       "        option.selected = fmt === mpl.default_extension;\n",
       "        option.innerHTML = fmt;\n",
       "        fmt_picker.appendChild(option);\n",
       "    }\n",
       "\n",
       "    var status_bar = document.createElement('span');\n",
       "    status_bar.classList = 'mpl-message';\n",
       "    toolbar.appendChild(status_bar);\n",
       "    this.message = status_bar;\n",
       "};\n",
       "\n",
       "mpl.figure.prototype.request_resize = function (x_pixels, y_pixels) {\n",
       "    // Request matplotlib to resize the figure. Matplotlib will then trigger a resize in the client,\n",
       "    // which will in turn request a refresh of the image.\n",
       "    this.send_message('resize', { width: x_pixels, height: y_pixels });\n",
       "};\n",
       "\n",
       "mpl.figure.prototype.send_message = function (type, properties) {\n",
       "    properties['type'] = type;\n",
       "    properties['figure_id'] = this.id;\n",
       "    this.ws.send(JSON.stringify(properties));\n",
       "};\n",
       "\n",
       "mpl.figure.prototype.send_draw_message = function () {\n",
       "    if (!this.waiting) {\n",
       "        this.waiting = true;\n",
       "        this.ws.send(JSON.stringify({ type: 'draw', figure_id: this.id }));\n",
       "    }\n",
       "};\n",
       "\n",
       "mpl.figure.prototype.handle_save = function (fig, _msg) {\n",
       "    var format_dropdown = fig.format_dropdown;\n",
       "    var format = format_dropdown.options[format_dropdown.selectedIndex].value;\n",
       "    fig.ondownload(fig, format);\n",
       "};\n",
       "\n",
       "mpl.figure.prototype.handle_resize = function (fig, msg) {\n",
       "    var size = msg['size'];\n",
       "    if (size[0] !== fig.canvas.width || size[1] !== fig.canvas.height) {\n",
       "        fig._resize_canvas(size[0], size[1], msg['forward']);\n",
       "        fig.send_message('refresh', {});\n",
       "    }\n",
       "};\n",
       "\n",
       "mpl.figure.prototype.handle_rubberband = function (fig, msg) {\n",
       "    var x0 = msg['x0'] / fig.ratio;\n",
       "    var y0 = (fig.canvas.height - msg['y0']) / fig.ratio;\n",
       "    var x1 = msg['x1'] / fig.ratio;\n",
       "    var y1 = (fig.canvas.height - msg['y1']) / fig.ratio;\n",
       "    x0 = Math.floor(x0) + 0.5;\n",
       "    y0 = Math.floor(y0) + 0.5;\n",
       "    x1 = Math.floor(x1) + 0.5;\n",
       "    y1 = Math.floor(y1) + 0.5;\n",
       "    var min_x = Math.min(x0, x1);\n",
       "    var min_y = Math.min(y0, y1);\n",
       "    var width = Math.abs(x1 - x0);\n",
       "    var height = Math.abs(y1 - y0);\n",
       "\n",
       "    fig.rubberband_context.clearRect(\n",
       "        0,\n",
       "        0,\n",
       "        fig.canvas.width / fig.ratio,\n",
       "        fig.canvas.height / fig.ratio\n",
       "    );\n",
       "\n",
       "    fig.rubberband_context.strokeRect(min_x, min_y, width, height);\n",
       "};\n",
       "\n",
       "mpl.figure.prototype.handle_figure_label = function (fig, msg) {\n",
       "    // Updates the figure title.\n",
       "    fig.header.textContent = msg['label'];\n",
       "};\n",
       "\n",
       "mpl.figure.prototype.handle_cursor = function (fig, msg) {\n",
       "    fig.canvas_div.style.cursor = msg['cursor'];\n",
       "};\n",
       "\n",
       "mpl.figure.prototype.handle_message = function (fig, msg) {\n",
       "    fig.message.textContent = msg['message'];\n",
       "};\n",
       "\n",
       "mpl.figure.prototype.handle_draw = function (fig, _msg) {\n",
       "    // Request the server to send over a new figure.\n",
       "    fig.send_draw_message();\n",
       "};\n",
       "\n",
       "mpl.figure.prototype.handle_image_mode = function (fig, msg) {\n",
       "    fig.image_mode = msg['mode'];\n",
       "};\n",
       "\n",
       "mpl.figure.prototype.handle_history_buttons = function (fig, msg) {\n",
       "    for (var key in msg) {\n",
       "        if (!(key in fig.buttons)) {\n",
       "            continue;\n",
       "        }\n",
       "        fig.buttons[key].disabled = !msg[key];\n",
       "        fig.buttons[key].setAttribute('aria-disabled', !msg[key]);\n",
       "    }\n",
       "};\n",
       "\n",
       "mpl.figure.prototype.handle_navigate_mode = function (fig, msg) {\n",
       "    if (msg['mode'] === 'PAN') {\n",
       "        fig.buttons['Pan'].classList.add('active');\n",
       "        fig.buttons['Zoom'].classList.remove('active');\n",
       "    } else if (msg['mode'] === 'ZOOM') {\n",
       "        fig.buttons['Pan'].classList.remove('active');\n",
       "        fig.buttons['Zoom'].classList.add('active');\n",
       "    } else {\n",
       "        fig.buttons['Pan'].classList.remove('active');\n",
       "        fig.buttons['Zoom'].classList.remove('active');\n",
       "    }\n",
       "};\n",
       "\n",
       "mpl.figure.prototype.updated_canvas_event = function () {\n",
       "    // Called whenever the canvas gets updated.\n",
       "    this.send_message('ack', {});\n",
       "};\n",
       "\n",
       "// A function to construct a web socket function for onmessage handling.\n",
       "// Called in the figure constructor.\n",
       "mpl.figure.prototype._make_on_message_function = function (fig) {\n",
       "    return function socket_on_message(evt) {\n",
       "        if (evt.data instanceof Blob) {\n",
       "            var img = evt.data;\n",
       "            if (img.type !== 'image/png') {\n",
       "                /* FIXME: We get \"Resource interpreted as Image but\n",
       "                 * transferred with MIME type text/plain:\" errors on\n",
       "                 * Chrome.  But how to set the MIME type?  It doesn't seem\n",
       "                 * to be part of the websocket stream */\n",
       "                img.type = 'image/png';\n",
       "            }\n",
       "\n",
       "            /* Free the memory for the previous frames */\n",
       "            if (fig.imageObj.src) {\n",
       "                (window.URL || window.webkitURL).revokeObjectURL(\n",
       "                    fig.imageObj.src\n",
       "                );\n",
       "            }\n",
       "\n",
       "            fig.imageObj.src = (window.URL || window.webkitURL).createObjectURL(\n",
       "                img\n",
       "            );\n",
       "            fig.updated_canvas_event();\n",
       "            fig.waiting = false;\n",
       "            return;\n",
       "        } else if (\n",
       "            typeof evt.data === 'string' &&\n",
       "            evt.data.slice(0, 21) === 'data:image/png;base64'\n",
       "        ) {\n",
       "            fig.imageObj.src = evt.data;\n",
       "            fig.updated_canvas_event();\n",
       "            fig.waiting = false;\n",
       "            return;\n",
       "        }\n",
       "\n",
       "        var msg = JSON.parse(evt.data);\n",
       "        var msg_type = msg['type'];\n",
       "\n",
       "        // Call the  \"handle_{type}\" callback, which takes\n",
       "        // the figure and JSON message as its only arguments.\n",
       "        try {\n",
       "            var callback = fig['handle_' + msg_type];\n",
       "        } catch (e) {\n",
       "            console.log(\n",
       "                \"No handler for the '\" + msg_type + \"' message type: \",\n",
       "                msg\n",
       "            );\n",
       "            return;\n",
       "        }\n",
       "\n",
       "        if (callback) {\n",
       "            try {\n",
       "                // console.log(\"Handling '\" + msg_type + \"' message: \", msg);\n",
       "                callback(fig, msg);\n",
       "            } catch (e) {\n",
       "                console.log(\n",
       "                    \"Exception inside the 'handler_\" + msg_type + \"' callback:\",\n",
       "                    e,\n",
       "                    e.stack,\n",
       "                    msg\n",
       "                );\n",
       "            }\n",
       "        }\n",
       "    };\n",
       "};\n",
       "\n",
       "function getModifiers(event) {\n",
       "    var mods = [];\n",
       "    if (event.ctrlKey) {\n",
       "        mods.push('ctrl');\n",
       "    }\n",
       "    if (event.altKey) {\n",
       "        mods.push('alt');\n",
       "    }\n",
       "    if (event.shiftKey) {\n",
       "        mods.push('shift');\n",
       "    }\n",
       "    if (event.metaKey) {\n",
       "        mods.push('meta');\n",
       "    }\n",
       "    return mods;\n",
       "}\n",
       "\n",
       "/*\n",
       " * return a copy of an object with only non-object keys\n",
       " * we need this to avoid circular references\n",
       " * https://stackoverflow.com/a/24161582/3208463\n",
       " */\n",
       "function simpleKeys(original) {\n",
       "    return Object.keys(original).reduce(function (obj, key) {\n",
       "        if (typeof original[key] !== 'object') {\n",
       "            obj[key] = original[key];\n",
       "        }\n",
       "        return obj;\n",
       "    }, {});\n",
       "}\n",
       "\n",
       "mpl.figure.prototype.mouse_event = function (event, name) {\n",
       "    if (name === 'button_press') {\n",
       "        this.canvas.focus();\n",
       "        this.canvas_div.focus();\n",
       "    }\n",
       "\n",
       "    // from https://stackoverflow.com/q/1114465\n",
       "    var boundingRect = this.canvas.getBoundingClientRect();\n",
       "    var x = (event.clientX - boundingRect.left) * this.ratio;\n",
       "    var y = (event.clientY - boundingRect.top) * this.ratio;\n",
       "\n",
       "    this.send_message(name, {\n",
       "        x: x,\n",
       "        y: y,\n",
       "        button: event.button,\n",
       "        step: event.step,\n",
       "        modifiers: getModifiers(event),\n",
       "        guiEvent: simpleKeys(event),\n",
       "    });\n",
       "\n",
       "    return false;\n",
       "};\n",
       "\n",
       "mpl.figure.prototype._key_event_extra = function (_event, _name) {\n",
       "    // Handle any extra behaviour associated with a key event\n",
       "};\n",
       "\n",
       "mpl.figure.prototype.key_event = function (event, name) {\n",
       "    // Prevent repeat events\n",
       "    if (name === 'key_press') {\n",
       "        if (event.key === this._key) {\n",
       "            return;\n",
       "        } else {\n",
       "            this._key = event.key;\n",
       "        }\n",
       "    }\n",
       "    if (name === 'key_release') {\n",
       "        this._key = null;\n",
       "    }\n",
       "\n",
       "    var value = '';\n",
       "    if (event.ctrlKey && event.key !== 'Control') {\n",
       "        value += 'ctrl+';\n",
       "    }\n",
       "    else if (event.altKey && event.key !== 'Alt') {\n",
       "        value += 'alt+';\n",
       "    }\n",
       "    else if (event.shiftKey && event.key !== 'Shift') {\n",
       "        value += 'shift+';\n",
       "    }\n",
       "\n",
       "    value += 'k' + event.key;\n",
       "\n",
       "    this._key_event_extra(event, name);\n",
       "\n",
       "    this.send_message(name, { key: value, guiEvent: simpleKeys(event) });\n",
       "    return false;\n",
       "};\n",
       "\n",
       "mpl.figure.prototype.toolbar_button_onclick = function (name) {\n",
       "    if (name === 'download') {\n",
       "        this.handle_save(this, null);\n",
       "    } else {\n",
       "        this.send_message('toolbar_button', { name: name });\n",
       "    }\n",
       "};\n",
       "\n",
       "mpl.figure.prototype.toolbar_button_onmouseover = function (tooltip) {\n",
       "    this.message.textContent = tooltip;\n",
       "};\n",
       "\n",
       "///////////////// REMAINING CONTENT GENERATED BY embed_js.py /////////////////\n",
       "// prettier-ignore\n",
       "var _JSXTOOLS_RESIZE_OBSERVER=function(A){var t,i=new WeakMap,n=new WeakMap,a=new WeakMap,r=new WeakMap,o=new Set;function s(e){if(!(this instanceof s))throw new TypeError(\"Constructor requires 'new' operator\");i.set(this,e)}function h(){throw new TypeError(\"Function is not a constructor\")}function c(e,t,i,n){e=0 in arguments?Number(arguments[0]):0,t=1 in arguments?Number(arguments[1]):0,i=2 in arguments?Number(arguments[2]):0,n=3 in arguments?Number(arguments[3]):0,this.right=(this.x=this.left=e)+(this.width=i),this.bottom=(this.y=this.top=t)+(this.height=n),Object.freeze(this)}function d(){t=requestAnimationFrame(d);var s=new WeakMap,p=new Set;o.forEach((function(t){r.get(t).forEach((function(i){var r=t instanceof window.SVGElement,o=a.get(t),d=r?0:parseFloat(o.paddingTop),f=r?0:parseFloat(o.paddingRight),l=r?0:parseFloat(o.paddingBottom),u=r?0:parseFloat(o.paddingLeft),g=r?0:parseFloat(o.borderTopWidth),m=r?0:parseFloat(o.borderRightWidth),w=r?0:parseFloat(o.borderBottomWidth),b=u+f,F=d+l,v=(r?0:parseFloat(o.borderLeftWidth))+m,W=g+w,y=r?0:t.offsetHeight-W-t.clientHeight,E=r?0:t.offsetWidth-v-t.clientWidth,R=b+v,z=F+W,M=r?t.width:parseFloat(o.width)-R-E,O=r?t.height:parseFloat(o.height)-z-y;if(n.has(t)){var k=n.get(t);if(k[0]===M&&k[1]===O)return}n.set(t,[M,O]);var S=Object.create(h.prototype);S.target=t,S.contentRect=new c(u,d,M,O),s.has(i)||(s.set(i,[]),p.add(i)),s.get(i).push(S)}))})),p.forEach((function(e){i.get(e).call(e,s.get(e),e)}))}return s.prototype.observe=function(i){if(i instanceof window.Element){r.has(i)||(r.set(i,new Set),o.add(i),a.set(i,window.getComputedStyle(i)));var n=r.get(i);n.has(this)||n.add(this),cancelAnimationFrame(t),t=requestAnimationFrame(d)}},s.prototype.unobserve=function(i){if(i instanceof window.Element&&r.has(i)){var n=r.get(i);n.has(this)&&(n.delete(this),n.size||(r.delete(i),o.delete(i))),n.size||r.delete(i),o.size||cancelAnimationFrame(t)}},A.DOMRectReadOnly=c,A.ResizeObserver=s,A.ResizeObserverEntry=h,A}; // eslint-disable-line\n",
       "mpl.toolbar_items = [[\"Home\", \"Reset original view\", \"fa fa-home\", \"home\"], [\"Back\", \"Back to previous view\", \"fa fa-arrow-left\", \"back\"], [\"Forward\", \"Forward to next view\", \"fa fa-arrow-right\", \"forward\"], [\"\", \"\", \"\", \"\"], [\"Pan\", \"Left button pans, Right button zooms\\nx/y fixes axis, CTRL fixes aspect\", \"fa fa-arrows\", \"pan\"], [\"Zoom\", \"Zoom to rectangle\\nx/y fixes axis\", \"fa fa-square-o\", \"zoom\"], [\"\", \"\", \"\", \"\"], [\"Download\", \"Download plot\", \"fa fa-floppy-o\", \"download\"]];\n",
       "\n",
       "mpl.extensions = [\"eps\", \"jpeg\", \"pgf\", \"pdf\", \"png\", \"ps\", \"raw\", \"svg\", \"tif\", \"webp\"];\n",
       "\n",
       "mpl.default_extension = \"png\";/* global mpl */\n",
       "\n",
       "var comm_websocket_adapter = function (comm) {\n",
       "    // Create a \"websocket\"-like object which calls the given IPython comm\n",
       "    // object with the appropriate methods. Currently this is a non binary\n",
       "    // socket, so there is still some room for performance tuning.\n",
       "    var ws = {};\n",
       "\n",
       "    ws.binaryType = comm.kernel.ws.binaryType;\n",
       "    ws.readyState = comm.kernel.ws.readyState;\n",
       "    function updateReadyState(_event) {\n",
       "        if (comm.kernel.ws) {\n",
       "            ws.readyState = comm.kernel.ws.readyState;\n",
       "        } else {\n",
       "            ws.readyState = 3; // Closed state.\n",
       "        }\n",
       "    }\n",
       "    comm.kernel.ws.addEventListener('open', updateReadyState);\n",
       "    comm.kernel.ws.addEventListener('close', updateReadyState);\n",
       "    comm.kernel.ws.addEventListener('error', updateReadyState);\n",
       "\n",
       "    ws.close = function () {\n",
       "        comm.close();\n",
       "    };\n",
       "    ws.send = function (m) {\n",
       "        //console.log('sending', m);\n",
       "        comm.send(m);\n",
       "    };\n",
       "    // Register the callback with on_msg.\n",
       "    comm.on_msg(function (msg) {\n",
       "        //console.log('receiving', msg['content']['data'], msg);\n",
       "        var data = msg['content']['data'];\n",
       "        if (data['blob'] !== undefined) {\n",
       "            data = {\n",
       "                data: new Blob(msg['buffers'], { type: data['blob'] }),\n",
       "            };\n",
       "        }\n",
       "        // Pass the mpl event to the overridden (by mpl) onmessage function.\n",
       "        ws.onmessage(data);\n",
       "    });\n",
       "    return ws;\n",
       "};\n",
       "\n",
       "mpl.mpl_figure_comm = function (comm, msg) {\n",
       "    // This is the function which gets called when the mpl process\n",
       "    // starts-up an IPython Comm through the \"matplotlib\" channel.\n",
       "\n",
       "    var id = msg.content.data.id;\n",
       "    // Get hold of the div created by the display call when the Comm\n",
       "    // socket was opened in Python.\n",
       "    var element = document.getElementById(id);\n",
       "    var ws_proxy = comm_websocket_adapter(comm);\n",
       "\n",
       "    function ondownload(figure, _format) {\n",
       "        window.open(figure.canvas.toDataURL());\n",
       "    }\n",
       "\n",
       "    var fig = new mpl.figure(id, ws_proxy, ondownload, element);\n",
       "\n",
       "    // Call onopen now - mpl needs it, as it is assuming we've passed it a real\n",
       "    // web socket which is closed, not our websocket->open comm proxy.\n",
       "    ws_proxy.onopen();\n",
       "\n",
       "    fig.parent_element = element;\n",
       "    fig.cell_info = mpl.find_output_cell(\"<div id='\" + id + \"'></div>\");\n",
       "    if (!fig.cell_info) {\n",
       "        console.error('Failed to find cell for figure', id, fig);\n",
       "        return;\n",
       "    }\n",
       "    fig.cell_info[0].output_area.element.on(\n",
       "        'cleared',\n",
       "        { fig: fig },\n",
       "        fig._remove_fig_handler\n",
       "    );\n",
       "};\n",
       "\n",
       "mpl.figure.prototype.handle_close = function (fig, msg) {\n",
       "    var width = fig.canvas.width / fig.ratio;\n",
       "    fig.cell_info[0].output_area.element.off(\n",
       "        'cleared',\n",
       "        fig._remove_fig_handler\n",
       "    );\n",
       "    fig.resizeObserverInstance.unobserve(fig.canvas_div);\n",
       "\n",
       "    // Update the output cell to use the data from the current canvas.\n",
       "    fig.push_to_output();\n",
       "    var dataURL = fig.canvas.toDataURL();\n",
       "    // Re-enable the keyboard manager in IPython - without this line, in FF,\n",
       "    // the notebook keyboard shortcuts fail.\n",
       "    IPython.keyboard_manager.enable();\n",
       "    fig.parent_element.innerHTML =\n",
       "        '<img src=\"' + dataURL + '\" width=\"' + width + '\">';\n",
       "    fig.close_ws(fig, msg);\n",
       "};\n",
       "\n",
       "mpl.figure.prototype.close_ws = function (fig, msg) {\n",
       "    fig.send_message('closing', msg);\n",
       "    // fig.ws.close()\n",
       "};\n",
       "\n",
       "mpl.figure.prototype.push_to_output = function (_remove_interactive) {\n",
       "    // Turn the data on the canvas into data in the output cell.\n",
       "    var width = this.canvas.width / this.ratio;\n",
       "    var dataURL = this.canvas.toDataURL();\n",
       "    this.cell_info[1]['text/html'] =\n",
       "        '<img src=\"' + dataURL + '\" width=\"' + width + '\">';\n",
       "};\n",
       "\n",
       "mpl.figure.prototype.updated_canvas_event = function () {\n",
       "    // Tell IPython that the notebook contents must change.\n",
       "    IPython.notebook.set_dirty(true);\n",
       "    this.send_message('ack', {});\n",
       "    var fig = this;\n",
       "    // Wait a second, then push the new image to the DOM so\n",
       "    // that it is saved nicely (might be nice to debounce this).\n",
       "    setTimeout(function () {\n",
       "        fig.push_to_output();\n",
       "    }, 1000);\n",
       "};\n",
       "\n",
       "mpl.figure.prototype._init_toolbar = function () {\n",
       "    var fig = this;\n",
       "\n",
       "    var toolbar = document.createElement('div');\n",
       "    toolbar.classList = 'btn-toolbar';\n",
       "    this.root.appendChild(toolbar);\n",
       "\n",
       "    function on_click_closure(name) {\n",
       "        return function (_event) {\n",
       "            return fig.toolbar_button_onclick(name);\n",
       "        };\n",
       "    }\n",
       "\n",
       "    function on_mouseover_closure(tooltip) {\n",
       "        return function (event) {\n",
       "            if (!event.currentTarget.disabled) {\n",
       "                return fig.toolbar_button_onmouseover(tooltip);\n",
       "            }\n",
       "        };\n",
       "    }\n",
       "\n",
       "    fig.buttons = {};\n",
       "    var buttonGroup = document.createElement('div');\n",
       "    buttonGroup.classList = 'btn-group';\n",
       "    var button;\n",
       "    for (var toolbar_ind in mpl.toolbar_items) {\n",
       "        var name = mpl.toolbar_items[toolbar_ind][0];\n",
       "        var tooltip = mpl.toolbar_items[toolbar_ind][1];\n",
       "        var image = mpl.toolbar_items[toolbar_ind][2];\n",
       "        var method_name = mpl.toolbar_items[toolbar_ind][3];\n",
       "\n",
       "        if (!name) {\n",
       "            /* Instead of a spacer, we start a new button group. */\n",
       "            if (buttonGroup.hasChildNodes()) {\n",
       "                toolbar.appendChild(buttonGroup);\n",
       "            }\n",
       "            buttonGroup = document.createElement('div');\n",
       "            buttonGroup.classList = 'btn-group';\n",
       "            continue;\n",
       "        }\n",
       "\n",
       "        button = fig.buttons[name] = document.createElement('button');\n",
       "        button.classList = 'btn btn-default';\n",
       "        button.href = '#';\n",
       "        button.title = name;\n",
       "        button.innerHTML = '<i class=\"fa ' + image + ' fa-lg\"></i>';\n",
       "        button.addEventListener('click', on_click_closure(method_name));\n",
       "        button.addEventListener('mouseover', on_mouseover_closure(tooltip));\n",
       "        buttonGroup.appendChild(button);\n",
       "    }\n",
       "\n",
       "    if (buttonGroup.hasChildNodes()) {\n",
       "        toolbar.appendChild(buttonGroup);\n",
       "    }\n",
       "\n",
       "    // Add the status bar.\n",
       "    var status_bar = document.createElement('span');\n",
       "    status_bar.classList = 'mpl-message pull-right';\n",
       "    toolbar.appendChild(status_bar);\n",
       "    this.message = status_bar;\n",
       "\n",
       "    // Add the close button to the window.\n",
       "    var buttongrp = document.createElement('div');\n",
       "    buttongrp.classList = 'btn-group inline pull-right';\n",
       "    button = document.createElement('button');\n",
       "    button.classList = 'btn btn-mini btn-primary';\n",
       "    button.href = '#';\n",
       "    button.title = 'Stop Interaction';\n",
       "    button.innerHTML = '<i class=\"fa fa-power-off icon-remove icon-large\"></i>';\n",
       "    button.addEventListener('click', function (_evt) {\n",
       "        fig.handle_close(fig, {});\n",
       "    });\n",
       "    button.addEventListener(\n",
       "        'mouseover',\n",
       "        on_mouseover_closure('Stop Interaction')\n",
       "    );\n",
       "    buttongrp.appendChild(button);\n",
       "    var titlebar = this.root.querySelector('.ui-dialog-titlebar');\n",
       "    titlebar.insertBefore(buttongrp, titlebar.firstChild);\n",
       "};\n",
       "\n",
       "mpl.figure.prototype._remove_fig_handler = function (event) {\n",
       "    var fig = event.data.fig;\n",
       "    if (event.target !== this) {\n",
       "        // Ignore bubbled events from children.\n",
       "        return;\n",
       "    }\n",
       "    fig.close_ws(fig, {});\n",
       "};\n",
       "\n",
       "mpl.figure.prototype._root_extra_style = function (el) {\n",
       "    el.style.boxSizing = 'content-box'; // override notebook setting of border-box.\n",
       "};\n",
       "\n",
       "mpl.figure.prototype._canvas_extra_style = function (el) {\n",
       "    // this is important to make the div 'focusable\n",
       "    el.setAttribute('tabindex', 0);\n",
       "    // reach out to IPython and tell the keyboard manager to turn it's self\n",
       "    // off when our div gets focus\n",
       "\n",
       "    // location in version 3\n",
       "    if (IPython.notebook.keyboard_manager) {\n",
       "        IPython.notebook.keyboard_manager.register_events(el);\n",
       "    } else {\n",
       "        // location in version 2\n",
       "        IPython.keyboard_manager.register_events(el);\n",
       "    }\n",
       "};\n",
       "\n",
       "mpl.figure.prototype._key_event_extra = function (event, _name) {\n",
       "    // Check for shift+enter\n",
       "    if (event.shiftKey && event.which === 13) {\n",
       "        this.canvas_div.blur();\n",
       "        // select the cell after this one\n",
       "        var index = IPython.notebook.find_cell_index(this.cell_info[0]);\n",
       "        IPython.notebook.select(index + 1);\n",
       "    }\n",
       "};\n",
       "\n",
       "mpl.figure.prototype.handle_save = function (fig, _msg) {\n",
       "    fig.ondownload(fig, null);\n",
       "};\n",
       "\n",
       "mpl.find_output_cell = function (html_output) {\n",
       "    // Return the cell and output element which can be found *uniquely* in the notebook.\n",
       "    // Note - this is a bit hacky, but it is done because the \"notebook_saving.Notebook\"\n",
       "    // IPython event is triggered only after the cells have been serialised, which for\n",
       "    // our purposes (turning an active figure into a static one), is too late.\n",
       "    var cells = IPython.notebook.get_cells();\n",
       "    var ncells = cells.length;\n",
       "    for (var i = 0; i < ncells; i++) {\n",
       "        var cell = cells[i];\n",
       "        if (cell.cell_type === 'code') {\n",
       "            for (var j = 0; j < cell.output_area.outputs.length; j++) {\n",
       "                var data = cell.output_area.outputs[j];\n",
       "                if (data.data) {\n",
       "                    // IPython >= 3 moved mimebundle to data attribute of output\n",
       "                    data = data.data;\n",
       "                }\n",
       "                if (data['text/html'] === html_output) {\n",
       "                    return [cell, data, j];\n",
       "                }\n",
       "            }\n",
       "        }\n",
       "    }\n",
       "};\n",
       "\n",
       "// Register the function which deals with the matplotlib target/channel.\n",
       "// The kernel may be null if the page has been refreshed.\n",
       "if (IPython.notebook.kernel !== null) {\n",
       "    IPython.notebook.kernel.comm_manager.register_target(\n",
       "        'matplotlib',\n",
       "        mpl.mpl_figure_comm\n",
       "    );\n",
       "}\n"
      ],
      "text/plain": [
       "<IPython.core.display.Javascript object>"
      ]
     },
     "metadata": {},
     "output_type": "display_data"
    },
    {
     "data": {
      "text/html": [
       "<img src=\"data:image/png;base64,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\" width=\"640\">"
      ],
      "text/plain": [
       "<IPython.core.display.HTML object>"
      ]
     },
     "metadata": {},
     "output_type": "display_data"
    }
   ],
   "source": [
    "%matplotlib notebook\n",
    "\n",
    "from mpl_toolkits.mplot3d import axes3d\n",
    "\n",
    "fig = plt.figure()\n",
    "\n",
    "ax = fig.add_subplot(111, projection='3d')\n",
    "\n",
    "ax.scatter(projected[:,0], projected[:,1], projected[:,2],\n",
    "           c=y_train, cmap=mpl.colormaps['Spectral'])\n",
    "\n",
    "plt.show()"
   ]
  },
  {
   "cell_type": "code",
   "execution_count": 29,
   "id": "531cc865",
   "metadata": {},
   "outputs": [
    {
     "data": {
      "text/plain": [
       "array([0.14073392, 0.13515743, 0.09274768])"
      ]
     },
     "execution_count": 29,
     "metadata": {},
     "output_type": "execute_result"
    }
   ],
   "source": [
    "pca.explained_variance_ratio_"
   ]
  },
  {
   "cell_type": "code",
   "execution_count": 30,
   "id": "fc11229f",
   "metadata": {},
   "outputs": [],
   "source": [
    "pca = PCA(2)\n",
    "projected = pca.fit_transform(X_train_scaled_temp)"
   ]
  },
  {
   "cell_type": "code",
   "execution_count": 33,
   "id": "b291034a",
   "metadata": {},
   "outputs": [
    {
     "data": {
      "image/png": "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",
      "text/plain": [
       "<Figure size 640x480 with 1 Axes>"
      ]
     },
     "metadata": {},
     "output_type": "display_data"
    }
   ],
   "source": [
    "%matplotlib inline\n",
    "\n",
    "fig = plt.figure()\n",
    "\n",
    "ax = fig.add_subplot()\n",
    "\n",
    "ax.scatter(projected[mask_true,0], projected[mask_true,1], c='red', label='Diabbetic')\n",
    "#ax.scatter(projected[~mask_true,0], projected[~mask_true,1], c='blue', label='Non Diabetic')\n",
    "\n",
    "plt.legend()\n",
    "\n",
    "plt.show()"
   ]
  },
  {
   "cell_type": "code",
   "execution_count": 34,
   "id": "4ad59dfe",
   "metadata": {},
   "outputs": [
    {
     "data": {
      "image/png": "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",
      "text/plain": [
       "<Figure size 640x480 with 1 Axes>"
      ]
     },
     "metadata": {},
     "output_type": "display_data"
    }
   ],
   "source": [
    "%matplotlib inline\n",
    "\n",
    "fig = plt.figure()\n",
    "\n",
    "ax = fig.add_subplot()\n",
    "\n",
    "#ax.scatter(projected[mask_true,0], projected[mask_true,1], c='red', label='Diabbetic')\n",
    "ax.scatter(projected[~mask_true,0], projected[~mask_true,1], c='blue', label='Non Diabetic')\n",
    "\n",
    "plt.legend()\n",
    "\n",
    "plt.show()"
   ]
  },
  {
   "cell_type": "code",
   "execution_count": 35,
   "id": "409bed39",
   "metadata": {},
   "outputs": [
    {
     "data": {
      "text/plain": [
       "(86500, 2)"
      ]
     },
     "execution_count": 35,
     "metadata": {},
     "output_type": "execute_result"
    }
   ],
   "source": [
    "projected.shape"
   ]
  },
  {
   "cell_type": "code",
   "execution_count": 36,
   "id": "0cbcac54",
   "metadata": {},
   "outputs": [
    {
     "data": {
      "text/plain": [
       "(86500,)"
      ]
     },
     "execution_count": 36,
     "metadata": {},
     "output_type": "execute_result"
    }
   ],
   "source": [
    "y_train.shape"
   ]
  },
  {
   "cell_type": "code",
   "execution_count": null,
   "id": "fc3f83f9",
   "metadata": {},
   "outputs": [],
   "source": []
  },
  {
   "cell_type": "code",
   "execution_count": null,
   "id": "161413c1",
   "metadata": {},
   "outputs": [],
   "source": []
  },
  {
   "cell_type": "markdown",
   "id": "050753ac",
   "metadata": {},
   "source": [
    "##### Treating imbalance in the Target Variable"
   ]
  },
  {
   "cell_type": "code",
<<<<<<< HEAD
<<<<<<< HEAD
   "execution_count": 67,
=======
   "execution_count": 37,
>>>>>>> 703ad96d37e5504cb659c1aa96a46ea8f303edbf
=======
   "execution_count": 22,
>>>>>>> parent of b801da6 (save changes)
   "id": "f763209e",
   "metadata": {},
   "outputs": [
    {
     "data": {
<<<<<<< HEAD
<<<<<<< HEAD
      "image/png": "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",
=======
      "image/png": "iVBORw0KGgoAAAANSUhEUgAAAk0AAAGwCAYAAAC0HlECAAAAOXRFWHRTb2Z0d2FyZQBNYXRwbG90bGliIHZlcnNpb24zLjguMSwgaHR0cHM6Ly9tYXRwbG90bGliLm9yZy/SrBM8AAAACXBIWXMAAA9hAAAPYQGoP6dpAAA3C0lEQVR4nO3dfVRVdb7H8Q/PoHYO+cBBRlQanZAiSVQ408Mdi+up0DVO2FLHm4xSLR10UkqRydC6FZNex4d8oIeZsDu6Rr1ztRFGjDBxUkLDsdSEcWacwa4eoFE4SgoK5/7RZV9PWG3x4YC9X2vttdr7992//d17LTqftc8+Wx+32+0WAAAAvpavtxsAAADoDAhNAAAAJhCaAAAATCA0AQAAmEBoAgAAMIHQBAAAYAKhCQAAwAR/bzdwo2hpadHx48d10003ycfHx9vtAAAAE9xut06fPq2IiAj5+n79vSRC01Vy/PhxRUZGersNAADQDseOHVOfPn2+tobQdJXcdNNNkr646BaLxcvdAAAAM1wulyIjI43P8a9DaLpKWr+Ss1gshCYAADoZM4/W8CA4AACACYQmAAAAEwhNAAAAJhCaAAAATCA0AQAAmEBoAgAAMMGroam5uVnPPvusoqKiFBISou9+97v693//d7ndbqPG7XYrOztbvXv3VkhIiJKSknTkyBGPeU6ePKmJEyfKYrEoNDRUaWlpOnPmjEfNxx9/rHvuuUfBwcGKjIzUwoUL2/SzceNGRUdHKzg4WLGxsfrDH/5wbU4cAAB0Ol4NTS+//LJWr16tFStW6PDhw3r55Ze1cOFCvfLKK0bNwoULtXz5cuXm5qqsrExdu3aVw+HQuXPnjJqJEyfq0KFDKioqUn5+vnbu3KknnnjCGHe5XBo5cqT69eun8vJyLVq0SAsWLNBrr71m1OzevVsTJkxQWlqa/vSnP2nMmDEaM2aMDh48eH0uBgAA6NB83Bff1rnORo0aJZvNpl/96lfGtpSUFIWEhOg3v/mN3G63IiIi9NRTT+npp5+WJNXX18tmsykvL0/jx4/X4cOHFRMTo71792ro0KGSpMLCQj300EP69NNPFRERodWrV+uZZ56R0+lUYGCgJGnu3LnavHmzKioqJEnjxo1TQ0OD8vPzjV4SExMVFxen3NzcNr03NjaqsbHRWG99o2h9fT0vtwQAoJNwuVyyWq2mPr+9eqfp+9//voqLi/XnP/9ZkvTRRx/p/fff14MPPihJOnr0qJxOp5KSkox9rFarEhISVFpaKkkqLS1VaGioEZgkKSkpSb6+viorKzNq7r33XiMwSZLD4VBlZaVOnTpl1Fx8nNaa1uN8WU5OjqxWq7Hw784BAHBj8+o/ozJ37ly5XC5FR0fLz89Pzc3NevHFFzVx4kRJktPplCTZbDaP/Ww2mzHmdDoVFhbmMe7v76/u3bt71ERFRbWZo3Xs5ptvltPp/NrjfFlWVpYyMjKM9dY7TQAA4Mbk1dC0YcMGrV27VuvWrdNtt92m/fv3a+bMmYqIiFBqaqo3W/tGQUFBCgoK8nYbAADgOvFqaJo9e7bmzp2r8ePHS5JiY2P1j3/8Qzk5OUpNTVV4eLgkqbq6Wr179zb2q66uVlxcnCQpPDxcNTU1HvNeuHBBJ0+eNPYPDw9XdXW1R03r+jfVtI4DAIBvN68+0/T555/L19ezBT8/P7W0tEiSoqKiFB4eruLiYmPc5XKprKxMdrtdkmS321VXV6fy8nKjZvv27WppaVFCQoJRs3PnTp0/f96oKSoq0q233qqbb77ZqLn4OK01rccBAADfcm4vSk1NdX/nO99x5+fnu48ePer+7//+b3fPnj3dc+bMMWp+8YtfuENDQ91vv/22++OPP3b/8Ic/dEdFRbnPnj1r1DzwwAPuO++8011WVuZ+//333QMHDnRPmDDBGK+rq3PbbDb3o48+6j548KD7t7/9rbtLly7uV1991ajZtWuX29/f3/0f//Ef7sOHD7vnz5/vDggIcB84cMDUudTX17sluevr66/ClQEAANfD5Xx+e/WVA6dPn9azzz6rTZs2qaamRhEREZowYYKys7ONX7q53W7Nnz9fr732murq6nT33Xdr1apV+t73vmfMc/LkSU2fPl1btmyRr6+vUlJStHz5cnXr1s2o+fjjj5Wenq69e/eqZ8+emjFjhjIzMz362bhxo+bNm6e///3vGjhwoBYuXKiHHnrI1Llczk8Wr0T87Leu2dxAZ1W+aJK3WwDQSV3O57dXQ9ONhNAEeA+hCUB7dZr3NAEAAHQWhCYAAAATCE0AAAAmEJoAAABMIDQBAACYQGgCAAAwgdAEAABgAqEJAADABEITAACACYQmAAAAEwhNAAAAJhCaAAAATCA0AQAAmEBoAgAAMIHQBAAAYAKhCQAAwARCEwAAgAmEJgAAABMITQAAACYQmgAAAEwgNAEAAJhAaAIAADCB0AQAAGACoQkAAMAEQhMAAIAJhCYAAAATCE0AAAAmEJoAAABMIDQBAACYQGgCAAAwgdAEAABgAqEJAADABEITAACACYQmAAAAE7wamvr37y8fH582S3p6uiTp3LlzSk9PV48ePdStWzelpKSourraY46qqiolJyerS5cuCgsL0+zZs3XhwgWPmh07dmjIkCEKCgrSgAEDlJeX16aXlStXqn///goODlZCQoL27Nlzzc4bAAB0Pl4NTXv37tWJEyeMpaioSJL0yCOPSJJmzZqlLVu2aOPGjSopKdHx48f18MMPG/s3NzcrOTlZTU1N2r17t9asWaO8vDxlZ2cbNUePHlVycrJGjBih/fv3a+bMmXrssce0bds2o2b9+vXKyMjQ/PnztW/fPg0ePFgOh0M1NTXX6UoAAICOzsftdru93USrmTNnKj8/X0eOHJHL5VKvXr20bt06jR07VpJUUVGhQYMGqbS0VImJidq6datGjRql48ePy2azSZJyc3OVmZmp2tpaBQYGKjMzUwUFBTp48KBxnPHjx6uurk6FhYWSpISEBA0bNkwrVqyQJLW0tCgyMlIzZszQ3LlzL9lrY2OjGhsbjXWXy6XIyEjV19fLYrFck+sjSfGz37pmcwOdVfmiSd5uAUAn5XK5ZLVaTX1+d5hnmpqamvSb3/xGU6ZMkY+Pj8rLy3X+/HklJSUZNdHR0erbt69KS0slSaWlpYqNjTUCkyQ5HA65XC4dOnTIqLl4jtaa1jmamppUXl7uUePr66ukpCSj5lJycnJktVqNJTIy8sovAgAA6LA6TGjavHmz6urq9JOf/ESS5HQ6FRgYqNDQUI86m80mp9Np1FwcmFrHW8e+rsblcuns2bP67LPP1NzcfMma1jkuJSsrS/X19cZy7Nixyz5nAADQefh7u4FWv/rVr/Tggw8qIiLC262YEhQUpKCgIG+3AQAArpMOcafpH//4h95991099thjxrbw8HA1NTWprq7Oo7a6ulrh4eFGzZd/Tde6/k01FotFISEh6tmzp/z8/C5Z0zoHAABAhwhNb775psLCwpScnGxsi4+PV0BAgIqLi41tlZWVqqqqkt1ulyTZ7XYdOHDA41duRUVFslgsiomJMWounqO1pnWOwMBAxcfHe9S0tLSouLjYqAEAAPD613MtLS168803lZqaKn///2/HarUqLS1NGRkZ6t69uywWi2bMmCG73a7ExERJ0siRIxUTE6NHH31UCxculNPp1Lx585Senm58dTZ16lStWLFCc+bM0ZQpU7R9+3Zt2LBBBQUFxrEyMjKUmpqqoUOHavjw4Vq6dKkaGho0efLk63sxAABAh+X10PTuu++qqqpKU6ZMaTO2ZMkS+fr6KiUlRY2NjXI4HFq1apUx7ufnp/z8fE2bNk12u11du3ZVamqqnn/+eaMmKipKBQUFmjVrlpYtW6Y+ffrojTfekMPhMGrGjRun2tpaZWdny+l0Ki4uToWFhW0eDgcAAN9eHeo9TZ3Z5bzn4UrwniagLd7TBKC9OuV7mgAAADoyQhMAAIAJhCYAAAATCE0AAAAmEJoAAABMIDQBAACYQGgCAAAwgdAEAABgAqEJAADABEITAACACYQmAAAAEwhNAAAAJhCaAAAATCA0AQAAmEBoAgAAMIHQBAAAYAKhCQAAwARCEwAAgAmEJgAAABMITQAAACYQmgAAAEwgNAEAAJhAaAIAADCB0AQAAGACoQkAAMAEQhMAAIAJhCYAAAATCE0AAAAmEJoAAABMIDQBAACYQGgCAAAwgdAEAABgAqEJAADABK+Hpv/5n//Rv/3bv6lHjx4KCQlRbGysPvzwQ2Pc7XYrOztbvXv3VkhIiJKSknTkyBGPOU6ePKmJEyfKYrEoNDRUaWlpOnPmjEfNxx9/rHvuuUfBwcGKjIzUwoUL2/SyceNGRUdHKzg4WLGxsfrDH/5wbU4aAAB0Ol4NTadOndJdd92lgIAAbd26VZ988okWL16sm2++2ahZuHChli9frtzcXJWVlalr165yOBw6d+6cUTNx4kQdOnRIRUVFys/P186dO/XEE08Y4y6XSyNHjlS/fv1UXl6uRYsWacGCBXrttdeMmt27d2vChAlKS0vTn/70J40ZM0ZjxozRwYMHr8/FAAAAHZqP2+12e+vgc+fO1a5du/THP/7xkuNut1sRERF66qmn9PTTT0uS6uvrZbPZlJeXp/Hjx+vw4cOKiYnR3r17NXToUElSYWGhHnroIX366aeKiIjQ6tWr9cwzz8jpdCowMNA49ubNm1VRUSFJGjdunBoaGpSfn28cPzExUXFxccrNzf3Gc3G5XLJaraqvr5fFYrmi6/J14me/dc3mBjqr8kWTvN0CgE7qcj6/vXqn6fe//72GDh2qRx55RGFhYbrzzjv1+uuvG+NHjx6V0+lUUlKSsc1qtSohIUGlpaWSpNLSUoWGhhqBSZKSkpLk6+ursrIyo+bee+81ApMkORwOVVZW6tSpU0bNxcdprWk9zpc1NjbK5XJ5LAAA4Mbl1dD0t7/9TatXr9bAgQO1bds2TZs2TT/72c+0Zs0aSZLT6ZQk2Ww2j/1sNpsx5nQ6FRYW5jHu7++v7t27e9Rcao6Lj/FVNa3jX5aTkyOr1WoskZGRl33+AACg8/BqaGppadGQIUP00ksv6c4779QTTzyhxx9/3NTXYd6WlZWl+vp6Yzl27Ji3WwIAANeQV0NT7969FRMT47Ft0KBBqqqqkiSFh4dLkqqrqz1qqqurjbHw8HDV1NR4jF+4cEEnT570qLnUHBcf46tqWse/LCgoSBaLxWMBAAA3Lq+GprvuukuVlZUe2/785z+rX79+kqSoqCiFh4eruLjYGHe5XCorK5Pdbpck2e121dXVqby83KjZvn27WlpalJCQYNTs3LlT58+fN2qKiop06623Gr/Us9vtHsdprWk9DgAA+HbzamiaNWuWPvjgA7300kv6y1/+onXr1um1115Tenq6JMnHx0czZ87UCy+8oN///vc6cOCAJk2apIiICI0ZM0bSF3emHnjgAT3++OPas2ePdu3apenTp2v8+PGKiIiQJP34xz9WYGCg0tLSdOjQIa1fv17Lli1TRkaG0cuTTz6pwsJCLV68WBUVFVqwYIE+/PBDTZ8+/bpfFwAA0PH4e/Pgw4YN06ZNm5SVlaXnn39eUVFRWrp0qSZOnGjUzJkzRw0NDXriiSdUV1enu+++W4WFhQoODjZq1q5dq+nTp+v++++Xr6+vUlJStHz5cmPcarXqnXfeUXp6uuLj49WzZ09lZ2d7vMvp+9//vtatW6d58+bp5z//uQYOHKjNmzfr9ttvvz4XAwAAdGhefU/TjYT3NAHew3uaALRXp3lPEwAAQGdBaAIAADCB0AQAAGACoQkAAMAEQhMAAIAJhCYAAAATCE0AAAAmEJoAAABMIDQBAACYQGgCAAAwgdAEAABgAqEJAADABEITAACACYQmAAAAEwhNAAAAJhCaAAAATCA0AQAAmEBoAgAAMIHQBAAAYAKhCQAAwARCEwAAgAmEJgAAABMITQAAACYQmgAAAEwgNAEAAJhAaAIAADCB0AQAAGACoQkAAMAEQhMAAIAJhCYAAAATCE0AAAAmEJoAAABMIDQBAACYQGgCAAAwwauhacGCBfLx8fFYoqOjjfFz584pPT1dPXr0ULdu3ZSSkqLq6mqPOaqqqpScnKwuXbooLCxMs2fP1oULFzxqduzYoSFDhigoKEgDBgxQXl5em15Wrlyp/v37Kzg4WAkJCdqzZ881OWcAANA5ef1O02233aYTJ04Yy/vvv2+MzZo1S1u2bNHGjRtVUlKi48eP6+GHHzbGm5ublZycrKamJu3evVtr1qxRXl6esrOzjZqjR48qOTlZI0aM0P79+zVz5kw99thj2rZtm1Gzfv16ZWRkaP78+dq3b58GDx4sh8Ohmpqa63MRAABAh+fjdrvd3jr4ggULtHnzZu3fv7/NWH19vXr16qV169Zp7NixkqSKigoNGjRIpaWlSkxM1NatWzVq1CgdP35cNptNkpSbm6vMzEzV1tYqMDBQmZmZKigo0MGDB425x48fr7q6OhUWFkqSEhISNGzYMK1YsUKS1NLSosjISM2YMUNz5869ZO+NjY1qbGw01l0ulyIjI1VfXy+LxXJVrs+lxM9+65rNDXRW5YsmebsFAJ2Uy+WS1Wo19fnt9TtNR44cUUREhG655RZNnDhRVVVVkqTy8nKdP39eSUlJRm10dLT69u2r0tJSSVJpaaliY2ONwCRJDodDLpdLhw4dMmounqO1pnWOpqYmlZeXe9T4+voqKSnJqLmUnJwcWa1WY4mMjLzCKwEAADoyr4amhIQE5eXlqbCwUKtXr9bRo0d1zz336PTp03I6nQoMDFRoaKjHPjabTU6nU5LkdDo9AlPreOvY19W4XC6dPXtWn332mZqbmy9Z0zrHpWRlZam+vt5Yjh071q5rAAAAOgd/bx78wQcfNP77jjvuUEJCgvr166cNGzYoJCTEi519s6CgIAUFBXm7DQAAcJ14/eu5i4WGhup73/ue/vKXvyg8PFxNTU2qq6vzqKmurlZ4eLgkKTw8vM2v6VrXv6nGYrEoJCREPXv2lJ+f3yVrWucAAADoUKHpzJkz+utf/6revXsrPj5eAQEBKi4uNsYrKytVVVUlu90uSbLb7Tpw4IDHr9yKiopksVgUExNj1Fw8R2tN6xyBgYGKj4/3qGlpaVFxcbFRAwAA4NXQ9PTTT6ukpER///vftXv3bv3oRz+Sn5+fJkyYIKvVqrS0NGVkZOi9995TeXm5Jk+eLLvdrsTEREnSyJEjFRMTo0cffVQfffSRtm3bpnnz5ik9Pd346mzq1Kn629/+pjlz5qiiokKrVq3Shg0bNGvWLKOPjIwMvf7661qzZo0OHz6sadOmqaGhQZMnT/bKdQEAAB2PV59p+vTTTzVhwgT985//VK9evXT33Xfrgw8+UK9evSRJS5Yska+vr1JSUtTY2CiHw6FVq1YZ+/v5+Sk/P1/Tpk2T3W5X165dlZqaqueff96oiYqKUkFBgWbNmqVly5apT58+euONN+RwOIyacePGqba2VtnZ2XI6nYqLi1NhYWGbh8MBAMC3l1ff03QjuZz3PFwJ3tMEtMV7mgC0V6d6TxMAAEBnQGgCAAAwgdAEAABgAqEJAADABEITAACACYQmAAAAEwhNAAAAJhCaAAAATCA0AQAAmEBoAgAAMIHQBAAAYAKhCQAAwARCEwAAgAmEJgAAABPaFZruu+8+1dXVtdnucrl03333XWlPAAAAHU67QtOOHTvU1NTUZvu5c+f0xz/+8YqbAgAA6Gj8L6f4448/Nv77k08+kdPpNNabm5tVWFio73znO1evOwAAgA7iskJTXFycfHx85OPjc8mv4UJCQvTKK69cteYAAAA6issKTUePHpXb7dYtt9yiPXv2qFevXsZYYGCgwsLC5Ofnd9WbBAAA8LbLCk39+vWTJLW0tFyTZgAAADqqywpNFzty5Ijee+891dTUtAlR2dnZV9wYAABAR9Ku0PT6669r2rRp6tmzp8LDw+Xj42OM+fj4EJoAAMANp12h6YUXXtCLL76ozMzMq90PAABAh9Su9zSdOnVKjzzyyNXuBQAAoMNqV2h65JFH9M4771ztXgAAADqsdn09N2DAAD377LP64IMPFBsbq4CAAI/xn/3sZ1elOQAAgI6iXaHptddeU7du3VRSUqKSkhKPMR8fH0ITAAC44bQrNB09evRq9wEAANChteuZJgAAgG+bdt1pmjJlyteO//rXv25XMwAAAB1Vu0LTqVOnPNbPnz+vgwcPqq6u7pL/kC8AAEBn167QtGnTpjbbWlpaNG3aNH33u9+94qYAAAA6mqv2TJOvr68yMjK0ZMmSqzUlAABAh3FVHwT/61//qgsXLrRr31/84hfy8fHRzJkzjW3nzp1Tenq6evTooW7duiklJUXV1dUe+1VVVSk5OVldunRRWFiYZs+e3aaHHTt2aMiQIQoKCtKAAQOUl5fX5vgrV65U//79FRwcrISEBO3Zs6dd5wEAAG5M7fp6LiMjw2Pd7XbrxIkTKigoUGpq6mXPt3fvXr366qu64447PLbPmjVLBQUF2rhxo6xWq6ZPn66HH35Yu3btkiQ1NzcrOTlZ4eHh2r17t06cOKFJkyYpICBAL730kqQvXo+QnJysqVOnau3atSouLtZjjz2m3r17y+FwSJLWr1+vjIwM5ebmKiEhQUuXLpXD4VBlZaXCwsLac4kAAMANxsftdrsvd6cRI0Z4rPv6+qpXr1667777NGXKFPn7m89iZ86c0ZAhQ7Rq1Sq98MILiouL09KlS1VfX69evXpp3bp1Gjt2rCSpoqJCgwYNUmlpqRITE7V161aNGjVKx48fl81mkyTl5uYqMzNTtbW1CgwMVGZmpgoKCnTw4EHjmOPHj1ddXZ0KCwslSQkJCRo2bJhWrFgh6YvnsyIjIzVjxgzNnTvX1Hm4XC5ZrVbV19fLYrGYPv/LFT/7rWs2N9BZlS+a5O0WAHRSl/P53a47Te+99167GruU9PR0JScnKykpSS+88IKxvby8XOfPn1dSUpKxLTo6Wn379jVCU2lpqWJjY43AJEkOh0PTpk3ToUOHdOedd6q0tNRjjtaa1q8Bm5qaVF5erqysLGPc19dXSUlJKi0t/cq+Gxsb1djYaKy7XK52XwMAANDxtSs0taqtrVVlZaUk6dZbb1WvXr0ua//f/va32rdvn/bu3dtmzOl0KjAwUKGhoR7bbTabnE6nUXNxYGodbx37uhqXy6WzZ8/q1KlTam5uvmRNRUXFV/aek5Oj5557ztyJAgCATq9dD4I3NDRoypQp6t27t+69917de++9ioiIUFpamj7//HNTcxw7dkxPPvmk1q5dq+Dg4Pa04VVZWVmqr683lmPHjnm7JQAAcA21KzRlZGSopKREW7ZsUV1dnerq6vT222+rpKRETz31lKk5ysvLVVNToyFDhsjf31/+/v4qKSnR8uXL5e/vL5vNpqamJtXV1XnsV11drfDwcElSeHh4m1/Tta5/U43FYlFISIh69uwpPz+/S9a0znEpQUFBslgsHgsAALhxtSs0/e53v9OvfvUrPfjgg0ZgeOihh/T666/rv/7rv0zNcf/99+vAgQPav3+/sQwdOlQTJ040/jsgIEDFxcXGPpWVlaqqqpLdbpck2e12HThwQDU1NUZNUVGRLBaLYmJijJqL52itaZ0jMDBQ8fHxHjUtLS0qLi42agAAANr1TNPnn3/e5hkgSQoLCzP99dxNN92k22+/3WNb165d1aNHD2N7WlqaMjIy1L17d1ksFs2YMUN2u12JiYmSpJEjRyomJkaPPvqoFi5cKKfTqXnz5ik9PV1BQUGSpKlTp2rFihWaM2eOpkyZou3bt2vDhg0qKCgwjpuRkaHU1FQNHTpUw4cP19KlS9XQ0KDJkye35/IAAIAbULtCk91u1/z58/XWW28ZzyOdPXtWzz333FW9O7NkyRL5+voqJSVFjY2NcjgcWrVqlTHu5+en/Px8TZs2TXa7XV27dlVqaqqef/55oyYqKkoFBQWaNWuWli1bpj59+uiNN94w3tEkSePGjVNtba2ys7PldDoVFxenwsLCSwZDAADw7dSu9zQdOHBADzzwgBobGzV48GBJ0kcffaSgoCC98847uu222656ox0d72kCvIf3NAFor2v+nqbY2FgdOXJEa9euNX6WP2HCBE2cOFEhISHtmRIAAKBDa1doysnJkc1m0+OPP+6x/de//rVqa2uVmZl5VZoDAADoKNr167lXX31V0dHRbbbfdtttys3NveKmAAAAOpp2hSan06nevXu32d6rVy+dOHHiipsCAADoaNoVmiIjI7Vr164223ft2qWIiIgrbgoAAKCjadczTY8//rhmzpyp8+fP67777pMkFRcXa86cOabfCA4AANCZtCs0zZ49W//85z/105/+VE1NTZKk4OBgZWZmKisr66o2CAAA0BG0KzT5+Pjo5Zdf1rPPPqvDhw8rJCREAwcONN7CDQAAcKNpV2hq1a1bNw0bNuxq9QIAANBhtetBcAAAgG8bQhMAAIAJhCYAAAATCE0AAAAmEJoAAABMIDQBAACYQGgCAAAwgdAEAABgAqEJAADABEITAACACYQmAAAAEwhNAAAAJhCaAAAATCA0AQAAmEBoAgAAMIHQBAAAYAKhCQAAwARCEwAAgAmEJgAAABMITQAAACYQmgAAAEwgNAEAAJhAaAIAADCB0AQAAGACoQkAAMAEr4am1atX64477pDFYpHFYpHdbtfWrVuN8XPnzik9PV09evRQt27dlJKSourqao85qqqqlJycrC5duigsLEyzZ8/WhQsXPGp27NihIUOGKCgoSAMGDFBeXl6bXlauXKn+/fsrODhYCQkJ2rNnzzU5ZwAA0Dl5NTT16dNHv/jFL1ReXq4PP/xQ9913n374wx/q0KFDkqRZs2Zpy5Yt2rhxo0pKSnT8+HE9/PDDxv7Nzc1KTk5WU1OTdu/erTVr1igvL0/Z2dlGzdGjR5WcnKwRI0Zo//79mjlzph577DFt27bNqFm/fr0yMjI0f/587du3T4MHD5bD4VBNTc31uxgAAKBD83G73W5vN3Gx7t27a9GiRRo7dqx69eqldevWaezYsZKkiooKDRo0SKWlpUpMTNTWrVs1atQoHT9+XDabTZKUm5urzMxM1dbWKjAwUJmZmSooKNDBgweNY4wfP151dXUqLCyUJCUkJGjYsGFasWKFJKmlpUWRkZGaMWOG5s6da6pvl8slq9Wq+vp6WSyWq3lJPMTPfuuazQ10VuWLJnm7BQCd1OV8fneYZ5qam5v129/+Vg0NDbLb7SovL9f58+eVlJRk1ERHR6tv374qLS2VJJWWlio2NtYITJLkcDjkcrmMu1WlpaUec7TWtM7R1NSk8vJyjxpfX18lJSUZNZfS2Ngol8vlsQAAgBuX10PTgQMH1K1bNwUFBWnq1KnatGmTYmJi5HQ6FRgYqNDQUI96m80mp9MpSXI6nR6BqXW8dezralwul86ePavPPvtMzc3Nl6xpneNScnJyZLVajSUyMrJd5w8AADoHr4emW2+9Vfv371dZWZmmTZum1NRUffLJJ95u6xtlZWWpvr7eWI4dO+btlgAAwDXk7+0GAgMDNWDAAElSfHy89u7dq2XLlmncuHFqampSXV2dx92m6upqhYeHS5LCw8Pb/Mqt9dd1F9d8+Rd31dXVslgsCgkJkZ+fn/z8/C5Z0zrHpQQFBSkoKKh9Jw0AADodr99p+rKWlhY1NjYqPj5eAQEBKi4uNsYqKytVVVUlu90uSbLb7Tpw4IDHr9yKiopksVgUExNj1Fw8R2tN6xyBgYGKj4/3qGlpaVFxcbFRAwAA4NU7TVlZWXrwwQfVt29fnT59WuvWrdOOHTu0bds2Wa1WpaWlKSMjQ927d5fFYtGMGTNkt9uVmJgoSRo5cqRiYmL06KOPauHChXI6nZo3b57S09ONu0BTp07VihUrNGfOHE2ZMkXbt2/Xhg0bVFBQYPSRkZGh1NRUDR06VMOHD9fSpUvV0NCgyZMne+W6AACAjseroammpkaTJk3SiRMnZLVadccdd2jbtm3613/9V0nSkiVL5Ovrq5SUFDU2NsrhcGjVqlXG/n5+fsrPz9e0adNkt9vVtWtXpaam6vnnnzdqoqKiVFBQoFmzZmnZsmXq06eP3njjDTkcDqNm3Lhxqq2tVXZ2tpxOp+Li4lRYWNjm4XAAAPDt1eHe09RZ8Z4mwHt4TxOA9uqU72kCAADoyAhNAAAAJhCaAAAATCA0AQAAmEBoAgAAMIHQBAAAYAKhCQAAwARCEwAAgAmEJgAAABMITQAAACYQmgAAAEwgNAEAAJhAaAIAADCB0AQAAGACoQkAAMAEQhMAAIAJhCYAAAATCE0AAAAmEJoAAABMIDQBAACYQGgCAAAwgdAEAABgAqEJAADABEITAACACYQmAAAAEwhNAAAAJhCaAAAATCA0AQAAmEBoAgAAMIHQBAAAYAKhCQAAwARCEwAAgAmEJgAAABMITQAAACZ4NTTl5ORo2LBhuummmxQWFqYxY8aosrLSo+bcuXNKT09Xjx491K1bN6WkpKi6utqjpqqqSsnJyerSpYvCwsI0e/ZsXbhwwaNmx44dGjJkiIKCgjRgwADl5eW16WflypXq37+/goODlZCQoD179lz1cwYAAJ2TV0NTSUmJ0tPT9cEHH6ioqEjnz5/XyJEj1dDQYNTMmjVLW7Zs0caNG1VSUqLjx4/r4YcfNsabm5uVnJyspqYm7d69W2vWrFFeXp6ys7ONmqNHjyo5OVkjRozQ/v37NXPmTD322GPatm2bUbN+/XplZGRo/vz52rdvnwYPHiyHw6GamprrczEAAECH5uN2u93ebqJVbW2twsLCVFJSonvvvVf19fXq1auX1q1bp7Fjx0qSKioqNGjQIJWWlioxMVFbt27VqFGjdPz4cdlsNklSbm6uMjMzVVtbq8DAQGVmZqqgoEAHDx40jjV+/HjV1dWpsLBQkpSQkKBhw4ZpxYoVkqSWlhZFRkZqxowZmjt3bpteGxsb1djYaKy7XC5FRkaqvr5eFovlml2j+NlvXbO5gc6qfNEkb7cAoJNyuVyyWq2mPr871DNN9fX1kqTu3btLksrLy3X+/HklJSUZNdHR0erbt69KS0slSaWlpYqNjTUCkyQ5HA65XC4dOnTIqLl4jtaa1jmamppUXl7uUePr66ukpCSj5stycnJktVqNJTIy8kpPHwAAdGAdJjS1tLRo5syZuuuuu3T77bdLkpxOpwIDAxUaGupRa7PZ5HQ6jZqLA1PreOvY19W4XC6dPXtWn332mZqbmy9Z0zrHl2VlZam+vt5Yjh071r4TBwAAnYK/txtolZ6eroMHD+r999/3diumBAUFKSgoyNttAACA66RD3GmaPn268vPz9d5776lPnz7G9vDwcDU1Namurs6jvrq6WuHh4UbNl39N17r+TTUWi0UhISHq2bOn/Pz8LlnTOgcAAPh282pocrvdmj59ujZt2qTt27crKirKYzw+Pl4BAQEqLi42tlVWVqqqqkp2u12SZLfbdeDAAY9fuRUVFclisSgmJsaouXiO1prWOQIDAxUfH+9R09LSouLiYqMGAAB8u3n167n09HStW7dOb7/9tm666Sbj+SGr1aqQkBBZrValpaUpIyND3bt3l8Vi0YwZM2S325WYmChJGjlypGJiYvToo49q4cKFcjqdmjdvntLT042vz6ZOnaoVK1Zozpw5mjJlirZv364NGzaooKDA6CUjI0OpqakaOnSohg8frqVLl6qhoUGTJ0++/hcGAAB0OF4NTatXr5Yk/eAHP/DY/uabb+onP/mJJGnJkiXy9fVVSkqKGhsb5XA4tGrVKqPWz89P+fn5mjZtmux2u7p27arU1FQ9//zzRk1UVJQKCgo0a9YsLVu2TH369NEbb7whh8Nh1IwbN061tbXKzs6W0+lUXFycCgsL2zwcDgAAvp061HuaOrPLec/DleA9TUBbvKcJQHt12vc0AQAAdFSEJgAAABMITQAAACYQmgAAAEwgNAEAAJhAaAIAADCB0AQAAGACoQkAAMAEQhMAAIAJhCYAAAATCE0AAAAmEJoAAABMIDQBAACYQGgCAAAwgdAEAABgAqEJAADABEITAACACYQmAAAAEwhNAAAAJhCaAAAATCA0AQAAmEBoAgAAMIHQBAAAYAKhCQAAwARCEwAAgAmEJgAAABMITQAAACYQmgAAAEwgNAEAAJhAaAIAADCB0AQAAGACoQkAAMAEQhMAAIAJXg1NO3fu1OjRoxURESEfHx9t3rzZY9ztdis7O1u9e/dWSEiIkpKSdOTIEY+akydPauLEibJYLAoNDVVaWprOnDnjUfPxxx/rnnvuUXBwsCIjI7Vw4cI2vWzcuFHR0dEKDg5WbGys/vCHP1z18wUAAJ2XV0NTQ0ODBg8erJUrV15yfOHChVq+fLlyc3NVVlamrl27yuFw6Ny5c0bNxIkTdejQIRUVFSk/P187d+7UE088YYy7XC6NHDlS/fr1U3l5uRYtWqQFCxbotddeM2p2796tCRMmKC0tTX/60580ZswYjRkzRgcPHrx2Jw8AADoVH7fb7fZ2E5Lk4+OjTZs2acyYMZK+uMsUERGhp556Sk8//bQkqb6+XjabTXl5eRo/frwOHz6smJgY7d27V0OHDpUkFRYW6qGHHtKnn36qiIgIrV69Ws8884ycTqcCAwMlSXPnztXmzZtVUVEhSRo3bpwaGhqUn59v9JOYmKi4uDjl5uaa6t/lcslqtaq+vl4Wi+VqXZY24me/dc3mBjqr8kWTvN0CgE7qcj6/O+wzTUePHpXT6VRSUpKxzWq1KiEhQaWlpZKk0tJShYaGGoFJkpKSkuTr66uysjKj5t577zUCkyQ5HA5VVlbq1KlTRs3Fx2mtaT3OpTQ2NsrlcnksAADgxtVhQ5PT6ZQk2Ww2j+02m80YczqdCgsL8xj39/dX9+7dPWouNcfFx/iqmtbxS8nJyZHVajWWyMjIyz1FAADQiXTY0NTRZWVlqb6+3liOHTvm7ZYAAMA11GFDU3h4uCSpurraY3t1dbUxFh4erpqaGo/xCxcu6OTJkx41l5rj4mN8VU3r+KUEBQXJYrF4LAAA4MbVYUNTVFSUwsPDVVxcbGxzuVwqKyuT3W6XJNntdtXV1am8vNyo2b59u1paWpSQkGDU7Ny5U+fPnzdqioqKdOutt+rmm282ai4+TmtN63EAAAC8GprOnDmj/fv3a//+/ZK+ePh7//79qqqqko+Pj2bOnKkXXnhBv//973XgwAFNmjRJERERxi/sBg0apAceeECPP/649uzZo127dmn69OkaP368IiIiJEk//vGPFRgYqLS0NB06dEjr16/XsmXLlJGRYfTx5JNPqrCwUIsXL1ZFRYUWLFigDz/8UNOnT7/elwQAAHRQ/t48+IcffqgRI0YY661BJjU1VXl5eZozZ44aGhr0xBNPqK6uTnfffbcKCwsVHBxs7LN27VpNnz5d999/v3x9fZWSkqLly5cb41arVe+8847S09MVHx+vnj17Kjs72+NdTt///ve1bt06zZs3Tz//+c81cOBAbd68Wbfffvt1uAoAAKAz6DDvaerseE8T4D28pwlAe90Q72kCAADoSAhNAAAAJhCaAAAATPDqg+AAgP/HM4tAWx3pmUXuNAEAAJhAaAIAADCB0AQAAGACoQkAAMAEQhMAAIAJhCYAAAATCE0AAAAmEJoAAABMIDQBAACYQGgCAAAwgdAEAABgAqEJAADABEITAACACYQmAAAAEwhNAAAAJhCaAAAATCA0AQAAmEBoAgAAMIHQBAAAYAKhCQAAwARCEwAAgAmEJgAAABMITQAAACYQmgAAAEwgNAEAAJhAaAIAADCB0AQAAGACoQkAAMAEQhMAAIAJhCYAAAATCE1fsnLlSvXv31/BwcFKSEjQnj17vN0SAADoAAhNF1m/fr0yMjI0f/587du3T4MHD5bD4VBNTY23WwMAAF5GaLrIL3/5Sz3++OOaPHmyYmJilJubqy5duujXv/61t1sDAABe5u/tBjqKpqYmlZeXKysry9jm6+urpKQklZaWtqlvbGxUY2OjsV5fXy9Jcrlc17TP5saz13R+oDO61n931wt/30Bb1/rvu3V+t9v9jbWEpv/z2Wefqbm5WTabzWO7zWZTRUVFm/qcnBw999xzbbZHRkZesx4BXJr1lanebgHANXK9/r5Pnz4tq9X6tTWEpnbKyspSRkaGsd7S0qKTJ0+qR48e8vHx8WJnuB5cLpciIyN17NgxWSwWb7cD4Cri7/vbxe126/Tp04qIiPjGWkLT/+nZs6f8/PxUXV3tsb26ulrh4eFt6oOCghQUFOSxLTQ09Fq2iA7IYrHwP1XgBsXf97fHN91hasWD4P8nMDBQ8fHxKi4uNra1tLSouLhYdrvdi50BAICOgDtNF8nIyFBqaqqGDh2q4cOHa+nSpWpoaNDkyZO93RoAAPAyQtNFxo0bp9raWmVnZ8vpdCouLk6FhYVtHg4HgoKCNH/+/DZf0QLo/Pj7xlfxcZv5jR0AAMC3HM80AQAAmEBoAgAAMIHQBAAAYAKhCQAAwARCE9AOK1euVP/+/RUcHKyEhATt2bPH2y0BuEI7d+7U6NGjFRERIR8fH23evNnbLaGDITQBl2n9+vXKyMjQ/PnztW/fPg0ePFgOh0M1NTXebg3AFWhoaNDgwYO1cuVKb7eCDopXDgCXKSEhQcOGDdOKFSskffHm+MjISM2YMUNz5871cncArgYfHx9t2rRJY8aM8XYr6EC40wRchqamJpWXlyspKcnY5uvrq6SkJJWWlnqxMwDAtUZoAi7DZ599pubm5jZvibfZbHI6nV7qCgBwPRCaAAAATCA0AZehZ8+e8vPzU3V1tcf26upqhYeHe6krAMD1QGgCLkNgYKDi4+NVXFxsbGtpaVFxcbHsdrsXOwMAXGv+3m4A6GwyMjKUmpqqoUOHavjw4Vq6dKkaGho0efJkb7cG4AqcOXNGf/nLX4z1o0ePav/+/erevbv69u3rxc7QUfDKAaAdVqxYoUWLFsnpdCouLk7Lly9XQkKCt9sCcAV27NihESNGtNmempqqvLy8698QOhxCEwAAgAk80wQAAGACoQkAAMAEQhMAAIAJhCYAAAATCE0AAAAmEJoAAABMIDQBAACYQGgCAAAwgdAE4Ibxgx/8QDNnzpQk9e/fX0uXLjW9b15enkJDQ69JXwBuDPzbcwBuSHv37lXXrl2v+3F9fHy0adMmjRkz5rofG8C1RWgCcEPq1auXt1sAcIPh6zkAnVJDQ4MmTZqkbt26qXfv3lq8eLHH+Je/nvvlL3+p2NhYde3aVZGRkfrpT3+qM2fOtJl38+bNGjhwoIKDg+VwOHTs2DGP8bfffltDhgxRcHCwbrnlFj333HO6cOGCcUxJ+tGPfiQfHx9j/Zv2c7vdWrBggfr27augoCBFREToZz/72VW4SgCuJkITgE5p9uzZKikp0dtvv6133nlHO3bs0L59+76y3tfXV8uXL9ehQ4e0Zs0abd++XXPmzPGo+fzzz/Xiiy/qrbfe0q5du1RXV6fx48cb43/84x81adIkPfnkk/rkk0/06quvKi8vTy+++KKkL74SlKQ333xTJ06cMNa/ab/f/e53WrJkiV599VUdOXJEmzdvVmxs7FW9XgCuAjcAdDKnT592BwYGujds2GBs++c//+kOCQlxP/nkk2632+3u16+fe8mSJV85x8aNG909evQw1t988023JPcHH3xgbDt8+LBbkrusrMztdrvd999/v/ull17ymOc///M/3b179zbWJbk3bdrkUfNN+y1evNj9ve99z93U1PTNJw/Aa3imCUCn89e//lVNTU1KSEgwtnXv3l233nrrV+7z7rvvKicnRxUVFXK5XLpw4YLOnTunzz//XF26dJEk+fv7a9iwYcY+0dHRCg0N1eHDhzV8+HB99NFH2rVrl3GHSJKam5vbzPNl37TfI488oqVLl+qWW27RAw88oIceekijR4+Wvz//iwY6Ev4iAdzw/v73v2vUqFGaNm2aXnzxRXXv3l3vv/++0tLS1NTU9JVh58vOnDmj5557Tg8//HCbseDg4HbvFxkZqcrKSr377rsqKirST3/6Uy1atEglJSUKCAgwf6IArilCE4BO57vf/a4CAgJUVlamvn37SpJOnTqlP//5z/qXf/mXNvXl5eVqaWnR4sWL5ev7xaOcGzZsaFN34cIFffjhhxo+fLgkqbKyUnV1dRo0aJAkaciQIaqsrNSAAQO+sreAgAA1Nzd7bDOzX0hIiEaPHq3Ro0crPT1d0dHROnDggIYMGfINVwPA9UJoAtDpdOvWTWlpaZo9e7Z69OihsLAwPfPMM0Yg+rIBAwbo/PnzeuWVVzR69Gjt2rVLubm5beoCAgI0Y8YMLV++XP7+/po+fboSExONEJWdna1Ro0apb9++Gjt2rHx9ffXRRx/p4MGDeuGFFyR98Qu64uJi3XXXXQoKCtLNN9/8jfvl5eWpublZCQkJ6tKli37zm98oJCRE/fr1u3YXEcBl49dzADqlRYsW6Z577tHo0aOVlJSku+++W/Hx8ZesHTx4sH75y1/q5Zdf1u233661a9cqJyenTV2XLl2UmZmpH//4x7rrrrvUrVs3rV+/3hh3OBzKz8/XO++8o2HDhikxMVFLlizxCDeLFy9WUVGRIiMjdeedd5raLzQ0VK+//rruuusu3XHHHXr33Xe1ZcsW9ejR42peMgBXyMftdru93QQAAEBHx50mAAAAEwhNAAAAJhCaAAAATCA0AQAAmEBoAgAAMIHQBAAAYAKhCQAAwARCEwAAgAmEJgAAABMITQAAACYQmgAAAEz4X3OndtecGaxPAAAAAElFTkSuQmCC",
>>>>>>> 703ad96d37e5504cb659c1aa96a46ea8f303edbf
=======
      "image/png": "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",
>>>>>>> parent of b801da6 (save changes)
      "text/plain": [
       "<Figure size 640x480 with 1 Axes>"
      ]
     },
     "metadata": {},
     "output_type": "display_data"
    }
   ],
   "source": [
    "sns.barplot(y_train.value_counts());"
   ]
  },
  {
   "cell_type": "markdown",
   "id": "7c94d102",
   "metadata": {},
   "source": [
    "The target variable is highly imbalanced. Therefore, we first treat this imbalance before continuing with logistic regression model"
   ]
  },
  {
   "cell_type": "code",
<<<<<<< HEAD
<<<<<<< HEAD
   "execution_count": 68,
   "id": "570b4219",
   "metadata": {},
   "outputs": [],
   "source": [
    "# pip install imblearn"
   ]
  },
  {
   "cell_type": "code",
   "execution_count": 69,
=======
   "execution_count": 38,
>>>>>>> 703ad96d37e5504cb659c1aa96a46ea8f303edbf
=======
   "execution_count": 23,
>>>>>>> parent of b801da6 (save changes)
   "id": "bdd9ff97",
   "metadata": {},
   "outputs": [],
   "source": [
    "from imblearn.over_sampling import SMOTE"
   ]
  },
  {
   "cell_type": "code",
<<<<<<< HEAD
<<<<<<< HEAD
   "execution_count": 70,
=======
   "execution_count": 39,
   "id": "fa095e85",
   "metadata": {},
   "outputs": [],
   "source": [
    "#SMOTE?"
   ]
  },
  {
   "cell_type": "code",
   "execution_count": 40,
>>>>>>> 703ad96d37e5504cb659c1aa96a46ea8f303edbf
=======
   "execution_count": 24,
>>>>>>> parent of b801da6 (save changes)
   "id": "b27ec62d",
   "metadata": {},
   "outputs": [],
   "source": [
    "smt = SMOTE(sampling_strategy='minority', random_state=123)"
   ]
  },
  {
   "cell_type": "code",
<<<<<<< HEAD
<<<<<<< HEAD
   "execution_count": 71,
=======
   "execution_count": 41,
>>>>>>> 703ad96d37e5504cb659c1aa96a46ea8f303edbf
=======
   "execution_count": 25,
>>>>>>> parent of b801da6 (save changes)
   "id": "1fcf51d3",
   "metadata": {},
   "outputs": [],
   "source": [
    "X_res, y_res = smt.fit_resample(X_train,y_train)"
   ]
  },
  {
   "cell_type": "code",
<<<<<<< HEAD
<<<<<<< HEAD
   "execution_count": 72,
=======
   "execution_count": 42,
>>>>>>> 703ad96d37e5504cb659c1aa96a46ea8f303edbf
=======
   "execution_count": 26,
>>>>>>> parent of b801da6 (save changes)
   "id": "324b20de",
   "metadata": {},
   "outputs": [
    {
     "data": {
<<<<<<< HEAD
<<<<<<< HEAD
      "image/png": "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",
=======
      "image/png": "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",
>>>>>>> 703ad96d37e5504cb659c1aa96a46ea8f303edbf
=======
      "image/png": "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",
>>>>>>> parent of b801da6 (save changes)
      "text/plain": [
       "<Figure size 640x480 with 1 Axes>"
      ]
     },
     "metadata": {},
     "output_type": "display_data"
    }
   ],
   "source": [
    "sns.barplot(y_res.value_counts());"
   ]
  },
  {
   "cell_type": "markdown",
   "id": "ad2a38f8",
   "metadata": {},
   "source": [
    "##### Model Building"
   ]
  },
  {
   "cell_type": "code",
<<<<<<< HEAD
<<<<<<< HEAD
   "execution_count": 73,
=======
   "execution_count": 43,
>>>>>>> 703ad96d37e5504cb659c1aa96a46ea8f303edbf
=======
   "execution_count": 104,
>>>>>>> parent of b801da6 (save changes)
   "id": "fb04dbda",
   "metadata": {},
   "outputs": [],
   "source": [
    "from sklearn.linear_model import LogisticRegression\n",
    "from sklearn.preprocessing import StandardScaler\n",
    "# Normalizing train features for training model.\n",
    "scaler = StandardScaler().fit(X_res)\n",
    "X_train_scaled = scaler.transform(X_res)\n",
    "\n",
    "model = LogisticRegression(C=0.001, max_iter=1000, tol=1e-20).fit(X_train_scaled, y_res)"
   ]
  },
  {
   "cell_type": "code",
<<<<<<< HEAD
<<<<<<< HEAD
   "execution_count": 74,
=======
   "execution_count": 44,
>>>>>>> 703ad96d37e5504cb659c1aa96a46ea8f303edbf
=======
   "execution_count": 105,
>>>>>>> parent of b801da6 (save changes)
   "id": "ab11b130",
   "metadata": {},
   "outputs": [],
   "source": [
    "#LogisticRegression?"
   ]
  },
  {
   "cell_type": "markdown",
   "id": "8d96d98b",
   "metadata": {},
   "source": [
    "##### Model Evaluation\n",
    "\n",
    "We are going to carry out predictions on  our dev sets and also use our train set to verify if our model is overfitting or not. Then we would use the test evaluate our modeling finally on an entirely unseen data."
   ]
  },
  {
   "cell_type": "code",
<<<<<<< HEAD
<<<<<<< HEAD
   "execution_count": 75,
=======
   "execution_count": 45,
>>>>>>> 703ad96d37e5504cb659c1aa96a46ea8f303edbf
=======
   "execution_count": 106,
>>>>>>> parent of b801da6 (save changes)
   "id": "da9903ea",
   "metadata": {},
   "outputs": [
    {
     "data": {
      "text/plain": [
<<<<<<< HEAD
<<<<<<< HEAD
       "0.8926"
      ]
     },
     "execution_count": 75,
=======
       "0.8830628381190179"
      ]
     },
     "execution_count": 45,
>>>>>>> 703ad96d37e5504cb659c1aa96a46ea8f303edbf
=======
       "0.8944"
      ]
     },
     "execution_count": 106,
>>>>>>> parent of b801da6 (save changes)
     "metadata": {},
     "output_type": "execute_result"
    }
   ],
   "source": [
    "from sklearn.metrics import accuracy_score, f1_score\n",
    "\n",
    "y_pred = model.predict(scaler.transform(X_dev))\n",
    "accuracy_score(y_dev,y_pred)"
   ]
  },
  {
   "cell_type": "code",
<<<<<<< HEAD
<<<<<<< HEAD
   "execution_count": 76,
=======
   "execution_count": 46,
>>>>>>> 703ad96d37e5504cb659c1aa96a46ea8f303edbf
=======
   "execution_count": 107,
>>>>>>> parent of b801da6 (save changes)
   "id": "e8b8ff02",
   "metadata": {},
   "outputs": [
    {
     "data": {
      "text/plain": [
<<<<<<< HEAD
<<<<<<< HEAD
       "0.592255125284738"
      ]
     },
     "execution_count": 76,
=======
       "0.566358024691358"
      ]
     },
     "execution_count": 46,
>>>>>>> 703ad96d37e5504cb659c1aa96a46ea8f303edbf
=======
       "0.5963302752293579"
      ]
     },
     "execution_count": 107,
>>>>>>> parent of b801da6 (save changes)
     "metadata": {},
     "output_type": "execute_result"
    }
   ],
   "source": [
    "f1_score(y_dev,y_pred)"
   ]
  },
  {
   "cell_type": "code",
<<<<<<< HEAD
<<<<<<< HEAD
   "execution_count": 77,
=======
   "execution_count": 47,
>>>>>>> 703ad96d37e5504cb659c1aa96a46ea8f303edbf
=======
   "execution_count": 108,
>>>>>>> parent of b801da6 (save changes)
   "id": "1fff377a",
   "metadata": {},
   "outputs": [
    {
     "data": {
      "text/plain": [
<<<<<<< HEAD
<<<<<<< HEAD
       "0.8879601301476302"
      ]
     },
     "execution_count": 77,
=======
       "0.8884025980616025"
      ]
     },
     "execution_count": 47,
>>>>>>> 703ad96d37e5504cb659c1aa96a46ea8f303edbf
=======
       "0.8904694944640883"
      ]
     },
     "execution_count": 108,
>>>>>>> parent of b801da6 (save changes)
     "metadata": {},
     "output_type": "execute_result"
    }
   ],
   "source": [
    "# Checking our train dataset --> Overfitting\n",
    "y_train_pred = model.predict(X_train_scaled)\n",
    "accuracy_score(y_res,y_train_pred)"
   ]
  },
  {
   "cell_type": "code",
<<<<<<< HEAD
<<<<<<< HEAD
   "execution_count": 78,
=======
   "execution_count": 48,
>>>>>>> 703ad96d37e5504cb659c1aa96a46ea8f303edbf
=======
   "execution_count": 109,
>>>>>>> parent of b801da6 (save changes)
   "id": "c5af7053",
   "metadata": {},
   "outputs": [
    {
     "data": {
      "text/plain": [
<<<<<<< HEAD
<<<<<<< HEAD
       "0.8886341283872252"
      ]
     },
     "execution_count": 78,
=======
       "0.8887793160123902"
      ]
     },
     "execution_count": 48,
>>>>>>> 703ad96d37e5504cb659c1aa96a46ea8f303edbf
=======
       "0.8912371553290134"
      ]
     },
     "execution_count": 109,
>>>>>>> parent of b801da6 (save changes)
     "metadata": {},
     "output_type": "execute_result"
    }
   ],
   "source": [
    "f1_score(y_res,y_train_pred)"
   ]
  },
  {
   "cell_type": "code",
<<<<<<< HEAD
<<<<<<< HEAD
   "execution_count": 79,
=======
   "execution_count": 49,
>>>>>>> 703ad96d37e5504cb659c1aa96a46ea8f303edbf
=======
   "execution_count": 110,
>>>>>>> parent of b801da6 (save changes)
   "id": "b79652e5",
   "metadata": {},
   "outputs": [
    {
     "data": {
      "text/plain": [
<<<<<<< HEAD
<<<<<<< HEAD
       "0.8774"
      ]
     },
     "execution_count": 79,
=======
       "0.8859758635039534"
      ]
     },
     "execution_count": 49,
>>>>>>> 703ad96d37e5504cb659c1aa96a46ea8f303edbf
=======
       "0.8834"
      ]
     },
     "execution_count": 110,
>>>>>>> parent of b801da6 (save changes)
     "metadata": {},
     "output_type": "execute_result"
    }
   ],
   "source": [
    "# Finally trying on test dataset\n",
    "\n",
    "y_test_pred = model.predict(scaler.transform(X_test))\n",
    "accuracy_score(y_test, y_test_pred)\n"
   ]
  },
  {
   "cell_type": "code",
<<<<<<< HEAD
<<<<<<< HEAD
   "execution_count": 80,
=======
   "execution_count": 50,
>>>>>>> 703ad96d37e5504cb659c1aa96a46ea8f303edbf
=======
   "execution_count": 111,
>>>>>>> parent of b801da6 (save changes)
   "id": "c6cc967a",
   "metadata": {},
   "outputs": [
    {
     "data": {
      "text/plain": [
<<<<<<< HEAD
<<<<<<< HEAD
       "0.5476014760147602"
      ]
     },
     "execution_count": 80,
=======
       "0.5500821018062397"
      ]
     },
     "execution_count": 50,
>>>>>>> 703ad96d37e5504cb659c1aa96a46ea8f303edbf
=======
       "0.5662202380952381"
      ]
     },
     "execution_count": 111,
>>>>>>> parent of b801da6 (save changes)
     "metadata": {},
     "output_type": "execute_result"
    }
   ],
   "source": [
    "f1_score(y_test,y_test_pred)"
   ]
  },
  {
   "cell_type": "markdown",
   "id": "14c5547f",
   "metadata": {},
   "source": [
    "#### Confusion Matrix for Method 1"
   ]
  },
  {
   "cell_type": "code",
<<<<<<< HEAD
<<<<<<< HEAD
   "execution_count": 81,
=======
   "execution_count": 51,
>>>>>>> 703ad96d37e5504cb659c1aa96a46ea8f303edbf
=======
   "execution_count": 112,
>>>>>>> parent of b801da6 (save changes)
   "id": "0191d51b",
   "metadata": {},
   "outputs": [
    {
     "data": {
<<<<<<< HEAD
<<<<<<< HEAD
      "image/png": "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",
=======
      "image/png": "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",
>>>>>>> 703ad96d37e5504cb659c1aa96a46ea8f303edbf
=======
      "image/png": "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",
>>>>>>> parent of b801da6 (save changes)
      "text/plain": [
       "<Figure size 700x500 with 1 Axes>"
      ]
     },
     "metadata": {},
     "output_type": "display_data"
    }
   ],
   "source": [
    "color  = ['#3355FF','#00FF00','#0D004D','#00bfff','#ffcc99','#006600']\n",
    "# sns.countplot(x='Purchased', data = insurance, palette = color[2:4]);\n",
    "\n",
    "\n",
    "def ConfusionMatrix(ytest, ypred, label: [str, str] = [\"Negative\", \"Positive\"]):\n",
    "    \"A beautiful confusion matrix function to check the model performance\"\n",
    "    from sklearn.metrics import confusion_matrix\n",
    "    import seaborn as sns\n",
    "    cm = confusion_matrix(ytest, ypred)\n",
    "    plt.figure(figsize=(7,5))\n",
    "    sns.heatmap(cm, annot = True, cbar = False, fmt = 'd', cmap = 'Blues_r')\n",
    "    plt.xlabel('Predicted',font = 'Century Gothic', fontsize = 13)\n",
    "    plt.ylabel('Actual', font = 'Century Gothic', fontsize = 13)\n",
    "    plt.xticks([0.5, 1.5], label)\n",
    "    plt.yticks([0.5, 1.5], label)\n",
    "    plt.title('Confusion matrix for Dabiates Prediction', font = \"Century Gothic\", fontsize = 15,fontweight = 'bold');\n",
    "\n",
    "\n",
    "ConfusionMatrix(y_test, y_test_pred, label = [\"Normal\", \"Diabetic\"])"
   ]
  },
  {
   "cell_type": "markdown",
   "id": "12c5f897",
   "metadata": {},
   "source": [
    "### Method 2 - Cross Validation"
   ]
  },
  {
   "cell_type": "markdown",
   "id": "632440cd",
   "metadata": {},
   "source": [
    "We have a total of 10,000 datasets, we would carry out cross validation to make sure we immerse the whole of our dataset into model training and test. For this we would have a kfold of 5."
   ]
  },
  {
   "cell_type": "code",
<<<<<<< HEAD
<<<<<<< HEAD
   "execution_count": 82,
=======
   "execution_count": 52,
>>>>>>> 703ad96d37e5504cb659c1aa96a46ea8f303edbf
=======
   "execution_count": 114,
>>>>>>> parent of b801da6 (save changes)
   "id": "27ee24cb",
   "metadata": {},
   "outputs": [],
   "source": [
    "from sklearn.model_selection import train_test_split\n",
    "X_train_val, X_test, y_train_val, y_test = train_test_split(X, y, test_size=0.2, random_state=123)"
   ]
  },
  {
   "cell_type": "markdown",
   "id": "09899f46",
   "metadata": {},
   "source": [
    "#### Cross Validation using F1 score as evaluation metrics"
   ]
  },
  {
   "cell_type": "code",
<<<<<<< HEAD
<<<<<<< HEAD
   "execution_count": 83,
=======
   "execution_count": 53,
>>>>>>> 703ad96d37e5504cb659c1aa96a46ea8f303edbf
=======
   "execution_count": 115,
>>>>>>> parent of b801da6 (save changes)
   "id": "1c94e307",
   "metadata": {},
   "outputs": [
    {
     "name": "stdout",
     "output_type": "stream",
     "text": [
<<<<<<< HEAD
<<<<<<< HEAD
      "Cross-Validation Results: [0.8914637  0.89167486 0.89155321 0.8884886  0.89021415]\n",
=======
      "Cross-Validation Results: [0.88965981 0.88845443 0.88968502 0.88643366 0.89180977]\n",
>>>>>>> 703ad96d37e5504cb659c1aa96a46ea8f303edbf
=======
      "Cross-Validation Results: [0.89139614 0.89171241 0.89152301 0.88824669 0.89020671]\n",
>>>>>>> parent of b801da6 (save changes)
      "Mean F1 score: 0.89\n",
      "Standard deviation of F1 score: 0.00\n"
     ]
    }
   ],
   "source": [
    "from sklearn.model_selection import cross_val_score, StratifiedKFold\n",
    "from imblearn.over_sampling import SMOTE\n",
    "from sklearn.linear_model import LogisticRegression\n",
    "from sklearn.preprocessing import StandardScaler\n",
    "from sklearn.metrics import make_scorer, f1_score\n",
    "\n",
    "smt = SMOTE(sampling_strategy='minority',random_state=123)\n",
    "X_res,y_res = smt.fit_resample(X_train_val,y_train_val)\n",
    "\n",
    "model = LogisticRegression(C=0.0001, max_iter=1000, tol=1e-20)\n",
    "\n",
    "kf = StratifiedKFold(n_splits=5, shuffle=True, random_state=123)\n",
    "scaler = StandardScaler().fit(X_res)\n",
    "X_train_val_scaled = scaler.transform(X_res)\n",
    "\n",
    "\n",
    "f1_scorer = make_scorer(f1_score, average=\"binary\")\n",
    "cross_val_result_arr = cross_val_score(model, X_train_val_scaled, y_res, cv=kf, scoring=f1_scorer)\n",
    "\n",
    "# Printing the results\n",
    "print(\"Cross-Validation Results:\", cross_val_result_arr)\n",
    "print(f\"Mean F1 score: {cross_val_result_arr.mean():.2f}\")\n",
    "print(f\"Standard deviation of F1 score: {cross_val_result_arr.std():.2f}\")"
   ]
  },
  {
   "cell_type": "code",
<<<<<<< HEAD
<<<<<<< HEAD
   "execution_count": 84,
=======
   "execution_count": 54,
>>>>>>> 703ad96d37e5504cb659c1aa96a46ea8f303edbf
=======
   "execution_count": 119,
>>>>>>> parent of b801da6 (save changes)
   "id": "f7266458",
   "metadata": {},
   "outputs": [
    {
     "name": "stdout",
     "output_type": "stream",
     "text": [
<<<<<<< HEAD
<<<<<<< HEAD
      "F1 Score on Test Set: 0.5660096690219413\n"
=======
      "F1 Score on Test Set: 0.5524139257549529\n"
>>>>>>> 703ad96d37e5504cb659c1aa96a46ea8f303edbf
=======
      "F1 Score on Test Set: 0.5662202380952381\n"
>>>>>>> parent of b801da6 (save changes)
     ]
    }
   ],
   "source": [
    "## Using on test dataset\n",
    "model = LogisticRegression(C=0.0001, max_iter=1000, tol=1e-20)\n",
    "\n",
    "model.fit(X_train_val_scaled, y_res)\n",
    "\n",
    "y_pred = model.predict(scaler.transform(X_test))\n",
    "\n",
    "f1_test_score = f1_score(y_test, y_pred, average='binary')\n",
    "\n",
    "print(\"F1 Score on Test Set:\", f1_test_score)"
   ]
  },
  {
   "cell_type": "markdown",
   "id": "451a3d71",
   "metadata": {},
   "source": [
    "### Confusion Matrix"
   ]
  },
  {
   "cell_type": "code",
<<<<<<< HEAD
<<<<<<< HEAD
   "execution_count": 85,
=======
   "execution_count": 55,
>>>>>>> 703ad96d37e5504cb659c1aa96a46ea8f303edbf
=======
   "execution_count": 120,
>>>>>>> parent of b801da6 (save changes)
   "id": "fe147a4b",
   "metadata": {},
   "outputs": [
    {
     "data": {
<<<<<<< HEAD
<<<<<<< HEAD
      "image/png": "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",
=======
      "image/png": "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",
>>>>>>> 703ad96d37e5504cb659c1aa96a46ea8f303edbf
=======
      "image/png": "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",
>>>>>>> parent of b801da6 (save changes)
      "text/plain": [
       "<Figure size 700x500 with 1 Axes>"
      ]
     },
     "metadata": {},
     "output_type": "display_data"
    }
   ],
   "source": [
    "color  = ['#3355FF','#00FF00','#0D004D','#00bfff','#ffcc99','#006600']\n",
    "# sns.countplot(x='Purchased', data = insurance, palette = color[2:4]);\n",
    "\n",
    "\n",
    "def ConfusionMatrix(ytest, ypred, label: [str, str] = [\"Negative\", \"Positive\"]):\n",
    "    \"A beautiful confusion matrix function to check the model performance\"\n",
    "    from sklearn.metrics import confusion_matrix\n",
    "    import seaborn as sns\n",
    "    cm = confusion_matrix(ytest, ypred)\n",
    "    plt.figure(figsize=(7,5))\n",
    "    sns.heatmap(cm, annot = True, cbar = False, fmt = 'd', cmap = 'Blues_r')\n",
    "    plt.xlabel('Predicted',font = 'Century Gothic', fontsize = 13)\n",
    "    plt.ylabel('Actual', font = 'Century Gothic', fontsize = 13)\n",
    "    plt.xticks([0.5, 1.5], label)\n",
    "    plt.yticks([0.5, 1.5], label)\n",
    "    plt.title('Confusion matrix for Dabiates Prediction', font = \"Century Gothic\", fontsize = 17,fontweight = 'bold');\n",
    "\n",
    "\n",
    "ConfusionMatrix(y_test, y_pred, label = [\"Normal\", \"Diabetic\"])"
   ]
  },
  {
   "cell_type": "markdown",
   "id": "b2f58b70",
   "metadata": {},
   "source": [
    "### Interpretation of the Logistic Regression Model Evaluation Performance\n",
    "There are `18082` True Positives (TP):predicting that patients are  not diabetic and truly the patients are not diabetic.\n",
    "\n",
    "There `669` False Positives(TP):predicting that the patients are not diabetic meanwhile the patients are diabetic.\n",
    "\n",
    "There are `1080` True Negative(TN): predicting that the patients are diabetic and they actually diabetic.\n",
    "\n",
    "There are also `669` False Negative(FN): predicting that the patients are diabetic meanwhile they are actually not diabetic.\n",
    "\n",
    "Based on the confusion matrix, we can see that although performed very well in predicting the positive and negative cases, it can still be better."
   ]
  },
  {
   "cell_type": "markdown",
   "id": "6f362342",
   "metadata": {},
   "source": [
    "### Polynomial Engineering for Model Complexity."
   ]
  },
  {
   "cell_type": "code",
<<<<<<< HEAD
<<<<<<< HEAD
   "execution_count": 86,
=======
   "execution_count": 56,
>>>>>>> 703ad96d37e5504cb659c1aa96a46ea8f303edbf
=======
   "execution_count": 128,
>>>>>>> parent of b801da6 (save changes)
   "id": "d187e677",
   "metadata": {},
   "outputs": [],
   "source": [
    "from sklearn.pipeline import make_pipeline\n",
    "from sklearn.model_selection import validation_curve\n",
    "from sklearn.preprocessing import PolynomialFeatures"
   ]
  },
  {
   "cell_type": "code",
<<<<<<< HEAD
<<<<<<< HEAD
   "execution_count": 87,
=======
   "execution_count": 62,
>>>>>>> 703ad96d37e5504cb659c1aa96a46ea8f303edbf
=======
   "execution_count": 129,
>>>>>>> parent of b801da6 (save changes)
   "id": "d235c48b",
   "metadata": {},
   "outputs": [],
   "source": [
<<<<<<< HEAD
<<<<<<< HEAD
    "def PolynomialRegression(degree, **kwargs):\n",
=======
    "def PolynomialRegression(degree=2, **kwargs):\n",
>>>>>>> parent of b801da6 (save changes)
    "    return make_pipeline(PolynomialFeatures(degree),\n",
=======
    "def PolynomialRegression(degree=2, **kwargs):\n",
    "    return make_pipeline(PolynomialFeatures(degree, include_bias=False),\n",
>>>>>>> 703ad96d37e5504cb659c1aa96a46ea8f303edbf
    "                         LogisticRegression(**kwargs))"
   ]
  },
  {
   "cell_type": "code",
<<<<<<< HEAD
<<<<<<< HEAD
   "execution_count": 88,
=======
   "execution_count": 63,
>>>>>>> 703ad96d37e5504cb659c1aa96a46ea8f303edbf
=======
   "execution_count": 130,
>>>>>>> parent of b801da6 (save changes)
   "id": "4139e95f",
   "metadata": {},
   "outputs": [],
   "source": [
    "X_train_dev = pd.concat([X_res,X_dev])"
   ]
  },
  {
   "cell_type": "code",
<<<<<<< HEAD
<<<<<<< HEAD
   "execution_count": 89,
=======
   "execution_count": 64,
>>>>>>> 703ad96d37e5504cb659c1aa96a46ea8f303edbf
=======
   "execution_count": 131,
>>>>>>> parent of b801da6 (save changes)
   "id": "3d92aa61",
   "metadata": {},
   "outputs": [],
   "source": [
    "y_train_dev = pd.concat([y_res,y_dev])"
   ]
  },
  {
   "cell_type": "code",
<<<<<<< HEAD
<<<<<<< HEAD
   "execution_count": 90,
=======
   "execution_count": 65,
>>>>>>> 703ad96d37e5504cb659c1aa96a46ea8f303edbf
=======
   "execution_count": 132,
>>>>>>> parent of b801da6 (save changes)
   "id": "f3636970",
   "metadata": {},
   "outputs": [],
   "source": [
    "X_train_dev_scaled = StandardScaler().fit_transform(X_train_dev)"
   ]
  },
  {
   "cell_type": "code",
<<<<<<< HEAD
<<<<<<< HEAD
   "execution_count": 91,
=======
   "execution_count": 69,
>>>>>>> 703ad96d37e5504cb659c1aa96a46ea8f303edbf
=======
   "execution_count": 133,
>>>>>>> parent of b801da6 (save changes)
   "id": "089d4330",
   "metadata": {},
   "outputs": [],
   "source": [
    "degree = np.arange(1,4)"
   ]
  },
  {
   "cell_type": "code",
<<<<<<< HEAD
<<<<<<< HEAD
   "execution_count": 70,
=======
<<<<<<< HEAD
   "execution_count": 92,
=======
   "execution_count": null,
>>>>>>> 703ad96d37e5504cb659c1aa96a46ea8f303edbf
>>>>>>> 5a4a9d5c2ecb7ccee16ae75f8d73879c63f2c331
=======
   "execution_count": 134,
>>>>>>> parent of b801da6 (save changes)
   "id": "d182ae75",
   "metadata": {},
   "outputs": [
    {
     "ename": "KeyboardInterrupt",
     "evalue": "",
     "output_type": "error",
     "traceback": [
      "\u001b[1;31m---------------------------------------------------------------------------\u001b[0m",
      "\u001b[1;31mKeyboardInterrupt\u001b[0m                         Traceback (most recent call last)",
<<<<<<< HEAD
      "Cell \u001b[1;32mIn[70], line 1\u001b[0m\n\u001b[1;32m----> 1\u001b[0m train_score, val_score \u001b[38;5;241m=\u001b[39m validation_curve(PolynomialRegression(max_iter\u001b[38;5;241m=\u001b[39m\u001b[38;5;241m100000\u001b[39m),\n\u001b[0;32m      2\u001b[0m                                           X_train_dev_scaled,y_train_dev,\n\u001b[0;32m      3\u001b[0m                                           param_name\u001b[38;5;241m=\u001b[39m\u001b[38;5;124m'\u001b[39m\u001b[38;5;124mpolynomialfeatures__degree\u001b[39m\u001b[38;5;124m'\u001b[39m,\n\u001b[0;32m      4\u001b[0m                                           param_range\u001b[38;5;241m=\u001b[39mdegree,cv\u001b[38;5;241m=\u001b[39m\u001b[38;5;241m5\u001b[39m)\n",
=======
      "Cell \u001b[1;32mIn[134], line 1\u001b[0m\n\u001b[1;32m----> 1\u001b[0m train_score, val_score \u001b[38;5;241m=\u001b[39m validation_curve(PolynomialRegression(max_iter\u001b[38;5;241m=\u001b[39m\u001b[38;5;241m100000\u001b[39m),\n\u001b[0;32m      2\u001b[0m                                           X_train_dev_scaled,y_train_dev,\n\u001b[0;32m      3\u001b[0m                                           param_name\u001b[38;5;241m=\u001b[39m\u001b[38;5;124m'\u001b[39m\u001b[38;5;124mpolynomialfeatures__degree\u001b[39m\u001b[38;5;124m'\u001b[39m,\n\u001b[0;32m      4\u001b[0m                                           param_range\u001b[38;5;241m=\u001b[39mdegree,cv\u001b[38;5;241m=\u001b[39m\u001b[38;5;241m5\u001b[39m)\n",
>>>>>>> parent of b801da6 (save changes)
      "File \u001b[1;32m~\\anaconda3\\envs\\Team_Johson_Sirleaf\\Lib\\site-packages\\sklearn\\utils\\_param_validation.py:214\u001b[0m, in \u001b[0;36mvalidate_params.<locals>.decorator.<locals>.wrapper\u001b[1;34m(*args, **kwargs)\u001b[0m\n\u001b[0;32m    208\u001b[0m \u001b[38;5;28;01mtry\u001b[39;00m:\n\u001b[0;32m    209\u001b[0m     \u001b[38;5;28;01mwith\u001b[39;00m config_context(\n\u001b[0;32m    210\u001b[0m         skip_parameter_validation\u001b[38;5;241m=\u001b[39m(\n\u001b[0;32m    211\u001b[0m             prefer_skip_nested_validation \u001b[38;5;129;01mor\u001b[39;00m global_skip_validation\n\u001b[0;32m    212\u001b[0m         )\n\u001b[0;32m    213\u001b[0m     ):\n\u001b[1;32m--> 214\u001b[0m         \u001b[38;5;28;01mreturn\u001b[39;00m func(\u001b[38;5;241m*\u001b[39margs, \u001b[38;5;241m*\u001b[39m\u001b[38;5;241m*\u001b[39mkwargs)\n\u001b[0;32m    215\u001b[0m \u001b[38;5;28;01mexcept\u001b[39;00m InvalidParameterError \u001b[38;5;28;01mas\u001b[39;00m e:\n\u001b[0;32m    216\u001b[0m     \u001b[38;5;66;03m# When the function is just a wrapper around an estimator, we allow\u001b[39;00m\n\u001b[0;32m    217\u001b[0m     \u001b[38;5;66;03m# the function to delegate validation to the estimator, but we replace\u001b[39;00m\n\u001b[0;32m    218\u001b[0m     \u001b[38;5;66;03m# the name of the estimator by the name of the function in the error\u001b[39;00m\n\u001b[0;32m    219\u001b[0m     \u001b[38;5;66;03m# message to avoid confusion.\u001b[39;00m\n\u001b[0;32m    220\u001b[0m     msg \u001b[38;5;241m=\u001b[39m re\u001b[38;5;241m.\u001b[39msub(\n\u001b[0;32m    221\u001b[0m         \u001b[38;5;124mr\u001b[39m\u001b[38;5;124m\"\u001b[39m\u001b[38;5;124mparameter of \u001b[39m\u001b[38;5;124m\\\u001b[39m\u001b[38;5;124mw+ must be\u001b[39m\u001b[38;5;124m\"\u001b[39m,\n\u001b[0;32m    222\u001b[0m         \u001b[38;5;124mf\u001b[39m\u001b[38;5;124m\"\u001b[39m\u001b[38;5;124mparameter of \u001b[39m\u001b[38;5;132;01m{\u001b[39;00mfunc\u001b[38;5;241m.\u001b[39m\u001b[38;5;18m__qualname__\u001b[39m\u001b[38;5;132;01m}\u001b[39;00m\u001b[38;5;124m must be\u001b[39m\u001b[38;5;124m\"\u001b[39m,\n\u001b[0;32m    223\u001b[0m         \u001b[38;5;28mstr\u001b[39m(e),\n\u001b[0;32m    224\u001b[0m     )\n",
      "File \u001b[1;32m~\\anaconda3\\envs\\Team_Johson_Sirleaf\\Lib\\site-packages\\sklearn\\model_selection\\_validation.py:1982\u001b[0m, in \u001b[0;36mvalidation_curve\u001b[1;34m(estimator, X, y, param_name, param_range, groups, cv, scoring, n_jobs, pre_dispatch, verbose, error_score, fit_params)\u001b[0m\n\u001b[0;32m   1979\u001b[0m scorer \u001b[38;5;241m=\u001b[39m check_scoring(estimator, scoring\u001b[38;5;241m=\u001b[39mscoring)\n\u001b[0;32m   1981\u001b[0m parallel \u001b[38;5;241m=\u001b[39m Parallel(n_jobs\u001b[38;5;241m=\u001b[39mn_jobs, pre_dispatch\u001b[38;5;241m=\u001b[39mpre_dispatch, verbose\u001b[38;5;241m=\u001b[39mverbose)\n\u001b[1;32m-> 1982\u001b[0m results \u001b[38;5;241m=\u001b[39m parallel(\n\u001b[0;32m   1983\u001b[0m     delayed(_fit_and_score)(\n\u001b[0;32m   1984\u001b[0m         clone(estimator),\n\u001b[0;32m   1985\u001b[0m         X,\n\u001b[0;32m   1986\u001b[0m         y,\n\u001b[0;32m   1987\u001b[0m         scorer,\n\u001b[0;32m   1988\u001b[0m         train,\n\u001b[0;32m   1989\u001b[0m         test,\n\u001b[0;32m   1990\u001b[0m         verbose,\n\u001b[0;32m   1991\u001b[0m         parameters\u001b[38;5;241m=\u001b[39m{param_name: v},\n\u001b[0;32m   1992\u001b[0m         fit_params\u001b[38;5;241m=\u001b[39mfit_params,\n\u001b[0;32m   1993\u001b[0m         return_train_score\u001b[38;5;241m=\u001b[39m\u001b[38;5;28;01mTrue\u001b[39;00m,\n\u001b[0;32m   1994\u001b[0m         error_score\u001b[38;5;241m=\u001b[39merror_score,\n\u001b[0;32m   1995\u001b[0m     )\n\u001b[0;32m   1996\u001b[0m     \u001b[38;5;66;03m# NOTE do not change order of iteration to allow one time cv splitters\u001b[39;00m\n\u001b[0;32m   1997\u001b[0m     \u001b[38;5;28;01mfor\u001b[39;00m train, test \u001b[38;5;129;01min\u001b[39;00m cv\u001b[38;5;241m.\u001b[39msplit(X, y, groups)\n\u001b[0;32m   1998\u001b[0m     \u001b[38;5;28;01mfor\u001b[39;00m v \u001b[38;5;129;01min\u001b[39;00m param_range\n\u001b[0;32m   1999\u001b[0m )\n\u001b[0;32m   2000\u001b[0m n_params \u001b[38;5;241m=\u001b[39m \u001b[38;5;28mlen\u001b[39m(param_range)\n\u001b[0;32m   2002\u001b[0m results \u001b[38;5;241m=\u001b[39m _aggregate_score_dicts(results)\n",
      "File \u001b[1;32m~\\anaconda3\\envs\\Team_Johson_Sirleaf\\Lib\\site-packages\\sklearn\\utils\\parallel.py:65\u001b[0m, in \u001b[0;36mParallel.__call__\u001b[1;34m(self, iterable)\u001b[0m\n\u001b[0;32m     60\u001b[0m config \u001b[38;5;241m=\u001b[39m get_config()\n\u001b[0;32m     61\u001b[0m iterable_with_config \u001b[38;5;241m=\u001b[39m (\n\u001b[0;32m     62\u001b[0m     (_with_config(delayed_func, config), args, kwargs)\n\u001b[0;32m     63\u001b[0m     \u001b[38;5;28;01mfor\u001b[39;00m delayed_func, args, kwargs \u001b[38;5;129;01min\u001b[39;00m iterable\n\u001b[0;32m     64\u001b[0m )\n\u001b[1;32m---> 65\u001b[0m \u001b[38;5;28;01mreturn\u001b[39;00m \u001b[38;5;28msuper\u001b[39m()\u001b[38;5;241m.\u001b[39m\u001b[38;5;21m__call__\u001b[39m(iterable_with_config)\n",
      "File \u001b[1;32m~\\anaconda3\\envs\\Team_Johson_Sirleaf\\Lib\\site-packages\\joblib\\parallel.py:1863\u001b[0m, in \u001b[0;36mParallel.__call__\u001b[1;34m(self, iterable)\u001b[0m\n\u001b[0;32m   1861\u001b[0m     output \u001b[38;5;241m=\u001b[39m \u001b[38;5;28mself\u001b[39m\u001b[38;5;241m.\u001b[39m_get_sequential_output(iterable)\n\u001b[0;32m   1862\u001b[0m     \u001b[38;5;28mnext\u001b[39m(output)\n\u001b[1;32m-> 1863\u001b[0m     \u001b[38;5;28;01mreturn\u001b[39;00m output \u001b[38;5;28;01mif\u001b[39;00m \u001b[38;5;28mself\u001b[39m\u001b[38;5;241m.\u001b[39mreturn_generator \u001b[38;5;28;01melse\u001b[39;00m \u001b[38;5;28mlist\u001b[39m(output)\n\u001b[0;32m   1865\u001b[0m \u001b[38;5;66;03m# Let's create an ID that uniquely identifies the current call. If the\u001b[39;00m\n\u001b[0;32m   1866\u001b[0m \u001b[38;5;66;03m# call is interrupted early and that the same instance is immediately\u001b[39;00m\n\u001b[0;32m   1867\u001b[0m \u001b[38;5;66;03m# re-used, this id will be used to prevent workers that were\u001b[39;00m\n\u001b[0;32m   1868\u001b[0m \u001b[38;5;66;03m# concurrently finalizing a task from the previous call to run the\u001b[39;00m\n\u001b[0;32m   1869\u001b[0m \u001b[38;5;66;03m# callback.\u001b[39;00m\n\u001b[0;32m   1870\u001b[0m \u001b[38;5;28;01mwith\u001b[39;00m \u001b[38;5;28mself\u001b[39m\u001b[38;5;241m.\u001b[39m_lock:\n",
      "File \u001b[1;32m~\\anaconda3\\envs\\Team_Johson_Sirleaf\\Lib\\site-packages\\joblib\\parallel.py:1792\u001b[0m, in \u001b[0;36mParallel._get_sequential_output\u001b[1;34m(self, iterable)\u001b[0m\n\u001b[0;32m   1790\u001b[0m \u001b[38;5;28mself\u001b[39m\u001b[38;5;241m.\u001b[39mn_dispatched_batches \u001b[38;5;241m+\u001b[39m\u001b[38;5;241m=\u001b[39m \u001b[38;5;241m1\u001b[39m\n\u001b[0;32m   1791\u001b[0m \u001b[38;5;28mself\u001b[39m\u001b[38;5;241m.\u001b[39mn_dispatched_tasks \u001b[38;5;241m+\u001b[39m\u001b[38;5;241m=\u001b[39m \u001b[38;5;241m1\u001b[39m\n\u001b[1;32m-> 1792\u001b[0m res \u001b[38;5;241m=\u001b[39m func(\u001b[38;5;241m*\u001b[39margs, \u001b[38;5;241m*\u001b[39m\u001b[38;5;241m*\u001b[39mkwargs)\n\u001b[0;32m   1793\u001b[0m \u001b[38;5;28mself\u001b[39m\u001b[38;5;241m.\u001b[39mn_completed_tasks \u001b[38;5;241m+\u001b[39m\u001b[38;5;241m=\u001b[39m \u001b[38;5;241m1\u001b[39m\n\u001b[0;32m   1794\u001b[0m \u001b[38;5;28mself\u001b[39m\u001b[38;5;241m.\u001b[39mprint_progress()\n",
      "File \u001b[1;32m~\\anaconda3\\envs\\Team_Johson_Sirleaf\\Lib\\site-packages\\sklearn\\utils\\parallel.py:127\u001b[0m, in \u001b[0;36m_FuncWrapper.__call__\u001b[1;34m(self, *args, **kwargs)\u001b[0m\n\u001b[0;32m    125\u001b[0m     config \u001b[38;5;241m=\u001b[39m {}\n\u001b[0;32m    126\u001b[0m \u001b[38;5;28;01mwith\u001b[39;00m config_context(\u001b[38;5;241m*\u001b[39m\u001b[38;5;241m*\u001b[39mconfig):\n\u001b[1;32m--> 127\u001b[0m     \u001b[38;5;28;01mreturn\u001b[39;00m \u001b[38;5;28mself\u001b[39m\u001b[38;5;241m.\u001b[39mfunction(\u001b[38;5;241m*\u001b[39margs, \u001b[38;5;241m*\u001b[39m\u001b[38;5;241m*\u001b[39mkwargs)\n",
      "File \u001b[1;32m~\\anaconda3\\envs\\Team_Johson_Sirleaf\\Lib\\site-packages\\sklearn\\model_selection\\_validation.py:729\u001b[0m, in \u001b[0;36m_fit_and_score\u001b[1;34m(estimator, X, y, scorer, train, test, verbose, parameters, fit_params, return_train_score, return_parameters, return_n_test_samples, return_times, return_estimator, split_progress, candidate_progress, error_score)\u001b[0m\n\u001b[0;32m    727\u001b[0m         estimator\u001b[38;5;241m.\u001b[39mfit(X_train, \u001b[38;5;241m*\u001b[39m\u001b[38;5;241m*\u001b[39mfit_params)\n\u001b[0;32m    728\u001b[0m     \u001b[38;5;28;01melse\u001b[39;00m:\n\u001b[1;32m--> 729\u001b[0m         estimator\u001b[38;5;241m.\u001b[39mfit(X_train, y_train, \u001b[38;5;241m*\u001b[39m\u001b[38;5;241m*\u001b[39mfit_params)\n\u001b[0;32m    731\u001b[0m \u001b[38;5;28;01mexcept\u001b[39;00m \u001b[38;5;167;01mException\u001b[39;00m:\n\u001b[0;32m    732\u001b[0m     \u001b[38;5;66;03m# Note fit time as time until error\u001b[39;00m\n\u001b[0;32m    733\u001b[0m     fit_time \u001b[38;5;241m=\u001b[39m time\u001b[38;5;241m.\u001b[39mtime() \u001b[38;5;241m-\u001b[39m start_time\n",
      "File \u001b[1;32m~\\anaconda3\\envs\\Team_Johson_Sirleaf\\Lib\\site-packages\\sklearn\\base.py:1152\u001b[0m, in \u001b[0;36m_fit_context.<locals>.decorator.<locals>.wrapper\u001b[1;34m(estimator, *args, **kwargs)\u001b[0m\n\u001b[0;32m   1145\u001b[0m     estimator\u001b[38;5;241m.\u001b[39m_validate_params()\n\u001b[0;32m   1147\u001b[0m \u001b[38;5;28;01mwith\u001b[39;00m config_context(\n\u001b[0;32m   1148\u001b[0m     skip_parameter_validation\u001b[38;5;241m=\u001b[39m(\n\u001b[0;32m   1149\u001b[0m         prefer_skip_nested_validation \u001b[38;5;129;01mor\u001b[39;00m global_skip_validation\n\u001b[0;32m   1150\u001b[0m     )\n\u001b[0;32m   1151\u001b[0m ):\n\u001b[1;32m-> 1152\u001b[0m     \u001b[38;5;28;01mreturn\u001b[39;00m fit_method(estimator, \u001b[38;5;241m*\u001b[39margs, \u001b[38;5;241m*\u001b[39m\u001b[38;5;241m*\u001b[39mkwargs)\n",
      "File \u001b[1;32m~\\anaconda3\\envs\\Team_Johson_Sirleaf\\Lib\\site-packages\\sklearn\\pipeline.py:427\u001b[0m, in \u001b[0;36mPipeline.fit\u001b[1;34m(self, X, y, **fit_params)\u001b[0m\n\u001b[0;32m    425\u001b[0m     \u001b[38;5;28;01mif\u001b[39;00m \u001b[38;5;28mself\u001b[39m\u001b[38;5;241m.\u001b[39m_final_estimator \u001b[38;5;241m!=\u001b[39m \u001b[38;5;124m\"\u001b[39m\u001b[38;5;124mpassthrough\u001b[39m\u001b[38;5;124m\"\u001b[39m:\n\u001b[0;32m    426\u001b[0m         fit_params_last_step \u001b[38;5;241m=\u001b[39m fit_params_steps[\u001b[38;5;28mself\u001b[39m\u001b[38;5;241m.\u001b[39msteps[\u001b[38;5;241m-\u001b[39m\u001b[38;5;241m1\u001b[39m][\u001b[38;5;241m0\u001b[39m]]\n\u001b[1;32m--> 427\u001b[0m         \u001b[38;5;28mself\u001b[39m\u001b[38;5;241m.\u001b[39m_final_estimator\u001b[38;5;241m.\u001b[39mfit(Xt, y, \u001b[38;5;241m*\u001b[39m\u001b[38;5;241m*\u001b[39mfit_params_last_step)\n\u001b[0;32m    429\u001b[0m \u001b[38;5;28;01mreturn\u001b[39;00m \u001b[38;5;28mself\u001b[39m\n",
      "File \u001b[1;32m~\\anaconda3\\envs\\Team_Johson_Sirleaf\\Lib\\site-packages\\sklearn\\base.py:1152\u001b[0m, in \u001b[0;36m_fit_context.<locals>.decorator.<locals>.wrapper\u001b[1;34m(estimator, *args, **kwargs)\u001b[0m\n\u001b[0;32m   1145\u001b[0m     estimator\u001b[38;5;241m.\u001b[39m_validate_params()\n\u001b[0;32m   1147\u001b[0m \u001b[38;5;28;01mwith\u001b[39;00m config_context(\n\u001b[0;32m   1148\u001b[0m     skip_parameter_validation\u001b[38;5;241m=\u001b[39m(\n\u001b[0;32m   1149\u001b[0m         prefer_skip_nested_validation \u001b[38;5;129;01mor\u001b[39;00m global_skip_validation\n\u001b[0;32m   1150\u001b[0m     )\n\u001b[0;32m   1151\u001b[0m ):\n\u001b[1;32m-> 1152\u001b[0m     \u001b[38;5;28;01mreturn\u001b[39;00m fit_method(estimator, \u001b[38;5;241m*\u001b[39margs, \u001b[38;5;241m*\u001b[39m\u001b[38;5;241m*\u001b[39mkwargs)\n",
      "File \u001b[1;32m~\\anaconda3\\envs\\Team_Johson_Sirleaf\\Lib\\site-packages\\sklearn\\linear_model\\_logistic.py:1303\u001b[0m, in \u001b[0;36mLogisticRegression.fit\u001b[1;34m(self, X, y, sample_weight)\u001b[0m\n\u001b[0;32m   1300\u001b[0m \u001b[38;5;28;01melse\u001b[39;00m:\n\u001b[0;32m   1301\u001b[0m     n_threads \u001b[38;5;241m=\u001b[39m \u001b[38;5;241m1\u001b[39m\n\u001b[1;32m-> 1303\u001b[0m fold_coefs_ \u001b[38;5;241m=\u001b[39m Parallel(n_jobs\u001b[38;5;241m=\u001b[39m\u001b[38;5;28mself\u001b[39m\u001b[38;5;241m.\u001b[39mn_jobs, verbose\u001b[38;5;241m=\u001b[39m\u001b[38;5;28mself\u001b[39m\u001b[38;5;241m.\u001b[39mverbose, prefer\u001b[38;5;241m=\u001b[39mprefer)(\n\u001b[0;32m   1304\u001b[0m     path_func(\n\u001b[0;32m   1305\u001b[0m         X,\n\u001b[0;32m   1306\u001b[0m         y,\n\u001b[0;32m   1307\u001b[0m         pos_class\u001b[38;5;241m=\u001b[39mclass_,\n\u001b[0;32m   1308\u001b[0m         Cs\u001b[38;5;241m=\u001b[39m[C_],\n\u001b[0;32m   1309\u001b[0m         l1_ratio\u001b[38;5;241m=\u001b[39m\u001b[38;5;28mself\u001b[39m\u001b[38;5;241m.\u001b[39ml1_ratio,\n\u001b[0;32m   1310\u001b[0m         fit_intercept\u001b[38;5;241m=\u001b[39m\u001b[38;5;28mself\u001b[39m\u001b[38;5;241m.\u001b[39mfit_intercept,\n\u001b[0;32m   1311\u001b[0m         tol\u001b[38;5;241m=\u001b[39m\u001b[38;5;28mself\u001b[39m\u001b[38;5;241m.\u001b[39mtol,\n\u001b[0;32m   1312\u001b[0m         verbose\u001b[38;5;241m=\u001b[39m\u001b[38;5;28mself\u001b[39m\u001b[38;5;241m.\u001b[39mverbose,\n\u001b[0;32m   1313\u001b[0m         solver\u001b[38;5;241m=\u001b[39msolver,\n\u001b[0;32m   1314\u001b[0m         multi_class\u001b[38;5;241m=\u001b[39mmulti_class,\n\u001b[0;32m   1315\u001b[0m         max_iter\u001b[38;5;241m=\u001b[39m\u001b[38;5;28mself\u001b[39m\u001b[38;5;241m.\u001b[39mmax_iter,\n\u001b[0;32m   1316\u001b[0m         class_weight\u001b[38;5;241m=\u001b[39m\u001b[38;5;28mself\u001b[39m\u001b[38;5;241m.\u001b[39mclass_weight,\n\u001b[0;32m   1317\u001b[0m         check_input\u001b[38;5;241m=\u001b[39m\u001b[38;5;28;01mFalse\u001b[39;00m,\n\u001b[0;32m   1318\u001b[0m         random_state\u001b[38;5;241m=\u001b[39m\u001b[38;5;28mself\u001b[39m\u001b[38;5;241m.\u001b[39mrandom_state,\n\u001b[0;32m   1319\u001b[0m         coef\u001b[38;5;241m=\u001b[39mwarm_start_coef_,\n\u001b[0;32m   1320\u001b[0m         penalty\u001b[38;5;241m=\u001b[39mpenalty,\n\u001b[0;32m   1321\u001b[0m         max_squared_sum\u001b[38;5;241m=\u001b[39mmax_squared_sum,\n\u001b[0;32m   1322\u001b[0m         sample_weight\u001b[38;5;241m=\u001b[39msample_weight,\n\u001b[0;32m   1323\u001b[0m         n_threads\u001b[38;5;241m=\u001b[39mn_threads,\n\u001b[0;32m   1324\u001b[0m     )\n\u001b[0;32m   1325\u001b[0m     \u001b[38;5;28;01mfor\u001b[39;00m class_, warm_start_coef_ \u001b[38;5;129;01min\u001b[39;00m \u001b[38;5;28mzip\u001b[39m(classes_, warm_start_coef)\n\u001b[0;32m   1326\u001b[0m )\n\u001b[0;32m   1328\u001b[0m fold_coefs_, _, n_iter_ \u001b[38;5;241m=\u001b[39m \u001b[38;5;28mzip\u001b[39m(\u001b[38;5;241m*\u001b[39mfold_coefs_)\n\u001b[0;32m   1329\u001b[0m \u001b[38;5;28mself\u001b[39m\u001b[38;5;241m.\u001b[39mn_iter_ \u001b[38;5;241m=\u001b[39m np\u001b[38;5;241m.\u001b[39masarray(n_iter_, dtype\u001b[38;5;241m=\u001b[39mnp\u001b[38;5;241m.\u001b[39mint32)[:, \u001b[38;5;241m0\u001b[39m]\n",
      "File \u001b[1;32m~\\anaconda3\\envs\\Team_Johson_Sirleaf\\Lib\\site-packages\\sklearn\\utils\\parallel.py:65\u001b[0m, in \u001b[0;36mParallel.__call__\u001b[1;34m(self, iterable)\u001b[0m\n\u001b[0;32m     60\u001b[0m config \u001b[38;5;241m=\u001b[39m get_config()\n\u001b[0;32m     61\u001b[0m iterable_with_config \u001b[38;5;241m=\u001b[39m (\n\u001b[0;32m     62\u001b[0m     (_with_config(delayed_func, config), args, kwargs)\n\u001b[0;32m     63\u001b[0m     \u001b[38;5;28;01mfor\u001b[39;00m delayed_func, args, kwargs \u001b[38;5;129;01min\u001b[39;00m iterable\n\u001b[0;32m     64\u001b[0m )\n\u001b[1;32m---> 65\u001b[0m \u001b[38;5;28;01mreturn\u001b[39;00m \u001b[38;5;28msuper\u001b[39m()\u001b[38;5;241m.\u001b[39m\u001b[38;5;21m__call__\u001b[39m(iterable_with_config)\n",
      "File \u001b[1;32m~\\anaconda3\\envs\\Team_Johson_Sirleaf\\Lib\\site-packages\\joblib\\parallel.py:1863\u001b[0m, in \u001b[0;36mParallel.__call__\u001b[1;34m(self, iterable)\u001b[0m\n\u001b[0;32m   1861\u001b[0m     output \u001b[38;5;241m=\u001b[39m \u001b[38;5;28mself\u001b[39m\u001b[38;5;241m.\u001b[39m_get_sequential_output(iterable)\n\u001b[0;32m   1862\u001b[0m     \u001b[38;5;28mnext\u001b[39m(output)\n\u001b[1;32m-> 1863\u001b[0m     \u001b[38;5;28;01mreturn\u001b[39;00m output \u001b[38;5;28;01mif\u001b[39;00m \u001b[38;5;28mself\u001b[39m\u001b[38;5;241m.\u001b[39mreturn_generator \u001b[38;5;28;01melse\u001b[39;00m \u001b[38;5;28mlist\u001b[39m(output)\n\u001b[0;32m   1865\u001b[0m \u001b[38;5;66;03m# Let's create an ID that uniquely identifies the current call. If the\u001b[39;00m\n\u001b[0;32m   1866\u001b[0m \u001b[38;5;66;03m# call is interrupted early and that the same instance is immediately\u001b[39;00m\n\u001b[0;32m   1867\u001b[0m \u001b[38;5;66;03m# re-used, this id will be used to prevent workers that were\u001b[39;00m\n\u001b[0;32m   1868\u001b[0m \u001b[38;5;66;03m# concurrently finalizing a task from the previous call to run the\u001b[39;00m\n\u001b[0;32m   1869\u001b[0m \u001b[38;5;66;03m# callback.\u001b[39;00m\n\u001b[0;32m   1870\u001b[0m \u001b[38;5;28;01mwith\u001b[39;00m \u001b[38;5;28mself\u001b[39m\u001b[38;5;241m.\u001b[39m_lock:\n",
      "File \u001b[1;32m~\\anaconda3\\envs\\Team_Johson_Sirleaf\\Lib\\site-packages\\joblib\\parallel.py:1792\u001b[0m, in \u001b[0;36mParallel._get_sequential_output\u001b[1;34m(self, iterable)\u001b[0m\n\u001b[0;32m   1790\u001b[0m \u001b[38;5;28mself\u001b[39m\u001b[38;5;241m.\u001b[39mn_dispatched_batches \u001b[38;5;241m+\u001b[39m\u001b[38;5;241m=\u001b[39m \u001b[38;5;241m1\u001b[39m\n\u001b[0;32m   1791\u001b[0m \u001b[38;5;28mself\u001b[39m\u001b[38;5;241m.\u001b[39mn_dispatched_tasks \u001b[38;5;241m+\u001b[39m\u001b[38;5;241m=\u001b[39m \u001b[38;5;241m1\u001b[39m\n\u001b[1;32m-> 1792\u001b[0m res \u001b[38;5;241m=\u001b[39m func(\u001b[38;5;241m*\u001b[39margs, \u001b[38;5;241m*\u001b[39m\u001b[38;5;241m*\u001b[39mkwargs)\n\u001b[0;32m   1793\u001b[0m \u001b[38;5;28mself\u001b[39m\u001b[38;5;241m.\u001b[39mn_completed_tasks \u001b[38;5;241m+\u001b[39m\u001b[38;5;241m=\u001b[39m \u001b[38;5;241m1\u001b[39m\n\u001b[0;32m   1794\u001b[0m \u001b[38;5;28mself\u001b[39m\u001b[38;5;241m.\u001b[39mprint_progress()\n",
      "File \u001b[1;32m~\\anaconda3\\envs\\Team_Johson_Sirleaf\\Lib\\site-packages\\sklearn\\utils\\parallel.py:127\u001b[0m, in \u001b[0;36m_FuncWrapper.__call__\u001b[1;34m(self, *args, **kwargs)\u001b[0m\n\u001b[0;32m    125\u001b[0m     config \u001b[38;5;241m=\u001b[39m {}\n\u001b[0;32m    126\u001b[0m \u001b[38;5;28;01mwith\u001b[39;00m config_context(\u001b[38;5;241m*\u001b[39m\u001b[38;5;241m*\u001b[39mconfig):\n\u001b[1;32m--> 127\u001b[0m     \u001b[38;5;28;01mreturn\u001b[39;00m \u001b[38;5;28mself\u001b[39m\u001b[38;5;241m.\u001b[39mfunction(\u001b[38;5;241m*\u001b[39margs, \u001b[38;5;241m*\u001b[39m\u001b[38;5;241m*\u001b[39mkwargs)\n",
      "File \u001b[1;32m~\\anaconda3\\envs\\Team_Johson_Sirleaf\\Lib\\site-packages\\sklearn\\linear_model\\_logistic.py:452\u001b[0m, in \u001b[0;36m_logistic_regression_path\u001b[1;34m(X, y, pos_class, Cs, fit_intercept, max_iter, tol, verbose, solver, coef, class_weight, dual, penalty, intercept_scaling, multi_class, random_state, check_input, max_squared_sum, sample_weight, l1_ratio, n_threads)\u001b[0m\n\u001b[0;32m    448\u001b[0m l2_reg_strength \u001b[38;5;241m=\u001b[39m \u001b[38;5;241m1.0\u001b[39m \u001b[38;5;241m/\u001b[39m C\n\u001b[0;32m    449\u001b[0m iprint \u001b[38;5;241m=\u001b[39m [\u001b[38;5;241m-\u001b[39m\u001b[38;5;241m1\u001b[39m, \u001b[38;5;241m50\u001b[39m, \u001b[38;5;241m1\u001b[39m, \u001b[38;5;241m100\u001b[39m, \u001b[38;5;241m101\u001b[39m][\n\u001b[0;32m    450\u001b[0m     np\u001b[38;5;241m.\u001b[39msearchsorted(np\u001b[38;5;241m.\u001b[39marray([\u001b[38;5;241m0\u001b[39m, \u001b[38;5;241m1\u001b[39m, \u001b[38;5;241m2\u001b[39m, \u001b[38;5;241m3\u001b[39m]), verbose)\n\u001b[0;32m    451\u001b[0m ]\n\u001b[1;32m--> 452\u001b[0m opt_res \u001b[38;5;241m=\u001b[39m optimize\u001b[38;5;241m.\u001b[39mminimize(\n\u001b[0;32m    453\u001b[0m     func,\n\u001b[0;32m    454\u001b[0m     w0,\n\u001b[0;32m    455\u001b[0m     method\u001b[38;5;241m=\u001b[39m\u001b[38;5;124m\"\u001b[39m\u001b[38;5;124mL-BFGS-B\u001b[39m\u001b[38;5;124m\"\u001b[39m,\n\u001b[0;32m    456\u001b[0m     jac\u001b[38;5;241m=\u001b[39m\u001b[38;5;28;01mTrue\u001b[39;00m,\n\u001b[0;32m    457\u001b[0m     args\u001b[38;5;241m=\u001b[39m(X, target, sample_weight, l2_reg_strength, n_threads),\n\u001b[0;32m    458\u001b[0m     options\u001b[38;5;241m=\u001b[39m{\u001b[38;5;124m\"\u001b[39m\u001b[38;5;124miprint\u001b[39m\u001b[38;5;124m\"\u001b[39m: iprint, \u001b[38;5;124m\"\u001b[39m\u001b[38;5;124mgtol\u001b[39m\u001b[38;5;124m\"\u001b[39m: tol, \u001b[38;5;124m\"\u001b[39m\u001b[38;5;124mmaxiter\u001b[39m\u001b[38;5;124m\"\u001b[39m: max_iter},\n\u001b[0;32m    459\u001b[0m )\n\u001b[0;32m    460\u001b[0m n_iter_i \u001b[38;5;241m=\u001b[39m _check_optimize_result(\n\u001b[0;32m    461\u001b[0m     solver,\n\u001b[0;32m    462\u001b[0m     opt_res,\n\u001b[0;32m    463\u001b[0m     max_iter,\n\u001b[0;32m    464\u001b[0m     extra_warning_msg\u001b[38;5;241m=\u001b[39m_LOGISTIC_SOLVER_CONVERGENCE_MSG,\n\u001b[0;32m    465\u001b[0m )\n\u001b[0;32m    466\u001b[0m w0, loss \u001b[38;5;241m=\u001b[39m opt_res\u001b[38;5;241m.\u001b[39mx, opt_res\u001b[38;5;241m.\u001b[39mfun\n",
      "File \u001b[1;32m~\\anaconda3\\envs\\Team_Johson_Sirleaf\\Lib\\site-packages\\scipy\\optimize\\_minimize.py:710\u001b[0m, in \u001b[0;36mminimize\u001b[1;34m(fun, x0, args, method, jac, hess, hessp, bounds, constraints, tol, callback, options)\u001b[0m\n\u001b[0;32m    707\u001b[0m     res \u001b[38;5;241m=\u001b[39m _minimize_newtoncg(fun, x0, args, jac, hess, hessp, callback,\n\u001b[0;32m    708\u001b[0m                              \u001b[38;5;241m*\u001b[39m\u001b[38;5;241m*\u001b[39moptions)\n\u001b[0;32m    709\u001b[0m \u001b[38;5;28;01melif\u001b[39;00m meth \u001b[38;5;241m==\u001b[39m \u001b[38;5;124m'\u001b[39m\u001b[38;5;124ml-bfgs-b\u001b[39m\u001b[38;5;124m'\u001b[39m:\n\u001b[1;32m--> 710\u001b[0m     res \u001b[38;5;241m=\u001b[39m _minimize_lbfgsb(fun, x0, args, jac, bounds,\n\u001b[0;32m    711\u001b[0m                            callback\u001b[38;5;241m=\u001b[39mcallback, \u001b[38;5;241m*\u001b[39m\u001b[38;5;241m*\u001b[39moptions)\n\u001b[0;32m    712\u001b[0m \u001b[38;5;28;01melif\u001b[39;00m meth \u001b[38;5;241m==\u001b[39m \u001b[38;5;124m'\u001b[39m\u001b[38;5;124mtnc\u001b[39m\u001b[38;5;124m'\u001b[39m:\n\u001b[0;32m    713\u001b[0m     res \u001b[38;5;241m=\u001b[39m _minimize_tnc(fun, x0, args, jac, bounds, callback\u001b[38;5;241m=\u001b[39mcallback,\n\u001b[0;32m    714\u001b[0m                         \u001b[38;5;241m*\u001b[39m\u001b[38;5;241m*\u001b[39moptions)\n",
      "File \u001b[1;32m~\\anaconda3\\envs\\Team_Johson_Sirleaf\\Lib\\site-packages\\scipy\\optimize\\_lbfgsb_py.py:365\u001b[0m, in \u001b[0;36m_minimize_lbfgsb\u001b[1;34m(fun, x0, args, jac, bounds, disp, maxcor, ftol, gtol, eps, maxfun, maxiter, iprint, callback, maxls, finite_diff_rel_step, **unknown_options)\u001b[0m\n\u001b[0;32m    359\u001b[0m task_str \u001b[38;5;241m=\u001b[39m task\u001b[38;5;241m.\u001b[39mtobytes()\n\u001b[0;32m    360\u001b[0m \u001b[38;5;28;01mif\u001b[39;00m task_str\u001b[38;5;241m.\u001b[39mstartswith(\u001b[38;5;124mb\u001b[39m\u001b[38;5;124m'\u001b[39m\u001b[38;5;124mFG\u001b[39m\u001b[38;5;124m'\u001b[39m):\n\u001b[0;32m    361\u001b[0m     \u001b[38;5;66;03m# The minimization routine wants f and g at the current x.\u001b[39;00m\n\u001b[0;32m    362\u001b[0m     \u001b[38;5;66;03m# Note that interruptions due to maxfun are postponed\u001b[39;00m\n\u001b[0;32m    363\u001b[0m     \u001b[38;5;66;03m# until the completion of the current minimization iteration.\u001b[39;00m\n\u001b[0;32m    364\u001b[0m     \u001b[38;5;66;03m# Overwrite f and g:\u001b[39;00m\n\u001b[1;32m--> 365\u001b[0m     f, g \u001b[38;5;241m=\u001b[39m func_and_grad(x)\n\u001b[0;32m    366\u001b[0m \u001b[38;5;28;01melif\u001b[39;00m task_str\u001b[38;5;241m.\u001b[39mstartswith(\u001b[38;5;124mb\u001b[39m\u001b[38;5;124m'\u001b[39m\u001b[38;5;124mNEW_X\u001b[39m\u001b[38;5;124m'\u001b[39m):\n\u001b[0;32m    367\u001b[0m     \u001b[38;5;66;03m# new iteration\u001b[39;00m\n\u001b[0;32m    368\u001b[0m     n_iterations \u001b[38;5;241m+\u001b[39m\u001b[38;5;241m=\u001b[39m \u001b[38;5;241m1\u001b[39m\n",
      "File \u001b[1;32m~\\anaconda3\\envs\\Team_Johson_Sirleaf\\Lib\\site-packages\\scipy\\optimize\\_differentiable_functions.py:285\u001b[0m, in \u001b[0;36mScalarFunction.fun_and_grad\u001b[1;34m(self, x)\u001b[0m\n\u001b[0;32m    283\u001b[0m \u001b[38;5;28;01mif\u001b[39;00m \u001b[38;5;129;01mnot\u001b[39;00m np\u001b[38;5;241m.\u001b[39marray_equal(x, \u001b[38;5;28mself\u001b[39m\u001b[38;5;241m.\u001b[39mx):\n\u001b[0;32m    284\u001b[0m     \u001b[38;5;28mself\u001b[39m\u001b[38;5;241m.\u001b[39m_update_x_impl(x)\n\u001b[1;32m--> 285\u001b[0m \u001b[38;5;28mself\u001b[39m\u001b[38;5;241m.\u001b[39m_update_fun()\n\u001b[0;32m    286\u001b[0m \u001b[38;5;28mself\u001b[39m\u001b[38;5;241m.\u001b[39m_update_grad()\n\u001b[0;32m    287\u001b[0m \u001b[38;5;28;01mreturn\u001b[39;00m \u001b[38;5;28mself\u001b[39m\u001b[38;5;241m.\u001b[39mf, \u001b[38;5;28mself\u001b[39m\u001b[38;5;241m.\u001b[39mg\n",
      "File \u001b[1;32m~\\anaconda3\\envs\\Team_Johson_Sirleaf\\Lib\\site-packages\\scipy\\optimize\\_differentiable_functions.py:251\u001b[0m, in \u001b[0;36mScalarFunction._update_fun\u001b[1;34m(self)\u001b[0m\n\u001b[0;32m    249\u001b[0m \u001b[38;5;28;01mdef\u001b[39;00m \u001b[38;5;21m_update_fun\u001b[39m(\u001b[38;5;28mself\u001b[39m):\n\u001b[0;32m    250\u001b[0m     \u001b[38;5;28;01mif\u001b[39;00m \u001b[38;5;129;01mnot\u001b[39;00m \u001b[38;5;28mself\u001b[39m\u001b[38;5;241m.\u001b[39mf_updated:\n\u001b[1;32m--> 251\u001b[0m         \u001b[38;5;28mself\u001b[39m\u001b[38;5;241m.\u001b[39m_update_fun_impl()\n\u001b[0;32m    252\u001b[0m         \u001b[38;5;28mself\u001b[39m\u001b[38;5;241m.\u001b[39mf_updated \u001b[38;5;241m=\u001b[39m \u001b[38;5;28;01mTrue\u001b[39;00m\n",
      "File \u001b[1;32m~\\anaconda3\\envs\\Team_Johson_Sirleaf\\Lib\\site-packages\\scipy\\optimize\\_differentiable_functions.py:155\u001b[0m, in \u001b[0;36mScalarFunction.__init__.<locals>.update_fun\u001b[1;34m()\u001b[0m\n\u001b[0;32m    154\u001b[0m \u001b[38;5;28;01mdef\u001b[39;00m \u001b[38;5;21mupdate_fun\u001b[39m():\n\u001b[1;32m--> 155\u001b[0m     \u001b[38;5;28mself\u001b[39m\u001b[38;5;241m.\u001b[39mf \u001b[38;5;241m=\u001b[39m fun_wrapped(\u001b[38;5;28mself\u001b[39m\u001b[38;5;241m.\u001b[39mx)\n",
      "File \u001b[1;32m~\\anaconda3\\envs\\Team_Johson_Sirleaf\\Lib\\site-packages\\scipy\\optimize\\_differentiable_functions.py:137\u001b[0m, in \u001b[0;36mScalarFunction.__init__.<locals>.fun_wrapped\u001b[1;34m(x)\u001b[0m\n\u001b[0;32m    133\u001b[0m \u001b[38;5;28mself\u001b[39m\u001b[38;5;241m.\u001b[39mnfev \u001b[38;5;241m+\u001b[39m\u001b[38;5;241m=\u001b[39m \u001b[38;5;241m1\u001b[39m\n\u001b[0;32m    134\u001b[0m \u001b[38;5;66;03m# Send a copy because the user may overwrite it.\u001b[39;00m\n\u001b[0;32m    135\u001b[0m \u001b[38;5;66;03m# Overwriting results in undefined behaviour because\u001b[39;00m\n\u001b[0;32m    136\u001b[0m \u001b[38;5;66;03m# fun(self.x) will change self.x, with the two no longer linked.\u001b[39;00m\n\u001b[1;32m--> 137\u001b[0m fx \u001b[38;5;241m=\u001b[39m fun(np\u001b[38;5;241m.\u001b[39mcopy(x), \u001b[38;5;241m*\u001b[39margs)\n\u001b[0;32m    138\u001b[0m \u001b[38;5;66;03m# Make sure the function returns a true scalar\u001b[39;00m\n\u001b[0;32m    139\u001b[0m \u001b[38;5;28;01mif\u001b[39;00m \u001b[38;5;129;01mnot\u001b[39;00m np\u001b[38;5;241m.\u001b[39misscalar(fx):\n",
      "File \u001b[1;32m~\\anaconda3\\envs\\Team_Johson_Sirleaf\\Lib\\site-packages\\scipy\\optimize\\_optimize.py:77\u001b[0m, in \u001b[0;36mMemoizeJac.__call__\u001b[1;34m(self, x, *args)\u001b[0m\n\u001b[0;32m     75\u001b[0m \u001b[38;5;28;01mdef\u001b[39;00m \u001b[38;5;21m__call__\u001b[39m(\u001b[38;5;28mself\u001b[39m, x, \u001b[38;5;241m*\u001b[39margs):\n\u001b[0;32m     76\u001b[0m \u001b[38;5;250m    \u001b[39m\u001b[38;5;124;03m\"\"\" returns the function value \"\"\"\u001b[39;00m\n\u001b[1;32m---> 77\u001b[0m     \u001b[38;5;28mself\u001b[39m\u001b[38;5;241m.\u001b[39m_compute_if_needed(x, \u001b[38;5;241m*\u001b[39margs)\n\u001b[0;32m     78\u001b[0m     \u001b[38;5;28;01mreturn\u001b[39;00m \u001b[38;5;28mself\u001b[39m\u001b[38;5;241m.\u001b[39m_value\n",
      "File \u001b[1;32m~\\anaconda3\\envs\\Team_Johson_Sirleaf\\Lib\\site-packages\\scipy\\optimize\\_optimize.py:71\u001b[0m, in \u001b[0;36mMemoizeJac._compute_if_needed\u001b[1;34m(self, x, *args)\u001b[0m\n\u001b[0;32m     69\u001b[0m \u001b[38;5;28;01mif\u001b[39;00m \u001b[38;5;129;01mnot\u001b[39;00m np\u001b[38;5;241m.\u001b[39mall(x \u001b[38;5;241m==\u001b[39m \u001b[38;5;28mself\u001b[39m\u001b[38;5;241m.\u001b[39mx) \u001b[38;5;129;01mor\u001b[39;00m \u001b[38;5;28mself\u001b[39m\u001b[38;5;241m.\u001b[39m_value \u001b[38;5;129;01mis\u001b[39;00m \u001b[38;5;28;01mNone\u001b[39;00m \u001b[38;5;129;01mor\u001b[39;00m \u001b[38;5;28mself\u001b[39m\u001b[38;5;241m.\u001b[39mjac \u001b[38;5;129;01mis\u001b[39;00m \u001b[38;5;28;01mNone\u001b[39;00m:\n\u001b[0;32m     70\u001b[0m     \u001b[38;5;28mself\u001b[39m\u001b[38;5;241m.\u001b[39mx \u001b[38;5;241m=\u001b[39m np\u001b[38;5;241m.\u001b[39masarray(x)\u001b[38;5;241m.\u001b[39mcopy()\n\u001b[1;32m---> 71\u001b[0m     fg \u001b[38;5;241m=\u001b[39m \u001b[38;5;28mself\u001b[39m\u001b[38;5;241m.\u001b[39mfun(x, \u001b[38;5;241m*\u001b[39margs)\n\u001b[0;32m     72\u001b[0m     \u001b[38;5;28mself\u001b[39m\u001b[38;5;241m.\u001b[39mjac \u001b[38;5;241m=\u001b[39m fg[\u001b[38;5;241m1\u001b[39m]\n\u001b[0;32m     73\u001b[0m     \u001b[38;5;28mself\u001b[39m\u001b[38;5;241m.\u001b[39m_value \u001b[38;5;241m=\u001b[39m fg[\u001b[38;5;241m0\u001b[39m]\n",
      "File \u001b[1;32m~\\anaconda3\\envs\\Team_Johson_Sirleaf\\Lib\\site-packages\\sklearn\\linear_model\\_linear_loss.py:292\u001b[0m, in \u001b[0;36mLinearModelLoss.loss_gradient\u001b[1;34m(self, coef, X, y, sample_weight, l2_reg_strength, n_threads, raw_prediction)\u001b[0m\n\u001b[0;32m    290\u001b[0m     grad[:n_features] \u001b[38;5;241m=\u001b[39m X\u001b[38;5;241m.\u001b[39mT \u001b[38;5;241m@\u001b[39m grad_pointwise \u001b[38;5;241m+\u001b[39m l2_reg_strength \u001b[38;5;241m*\u001b[39m weights\n\u001b[0;32m    291\u001b[0m     \u001b[38;5;28;01mif\u001b[39;00m \u001b[38;5;28mself\u001b[39m\u001b[38;5;241m.\u001b[39mfit_intercept:\n\u001b[1;32m--> 292\u001b[0m         grad[\u001b[38;5;241m-\u001b[39m\u001b[38;5;241m1\u001b[39m] \u001b[38;5;241m=\u001b[39m grad_pointwise\u001b[38;5;241m.\u001b[39msum()\n\u001b[0;32m    293\u001b[0m \u001b[38;5;28;01melse\u001b[39;00m:\n\u001b[0;32m    294\u001b[0m     grad \u001b[38;5;241m=\u001b[39m np\u001b[38;5;241m.\u001b[39mempty((n_classes, n_dof), dtype\u001b[38;5;241m=\u001b[39mweights\u001b[38;5;241m.\u001b[39mdtype, order\u001b[38;5;241m=\u001b[39m\u001b[38;5;124m\"\u001b[39m\u001b[38;5;124mF\u001b[39m\u001b[38;5;124m\"\u001b[39m)\n",
      "File \u001b[1;32m~\\anaconda3\\envs\\Team_Johson_Sirleaf\\Lib\\site-packages\\numpy\\core\\_methods.py:47\u001b[0m, in \u001b[0;36m_sum\u001b[1;34m(a, axis, dtype, out, keepdims, initial, where)\u001b[0m\n\u001b[0;32m     43\u001b[0m \u001b[38;5;28;01mdef\u001b[39;00m \u001b[38;5;21m_amin\u001b[39m(a, axis\u001b[38;5;241m=\u001b[39m\u001b[38;5;28;01mNone\u001b[39;00m, out\u001b[38;5;241m=\u001b[39m\u001b[38;5;28;01mNone\u001b[39;00m, keepdims\u001b[38;5;241m=\u001b[39m\u001b[38;5;28;01mFalse\u001b[39;00m,\n\u001b[0;32m     44\u001b[0m           initial\u001b[38;5;241m=\u001b[39m_NoValue, where\u001b[38;5;241m=\u001b[39m\u001b[38;5;28;01mTrue\u001b[39;00m):\n\u001b[0;32m     45\u001b[0m     \u001b[38;5;28;01mreturn\u001b[39;00m umr_minimum(a, axis, \u001b[38;5;28;01mNone\u001b[39;00m, out, keepdims, initial, where)\n\u001b[1;32m---> 47\u001b[0m \u001b[38;5;28;01mdef\u001b[39;00m \u001b[38;5;21m_sum\u001b[39m(a, axis\u001b[38;5;241m=\u001b[39m\u001b[38;5;28;01mNone\u001b[39;00m, dtype\u001b[38;5;241m=\u001b[39m\u001b[38;5;28;01mNone\u001b[39;00m, out\u001b[38;5;241m=\u001b[39m\u001b[38;5;28;01mNone\u001b[39;00m, keepdims\u001b[38;5;241m=\u001b[39m\u001b[38;5;28;01mFalse\u001b[39;00m,\n\u001b[0;32m     48\u001b[0m          initial\u001b[38;5;241m=\u001b[39m_NoValue, where\u001b[38;5;241m=\u001b[39m\u001b[38;5;28;01mTrue\u001b[39;00m):\n\u001b[0;32m     49\u001b[0m     \u001b[38;5;28;01mreturn\u001b[39;00m umr_sum(a, axis, dtype, out, keepdims, initial, where)\n\u001b[0;32m     51\u001b[0m \u001b[38;5;28;01mdef\u001b[39;00m \u001b[38;5;21m_prod\u001b[39m(a, axis\u001b[38;5;241m=\u001b[39m\u001b[38;5;28;01mNone\u001b[39;00m, dtype\u001b[38;5;241m=\u001b[39m\u001b[38;5;28;01mNone\u001b[39;00m, out\u001b[38;5;241m=\u001b[39m\u001b[38;5;28;01mNone\u001b[39;00m, keepdims\u001b[38;5;241m=\u001b[39m\u001b[38;5;28;01mFalse\u001b[39;00m,\n\u001b[0;32m     52\u001b[0m           initial\u001b[38;5;241m=\u001b[39m_NoValue, where\u001b[38;5;241m=\u001b[39m\u001b[38;5;28;01mTrue\u001b[39;00m):\n",
      "\u001b[1;31mKeyboardInterrupt\u001b[0m: "
     ]
    }
   ],
   "source": [
    "train_score, val_score = validation_curve(PolynomialRegression(max_iter=100000),\n",
    "                                          X_train_dev_scaled,y_train_dev,\n",
    "                                          param_name='polynomialfeatures__degree',\n",
    "                                          param_range=degree,cv=5)"
   ]
  },
  {
   "cell_type": "code",
   "execution_count": null,
   "id": "4ad2cdce",
   "metadata": {
    "scrolled": false
   },
   "outputs": [],
   "source": [
    "plt.plot(degree,np.median(train_score,1),'b',label='training score')\n",
    "plt.plot(degree,np.median(val_score,1),'r',label='validation score')\n",
    "plt.xlabel('Degree')\n",
    "plt.ylabel('Score')\n",
    "plt.legend();"
   ]
  },
  {
   "cell_type": "markdown",
   "id": "9e65edd2",
   "metadata": {},
   "source": [
    "The plot above shows that our model can still improve up to around 97% using 3rd order polynomial feature generation.\n",
    "\n",
    "They is posibility to achieve more than this. The model was built only up to the 3rd degree polynomial because of the long time needed for higher orders"
   ]
  },
  {
   "cell_type": "code",
   "execution_count": null,
   "id": "9a50cece",
   "metadata": {},
   "outputs": [],
   "source": []
  }
 ],
 "metadata": {
  "kernelspec": {
   "display_name": "Python 3 (ipykernel)",
   "language": "python",
   "name": "python3"
  },
  "language_info": {
   "codemirror_mode": {
    "name": "ipython",
    "version": 3
   },
   "file_extension": ".py",
   "mimetype": "text/x-python",
   "name": "python",
   "nbconvert_exporter": "python",
   "pygments_lexer": "ipython3",
   "version": "3.11.5"
  }
 },
 "nbformat": 4,
 "nbformat_minor": 5
}
