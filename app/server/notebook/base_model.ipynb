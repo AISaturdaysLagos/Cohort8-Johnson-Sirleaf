{
 "cells": [
  {
   "cell_type": "markdown",
   "id": "67bb34cf",
   "metadata": {},
   "source": [
    "<h1 align=center><font size = 5>AI SATURDAY LAGOS COHORT 8</font></h1>   \n",
    "\n",
    "<h1 align=center><font size = 5>TEAM JOHNSON-SIRLEAF </font></h1>  \n",
    "<h2 align=center><font size = 6>MACHINE LEARNING APPROACH TO\n",
    "PREDICTING DIABETES RISKS</font></h2>\n",
    "\n",
    "<h5 align=center><font size = 2>Data Source: <a href=\"https://www.kaggle.com/datasets/iammustafatz/diabetes-prediction-dataset\" target=\"_blank\">Kaggle.<a/></font></h5>"
   ]
  },
  {
   "cell_type": "markdown",
   "id": "e327f8e1",
   "metadata": {},
   "source": [
    "## DATA PREPARATION"
   ]
  },
  {
   "cell_type": "code",
   "execution_count": 46,
   "id": "55283733",
   "metadata": {},
   "outputs": [],
   "source": [
    "# import libraries\n",
    "\n",
    "import numpy as np                      # for mahematical operations\n",
    "import pandas as pd                     # for data manipulation and cleaning\n",
    "import seaborn as sns                   # for data visulization\n",
    "import plotly.express as px             # for data visulization\n",
    "import matplotlib.pyplot as plt         # for data visulization\n",
    "\n",
    "from sklearn.preprocessing import OneHotEncoder, LabelEncoder"
   ]
  },
  {
   "cell_type": "markdown",
   "id": "cb607e84",
   "metadata": {},
   "source": [
    "### Data Loading"
   ]
  },
  {
   "cell_type": "code",
   "execution_count": 47,
   "id": "4f763e69",
   "metadata": {},
   "outputs": [],
   "source": [
    "# Read in dataset\n",
    "df = pd.read_csv('../data/diabetes_prediction_dataset.csv')"
   ]
  },
  {
   "cell_type": "code",
   "execution_count": 48,
   "id": "9c78de62",
   "metadata": {},
   "outputs": [
    {
     "data": {
      "text/html": [
       "<div>\n",
       "<style scoped>\n",
       "    .dataframe tbody tr th:only-of-type {\n",
       "        vertical-align: middle;\n",
       "    }\n",
       "\n",
       "    .dataframe tbody tr th {\n",
       "        vertical-align: top;\n",
       "    }\n",
       "\n",
       "    .dataframe thead th {\n",
       "        text-align: right;\n",
       "    }\n",
       "</style>\n",
       "<table border=\"1\" class=\"dataframe\">\n",
       "  <thead>\n",
       "    <tr style=\"text-align: right;\">\n",
       "      <th></th>\n",
       "      <th>gender</th>\n",
       "      <th>age</th>\n",
       "      <th>hypertension</th>\n",
       "      <th>heart_disease</th>\n",
       "      <th>smoking_history</th>\n",
       "      <th>bmi</th>\n",
       "      <th>HbA1c_level</th>\n",
       "      <th>blood_glucose_level</th>\n",
       "      <th>diabetes</th>\n",
       "    </tr>\n",
       "  </thead>\n",
       "  <tbody>\n",
       "    <tr>\n",
       "      <th>0</th>\n",
       "      <td>Female</td>\n",
       "      <td>80.0</td>\n",
       "      <td>0</td>\n",
       "      <td>1</td>\n",
       "      <td>never</td>\n",
       "      <td>25.19</td>\n",
       "      <td>6.6</td>\n",
       "      <td>140</td>\n",
       "      <td>0</td>\n",
       "    </tr>\n",
       "    <tr>\n",
       "      <th>1</th>\n",
       "      <td>Female</td>\n",
       "      <td>54.0</td>\n",
       "      <td>0</td>\n",
       "      <td>0</td>\n",
       "      <td>No Info</td>\n",
       "      <td>27.32</td>\n",
       "      <td>6.6</td>\n",
       "      <td>80</td>\n",
       "      <td>0</td>\n",
       "    </tr>\n",
       "    <tr>\n",
       "      <th>2</th>\n",
       "      <td>Male</td>\n",
       "      <td>28.0</td>\n",
       "      <td>0</td>\n",
       "      <td>0</td>\n",
       "      <td>never</td>\n",
       "      <td>27.32</td>\n",
       "      <td>5.7</td>\n",
       "      <td>158</td>\n",
       "      <td>0</td>\n",
       "    </tr>\n",
       "  </tbody>\n",
       "</table>\n",
       "</div>"
      ],
      "text/plain": [
       "   gender   age  hypertension  heart_disease smoking_history    bmi  \\\n",
       "0  Female  80.0             0              1           never  25.19   \n",
       "1  Female  54.0             0              0         No Info  27.32   \n",
       "2    Male  28.0             0              0           never  27.32   \n",
       "\n",
       "   HbA1c_level  blood_glucose_level  diabetes  \n",
       "0          6.6                  140         0  \n",
       "1          6.6                   80         0  \n",
       "2          5.7                  158         0  "
      ]
     },
     "execution_count": 48,
     "metadata": {},
     "output_type": "execute_result"
    }
   ],
   "source": [
    "df.head(3)"
   ]
  },
  {
   "cell_type": "code",
   "execution_count": 49,
   "id": "3544af40",
   "metadata": {},
   "outputs": [
    {
     "name": "stdout",
     "output_type": "stream",
     "text": [
      "The number of data points for non diabetic patients is (91500, 9)\n",
      "The number of data points for diabetic patients is (8500, 9)\n"
     ]
    }
   ],
   "source": [
    "# Proof of Imbalanced Dataset\n",
    "Data_diabetic = df[df[\"diabetes\"] == 1]\n",
    "Data_not_diabetic = df[df[\"diabetes\"] == 0]\n",
    "print(f\"The number of data points for non diabetic patients is {Data_not_diabetic.shape}\")\n",
    "print(f\"The number of data points for diabetic patients is {Data_diabetic.shape}\")"
   ]
  },
  {
   "cell_type": "markdown",
   "id": "0d4efe94",
   "metadata": {},
   "source": [
    "### Data Dictionary"
   ]
  },
  {
   "cell_type": "markdown",
   "id": "ce0cfd19",
   "metadata": {},
   "source": [
    "| variable       | class     | description                                                                  |\n",
    "|:---------------|:----------|:-----------------------------------------------------------------------------|\n",
    "| Gender               | character | Biological sex of the individual  |\n",
    "| Age                  | numeric   | Age of the individual  |\n",
    "| Hypertension         | numeric   | 0 = No Hypertension / 1 = Has Hypertension|\n",
    "| Heart_disease        | numeric   | 0 = No Heart disease / 1 = Has Heart disease|\n",
    "| Smoking_history      | character | 5 categories i.e not current,former,No Info,current,never and ever |\n",
    "| bmi                  | numeric   | Body Mass Index, a measure of body fat based on weight and height|\n",
    "| HbA1c_level          | numeric   | Hemoglobin A1c, a measure of a person's average blood sugar level over the past 2-3 months|\n",
    "| Blood_glucose_level  | numeric | Amount of glucose in the bloodstream at a given time|\n",
    "| Diabetes             | numeric | 0 indicates absence of diabetes, 1 indicates presence of Diabetes|"
   ]
  },
  {
   "cell_type": "code",
   "execution_count": 50,
   "id": "24ce4465",
   "metadata": {},
   "outputs": [
    {
     "data": {
      "text/plain": [
       "gender                  object\n",
       "age                    float64\n",
       "hypertension             int64\n",
       "heart_disease            int64\n",
       "smoking_history         object\n",
       "bmi                    float64\n",
       "HbA1c_level            float64\n",
       "blood_glucose_level      int64\n",
       "diabetes                 int64\n",
       "dtype: object"
      ]
     },
     "execution_count": 50,
     "metadata": {},
     "output_type": "execute_result"
    }
   ],
   "source": [
    "# check the data types of each features\n",
    "df.dtypes"
   ]
  },
  {
   "cell_type": "code",
   "execution_count": 51,
   "id": "c1236ef8",
   "metadata": {},
   "outputs": [
    {
     "data": {
      "text/plain": [
       "(100000, 9)"
      ]
     },
     "execution_count": 51,
     "metadata": {},
     "output_type": "execute_result"
    }
   ],
   "source": [
    "# check the shape of the data\n",
    "df.shape"
   ]
  },
  {
   "cell_type": "code",
   "execution_count": 52,
   "id": "e8022d6d",
   "metadata": {},
   "outputs": [
    {
     "data": {
      "text/plain": [
       "gender                 0\n",
       "age                    0\n",
       "hypertension           0\n",
       "heart_disease          0\n",
       "smoking_history        0\n",
       "bmi                    0\n",
       "HbA1c_level            0\n",
       "blood_glucose_level    0\n",
       "diabetes               0\n",
       "dtype: int64"
      ]
     },
     "execution_count": 52,
     "metadata": {},
     "output_type": "execute_result"
    }
   ],
   "source": [
    "df.isnull().sum()"
   ]
  },
  {
   "cell_type": "code",
   "execution_count": 53,
   "id": "756f66ee",
   "metadata": {},
   "outputs": [
    {
     "name": "stdout",
     "output_type": "stream",
     "text": [
      "<class 'pandas.core.frame.DataFrame'>\n",
      "RangeIndex: 100000 entries, 0 to 99999\n",
      "Data columns (total 9 columns):\n",
      " #   Column               Non-Null Count   Dtype  \n",
      "---  ------               --------------   -----  \n",
      " 0   gender               100000 non-null  object \n",
      " 1   age                  100000 non-null  float64\n",
      " 2   hypertension         100000 non-null  int64  \n",
      " 3   heart_disease        100000 non-null  int64  \n",
      " 4   smoking_history      100000 non-null  object \n",
      " 5   bmi                  100000 non-null  float64\n",
      " 6   HbA1c_level          100000 non-null  float64\n",
      " 7   blood_glucose_level  100000 non-null  int64  \n",
      " 8   diabetes             100000 non-null  int64  \n",
      "dtypes: float64(3), int64(4), object(2)\n",
      "memory usage: 6.9+ MB\n"
     ]
    }
   ],
   "source": [
    "df.info()"
   ]
  },
  {
   "cell_type": "code",
   "execution_count": 54,
   "id": "7cf3a571",
   "metadata": {
    "scrolled": true
   },
   "outputs": [
    {
     "data": {
      "text/html": [
       "<div>\n",
       "<style scoped>\n",
       "    .dataframe tbody tr th:only-of-type {\n",
       "        vertical-align: middle;\n",
       "    }\n",
       "\n",
       "    .dataframe tbody tr th {\n",
       "        vertical-align: top;\n",
       "    }\n",
       "\n",
       "    .dataframe thead th {\n",
       "        text-align: right;\n",
       "    }\n",
       "</style>\n",
       "<table border=\"1\" class=\"dataframe\">\n",
       "  <thead>\n",
       "    <tr style=\"text-align: right;\">\n",
       "      <th></th>\n",
       "      <th>age</th>\n",
       "      <th>hypertension</th>\n",
       "      <th>heart_disease</th>\n",
       "      <th>bmi</th>\n",
       "      <th>HbA1c_level</th>\n",
       "      <th>blood_glucose_level</th>\n",
       "      <th>diabetes</th>\n",
       "    </tr>\n",
       "  </thead>\n",
       "  <tbody>\n",
       "    <tr>\n",
       "      <th>count</th>\n",
       "      <td>100000.000000</td>\n",
       "      <td>100000.00000</td>\n",
       "      <td>100000.000000</td>\n",
       "      <td>100000.000000</td>\n",
       "      <td>100000.000000</td>\n",
       "      <td>100000.000000</td>\n",
       "      <td>100000.000000</td>\n",
       "    </tr>\n",
       "    <tr>\n",
       "      <th>mean</th>\n",
       "      <td>41.885856</td>\n",
       "      <td>0.07485</td>\n",
       "      <td>0.039420</td>\n",
       "      <td>27.320767</td>\n",
       "      <td>5.527507</td>\n",
       "      <td>138.058060</td>\n",
       "      <td>0.085000</td>\n",
       "    </tr>\n",
       "    <tr>\n",
       "      <th>std</th>\n",
       "      <td>22.516840</td>\n",
       "      <td>0.26315</td>\n",
       "      <td>0.194593</td>\n",
       "      <td>6.636783</td>\n",
       "      <td>1.070672</td>\n",
       "      <td>40.708136</td>\n",
       "      <td>0.278883</td>\n",
       "    </tr>\n",
       "    <tr>\n",
       "      <th>min</th>\n",
       "      <td>0.080000</td>\n",
       "      <td>0.00000</td>\n",
       "      <td>0.000000</td>\n",
       "      <td>10.010000</td>\n",
       "      <td>3.500000</td>\n",
       "      <td>80.000000</td>\n",
       "      <td>0.000000</td>\n",
       "    </tr>\n",
       "    <tr>\n",
       "      <th>25%</th>\n",
       "      <td>24.000000</td>\n",
       "      <td>0.00000</td>\n",
       "      <td>0.000000</td>\n",
       "      <td>23.630000</td>\n",
       "      <td>4.800000</td>\n",
       "      <td>100.000000</td>\n",
       "      <td>0.000000</td>\n",
       "    </tr>\n",
       "    <tr>\n",
       "      <th>50%</th>\n",
       "      <td>43.000000</td>\n",
       "      <td>0.00000</td>\n",
       "      <td>0.000000</td>\n",
       "      <td>27.320000</td>\n",
       "      <td>5.800000</td>\n",
       "      <td>140.000000</td>\n",
       "      <td>0.000000</td>\n",
       "    </tr>\n",
       "    <tr>\n",
       "      <th>75%</th>\n",
       "      <td>60.000000</td>\n",
       "      <td>0.00000</td>\n",
       "      <td>0.000000</td>\n",
       "      <td>29.580000</td>\n",
       "      <td>6.200000</td>\n",
       "      <td>159.000000</td>\n",
       "      <td>0.000000</td>\n",
       "    </tr>\n",
       "    <tr>\n",
       "      <th>max</th>\n",
       "      <td>80.000000</td>\n",
       "      <td>1.00000</td>\n",
       "      <td>1.000000</td>\n",
       "      <td>95.690000</td>\n",
       "      <td>9.000000</td>\n",
       "      <td>300.000000</td>\n",
       "      <td>1.000000</td>\n",
       "    </tr>\n",
       "  </tbody>\n",
       "</table>\n",
       "</div>"
      ],
      "text/plain": [
       "                 age  hypertension  heart_disease            bmi  \\\n",
       "count  100000.000000  100000.00000  100000.000000  100000.000000   \n",
       "mean       41.885856       0.07485       0.039420      27.320767   \n",
       "std        22.516840       0.26315       0.194593       6.636783   \n",
       "min         0.080000       0.00000       0.000000      10.010000   \n",
       "25%        24.000000       0.00000       0.000000      23.630000   \n",
       "50%        43.000000       0.00000       0.000000      27.320000   \n",
       "75%        60.000000       0.00000       0.000000      29.580000   \n",
       "max        80.000000       1.00000       1.000000      95.690000   \n",
       "\n",
       "         HbA1c_level  blood_glucose_level       diabetes  \n",
       "count  100000.000000        100000.000000  100000.000000  \n",
       "mean        5.527507           138.058060       0.085000  \n",
       "std         1.070672            40.708136       0.278883  \n",
       "min         3.500000            80.000000       0.000000  \n",
       "25%         4.800000           100.000000       0.000000  \n",
       "50%         5.800000           140.000000       0.000000  \n",
       "75%         6.200000           159.000000       0.000000  \n",
       "max         9.000000           300.000000       1.000000  "
      ]
     },
     "execution_count": 54,
     "metadata": {},
     "output_type": "execute_result"
    }
   ],
   "source": [
    "# Checking statistics of the numeric features\n",
    "df.describe()"
   ]
  },
  {
   "cell_type": "markdown",
   "id": "311fcdac",
   "metadata": {},
   "source": [
    "### Data Wrangling"
   ]
  },
  {
   "cell_type": "code",
   "execution_count": 55,
   "id": "b107e8ab",
   "metadata": {},
   "outputs": [],
   "source": [
    "# save a copy of the data\n",
    "df_copy = df.copy('Dataset/diabetes_prediction_dataset.csv')"
   ]
  },
  {
   "cell_type": "code",
   "execution_count": 56,
   "id": "0bc37d81",
   "metadata": {},
   "outputs": [],
   "source": [
    "def df_wrangle(df, dtype_convert, OneHot_cols):\n",
    "    '''\n",
    "    This function wrangles (cleans) our dataset by correcting datypes and One-Hot\n",
    "    encoding dpecified columns\n",
    "    \n",
    "    Inputs\n",
    "    df: (dataframe), dataframe to wrangle\n",
    "    dtype_convert: (dictionary), pairs of column, dtype to convert to\n",
    "    OneHot_col: (list), columns in the dataframe to One-Hot encode\n",
    "    \n",
    "    Output\n",
    "    df: (dataframe), wrangled (cleaned) dataframe\n",
    "    '''\n",
    "    \n",
    "    # convert datatypes to correct formats\n",
    "    for col, dtype in dtype_convert.items():\n",
    "        df[col] = df[col].astype(dtype)\n",
    "        \n",
    "    # One_Hot encode neccesary columns\n",
    "    \n",
    "    # Initialize the One-Hot Encoder\n",
    "    encoder = OneHotEncoder()\n",
    "    \n",
    "    # One-Hot encode each column\n",
    "    for col in OneHot_cols:\n",
    "        # variable to store new column names\n",
    "        df_col_name = []\n",
    "        \n",
    "        # unique values in current column\n",
    "        vals = df[col].unique()             \n",
    "\n",
    "        for val in vals:\n",
    "            # replace spaces in values with underscore\n",
    "            val = val.replace(' ', '_')\n",
    "            \n",
    "            # combine initial column name and current value as new column name\n",
    "            df_col_name.append(col+'_'+val) \n",
    "                                            \n",
    "        # encode the columns\n",
    "        encoded_df = pd.DataFrame(encoder.fit_transform(df[[col]]).toarray())\n",
    "        \n",
    "        # rename the new columns\n",
    "        encoded_df.columns = df_col_name\n",
    "        \n",
    "        # add new columns to dataframe\n",
    "        df = df.join(encoded_df)\n",
    "\n",
    "    # drop the initial columns\n",
    "    df.drop(OneHot_cols, axis=1, inplace=True)\n",
    "    \n",
    "    return df"
   ]
  },
  {
   "cell_type": "code",
   "execution_count": 57,
   "id": "9f3ce2ee",
   "metadata": {},
   "outputs": [],
   "source": [
    "df = df_wrangle(df, {'age':'int'}, ['gender', 'smoking_history'])"
   ]
  },
  {
   "cell_type": "code",
   "execution_count": 58,
   "id": "424848b1",
   "metadata": {},
   "outputs": [
    {
     "data": {
      "text/html": [
       "<div>\n",
       "<style scoped>\n",
       "    .dataframe tbody tr th:only-of-type {\n",
       "        vertical-align: middle;\n",
       "    }\n",
       "\n",
       "    .dataframe tbody tr th {\n",
       "        vertical-align: top;\n",
       "    }\n",
       "\n",
       "    .dataframe thead th {\n",
       "        text-align: right;\n",
       "    }\n",
       "</style>\n",
       "<table border=\"1\" class=\"dataframe\">\n",
       "  <thead>\n",
       "    <tr style=\"text-align: right;\">\n",
       "      <th></th>\n",
       "      <th>age</th>\n",
       "      <th>hypertension</th>\n",
       "      <th>heart_disease</th>\n",
       "      <th>bmi</th>\n",
       "      <th>HbA1c_level</th>\n",
       "      <th>blood_glucose_level</th>\n",
       "      <th>diabetes</th>\n",
       "      <th>gender_Female</th>\n",
       "      <th>gender_Male</th>\n",
       "      <th>gender_Other</th>\n",
       "      <th>smoking_history_never</th>\n",
       "      <th>smoking_history_No_Info</th>\n",
       "      <th>smoking_history_current</th>\n",
       "      <th>smoking_history_former</th>\n",
       "      <th>smoking_history_ever</th>\n",
       "      <th>smoking_history_not_current</th>\n",
       "    </tr>\n",
       "  </thead>\n",
       "  <tbody>\n",
       "    <tr>\n",
       "      <th>0</th>\n",
       "      <td>80</td>\n",
       "      <td>0</td>\n",
       "      <td>1</td>\n",
       "      <td>25.19</td>\n",
       "      <td>6.6</td>\n",
       "      <td>140</td>\n",
       "      <td>0</td>\n",
       "      <td>1.0</td>\n",
       "      <td>0.0</td>\n",
       "      <td>0.0</td>\n",
       "      <td>0.0</td>\n",
       "      <td>0.0</td>\n",
       "      <td>0.0</td>\n",
       "      <td>0.0</td>\n",
       "      <td>1.0</td>\n",
       "      <td>0.0</td>\n",
       "    </tr>\n",
       "    <tr>\n",
       "      <th>1</th>\n",
       "      <td>54</td>\n",
       "      <td>0</td>\n",
       "      <td>0</td>\n",
       "      <td>27.32</td>\n",
       "      <td>6.6</td>\n",
       "      <td>80</td>\n",
       "      <td>0</td>\n",
       "      <td>1.0</td>\n",
       "      <td>0.0</td>\n",
       "      <td>0.0</td>\n",
       "      <td>1.0</td>\n",
       "      <td>0.0</td>\n",
       "      <td>0.0</td>\n",
       "      <td>0.0</td>\n",
       "      <td>0.0</td>\n",
       "      <td>0.0</td>\n",
       "    </tr>\n",
       "    <tr>\n",
       "      <th>2</th>\n",
       "      <td>28</td>\n",
       "      <td>0</td>\n",
       "      <td>0</td>\n",
       "      <td>27.32</td>\n",
       "      <td>5.7</td>\n",
       "      <td>158</td>\n",
       "      <td>0</td>\n",
       "      <td>0.0</td>\n",
       "      <td>1.0</td>\n",
       "      <td>0.0</td>\n",
       "      <td>0.0</td>\n",
       "      <td>0.0</td>\n",
       "      <td>0.0</td>\n",
       "      <td>0.0</td>\n",
       "      <td>1.0</td>\n",
       "      <td>0.0</td>\n",
       "    </tr>\n",
       "    <tr>\n",
       "      <th>3</th>\n",
       "      <td>36</td>\n",
       "      <td>0</td>\n",
       "      <td>0</td>\n",
       "      <td>23.45</td>\n",
       "      <td>5.0</td>\n",
       "      <td>155</td>\n",
       "      <td>0</td>\n",
       "      <td>1.0</td>\n",
       "      <td>0.0</td>\n",
       "      <td>0.0</td>\n",
       "      <td>0.0</td>\n",
       "      <td>1.0</td>\n",
       "      <td>0.0</td>\n",
       "      <td>0.0</td>\n",
       "      <td>0.0</td>\n",
       "      <td>0.0</td>\n",
       "    </tr>\n",
       "    <tr>\n",
       "      <th>4</th>\n",
       "      <td>76</td>\n",
       "      <td>1</td>\n",
       "      <td>1</td>\n",
       "      <td>20.14</td>\n",
       "      <td>4.8</td>\n",
       "      <td>155</td>\n",
       "      <td>0</td>\n",
       "      <td>0.0</td>\n",
       "      <td>1.0</td>\n",
       "      <td>0.0</td>\n",
       "      <td>0.0</td>\n",
       "      <td>1.0</td>\n",
       "      <td>0.0</td>\n",
       "      <td>0.0</td>\n",
       "      <td>0.0</td>\n",
       "      <td>0.0</td>\n",
       "    </tr>\n",
       "  </tbody>\n",
       "</table>\n",
       "</div>"
      ],
      "text/plain": [
       "   age  hypertension  heart_disease    bmi  HbA1c_level  blood_glucose_level  \\\n",
       "0   80             0              1  25.19          6.6                  140   \n",
       "1   54             0              0  27.32          6.6                   80   \n",
       "2   28             0              0  27.32          5.7                  158   \n",
       "3   36             0              0  23.45          5.0                  155   \n",
       "4   76             1              1  20.14          4.8                  155   \n",
       "\n",
       "   diabetes  gender_Female  gender_Male  gender_Other  smoking_history_never  \\\n",
       "0         0            1.0          0.0           0.0                    0.0   \n",
       "1         0            1.0          0.0           0.0                    1.0   \n",
       "2         0            0.0          1.0           0.0                    0.0   \n",
       "3         0            1.0          0.0           0.0                    0.0   \n",
       "4         0            0.0          1.0           0.0                    0.0   \n",
       "\n",
       "   smoking_history_No_Info  smoking_history_current  smoking_history_former  \\\n",
       "0                      0.0                      0.0                     0.0   \n",
       "1                      0.0                      0.0                     0.0   \n",
       "2                      0.0                      0.0                     0.0   \n",
       "3                      1.0                      0.0                     0.0   \n",
       "4                      1.0                      0.0                     0.0   \n",
       "\n",
       "   smoking_history_ever  smoking_history_not_current  \n",
       "0                   1.0                          0.0  \n",
       "1                   0.0                          0.0  \n",
       "2                   1.0                          0.0  \n",
       "3                   0.0                          0.0  \n",
       "4                   0.0                          0.0  "
      ]
     },
     "execution_count": 58,
     "metadata": {},
     "output_type": "execute_result"
    }
   ],
   "source": [
    "df.head()"
   ]
  },
  {
   "cell_type": "code",
   "execution_count": 59,
   "id": "68ad28c8",
   "metadata": {},
   "outputs": [
    {
     "name": "stdout",
     "output_type": "stream",
     "text": [
      "<class 'pandas.core.frame.DataFrame'>\n",
      "RangeIndex: 100000 entries, 0 to 99999\n",
      "Data columns (total 16 columns):\n",
      " #   Column                       Non-Null Count   Dtype  \n",
      "---  ------                       --------------   -----  \n",
      " 0   age                          100000 non-null  int64  \n",
      " 1   hypertension                 100000 non-null  int64  \n",
      " 2   heart_disease                100000 non-null  int64  \n",
      " 3   bmi                          100000 non-null  float64\n",
      " 4   HbA1c_level                  100000 non-null  float64\n",
      " 5   blood_glucose_level          100000 non-null  int64  \n",
      " 6   diabetes                     100000 non-null  int64  \n",
      " 7   gender_Female                100000 non-null  float64\n",
      " 8   gender_Male                  100000 non-null  float64\n",
      " 9   gender_Other                 100000 non-null  float64\n",
      " 10  smoking_history_never        100000 non-null  float64\n",
      " 11  smoking_history_No_Info      100000 non-null  float64\n",
      " 12  smoking_history_current      100000 non-null  float64\n",
      " 13  smoking_history_former       100000 non-null  float64\n",
      " 14  smoking_history_ever         100000 non-null  float64\n",
      " 15  smoking_history_not_current  100000 non-null  float64\n",
      "dtypes: float64(11), int64(5)\n",
      "memory usage: 12.2 MB\n"
     ]
    }
   ],
   "source": [
    "df.info()"
   ]
  },
  {
   "cell_type": "code",
   "execution_count": 60,
   "id": "ca13ce39",
   "metadata": {},
   "outputs": [
    {
     "data": {
      "text/html": [
       "<div>\n",
       "<style scoped>\n",
       "    .dataframe tbody tr th:only-of-type {\n",
       "        vertical-align: middle;\n",
       "    }\n",
       "\n",
       "    .dataframe tbody tr th {\n",
       "        vertical-align: top;\n",
       "    }\n",
       "\n",
       "    .dataframe thead th {\n",
       "        text-align: right;\n",
       "    }\n",
       "</style>\n",
       "<table border=\"1\" class=\"dataframe\">\n",
       "  <thead>\n",
       "    <tr style=\"text-align: right;\">\n",
       "      <th></th>\n",
       "      <th>age</th>\n",
       "      <th>hypertension</th>\n",
       "      <th>heart_disease</th>\n",
       "      <th>bmi</th>\n",
       "      <th>HbA1c_level</th>\n",
       "      <th>blood_glucose_level</th>\n",
       "      <th>diabetes</th>\n",
       "      <th>gender_Female</th>\n",
       "      <th>gender_Male</th>\n",
       "      <th>gender_Other</th>\n",
       "      <th>smoking_history_never</th>\n",
       "      <th>smoking_history_No_Info</th>\n",
       "      <th>smoking_history_current</th>\n",
       "      <th>smoking_history_former</th>\n",
       "      <th>smoking_history_ever</th>\n",
       "      <th>smoking_history_not_current</th>\n",
       "    </tr>\n",
       "  </thead>\n",
       "  <tbody>\n",
       "    <tr>\n",
       "      <th>count</th>\n",
       "      <td>100000.000000</td>\n",
       "      <td>100000.00000</td>\n",
       "      <td>100000.000000</td>\n",
       "      <td>100000.000000</td>\n",
       "      <td>100000.000000</td>\n",
       "      <td>100000.000000</td>\n",
       "      <td>100000.000000</td>\n",
       "      <td>100000.000000</td>\n",
       "      <td>100000.000000</td>\n",
       "      <td>100000.000000</td>\n",
       "      <td>100000.000000</td>\n",
       "      <td>100000.000000</td>\n",
       "      <td>100000.000000</td>\n",
       "      <td>100000.000000</td>\n",
       "      <td>100000.00000</td>\n",
       "      <td>100000.00000</td>\n",
       "    </tr>\n",
       "    <tr>\n",
       "      <th>mean</th>\n",
       "      <td>41.875660</td>\n",
       "      <td>0.07485</td>\n",
       "      <td>0.039420</td>\n",
       "      <td>27.320767</td>\n",
       "      <td>5.527507</td>\n",
       "      <td>138.058060</td>\n",
       "      <td>0.085000</td>\n",
       "      <td>0.585520</td>\n",
       "      <td>0.414300</td>\n",
       "      <td>0.000180</td>\n",
       "      <td>0.358160</td>\n",
       "      <td>0.092860</td>\n",
       "      <td>0.040040</td>\n",
       "      <td>0.093520</td>\n",
       "      <td>0.35095</td>\n",
       "      <td>0.06447</td>\n",
       "    </tr>\n",
       "    <tr>\n",
       "      <th>std</th>\n",
       "      <td>22.535417</td>\n",
       "      <td>0.26315</td>\n",
       "      <td>0.194593</td>\n",
       "      <td>6.636783</td>\n",
       "      <td>1.070672</td>\n",
       "      <td>40.708136</td>\n",
       "      <td>0.278883</td>\n",
       "      <td>0.492635</td>\n",
       "      <td>0.492603</td>\n",
       "      <td>0.013415</td>\n",
       "      <td>0.479462</td>\n",
       "      <td>0.290238</td>\n",
       "      <td>0.196054</td>\n",
       "      <td>0.291161</td>\n",
       "      <td>0.47727</td>\n",
       "      <td>0.24559</td>\n",
       "    </tr>\n",
       "    <tr>\n",
       "      <th>min</th>\n",
       "      <td>0.000000</td>\n",
       "      <td>0.00000</td>\n",
       "      <td>0.000000</td>\n",
       "      <td>10.010000</td>\n",
       "      <td>3.500000</td>\n",
       "      <td>80.000000</td>\n",
       "      <td>0.000000</td>\n",
       "      <td>0.000000</td>\n",
       "      <td>0.000000</td>\n",
       "      <td>0.000000</td>\n",
       "      <td>0.000000</td>\n",
       "      <td>0.000000</td>\n",
       "      <td>0.000000</td>\n",
       "      <td>0.000000</td>\n",
       "      <td>0.00000</td>\n",
       "      <td>0.00000</td>\n",
       "    </tr>\n",
       "    <tr>\n",
       "      <th>25%</th>\n",
       "      <td>24.000000</td>\n",
       "      <td>0.00000</td>\n",
       "      <td>0.000000</td>\n",
       "      <td>23.630000</td>\n",
       "      <td>4.800000</td>\n",
       "      <td>100.000000</td>\n",
       "      <td>0.000000</td>\n",
       "      <td>0.000000</td>\n",
       "      <td>0.000000</td>\n",
       "      <td>0.000000</td>\n",
       "      <td>0.000000</td>\n",
       "      <td>0.000000</td>\n",
       "      <td>0.000000</td>\n",
       "      <td>0.000000</td>\n",
       "      <td>0.00000</td>\n",
       "      <td>0.00000</td>\n",
       "    </tr>\n",
       "    <tr>\n",
       "      <th>50%</th>\n",
       "      <td>43.000000</td>\n",
       "      <td>0.00000</td>\n",
       "      <td>0.000000</td>\n",
       "      <td>27.320000</td>\n",
       "      <td>5.800000</td>\n",
       "      <td>140.000000</td>\n",
       "      <td>0.000000</td>\n",
       "      <td>1.000000</td>\n",
       "      <td>0.000000</td>\n",
       "      <td>0.000000</td>\n",
       "      <td>0.000000</td>\n",
       "      <td>0.000000</td>\n",
       "      <td>0.000000</td>\n",
       "      <td>0.000000</td>\n",
       "      <td>0.00000</td>\n",
       "      <td>0.00000</td>\n",
       "    </tr>\n",
       "    <tr>\n",
       "      <th>75%</th>\n",
       "      <td>60.000000</td>\n",
       "      <td>0.00000</td>\n",
       "      <td>0.000000</td>\n",
       "      <td>29.580000</td>\n",
       "      <td>6.200000</td>\n",
       "      <td>159.000000</td>\n",
       "      <td>0.000000</td>\n",
       "      <td>1.000000</td>\n",
       "      <td>1.000000</td>\n",
       "      <td>0.000000</td>\n",
       "      <td>1.000000</td>\n",
       "      <td>0.000000</td>\n",
       "      <td>0.000000</td>\n",
       "      <td>0.000000</td>\n",
       "      <td>1.00000</td>\n",
       "      <td>0.00000</td>\n",
       "    </tr>\n",
       "    <tr>\n",
       "      <th>max</th>\n",
       "      <td>80.000000</td>\n",
       "      <td>1.00000</td>\n",
       "      <td>1.000000</td>\n",
       "      <td>95.690000</td>\n",
       "      <td>9.000000</td>\n",
       "      <td>300.000000</td>\n",
       "      <td>1.000000</td>\n",
       "      <td>1.000000</td>\n",
       "      <td>1.000000</td>\n",
       "      <td>1.000000</td>\n",
       "      <td>1.000000</td>\n",
       "      <td>1.000000</td>\n",
       "      <td>1.000000</td>\n",
       "      <td>1.000000</td>\n",
       "      <td>1.00000</td>\n",
       "      <td>1.00000</td>\n",
       "    </tr>\n",
       "  </tbody>\n",
       "</table>\n",
       "</div>"
      ],
      "text/plain": [
       "                 age  hypertension  heart_disease            bmi  \\\n",
       "count  100000.000000  100000.00000  100000.000000  100000.000000   \n",
       "mean       41.875660       0.07485       0.039420      27.320767   \n",
       "std        22.535417       0.26315       0.194593       6.636783   \n",
       "min         0.000000       0.00000       0.000000      10.010000   \n",
       "25%        24.000000       0.00000       0.000000      23.630000   \n",
       "50%        43.000000       0.00000       0.000000      27.320000   \n",
       "75%        60.000000       0.00000       0.000000      29.580000   \n",
       "max        80.000000       1.00000       1.000000      95.690000   \n",
       "\n",
       "         HbA1c_level  blood_glucose_level       diabetes  gender_Female  \\\n",
       "count  100000.000000        100000.000000  100000.000000  100000.000000   \n",
       "mean        5.527507           138.058060       0.085000       0.585520   \n",
       "std         1.070672            40.708136       0.278883       0.492635   \n",
       "min         3.500000            80.000000       0.000000       0.000000   \n",
       "25%         4.800000           100.000000       0.000000       0.000000   \n",
       "50%         5.800000           140.000000       0.000000       1.000000   \n",
       "75%         6.200000           159.000000       0.000000       1.000000   \n",
       "max         9.000000           300.000000       1.000000       1.000000   \n",
       "\n",
       "         gender_Male   gender_Other  smoking_history_never  \\\n",
       "count  100000.000000  100000.000000          100000.000000   \n",
       "mean        0.414300       0.000180               0.358160   \n",
       "std         0.492603       0.013415               0.479462   \n",
       "min         0.000000       0.000000               0.000000   \n",
       "25%         0.000000       0.000000               0.000000   \n",
       "50%         0.000000       0.000000               0.000000   \n",
       "75%         1.000000       0.000000               1.000000   \n",
       "max         1.000000       1.000000               1.000000   \n",
       "\n",
       "       smoking_history_No_Info  smoking_history_current  \\\n",
       "count            100000.000000            100000.000000   \n",
       "mean                  0.092860                 0.040040   \n",
       "std                   0.290238                 0.196054   \n",
       "min                   0.000000                 0.000000   \n",
       "25%                   0.000000                 0.000000   \n",
       "50%                   0.000000                 0.000000   \n",
       "75%                   0.000000                 0.000000   \n",
       "max                   1.000000                 1.000000   \n",
       "\n",
       "       smoking_history_former  smoking_history_ever  \\\n",
       "count           100000.000000          100000.00000   \n",
       "mean                 0.093520               0.35095   \n",
       "std                  0.291161               0.47727   \n",
       "min                  0.000000               0.00000   \n",
       "25%                  0.000000               0.00000   \n",
       "50%                  0.000000               0.00000   \n",
       "75%                  0.000000               1.00000   \n",
       "max                  1.000000               1.00000   \n",
       "\n",
       "       smoking_history_not_current  \n",
       "count                 100000.00000  \n",
       "mean                       0.06447  \n",
       "std                        0.24559  \n",
       "min                        0.00000  \n",
       "25%                        0.00000  \n",
       "50%                        0.00000  \n",
       "75%                        0.00000  \n",
       "max                        1.00000  "
      ]
     },
     "execution_count": 60,
     "metadata": {},
     "output_type": "execute_result"
    }
   ],
   "source": [
    "df.describe()"
   ]
  },
  {
   "cell_type": "markdown",
   "id": "5f0ce201",
   "metadata": {},
   "source": [
    "### Defining Model Variables and Target"
   ]
  },
  {
   "cell_type": "code",
   "execution_count": 61,
   "id": "e103dda9",
   "metadata": {},
   "outputs": [
    {
     "data": {
      "text/plain": [
       "(100000, 15)"
      ]
     },
     "execution_count": 61,
     "metadata": {},
     "output_type": "execute_result"
    }
   ],
   "source": [
    "X = df.drop('diabetes', axis=1)\n",
    "X.shape"
   ]
  },
  {
   "cell_type": "code",
   "execution_count": 62,
   "id": "3b281989",
   "metadata": {},
   "outputs": [
    {
     "data": {
      "text/plain": [
       "(100000,)"
      ]
     },
     "execution_count": 62,
     "metadata": {},
     "output_type": "execute_result"
    }
   ],
   "source": [
    "y = df['diabetes']\n",
    "y.shape"
   ]
  },
  {
   "cell_type": "markdown",
   "id": "ad13620d",
   "metadata": {},
   "source": [
    "## Data Splitting for Model Building\n",
    "\n",
    "### Method 1 - Train, Dev, Test\n",
    "\n",
    "For the first method of our data splitting, the dataset contains 100,000 samples of data. The splitting would be done in the ratio 90:5:5, which implies 90000 data point for training, 5000 data points for dev set and test sets respectively\n",
    "\n",
    "This is because 5% (5,000) samples is enough for each of our development and test sets.\n",
    "\n",
    "NB: Both dev set and test sets are referred to as validation dataset in our code."
   ]
  },
  {
   "cell_type": "code",
   "execution_count": 63,
   "id": "e3bc1da3",
   "metadata": {},
   "outputs": [],
   "source": [
    "from sklearn.model_selection import train_test_split"
   ]
  },
  {
   "cell_type": "markdown",
   "id": "d1d47100",
   "metadata": {},
   "source": [
    "#### Training set"
   ]
  },
  {
   "cell_type": "code",
   "execution_count": 64,
   "id": "ce9889a9",
   "metadata": {},
   "outputs": [
    {
     "name": "stdout",
     "output_type": "stream",
     "text": [
      "(90000, 15)\n",
      "(90000,)\n",
      "(10000, 15)\n",
      "(10000,)\n"
     ]
    }
   ],
   "source": [
    "# 90,000 data points for training of dataset\n",
    "X_train, X_val, y_train, y_val = train_test_split(X, y, test_size=0.1, random_state=123)\n",
    "print(X_train.shape)\n",
    "print(y_train.shape)\n",
    "print(X_val.shape)\n",
    "print(y_val.shape)"
   ]
  },
  {
   "cell_type": "markdown",
   "id": "aab9adf9",
   "metadata": {},
   "source": [
    "##### Validation Set - Dev and Test set\n",
    "We are going to use about 10,000 data points for our validation test set. The `X_dev` and `y_dev` is the training dataset in the validation cycle, while the `X_test` and `y_test` are the test dataset in the validation cycle."
   ]
  },
  {
   "cell_type": "code",
   "execution_count": 65,
   "id": "a52244a2",
   "metadata": {},
   "outputs": [],
   "source": [
    "X_dev, X_test, y_dev, y_test = train_test_split(X_val, y_val, test_size=0.5, random_state=123)"
   ]
  },
  {
   "cell_type": "code",
   "execution_count": 66,
   "id": "31df607b",
   "metadata": {},
   "outputs": [
    {
     "name": "stdout",
     "output_type": "stream",
     "text": [
      "Shape of X_train (90000, 15)    Shape of y_train (90000,)\n",
      "Shape of X_dev (5000, 15)       Shape of y_dev (5000,)\n",
      "Shape of X_test (5000, 15)      Shape of y_test (5000,)\n"
     ]
    }
   ],
   "source": [
    "print(f'Shape of X_train {X_train.shape}    Shape of y_train {y_train.shape}')\n",
    "print(f'Shape of X_dev {X_dev.shape}       Shape of y_dev {y_dev.shape}')\n",
    "print(f'Shape of X_test {X_test.shape}      Shape of y_test {y_test.shape}')"
   ]
  },
  {
   "cell_type": "markdown",
   "id": "050753ac",
   "metadata": {},
   "source": [
    "##### Treating imbalance in the Target Variable"
   ]
  },
  {
   "cell_type": "code",
   "execution_count": 67,
   "id": "f763209e",
   "metadata": {},
   "outputs": [
    {
     "data": {
      "image/png": "[encoded data removed]",
      "text/plain": [
       "<Figure size 640x480 with 1 Axes>"
      ]
     },
     "metadata": {},
     "output_type": "display_data"
    }
   ],
   "source": [
    "sns.barplot(y_train.value_counts());"
   ]
  },
  {
   "cell_type": "markdown",
   "id": "7c94d102",
   "metadata": {},
   "source": [
    "The target variable is highly imbalanced. Therefore, we first treat this imbalance before continuing with logistic regression model"
   ]
  },
  {
   "cell_type": "code",
   "execution_count": 68,
   "id": "570b4219",
   "metadata": {},
   "outputs": [],
   "source": [
    "# pip install imblearn"
   ]
  },
  {
   "cell_type": "code",
   "execution_count": 69,
   "id": "bdd9ff97",
   "metadata": {},
   "outputs": [],
   "source": [
    "from imblearn.over_sampling import SMOTE"
   ]
  },
  {
   "cell_type": "code",
   "execution_count": 70,
   "id": "b27ec62d",
   "metadata": {},
   "outputs": [],
   "source": [
    "smt = SMOTE(sampling_strategy='minority', random_state=123)"
   ]
  },
  {
   "cell_type": "code",
   "execution_count": 71,
   "id": "1fcf51d3",
   "metadata": {},
   "outputs": [],
   "source": [
    "X_res, y_res = smt.fit_resample(X_train,y_train)"
   ]
  },
  {
   "cell_type": "code",
   "execution_count": 72,
   "id": "324b20de",
   "metadata": {},
   "outputs": [
    {
     "data": {
      "image/png": "[encoded data removed]",
      "text/plain": [
       "<Figure size 640x480 with 1 Axes>"
      ]
     },
     "metadata": {},
     "output_type": "display_data"
    }
   ],
   "source": [
    "sns.barplot(y_res.value_counts());"
   ]
  },
  {
   "cell_type": "markdown",
   "id": "ad2a38f8",
   "metadata": {},
   "source": [
    "##### Model Building"
   ]
  },
  {
   "cell_type": "code",
   "execution_count": 73,
   "id": "fb04dbda",
   "metadata": {},
   "outputs": [],
   "source": [
    "from sklearn.linear_model import LogisticRegression\n",
    "from sklearn.preprocessing import StandardScaler\n",
    "# Normalizing train features for training model.\n",
    "scaler = StandardScaler().fit(X_res)\n",
    "X_train_scaled = scaler.transform(X_res)\n",
    "\n",
    "model = LogisticRegression(C=0.0001, max_iter=1000, tol=1e-20).fit(X_train_scaled, y_res)"
   ]
  },
  {
   "cell_type": "code",
   "execution_count": 74,
   "id": "ab11b130",
   "metadata": {},
   "outputs": [],
   "source": [
    "#LogisticRegression?"
   ]
  },
  {
   "cell_type": "markdown",
   "id": "8d96d98b",
   "metadata": {},
   "source": [
    "##### Model Evaluation\n",
    "\n",
    "We are going to carry out predictions on  our dev sets and also use our train set to verify if our model is overfitting or not. Then we would use the test evaluate our modeling finally on an entirely unseen data."
   ]
  },
  {
   "cell_type": "code",
   "execution_count": 75,
   "id": "da9903ea",
   "metadata": {},
   "outputs": [
    {
     "data": {
      "text/plain": [
       "0.8926"
      ]
     },
     "execution_count": 75,
     "metadata": {},
     "output_type": "execute_result"
    }
   ],
   "source": [
    "from sklearn.metrics import accuracy_score, f1_score\n",
    "\n",
    "y_pred = model.predict(scaler.transform(X_dev))\n",
    "accuracy_score(y_dev,y_pred)"
   ]
  },
  {
   "cell_type": "code",
   "execution_count": 76,
   "id": "e8b8ff02",
   "metadata": {},
   "outputs": [
    {
     "data": {
      "text/plain": [
       "0.592255125284738"
      ]
     },
     "execution_count": 76,
     "metadata": {},
     "output_type": "execute_result"
    }
   ],
   "source": [
    "f1_score(y_dev,y_pred)"
   ]
  },
  {
   "cell_type": "code",
   "execution_count": 77,
   "id": "1fff377a",
   "metadata": {},
   "outputs": [
    {
     "data": {
      "text/plain": [
       "0.8879601301476302"
      ]
     },
     "execution_count": 77,
     "metadata": {},
     "output_type": "execute_result"
    }
   ],
   "source": [
    "# Checking our train dataset --> Overfitting\n",
    "y_train_pred = model.predict(X_train_scaled)\n",
    "accuracy_score(y_res,y_train_pred)"
   ]
  },
  {
   "cell_type": "code",
   "execution_count": 78,
   "id": "c5af7053",
   "metadata": {},
   "outputs": [
    {
     "data": {
      "text/plain": [
       "0.8886341283872252"
      ]
     },
     "execution_count": 78,
     "metadata": {},
     "output_type": "execute_result"
    }
   ],
   "source": [
    "f1_score(y_res,y_train_pred)"
   ]
  },
  {
   "cell_type": "code",
   "execution_count": 79,
   "id": "b79652e5",
   "metadata": {},
   "outputs": [
    {
     "data": {
      "text/plain": [
       "0.8774"
      ]
     },
     "execution_count": 79,
     "metadata": {},
     "output_type": "execute_result"
    }
   ],
   "source": [
    "# Finally trying on test dataset\n",
    "\n",
    "y_test_pred = model.predict(scaler.transform(X_test))\n",
    "accuracy_score(y_test, y_test_pred)\n"
   ]
  },
  {
   "cell_type": "code",
   "execution_count": 80,
   "id": "c6cc967a",
   "metadata": {},
   "outputs": [
    {
     "data": {
      "text/plain": [
       "0.5476014760147602"
      ]
     },
     "execution_count": 80,
     "metadata": {},
     "output_type": "execute_result"
    }
   ],
   "source": [
    "f1_score(y_test,y_test_pred)"
   ]
  },
  {
   "cell_type": "markdown",
   "id": "14c5547f",
   "metadata": {},
   "source": [
    "#### Confusion Matrix for Method 1"
   ]
  },
  {
   "cell_type": "code",
   "execution_count": 81,
   "id": "0191d51b",
   "metadata": {},
   "outputs": [
    {
     "name": "stderr",
     "output_type": "stream",
     "text": [
      "findfont: Font family 'Century Gothic' not found.\n",
      "findfont: Font family 'Century Gothic' not found.\n",
      "findfont: Font family 'Century Gothic' not found.\n",
      "findfont: Font family 'Century Gothic' not found.\n",
      "findfont: Font family 'Century Gothic' not found.\n",
      "findfont: Font family 'Century Gothic' not found.\n",
      "findfont: Font family 'Century Gothic' not found.\n",
      "findfont: Font family 'Century Gothic' not found.\n",
      "findfont: Font family 'Century Gothic' not found.\n",
      "findfont: Font family 'Century Gothic' not found.\n",
      "findfont: Font family 'Century Gothic' not found.\n",
      "findfont: Font family 'Century Gothic' not found.\n",
      "findfont: Font family 'Century Gothic' not found.\n",
      "findfont: Font family 'Century Gothic' not found.\n",
      "findfont: Font family 'Century Gothic' not found.\n",
      "findfont: Font family 'Century Gothic' not found.\n"
     ]
    },
    {
     "data": {
      "image/png": "[encoded data removed]",
      "text/plain": [
       "<Figure size 700x500 with 1 Axes>"
      ]
     },
     "metadata": {},
     "output_type": "display_data"
    }
   ],
   "source": [
    "color  = ['#3355FF','#00FF00','#0D004D','#00bfff','#ffcc99','#006600']\n",
    "# sns.countplot(x='Purchased', data = insurance, palette = color[2:4]);\n",
    "\n",
    "\n",
    "def ConfusionMatrix(ytest, ypred, label: [str, str] = [\"Negative\", \"Positive\"]):\n",
    "    \"A beautiful confusion matrix function to check the model performance\"\n",
    "    from sklearn.metrics import confusion_matrix\n",
    "    import seaborn as sns\n",
    "    cm = confusion_matrix(ytest, ypred)\n",
    "    plt.figure(figsize=(7,5))\n",
    "    sns.heatmap(cm, annot = True, cbar = False, fmt = 'd', cmap = 'Blues_r')\n",
    "    plt.xlabel('Predicted',font = 'Century Gothic', fontsize = 13)\n",
    "    plt.ylabel('Actual', font = 'Century Gothic', fontsize = 13)\n",
    "    plt.xticks([0.5, 1.5], label)\n",
    "    plt.yticks([0.5, 1.5], label)\n",
    "    plt.title('Confusion matrix for Dabiates Prediction', font = \"Century Gothic\", fontsize = 15,fontweight = 'bold');\n",
    "\n",
    "\n",
    "ConfusionMatrix(y_test, y_test_pred, label = [\"Normal\", \"Diabetic\"])"
   ]
  },
  {
   "cell_type": "markdown",
   "id": "12c5f897",
   "metadata": {},
   "source": [
    "### Method 2 - Cross Validation"
   ]
  },
  {
   "cell_type": "markdown",
   "id": "632440cd",
   "metadata": {},
   "source": [
    "We have a total of 10,000 datasets, we would carry out cross validation to make sure we immerse the whole of our dataset into model training and test. For this we would have a kfold of 5."
   ]
  },
  {
   "cell_type": "code",
   "execution_count": 82,
   "id": "27ee24cb",
   "metadata": {},
   "outputs": [],
   "source": [
    "from sklearn.model_selection import train_test_split\n",
    "X_train_val, X_test, y_train_val, y_test = train_test_split(X, y, test_size=0.2, random_state=123)"
   ]
  },
  {
   "cell_type": "markdown",
   "id": "09899f46",
   "metadata": {},
   "source": [
    "#### Cross Validation using F1 score as evaluation metrics"
   ]
  },
  {
   "cell_type": "code",
   "execution_count": 83,
   "id": "1c94e307",
   "metadata": {},
   "outputs": [
    {
     "name": "stdout",
     "output_type": "stream",
     "text": [
      "Cross-Validation Results: [0.8914637  0.89167486 0.89155321 0.8884886  0.89021415]\n",
      "Mean F1 score: 0.89\n",
      "Standard deviation of F1 score: 0.00\n"
     ]
    }
   ],
   "source": [
    "from sklearn.model_selection import cross_val_score, StratifiedKFold\n",
    "from imblearn.over_sampling import SMOTE\n",
    "from sklearn.linear_model import LogisticRegression\n",
    "from sklearn.preprocessing import StandardScaler\n",
    "from sklearn.metrics import make_scorer, f1_score\n",
    "\n",
    "smt = SMOTE(sampling_strategy='minority',random_state=123)\n",
    "X_res,y_res = smt.fit_resample(X_train_val,y_train_val)\n",
    "\n",
    "model = LogisticRegression(C=0.0001, max_iter=1000, tol=1e-20)\n",
    "\n",
    "kf = StratifiedKFold(n_splits=5, shuffle=True, random_state=123)\n",
    "scaler = StandardScaler().fit(X_res)\n",
    "X_train_val_scaled = scaler.transform(X_res)\n",
    "\n",
    "\n",
    "f1_scorer = make_scorer(f1_score, average=\"binary\")\n",
    "cross_val_result_arr = cross_val_score(model, X_train_val_scaled, y_res, cv=kf, scoring=f1_scorer)\n",
    "\n",
    "# Printing the results\n",
    "print(\"Cross-Validation Results:\", cross_val_result_arr)\n",
    "print(f\"Mean F1 score: {cross_val_result_arr.mean():.2f}\")\n",
    "print(f\"Standard deviation of F1 score: {cross_val_result_arr.std():.2f}\")"
   ]
  },
  {
   "cell_type": "code",
   "execution_count": 84,
   "id": "f7266458",
   "metadata": {},
   "outputs": [
    {
     "name": "stdout",
     "output_type": "stream",
     "text": [
      "F1 Score on Test Set: 0.5660096690219413\n"
     ]
    }
   ],
   "source": [
    "## Using on test dataset\n",
    "model = LogisticRegression(C=0.0001, max_iter=1000, tol=1e-20)\n",
    "\n",
    "model.fit(X_train_val_scaled, y_res)\n",
    "\n",
    "y_pred = model.predict(scaler.transform(X_test))\n",
    "\n",
    "f1_test_score = f1_score(y_test, y_pred, average='binary')\n",
    "\n",
    "print(\"F1 Score on Test Set:\", f1_test_score)"
   ]
  },
  {
   "cell_type": "markdown",
   "id": "451a3d71",
   "metadata": {},
   "source": [
    "### Confusion Matrix"
   ]
  },
  {
   "cell_type": "code",
   "execution_count": 85,
   "id": "fe147a4b",
   "metadata": {},
   "outputs": [
    {
     "name": "stderr",
     "output_type": "stream",
     "text": [
      "findfont: Font family 'Century Gothic' not found.\n",
      "findfont: Font family 'Century Gothic' not found.\n",
      "findfont: Font family 'Century Gothic' not found.\n",
      "findfont: Font family 'Century Gothic' not found.\n",
      "findfont: Font family 'Century Gothic' not found.\n",
      "findfont: Font family 'Century Gothic' not found.\n",
      "findfont: Font family 'Century Gothic' not found.\n",
      "findfont: Font family 'Century Gothic' not found.\n",
      "findfont: Font family 'Century Gothic' not found.\n",
      "findfont: Font family 'Century Gothic' not found.\n",
      "findfont: Font family 'Century Gothic' not found.\n",
      "findfont: Font family 'Century Gothic' not found.\n",
      "findfont: Font family 'Century Gothic' not found.\n",
      "findfont: Font family 'Century Gothic' not found.\n",
      "findfont: Font family 'Century Gothic' not found.\n",
      "findfont: Font family 'Century Gothic' not found.\n"
     ]
    },
    {
     "data": {
      "image/png": "[encoded data removed]",
      "text/plain": [
       "<Figure size 700x500 with 1 Axes>"
      ]
     },
     "metadata": {},
     "output_type": "display_data"
    }
   ],
   "source": [
    "color  = ['#3355FF','#00FF00','#0D004D','#00bfff','#ffcc99','#006600']\n",
    "# sns.countplot(x='Purchased', data = insurance, palette = color[2:4]);\n",
    "\n",
    "\n",
    "def ConfusionMatrix(ytest, ypred, label: [str, str] = [\"Negative\", \"Positive\"]):\n",
    "    \"A beautiful confusion matrix function to check the model performance\"\n",
    "    from sklearn.metrics import confusion_matrix\n",
    "    import seaborn as sns\n",
    "    cm = confusion_matrix(ytest, ypred)\n",
    "    plt.figure(figsize=(7,5))\n",
    "    sns.heatmap(cm, annot = True, cbar = False, fmt = 'd', cmap = 'Blues_r')\n",
    "    plt.xlabel('Predicted',font = 'Century Gothic', fontsize = 13)\n",
    "    plt.ylabel('Actual', font = 'Century Gothic', fontsize = 13)\n",
    "    plt.xticks([0.5, 1.5], label)\n",
    "    plt.yticks([0.5, 1.5], label)\n",
    "    plt.title('Confusion matrix for Dabiates Prediction', font = \"Century Gothic\", fontsize = 17,fontweight = 'bold');\n",
    "\n",
    "\n",
    "ConfusionMatrix(y_test, y_pred, label = [\"Normal\", \"Diabetic\"])"
   ]
  },
  {
   "cell_type": "markdown",
   "id": "b2f58b70",
   "metadata": {},
   "source": [
    "### Interpretation of the Logistic Regression Model Evaluation Performance\n",
    "There are `18082` True Positives (TP):predicting that patients are  not diabetic and truly the patients are not diabetic.\n",
    "\n",
    "There `669` False Positives(TP):predicting that the patients are not diabetic meanwhile the patients are diabetic.\n",
    "\n",
    "There are `1080` True Negative(TN): predicting that the patients are diabetic and they actually diabetic.\n",
    "\n",
    "There are also `669` False Negative(FN): predicting that the patients are diabetic meanwhile they are actually not diabetic.\n",
    "\n",
    "Based on the confusion matrix, we can see that although performed very well in predicting the positive and negative cases, it can still be better."
   ]
  },
  {
   "cell_type": "markdown",
   "id": "6f362342",
   "metadata": {},
   "source": [
    "### Polynomial Engineering for Model Complexity."
   ]
  },
  {
   "cell_type": "code",
   "execution_count": 86,
   "id": "d187e677",
   "metadata": {},
   "outputs": [],
   "source": [
    "from sklearn.pipeline import make_pipeline\n",
    "from sklearn.model_selection import validation_curve\n",
    "from sklearn.preprocessing import PolynomialFeatures"
   ]
  },
  {
   "cell_type": "code",
   "execution_count": 87,
   "id": "d235c48b",
   "metadata": {},
   "outputs": [],
   "source": [
    "def PolynomialRegression(degree, **kwargs):\n",
    "    return make_pipeline(PolynomialFeatures(degree),\n",
    "                         LogisticRegression(**kwargs))"
   ]
  },
  {
   "cell_type": "code",
   "execution_count": 88,
   "id": "4139e95f",
   "metadata": {},
   "outputs": [],
   "source": [
    "X_train_dev = pd.concat([X_res,X_dev])"
   ]
  },
  {
   "cell_type": "code",
   "execution_count": 89,
   "id": "3d92aa61",
   "metadata": {},
   "outputs": [],
   "source": [
    "y_train_dev = pd.concat([y_res,y_dev])"
   ]
  },
  {
   "cell_type": "code",
   "execution_count": 90,
   "id": "f3636970",
   "metadata": {},
   "outputs": [],
   "source": [
    "X_train_dev_scaled = StandardScaler().fit_transform(X_train_dev)"
   ]
  },
  {
   "cell_type": "code",
   "execution_count": 91,
   "id": "089d4330",
   "metadata": {},
   "outputs": [],
   "source": [
    "degree = np.arange(1,6)"
   ]
  },
  {
   "cell_type": "code",
   "execution_count": 92,
   "id": "d182ae75",
   "metadata": {},
   "outputs": [],
   "source": [
    "train_score, val_score = validation_curve(PolynomialRegression(degree, max_iter=100000),\n",
    "                                          X_train_dev_scaled,y_train_dev,\n",
    "                                          param_name='polynomialfeatures__degree',\n",
    "                                          param_range=degree,cv=5)"
   ]
  },
  {
   "cell_type": "code",
   "execution_count": null,
   "id": "4ad2cdce",
   "metadata": {
    "scrolled": false
   },
   "outputs": [],
   "source": [
    "plt.plot(degree,np.median(train_score,1),'b',label='training score')\n",
    "plt.plot(degree,np.median(val_score,1),'r',label='validation score')\n",
    "plt.xlabel('Degree')\n",
    "plt.ylabel('Score')\n",
    "plt.legend();"
   ]
  },
  {
   "cell_type": "markdown",
   "id": "9e65edd2",
   "metadata": {},
   "source": [
    "The plot above shows that our model can still improve up to around 97% using 3rd order polynomial feature genration.\n",
    "\n",
    "They is posibility to achieve more than this. The model was built only up to the 3rd degree polynomial because of the long time needed for higher orders"
   ]
  }
 ],
 "metadata": {
  "kernelspec": {
   "display_name": "Python 3 (ipykernel)",
   "language": "python",
   "name": "python3"
  },
  "language_info": {
   "codemirror_mode": {
    "name": "ipython",
    "version": 3
   },
   "file_extension": ".py",
   "mimetype": "text/x-python",
   "name": "python",
   "nbconvert_exporter": "python",
   "pygments_lexer": "ipython3",
   "version": "3.10.6"
  }
 },
 "nbformat": 4,
 "nbformat_minor": 5
}
