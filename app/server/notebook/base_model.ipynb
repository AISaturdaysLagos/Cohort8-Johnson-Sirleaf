{
 "cells": [
  {
   "cell_type": "markdown",
   "id": "67bb34cf",
   "metadata": {},
   "source": [
    "<h1 align=center><font size = 5>AI SATURDAY LAGOS COHORT 8</font></h1>   \n",
    "\n",
    "<h1 align=center><font size = 5>TEAM JOHNSON-SIRLEAF </font></h1>  \n",
    "<h2 align=center><font size = 6>MACHINE LEARNING APPROACH TO\n",
    "PREDICTING DIABETES RISKS</font></h2>\n",
    "\n",
    "<h5 align=center><font size = 2>Data Source: <a href=\"https://www.kaggle.com/datasets/iammustafatz/diabetes-prediction-dataset\" target=\"_blank\">Kaggle.<a/></font></h5>"
   ]
  },
  {
   "cell_type": "markdown",
   "id": "e327f8e1",
   "metadata": {},
   "source": [
    "## DATA PREPARATION"
   ]
  },
  {
   "cell_type": "code",
   "execution_count": 1,
   "id": "55283733",
   "metadata": {},
   "outputs": [],
   "source": [
    "# import libraries\n",
    "\n",
    "import numpy as np                      # for mahematical operations\n",
    "import pandas as pd                     # for data manipulation and cleaning\n",
    "import seaborn as sns                   # for data visulization\n",
    "import matplotlib as mpl\n",
    "import plotly.express as px             # for data visulization\n",
    "import matplotlib.pyplot as plt         # for data visulization\n",
    "\n",
    "from sklearn.preprocessing import OneHotEncoder, LabelEncoder"
   ]
  },
  {
   "cell_type": "markdown",
   "id": "cb607e84",
   "metadata": {},
   "source": [
    "### Data Loading"
   ]
  },
  {
   "cell_type": "code",
   "execution_count": 2,
   "id": "4f763e69",
   "metadata": {},
   "outputs": [],
   "source": [
    "# Read in dataset\n",
    "df = pd.read_csv('../data/diabetes_prediction_dataset.csv')"
   ]
  },
  {
   "cell_type": "code",
   "execution_count": 3,
   "id": "9c78de62",
   "metadata": {},
   "outputs": [
    {
     "data": {
      "text/html": [
       "<div>\n",
       "<style scoped>\n",
       "    .dataframe tbody tr th:only-of-type {\n",
       "        vertical-align: middle;\n",
       "    }\n",
       "\n",
       "    .dataframe tbody tr th {\n",
       "        vertical-align: top;\n",
       "    }\n",
       "\n",
       "    .dataframe thead th {\n",
       "        text-align: right;\n",
       "    }\n",
       "</style>\n",
       "<table border=\"1\" class=\"dataframe\">\n",
       "  <thead>\n",
       "    <tr style=\"text-align: right;\">\n",
       "      <th></th>\n",
       "      <th>gender</th>\n",
       "      <th>age</th>\n",
       "      <th>hypertension</th>\n",
       "      <th>heart_disease</th>\n",
       "      <th>smoking_history</th>\n",
       "      <th>bmi</th>\n",
       "      <th>HbA1c_level</th>\n",
       "      <th>blood_glucose_level</th>\n",
       "      <th>diabetes</th>\n",
       "    </tr>\n",
       "  </thead>\n",
       "  <tbody>\n",
       "    <tr>\n",
       "      <th>0</th>\n",
       "      <td>Female</td>\n",
       "      <td>80.0</td>\n",
       "      <td>0</td>\n",
       "      <td>1</td>\n",
       "      <td>never</td>\n",
       "      <td>25.19</td>\n",
       "      <td>6.6</td>\n",
       "      <td>140</td>\n",
       "      <td>0</td>\n",
       "    </tr>\n",
       "    <tr>\n",
       "      <th>1</th>\n",
       "      <td>Female</td>\n",
       "      <td>54.0</td>\n",
       "      <td>0</td>\n",
       "      <td>0</td>\n",
       "      <td>No Info</td>\n",
       "      <td>27.32</td>\n",
       "      <td>6.6</td>\n",
       "      <td>80</td>\n",
       "      <td>0</td>\n",
       "    </tr>\n",
       "    <tr>\n",
       "      <th>2</th>\n",
       "      <td>Male</td>\n",
       "      <td>28.0</td>\n",
       "      <td>0</td>\n",
       "      <td>0</td>\n",
       "      <td>never</td>\n",
       "      <td>27.32</td>\n",
       "      <td>5.7</td>\n",
       "      <td>158</td>\n",
       "      <td>0</td>\n",
       "    </tr>\n",
       "  </tbody>\n",
       "</table>\n",
       "</div>"
      ],
      "text/plain": [
       "   gender   age  hypertension  heart_disease smoking_history    bmi  \\\n",
       "0  Female  80.0             0              1           never  25.19   \n",
       "1  Female  54.0             0              0         No Info  27.32   \n",
       "2    Male  28.0             0              0           never  27.32   \n",
       "\n",
       "   HbA1c_level  blood_glucose_level  diabetes  \n",
       "0          6.6                  140         0  \n",
       "1          6.6                   80         0  \n",
       "2          5.7                  158         0  "
      ]
     },
     "execution_count": 3,
     "metadata": {},
     "output_type": "execute_result"
    }
   ],
   "source": [
    "df.head(3)"
   ]
  },
  {
   "cell_type": "code",
   "execution_count": 4,
   "id": "3544af40",
   "metadata": {},
   "outputs": [
    {
     "name": "stdout",
     "output_type": "stream",
     "text": [
      "The number of data points for non diabetic patients is (91500, 9)\n",
      "The number of data points for diabetic patients is (8500, 9)\n"
     ]
    }
   ],
   "source": [
    "# Proof of Imbalanced Dataset\n",
    "Data_diabetic = df[df[\"diabetes\"] == 1]\n",
    "Data_not_diabetic = df[df[\"diabetes\"] == 0]\n",
    "print(f\"The number of data points for non diabetic patients is {Data_not_diabetic.shape}\")\n",
    "print(f\"The number of data points for diabetic patients is {Data_diabetic.shape}\")"
   ]
  },
  {
   "cell_type": "markdown",
   "id": "0d4efe94",
   "metadata": {},
   "source": [
    "### Data Dictionary"
   ]
  },
  {
   "cell_type": "markdown",
   "id": "ce0cfd19",
   "metadata": {},
   "source": [
    "| variable       | class     | description                                                                  |\n",
    "|:---------------|:----------|:-----------------------------------------------------------------------------|\n",
    "| Gender               | character | Biological sex of the individual  |\n",
    "| Age                  | numeric   | Age of the individual  |\n",
    "| Hypertension         | numeric   | 0 = No Hypertension / 1 = Has Hypertension|\n",
    "| Heart_disease        | numeric   | 0 = No Heart disease / 1 = Has Heart disease|\n",
    "| Smoking_history      | character | 5 categories i.e not current,former,No Info,current,never and ever |\n",
    "| bmi                  | numeric   | Body Mass Index, a measure of body fat based on weight and height|\n",
    "| HbA1c_level          | numeric   | Hemoglobin A1c, a measure of a person's average blood sugar level over the past 2-3 months|\n",
    "| Blood_glucose_level  | numeric | Amount of glucose in the bloodstream at a given time|\n",
    "| Diabetes             | numeric | 0 indicates absence of diabetes, 1 indicates presence of Diabetes|"
   ]
  },
  {
   "cell_type": "code",
   "execution_count": 5,
   "id": "24ce4465",
   "metadata": {},
   "outputs": [
    {
     "data": {
      "text/plain": [
       "gender                  object\n",
       "age                    float64\n",
       "hypertension             int64\n",
       "heart_disease            int64\n",
       "smoking_history         object\n",
       "bmi                    float64\n",
       "HbA1c_level            float64\n",
       "blood_glucose_level      int64\n",
       "diabetes                 int64\n",
       "dtype: object"
      ]
     },
     "execution_count": 5,
     "metadata": {},
     "output_type": "execute_result"
    }
   ],
   "source": [
    "# check the data types of each features\n",
    "df.dtypes"
   ]
  },
  {
   "cell_type": "code",
   "execution_count": 6,
   "id": "c1236ef8",
   "metadata": {},
   "outputs": [
    {
     "data": {
      "text/plain": [
       "(100000, 9)"
      ]
     },
     "execution_count": 6,
     "metadata": {},
     "output_type": "execute_result"
    }
   ],
   "source": [
    "# check the shape of the data\n",
    "df.shape"
   ]
  },
  {
   "cell_type": "code",
   "execution_count": 7,
   "id": "e8022d6d",
   "metadata": {},
   "outputs": [
    {
     "data": {
      "text/plain": [
       "gender                 0\n",
       "age                    0\n",
       "hypertension           0\n",
       "heart_disease          0\n",
       "smoking_history        0\n",
       "bmi                    0\n",
       "HbA1c_level            0\n",
       "blood_glucose_level    0\n",
       "diabetes               0\n",
       "dtype: int64"
      ]
     },
     "execution_count": 7,
     "metadata": {},
     "output_type": "execute_result"
    }
   ],
   "source": [
    "df.isnull().sum()"
   ]
  },
  {
   "cell_type": "code",
   "execution_count": 8,
   "id": "756f66ee",
   "metadata": {},
   "outputs": [
    {
     "name": "stdout",
     "output_type": "stream",
     "text": [
      "<class 'pandas.core.frame.DataFrame'>\n",
      "RangeIndex: 100000 entries, 0 to 99999\n",
      "Data columns (total 9 columns):\n",
      " #   Column               Non-Null Count   Dtype  \n",
      "---  ------               --------------   -----  \n",
      " 0   gender               100000 non-null  object \n",
      " 1   age                  100000 non-null  float64\n",
      " 2   hypertension         100000 non-null  int64  \n",
      " 3   heart_disease        100000 non-null  int64  \n",
      " 4   smoking_history      100000 non-null  object \n",
      " 5   bmi                  100000 non-null  float64\n",
      " 6   HbA1c_level          100000 non-null  float64\n",
      " 7   blood_glucose_level  100000 non-null  int64  \n",
      " 8   diabetes             100000 non-null  int64  \n",
      "dtypes: float64(3), int64(4), object(2)\n",
      "memory usage: 6.9+ MB\n"
     ]
    }
   ],
   "source": [
    "df.info()"
   ]
  },
  {
   "cell_type": "code",
   "execution_count": 9,
   "id": "7cf3a571",
   "metadata": {
    "scrolled": true
   },
   "outputs": [
    {
     "data": {
      "text/html": [
       "<div>\n",
       "<style scoped>\n",
       "    .dataframe tbody tr th:only-of-type {\n",
       "        vertical-align: middle;\n",
       "    }\n",
       "\n",
       "    .dataframe tbody tr th {\n",
       "        vertical-align: top;\n",
       "    }\n",
       "\n",
       "    .dataframe thead th {\n",
       "        text-align: right;\n",
       "    }\n",
       "</style>\n",
       "<table border=\"1\" class=\"dataframe\">\n",
       "  <thead>\n",
       "    <tr style=\"text-align: right;\">\n",
       "      <th></th>\n",
       "      <th>age</th>\n",
       "      <th>hypertension</th>\n",
       "      <th>heart_disease</th>\n",
       "      <th>bmi</th>\n",
       "      <th>HbA1c_level</th>\n",
       "      <th>blood_glucose_level</th>\n",
       "      <th>diabetes</th>\n",
       "    </tr>\n",
       "  </thead>\n",
       "  <tbody>\n",
       "    <tr>\n",
       "      <th>count</th>\n",
       "      <td>100000.000000</td>\n",
       "      <td>100000.00000</td>\n",
       "      <td>100000.000000</td>\n",
       "      <td>100000.000000</td>\n",
       "      <td>100000.000000</td>\n",
       "      <td>100000.000000</td>\n",
       "      <td>100000.000000</td>\n",
       "    </tr>\n",
       "    <tr>\n",
       "      <th>mean</th>\n",
       "      <td>41.885856</td>\n",
       "      <td>0.07485</td>\n",
       "      <td>0.039420</td>\n",
       "      <td>27.320767</td>\n",
       "      <td>5.527507</td>\n",
       "      <td>138.058060</td>\n",
       "      <td>0.085000</td>\n",
       "    </tr>\n",
       "    <tr>\n",
       "      <th>std</th>\n",
       "      <td>22.516840</td>\n",
       "      <td>0.26315</td>\n",
       "      <td>0.194593</td>\n",
       "      <td>6.636783</td>\n",
       "      <td>1.070672</td>\n",
       "      <td>40.708136</td>\n",
       "      <td>0.278883</td>\n",
       "    </tr>\n",
       "    <tr>\n",
       "      <th>min</th>\n",
       "      <td>0.080000</td>\n",
       "      <td>0.00000</td>\n",
       "      <td>0.000000</td>\n",
       "      <td>10.010000</td>\n",
       "      <td>3.500000</td>\n",
       "      <td>80.000000</td>\n",
       "      <td>0.000000</td>\n",
       "    </tr>\n",
       "    <tr>\n",
       "      <th>25%</th>\n",
       "      <td>24.000000</td>\n",
       "      <td>0.00000</td>\n",
       "      <td>0.000000</td>\n",
       "      <td>23.630000</td>\n",
       "      <td>4.800000</td>\n",
       "      <td>100.000000</td>\n",
       "      <td>0.000000</td>\n",
       "    </tr>\n",
       "    <tr>\n",
       "      <th>50%</th>\n",
       "      <td>43.000000</td>\n",
       "      <td>0.00000</td>\n",
       "      <td>0.000000</td>\n",
       "      <td>27.320000</td>\n",
       "      <td>5.800000</td>\n",
       "      <td>140.000000</td>\n",
       "      <td>0.000000</td>\n",
       "    </tr>\n",
       "    <tr>\n",
       "      <th>75%</th>\n",
       "      <td>60.000000</td>\n",
       "      <td>0.00000</td>\n",
       "      <td>0.000000</td>\n",
       "      <td>29.580000</td>\n",
       "      <td>6.200000</td>\n",
       "      <td>159.000000</td>\n",
       "      <td>0.000000</td>\n",
       "    </tr>\n",
       "    <tr>\n",
       "      <th>max</th>\n",
       "      <td>80.000000</td>\n",
       "      <td>1.00000</td>\n",
       "      <td>1.000000</td>\n",
       "      <td>95.690000</td>\n",
       "      <td>9.000000</td>\n",
       "      <td>300.000000</td>\n",
       "      <td>1.000000</td>\n",
       "    </tr>\n",
       "  </tbody>\n",
       "</table>\n",
       "</div>"
      ],
      "text/plain": [
       "                 age  hypertension  heart_disease            bmi  \\\n",
       "count  100000.000000  100000.00000  100000.000000  100000.000000   \n",
       "mean       41.885856       0.07485       0.039420      27.320767   \n",
       "std        22.516840       0.26315       0.194593       6.636783   \n",
       "min         0.080000       0.00000       0.000000      10.010000   \n",
       "25%        24.000000       0.00000       0.000000      23.630000   \n",
       "50%        43.000000       0.00000       0.000000      27.320000   \n",
       "75%        60.000000       0.00000       0.000000      29.580000   \n",
       "max        80.000000       1.00000       1.000000      95.690000   \n",
       "\n",
       "         HbA1c_level  blood_glucose_level       diabetes  \n",
       "count  100000.000000        100000.000000  100000.000000  \n",
       "mean        5.527507           138.058060       0.085000  \n",
       "std         1.070672            40.708136       0.278883  \n",
       "min         3.500000            80.000000       0.000000  \n",
       "25%         4.800000           100.000000       0.000000  \n",
       "50%         5.800000           140.000000       0.000000  \n",
       "75%         6.200000           159.000000       0.000000  \n",
       "max         9.000000           300.000000       1.000000  "
      ]
     },
     "execution_count": 9,
     "metadata": {},
     "output_type": "execute_result"
    }
   ],
   "source": [
    "# Checking statistics of the numeric features\n",
    "df.describe()"
   ]
  },
  {
   "cell_type": "markdown",
   "id": "311fcdac",
   "metadata": {},
   "source": [
    "### Data Wrangling"
   ]
  },
  {
   "cell_type": "code",
   "execution_count": 10,
   "id": "b107e8ab",
   "metadata": {},
   "outputs": [],
   "source": [
    "# save a copy of the data\n",
    "df_copy = df.copy('Dataset/diabetes_prediction_dataset.csv')"
   ]
  },
  {
   "cell_type": "code",
   "execution_count": 11,
   "id": "0bc37d81",
   "metadata": {},
   "outputs": [],
   "source": [
    "def df_wrangle(df, dtype_convert, OneHot_cols):\n",
    "    '''\n",
    "    This function wrangles (cleans) our dataset by correcting datypes and One-Hot\n",
    "    encoding dpecified columns\n",
    "    \n",
    "    Inputs\n",
    "    df: (dataframe), dataframe to wrangle\n",
    "    dtype_convert: (dictionary), pairs of column, dtype to convert to\n",
    "    OneHot_col: (list), columns in the dataframe to One-Hot encode\n",
    "    \n",
    "    Output\n",
    "    df: (dataframe), wrangled (cleaned) dataframe\n",
    "    '''\n",
    "    \n",
    "    # convert datatypes to correct formats\n",
    "    for col, dtype in dtype_convert.items():\n",
    "        df[col] = df[col].astype(dtype)\n",
    "        \n",
    "    # One_Hot encode neccesary columns\n",
    "    \n",
    "    # Initialize the One-Hot Encoder\n",
    "    encoder = OneHotEncoder()\n",
    "    \n",
    "    # One-Hot encode each column\n",
    "    for col in OneHot_cols:\n",
    "        # variable to store new column names\n",
    "        df_col_name = []\n",
    "        \n",
    "        # unique values in current column\n",
    "        vals = df[col].unique()             \n",
    "\n",
    "        for val in vals:\n",
    "            # replace spaces in values with underscore\n",
    "            val = val.replace(' ', '_')\n",
    "            \n",
    "            # combine initial column name and current value as new column name\n",
    "            df_col_name.append(col+'_'+val) \n",
    "                                            \n",
    "        # encode the columns\n",
    "        encoded_df = pd.DataFrame(encoder.fit_transform(df[[col]]).toarray())\n",
    "        \n",
    "        # rename the new columns\n",
    "        encoded_df.columns = df_col_name\n",
    "        \n",
    "        # add new columns to dataframe\n",
    "        df = df.join(encoded_df)\n",
    "\n",
    "    # drop the initial columns\n",
    "    df.drop(OneHot_cols, axis=1, inplace=True)\n",
    "    \n",
    "    return df"
   ]
  },
  {
   "cell_type": "code",
   "execution_count": 12,
   "id": "9f3ce2ee",
   "metadata": {},
   "outputs": [],
   "source": [
    "df = df_wrangle(df, {'age':'int'}, ['gender', 'smoking_history'])"
   ]
  },
  {
   "cell_type": "code",
   "execution_count": 13,
   "id": "424848b1",
   "metadata": {},
   "outputs": [
    {
     "data": {
      "text/html": [
       "<div>\n",
       "<style scoped>\n",
       "    .dataframe tbody tr th:only-of-type {\n",
       "        vertical-align: middle;\n",
       "    }\n",
       "\n",
       "    .dataframe tbody tr th {\n",
       "        vertical-align: top;\n",
       "    }\n",
       "\n",
       "    .dataframe thead th {\n",
       "        text-align: right;\n",
       "    }\n",
       "</style>\n",
       "<table border=\"1\" class=\"dataframe\">\n",
       "  <thead>\n",
       "    <tr style=\"text-align: right;\">\n",
       "      <th></th>\n",
       "      <th>age</th>\n",
       "      <th>hypertension</th>\n",
       "      <th>heart_disease</th>\n",
       "      <th>bmi</th>\n",
       "      <th>HbA1c_level</th>\n",
       "      <th>blood_glucose_level</th>\n",
       "      <th>diabetes</th>\n",
       "      <th>gender_Female</th>\n",
       "      <th>gender_Male</th>\n",
       "      <th>gender_Other</th>\n",
       "      <th>smoking_history_never</th>\n",
       "      <th>smoking_history_No_Info</th>\n",
       "      <th>smoking_history_current</th>\n",
       "      <th>smoking_history_former</th>\n",
       "      <th>smoking_history_ever</th>\n",
       "      <th>smoking_history_not_current</th>\n",
       "    </tr>\n",
       "  </thead>\n",
       "  <tbody>\n",
       "    <tr>\n",
       "      <th>0</th>\n",
       "      <td>80</td>\n",
       "      <td>0</td>\n",
       "      <td>1</td>\n",
       "      <td>25.19</td>\n",
       "      <td>6.6</td>\n",
       "      <td>140</td>\n",
       "      <td>0</td>\n",
       "      <td>1.0</td>\n",
       "      <td>0.0</td>\n",
       "      <td>0.0</td>\n",
       "      <td>0.0</td>\n",
       "      <td>0.0</td>\n",
       "      <td>0.0</td>\n",
       "      <td>0.0</td>\n",
       "      <td>1.0</td>\n",
       "      <td>0.0</td>\n",
       "    </tr>\n",
       "    <tr>\n",
       "      <th>1</th>\n",
       "      <td>54</td>\n",
       "      <td>0</td>\n",
       "      <td>0</td>\n",
       "      <td>27.32</td>\n",
       "      <td>6.6</td>\n",
       "      <td>80</td>\n",
       "      <td>0</td>\n",
       "      <td>1.0</td>\n",
       "      <td>0.0</td>\n",
       "      <td>0.0</td>\n",
       "      <td>1.0</td>\n",
       "      <td>0.0</td>\n",
       "      <td>0.0</td>\n",
       "      <td>0.0</td>\n",
       "      <td>0.0</td>\n",
       "      <td>0.0</td>\n",
       "    </tr>\n",
       "    <tr>\n",
       "      <th>2</th>\n",
       "      <td>28</td>\n",
       "      <td>0</td>\n",
       "      <td>0</td>\n",
       "      <td>27.32</td>\n",
       "      <td>5.7</td>\n",
       "      <td>158</td>\n",
       "      <td>0</td>\n",
       "      <td>0.0</td>\n",
       "      <td>1.0</td>\n",
       "      <td>0.0</td>\n",
       "      <td>0.0</td>\n",
       "      <td>0.0</td>\n",
       "      <td>0.0</td>\n",
       "      <td>0.0</td>\n",
       "      <td>1.0</td>\n",
       "      <td>0.0</td>\n",
       "    </tr>\n",
       "    <tr>\n",
       "      <th>3</th>\n",
       "      <td>36</td>\n",
       "      <td>0</td>\n",
       "      <td>0</td>\n",
       "      <td>23.45</td>\n",
       "      <td>5.0</td>\n",
       "      <td>155</td>\n",
       "      <td>0</td>\n",
       "      <td>1.0</td>\n",
       "      <td>0.0</td>\n",
       "      <td>0.0</td>\n",
       "      <td>0.0</td>\n",
       "      <td>1.0</td>\n",
       "      <td>0.0</td>\n",
       "      <td>0.0</td>\n",
       "      <td>0.0</td>\n",
       "      <td>0.0</td>\n",
       "    </tr>\n",
       "    <tr>\n",
       "      <th>4</th>\n",
       "      <td>76</td>\n",
       "      <td>1</td>\n",
       "      <td>1</td>\n",
       "      <td>20.14</td>\n",
       "      <td>4.8</td>\n",
       "      <td>155</td>\n",
       "      <td>0</td>\n",
       "      <td>0.0</td>\n",
       "      <td>1.0</td>\n",
       "      <td>0.0</td>\n",
       "      <td>0.0</td>\n",
       "      <td>1.0</td>\n",
       "      <td>0.0</td>\n",
       "      <td>0.0</td>\n",
       "      <td>0.0</td>\n",
       "      <td>0.0</td>\n",
       "    </tr>\n",
       "  </tbody>\n",
       "</table>\n",
       "</div>"
      ],
      "text/plain": [
       "   age  hypertension  heart_disease    bmi  HbA1c_level  blood_glucose_level  \\\n",
       "0   80             0              1  25.19          6.6                  140   \n",
       "1   54             0              0  27.32          6.6                   80   \n",
       "2   28             0              0  27.32          5.7                  158   \n",
       "3   36             0              0  23.45          5.0                  155   \n",
       "4   76             1              1  20.14          4.8                  155   \n",
       "\n",
       "   diabetes  gender_Female  gender_Male  gender_Other  smoking_history_never  \\\n",
       "0         0            1.0          0.0           0.0                    0.0   \n",
       "1         0            1.0          0.0           0.0                    1.0   \n",
       "2         0            0.0          1.0           0.0                    0.0   \n",
       "3         0            1.0          0.0           0.0                    0.0   \n",
       "4         0            0.0          1.0           0.0                    0.0   \n",
       "\n",
       "   smoking_history_No_Info  smoking_history_current  smoking_history_former  \\\n",
       "0                      0.0                      0.0                     0.0   \n",
       "1                      0.0                      0.0                     0.0   \n",
       "2                      0.0                      0.0                     0.0   \n",
       "3                      1.0                      0.0                     0.0   \n",
       "4                      1.0                      0.0                     0.0   \n",
       "\n",
       "   smoking_history_ever  smoking_history_not_current  \n",
       "0                   1.0                          0.0  \n",
       "1                   0.0                          0.0  \n",
       "2                   1.0                          0.0  \n",
       "3                   0.0                          0.0  \n",
       "4                   0.0                          0.0  "
      ]
     },
     "execution_count": 13,
     "metadata": {},
     "output_type": "execute_result"
    }
   ],
   "source": [
    "df.head()"
   ]
  },
  {
   "cell_type": "code",
   "execution_count": 14,
   "id": "68ad28c8",
   "metadata": {},
   "outputs": [
    {
     "name": "stdout",
     "output_type": "stream",
     "text": [
      "<class 'pandas.core.frame.DataFrame'>\n",
      "RangeIndex: 100000 entries, 0 to 99999\n",
      "Data columns (total 16 columns):\n",
      " #   Column                       Non-Null Count   Dtype  \n",
      "---  ------                       --------------   -----  \n",
      " 0   age                          100000 non-null  int32  \n",
      " 1   hypertension                 100000 non-null  int64  \n",
      " 2   heart_disease                100000 non-null  int64  \n",
      " 3   bmi                          100000 non-null  float64\n",
      " 4   HbA1c_level                  100000 non-null  float64\n",
      " 5   blood_glucose_level          100000 non-null  int64  \n",
      " 6   diabetes                     100000 non-null  int64  \n",
      " 7   gender_Female                100000 non-null  float64\n",
      " 8   gender_Male                  100000 non-null  float64\n",
      " 9   gender_Other                 100000 non-null  float64\n",
      " 10  smoking_history_never        100000 non-null  float64\n",
      " 11  smoking_history_No_Info      100000 non-null  float64\n",
      " 12  smoking_history_current      100000 non-null  float64\n",
      " 13  smoking_history_former       100000 non-null  float64\n",
      " 14  smoking_history_ever         100000 non-null  float64\n",
      " 15  smoking_history_not_current  100000 non-null  float64\n",
      "dtypes: float64(11), int32(1), int64(4)\n",
      "memory usage: 11.8 MB\n"
     ]
    }
   ],
   "source": [
    "df.info()"
   ]
  },
  {
   "cell_type": "code",
   "execution_count": 15,
   "id": "ca13ce39",
   "metadata": {},
   "outputs": [
    {
     "data": {
      "text/html": [
       "<div>\n",
       "<style scoped>\n",
       "    .dataframe tbody tr th:only-of-type {\n",
       "        vertical-align: middle;\n",
       "    }\n",
       "\n",
       "    .dataframe tbody tr th {\n",
       "        vertical-align: top;\n",
       "    }\n",
       "\n",
       "    .dataframe thead th {\n",
       "        text-align: right;\n",
       "    }\n",
       "</style>\n",
       "<table border=\"1\" class=\"dataframe\">\n",
       "  <thead>\n",
       "    <tr style=\"text-align: right;\">\n",
       "      <th></th>\n",
       "      <th>age</th>\n",
       "      <th>hypertension</th>\n",
       "      <th>heart_disease</th>\n",
       "      <th>bmi</th>\n",
       "      <th>HbA1c_level</th>\n",
       "      <th>blood_glucose_level</th>\n",
       "      <th>diabetes</th>\n",
       "      <th>gender_Female</th>\n",
       "      <th>gender_Male</th>\n",
       "      <th>gender_Other</th>\n",
       "      <th>smoking_history_never</th>\n",
       "      <th>smoking_history_No_Info</th>\n",
       "      <th>smoking_history_current</th>\n",
       "      <th>smoking_history_former</th>\n",
       "      <th>smoking_history_ever</th>\n",
       "      <th>smoking_history_not_current</th>\n",
       "    </tr>\n",
       "  </thead>\n",
       "  <tbody>\n",
       "    <tr>\n",
       "      <th>count</th>\n",
       "      <td>100000.000000</td>\n",
       "      <td>100000.00000</td>\n",
       "      <td>100000.000000</td>\n",
       "      <td>100000.000000</td>\n",
       "      <td>100000.000000</td>\n",
       "      <td>100000.000000</td>\n",
       "      <td>100000.000000</td>\n",
       "      <td>100000.000000</td>\n",
       "      <td>100000.000000</td>\n",
       "      <td>100000.000000</td>\n",
       "      <td>100000.000000</td>\n",
       "      <td>100000.000000</td>\n",
       "      <td>100000.000000</td>\n",
       "      <td>100000.000000</td>\n",
       "      <td>100000.00000</td>\n",
       "      <td>100000.00000</td>\n",
       "    </tr>\n",
       "    <tr>\n",
       "      <th>mean</th>\n",
       "      <td>41.875660</td>\n",
       "      <td>0.07485</td>\n",
       "      <td>0.039420</td>\n",
       "      <td>27.320767</td>\n",
       "      <td>5.527507</td>\n",
       "      <td>138.058060</td>\n",
       "      <td>0.085000</td>\n",
       "      <td>0.585520</td>\n",
       "      <td>0.414300</td>\n",
       "      <td>0.000180</td>\n",
       "      <td>0.358160</td>\n",
       "      <td>0.092860</td>\n",
       "      <td>0.040040</td>\n",
       "      <td>0.093520</td>\n",
       "      <td>0.35095</td>\n",
       "      <td>0.06447</td>\n",
       "    </tr>\n",
       "    <tr>\n",
       "      <th>std</th>\n",
       "      <td>22.535417</td>\n",
       "      <td>0.26315</td>\n",
       "      <td>0.194593</td>\n",
       "      <td>6.636783</td>\n",
       "      <td>1.070672</td>\n",
       "      <td>40.708136</td>\n",
       "      <td>0.278883</td>\n",
       "      <td>0.492635</td>\n",
       "      <td>0.492603</td>\n",
       "      <td>0.013415</td>\n",
       "      <td>0.479462</td>\n",
       "      <td>0.290238</td>\n",
       "      <td>0.196054</td>\n",
       "      <td>0.291161</td>\n",
       "      <td>0.47727</td>\n",
       "      <td>0.24559</td>\n",
       "    </tr>\n",
       "    <tr>\n",
       "      <th>min</th>\n",
       "      <td>0.000000</td>\n",
       "      <td>0.00000</td>\n",
       "      <td>0.000000</td>\n",
       "      <td>10.010000</td>\n",
       "      <td>3.500000</td>\n",
       "      <td>80.000000</td>\n",
       "      <td>0.000000</td>\n",
       "      <td>0.000000</td>\n",
       "      <td>0.000000</td>\n",
       "      <td>0.000000</td>\n",
       "      <td>0.000000</td>\n",
       "      <td>0.000000</td>\n",
       "      <td>0.000000</td>\n",
       "      <td>0.000000</td>\n",
       "      <td>0.00000</td>\n",
       "      <td>0.00000</td>\n",
       "    </tr>\n",
       "    <tr>\n",
       "      <th>25%</th>\n",
       "      <td>24.000000</td>\n",
       "      <td>0.00000</td>\n",
       "      <td>0.000000</td>\n",
       "      <td>23.630000</td>\n",
       "      <td>4.800000</td>\n",
       "      <td>100.000000</td>\n",
       "      <td>0.000000</td>\n",
       "      <td>0.000000</td>\n",
       "      <td>0.000000</td>\n",
       "      <td>0.000000</td>\n",
       "      <td>0.000000</td>\n",
       "      <td>0.000000</td>\n",
       "      <td>0.000000</td>\n",
       "      <td>0.000000</td>\n",
       "      <td>0.00000</td>\n",
       "      <td>0.00000</td>\n",
       "    </tr>\n",
       "    <tr>\n",
       "      <th>50%</th>\n",
       "      <td>43.000000</td>\n",
       "      <td>0.00000</td>\n",
       "      <td>0.000000</td>\n",
       "      <td>27.320000</td>\n",
       "      <td>5.800000</td>\n",
       "      <td>140.000000</td>\n",
       "      <td>0.000000</td>\n",
       "      <td>1.000000</td>\n",
       "      <td>0.000000</td>\n",
       "      <td>0.000000</td>\n",
       "      <td>0.000000</td>\n",
       "      <td>0.000000</td>\n",
       "      <td>0.000000</td>\n",
       "      <td>0.000000</td>\n",
       "      <td>0.00000</td>\n",
       "      <td>0.00000</td>\n",
       "    </tr>\n",
       "    <tr>\n",
       "      <th>75%</th>\n",
       "      <td>60.000000</td>\n",
       "      <td>0.00000</td>\n",
       "      <td>0.000000</td>\n",
       "      <td>29.580000</td>\n",
       "      <td>6.200000</td>\n",
       "      <td>159.000000</td>\n",
       "      <td>0.000000</td>\n",
       "      <td>1.000000</td>\n",
       "      <td>1.000000</td>\n",
       "      <td>0.000000</td>\n",
       "      <td>1.000000</td>\n",
       "      <td>0.000000</td>\n",
       "      <td>0.000000</td>\n",
       "      <td>0.000000</td>\n",
       "      <td>1.00000</td>\n",
       "      <td>0.00000</td>\n",
       "    </tr>\n",
       "    <tr>\n",
       "      <th>max</th>\n",
       "      <td>80.000000</td>\n",
       "      <td>1.00000</td>\n",
       "      <td>1.000000</td>\n",
       "      <td>95.690000</td>\n",
       "      <td>9.000000</td>\n",
       "      <td>300.000000</td>\n",
       "      <td>1.000000</td>\n",
       "      <td>1.000000</td>\n",
       "      <td>1.000000</td>\n",
       "      <td>1.000000</td>\n",
       "      <td>1.000000</td>\n",
       "      <td>1.000000</td>\n",
       "      <td>1.000000</td>\n",
       "      <td>1.000000</td>\n",
       "      <td>1.00000</td>\n",
       "      <td>1.00000</td>\n",
       "    </tr>\n",
       "  </tbody>\n",
       "</table>\n",
       "</div>"
      ],
      "text/plain": [
       "                 age  hypertension  heart_disease            bmi  \\\n",
       "count  100000.000000  100000.00000  100000.000000  100000.000000   \n",
       "mean       41.875660       0.07485       0.039420      27.320767   \n",
       "std        22.535417       0.26315       0.194593       6.636783   \n",
       "min         0.000000       0.00000       0.000000      10.010000   \n",
       "25%        24.000000       0.00000       0.000000      23.630000   \n",
       "50%        43.000000       0.00000       0.000000      27.320000   \n",
       "75%        60.000000       0.00000       0.000000      29.580000   \n",
       "max        80.000000       1.00000       1.000000      95.690000   \n",
       "\n",
       "         HbA1c_level  blood_glucose_level       diabetes  gender_Female  \\\n",
       "count  100000.000000        100000.000000  100000.000000  100000.000000   \n",
       "mean        5.527507           138.058060       0.085000       0.585520   \n",
       "std         1.070672            40.708136       0.278883       0.492635   \n",
       "min         3.500000            80.000000       0.000000       0.000000   \n",
       "25%         4.800000           100.000000       0.000000       0.000000   \n",
       "50%         5.800000           140.000000       0.000000       1.000000   \n",
       "75%         6.200000           159.000000       0.000000       1.000000   \n",
       "max         9.000000           300.000000       1.000000       1.000000   \n",
       "\n",
       "         gender_Male   gender_Other  smoking_history_never  \\\n",
       "count  100000.000000  100000.000000          100000.000000   \n",
       "mean        0.414300       0.000180               0.358160   \n",
       "std         0.492603       0.013415               0.479462   \n",
       "min         0.000000       0.000000               0.000000   \n",
       "25%         0.000000       0.000000               0.000000   \n",
       "50%         0.000000       0.000000               0.000000   \n",
       "75%         1.000000       0.000000               1.000000   \n",
       "max         1.000000       1.000000               1.000000   \n",
       "\n",
       "       smoking_history_No_Info  smoking_history_current  \\\n",
       "count            100000.000000            100000.000000   \n",
       "mean                  0.092860                 0.040040   \n",
       "std                   0.290238                 0.196054   \n",
       "min                   0.000000                 0.000000   \n",
       "25%                   0.000000                 0.000000   \n",
       "50%                   0.000000                 0.000000   \n",
       "75%                   0.000000                 0.000000   \n",
       "max                   1.000000                 1.000000   \n",
       "\n",
       "       smoking_history_former  smoking_history_ever  \\\n",
       "count           100000.000000          100000.00000   \n",
       "mean                 0.093520               0.35095   \n",
       "std                  0.291161               0.47727   \n",
       "min                  0.000000               0.00000   \n",
       "25%                  0.000000               0.00000   \n",
       "50%                  0.000000               0.00000   \n",
       "75%                  0.000000               1.00000   \n",
       "max                  1.000000               1.00000   \n",
       "\n",
       "       smoking_history_not_current  \n",
       "count                 100000.00000  \n",
       "mean                       0.06447  \n",
       "std                        0.24559  \n",
       "min                        0.00000  \n",
       "25%                        0.00000  \n",
       "50%                        0.00000  \n",
       "75%                        0.00000  \n",
       "max                        1.00000  "
      ]
     },
     "execution_count": 15,
     "metadata": {},
     "output_type": "execute_result"
    }
   ],
   "source": [
    "df.describe()"
   ]
  },
  {
   "cell_type": "code",
   "execution_count": null,
   "id": "9c74f325",
   "metadata": {},
   "outputs": [],
   "source": []
  },
  {
   "cell_type": "code",
   "execution_count": 16,
   "id": "1889cf7e",
   "metadata": {},
   "outputs": [
    {
     "data": {
      "text/plain": [
       "3888"
      ]
     },
     "execution_count": 16,
     "metadata": {},
     "output_type": "execute_result"
    }
   ],
   "source": [
    "df.duplicated().sum()"
   ]
  },
  {
   "cell_type": "code",
   "execution_count": 17,
   "id": "ad4a28f9",
   "metadata": {},
   "outputs": [],
   "source": [
    "df.drop_duplicates(inplace=True)"
   ]
  },
  {
   "cell_type": "code",
   "execution_count": null,
   "id": "a3520324",
   "metadata": {},
   "outputs": [],
   "source": []
  },
  {
   "cell_type": "markdown",
   "id": "5f0ce201",
   "metadata": {},
   "source": [
    "### Defining Model Variables and Target"
   ]
  },
  {
   "cell_type": "code",
   "execution_count": 18,
   "id": "e103dda9",
   "metadata": {},
   "outputs": [
    {
     "data": {
      "text/plain": [
       "(96112, 15)"
      ]
     },
     "execution_count": 18,
     "metadata": {},
     "output_type": "execute_result"
    }
   ],
   "source": [
    "X = df.drop('diabetes', axis=1)\n",
    "X.shape"
   ]
  },
  {
   "cell_type": "code",
   "execution_count": 19,
   "id": "3b281989",
   "metadata": {},
   "outputs": [
    {
     "data": {
      "text/plain": [
       "(96112,)"
      ]
     },
     "execution_count": 19,
     "metadata": {},
     "output_type": "execute_result"
    }
   ],
   "source": [
    "y = df['diabetes']\n",
    "y.shape"
   ]
  },
  {
   "cell_type": "markdown",
   "id": "ad13620d",
   "metadata": {},
   "source": [
    "## Data Splitting for Model Building\n",
    "\n",
    "### Method 1 - Train, Dev, Test\n",
    "\n",
    "For the first method of our data splitting, the dataset contains 100,000 samples of data. The splitting would be done in the ratio 90:5:5, which implies 90000 data point for training, 5000 data points for dev set and test sets respectively\n",
    "\n",
    "This is because 5% (5,000) samples is enough for each of our development and test sets.\n",
    "\n",
    "NB: Both dev set and test sets are referred to as validation dataset in our code."
   ]
  },
  {
   "cell_type": "code",
   "execution_count": 20,
   "id": "e3bc1da3",
   "metadata": {},
   "outputs": [],
   "source": [
    "from sklearn.model_selection import train_test_split"
   ]
  },
  {
   "cell_type": "markdown",
   "id": "d1d47100",
   "metadata": {},
   "source": [
    "#### Training set"
   ]
  },
  {
   "cell_type": "code",
   "execution_count": 21,
   "id": "ce9889a9",
   "metadata": {},
   "outputs": [
    {
     "name": "stdout",
     "output_type": "stream",
     "text": [
      "(86500, 15)\n",
      "(86500,)\n",
      "(9612, 15)\n",
      "(9612,)\n"
     ]
    }
   ],
   "source": [
    "# 90,000 data points for training of dataset\n",
    "X_train, X_val, y_train, y_val = train_test_split(X, y, test_size=0.1, random_state=123)\n",
    "print(X_train.shape)\n",
    "print(y_train.shape)\n",
    "print(X_val.shape)\n",
    "print(y_val.shape)"
   ]
  },
  {
   "cell_type": "markdown",
   "id": "aab9adf9",
   "metadata": {},
   "source": [
    "##### Validation Set - Dev and Test set\n",
    "We are going to use about 10,000 data points for our validation test set. The `X_dev` and `y_dev` is the training dataset in the validation cycle, while the `X_test` and `y_test` are the test dataset in the validation cycle."
   ]
  },
  {
   "cell_type": "code",
   "execution_count": 22,
   "id": "a52244a2",
   "metadata": {},
   "outputs": [],
   "source": [
    "X_dev, X_test, y_dev, y_test = train_test_split(X_val, y_val, test_size=0.5, random_state=123)"
   ]
  },
  {
   "cell_type": "code",
   "execution_count": 23,
   "id": "31df607b",
   "metadata": {},
   "outputs": [
    {
     "name": "stdout",
     "output_type": "stream",
     "text": [
      "Shape of X_train (86500, 15)    Shape of y_train (86500,)\n",
      "Shape of X_dev (4806, 15)       Shape of y_dev (4806,)\n",
      "Shape of X_test (4806, 15)      Shape of y_test (4806,)\n"
     ]
    }
   ],
   "source": [
    "print(f'Shape of X_train {X_train.shape}    Shape of y_train {y_train.shape}')\n",
    "print(f'Shape of X_dev {X_dev.shape}       Shape of y_dev {y_dev.shape}')\n",
    "print(f'Shape of X_test {X_test.shape}      Shape of y_test {y_test.shape}')"
   ]
  },
  {
   "cell_type": "markdown",
   "id": "92ca23a3",
   "metadata": {},
   "source": [
    "##### Visualization"
   ]
  },
  {
   "cell_type": "code",
   "execution_count": 24,
   "id": "b120e393",
   "metadata": {},
   "outputs": [],
   "source": [
    "from sklearn.preprocessing import StandardScaler\n",
    "# Normalizing train features for training model.\n",
    "scaler = StandardScaler().fit(X_train)\n",
    "X_train_scaled_temp = scaler.transform(X_train)"
   ]
  },
  {
   "cell_type": "code",
   "execution_count": 25,
   "id": "ccaf7ec3",
   "metadata": {},
   "outputs": [],
   "source": [
    "from sklearn.decomposition import PCA"
   ]
  },
  {
   "cell_type": "code",
   "execution_count": 26,
   "id": "46897b1a",
   "metadata": {},
   "outputs": [],
   "source": [
    "pca = PCA(3)\n",
    "projected = pca.fit_transform(X_train_scaled_temp)"
   ]
  },
  {
   "cell_type": "code",
   "execution_count": 27,
   "id": "25e9a313",
   "metadata": {},
   "outputs": [],
   "source": [
    "mask_true = y_train == 1.0"
   ]
  },
  {
   "cell_type": "code",
   "execution_count": 28,
   "id": "2f91b481",
   "metadata": {},
   "outputs": [
    {
     "data": {
      "application/javascript": [
       "/* Put everything inside the global mpl namespace */\n",
       "/* global mpl */\n",
       "window.mpl = {};\n",
       "\n",
       "mpl.get_websocket_type = function () {\n",
       "    if (typeof WebSocket !== 'undefined') {\n",
       "        return WebSocket;\n",
       "    } else if (typeof MozWebSocket !== 'undefined') {\n",
       "        return MozWebSocket;\n",
       "    } else {\n",
       "        alert(\n",
       "            'Your browser does not have WebSocket support. ' +\n",
       "                'Please try Chrome, Safari or Firefox ≥ 6. ' +\n",
       "                'Firefox 4 and 5 are also supported but you ' +\n",
       "                'have to enable WebSockets in about:config.'\n",
       "        );\n",
       "    }\n",
       "};\n",
       "\n",
       "mpl.figure = function (figure_id, websocket, ondownload, parent_element) {\n",
       "    this.id = figure_id;\n",
       "\n",
       "    this.ws = websocket;\n",
       "\n",
       "    this.supports_binary = this.ws.binaryType !== undefined;\n",
       "\n",
       "    if (!this.supports_binary) {\n",
       "        var warnings = document.getElementById('mpl-warnings');\n",
       "        if (warnings) {\n",
       "            warnings.style.display = 'block';\n",
       "            warnings.textContent =\n",
       "                'This browser does not support binary websocket messages. ' +\n",
       "                'Performance may be slow.';\n",
       "        }\n",
       "    }\n",
       "\n",
       "    this.imageObj = new Image();\n",
       "\n",
       "    this.context = undefined;\n",
       "    this.message = undefined;\n",
       "    this.canvas = undefined;\n",
       "    this.rubberband_canvas = undefined;\n",
       "    this.rubberband_context = undefined;\n",
       "    this.format_dropdown = undefined;\n",
       "\n",
       "    this.image_mode = 'full';\n",
       "\n",
       "    this.root = document.createElement('div');\n",
       "    this.root.setAttribute('style', 'display: inline-block');\n",
       "    this._root_extra_style(this.root);\n",
       "\n",
       "    parent_element.appendChild(this.root);\n",
       "\n",
       "    this._init_header(this);\n",
       "    this._init_canvas(this);\n",
       "    this._init_toolbar(this);\n",
       "\n",
       "    var fig = this;\n",
       "\n",
       "    this.waiting = false;\n",
       "\n",
       "    this.ws.onopen = function () {\n",
       "        fig.send_message('supports_binary', { value: fig.supports_binary });\n",
       "        fig.send_message('send_image_mode', {});\n",
       "        if (fig.ratio !== 1) {\n",
       "            fig.send_message('set_device_pixel_ratio', {\n",
       "                device_pixel_ratio: fig.ratio,\n",
       "            });\n",
       "        }\n",
       "        fig.send_message('refresh', {});\n",
       "    };\n",
       "\n",
       "    this.imageObj.onload = function () {\n",
       "        if (fig.image_mode === 'full') {\n",
       "            // Full images could contain transparency (where diff images\n",
       "            // almost always do), so we need to clear the canvas so that\n",
       "            // there is no ghosting.\n",
       "            fig.context.clearRect(0, 0, fig.canvas.width, fig.canvas.height);\n",
       "        }\n",
       "        fig.context.drawImage(fig.imageObj, 0, 0);\n",
       "    };\n",
       "\n",
       "    this.imageObj.onunload = function () {\n",
       "        fig.ws.close();\n",
       "    };\n",
       "\n",
       "    this.ws.onmessage = this._make_on_message_function(this);\n",
       "\n",
       "    this.ondownload = ondownload;\n",
       "};\n",
       "\n",
       "mpl.figure.prototype._init_header = function () {\n",
       "    var titlebar = document.createElement('div');\n",
       "    titlebar.classList =\n",
       "        'ui-dialog-titlebar ui-widget-header ui-corner-all ui-helper-clearfix';\n",
       "    var titletext = document.createElement('div');\n",
       "    titletext.classList = 'ui-dialog-title';\n",
       "    titletext.setAttribute(\n",
       "        'style',\n",
       "        'width: 100%; text-align: center; padding: 3px;'\n",
       "    );\n",
       "    titlebar.appendChild(titletext);\n",
       "    this.root.appendChild(titlebar);\n",
       "    this.header = titletext;\n",
       "};\n",
       "\n",
       "mpl.figure.prototype._canvas_extra_style = function (_canvas_div) {};\n",
       "\n",
       "mpl.figure.prototype._root_extra_style = function (_canvas_div) {};\n",
       "\n",
       "mpl.figure.prototype._init_canvas = function () {\n",
       "    var fig = this;\n",
       "\n",
       "    var canvas_div = (this.canvas_div = document.createElement('div'));\n",
       "    canvas_div.setAttribute('tabindex', '0');\n",
       "    canvas_div.setAttribute(\n",
       "        'style',\n",
       "        'border: 1px solid #ddd;' +\n",
       "            'box-sizing: content-box;' +\n",
       "            'clear: both;' +\n",
       "            'min-height: 1px;' +\n",
       "            'min-width: 1px;' +\n",
       "            'outline: 0;' +\n",
       "            'overflow: hidden;' +\n",
       "            'position: relative;' +\n",
       "            'resize: both;' +\n",
       "            'z-index: 2;'\n",
       "    );\n",
       "\n",
       "    function on_keyboard_event_closure(name) {\n",
       "        return function (event) {\n",
       "            return fig.key_event(event, name);\n",
       "        };\n",
       "    }\n",
       "\n",
       "    canvas_div.addEventListener(\n",
       "        'keydown',\n",
       "        on_keyboard_event_closure('key_press')\n",
       "    );\n",
       "    canvas_div.addEventListener(\n",
       "        'keyup',\n",
       "        on_keyboard_event_closure('key_release')\n",
       "    );\n",
       "\n",
       "    this._canvas_extra_style(canvas_div);\n",
       "    this.root.appendChild(canvas_div);\n",
       "\n",
       "    var canvas = (this.canvas = document.createElement('canvas'));\n",
       "    canvas.classList.add('mpl-canvas');\n",
       "    canvas.setAttribute(\n",
       "        'style',\n",
       "        'box-sizing: content-box;' +\n",
       "            'pointer-events: none;' +\n",
       "            'position: relative;' +\n",
       "            'z-index: 0;'\n",
       "    );\n",
       "\n",
       "    this.context = canvas.getContext('2d');\n",
       "\n",
       "    var backingStore =\n",
       "        this.context.backingStorePixelRatio ||\n",
       "        this.context.webkitBackingStorePixelRatio ||\n",
       "        this.context.mozBackingStorePixelRatio ||\n",
       "        this.context.msBackingStorePixelRatio ||\n",
       "        this.context.oBackingStorePixelRatio ||\n",
       "        this.context.backingStorePixelRatio ||\n",
       "        1;\n",
       "\n",
       "    this.ratio = (window.devicePixelRatio || 1) / backingStore;\n",
       "\n",
       "    var rubberband_canvas = (this.rubberband_canvas = document.createElement(\n",
       "        'canvas'\n",
       "    ));\n",
       "    rubberband_canvas.setAttribute(\n",
       "        'style',\n",
       "        'box-sizing: content-box;' +\n",
       "            'left: 0;' +\n",
       "            'pointer-events: none;' +\n",
       "            'position: absolute;' +\n",
       "            'top: 0;' +\n",
       "            'z-index: 1;'\n",
       "    );\n",
       "\n",
       "    // Apply a ponyfill if ResizeObserver is not implemented by browser.\n",
       "    if (this.ResizeObserver === undefined) {\n",
       "        if (window.ResizeObserver !== undefined) {\n",
       "            this.ResizeObserver = window.ResizeObserver;\n",
       "        } else {\n",
       "            var obs = _JSXTOOLS_RESIZE_OBSERVER({});\n",
       "            this.ResizeObserver = obs.ResizeObserver;\n",
       "        }\n",
       "    }\n",
       "\n",
       "    this.resizeObserverInstance = new this.ResizeObserver(function (entries) {\n",
       "        var nentries = entries.length;\n",
       "        for (var i = 0; i < nentries; i++) {\n",
       "            var entry = entries[i];\n",
       "            var width, height;\n",
       "            if (entry.contentBoxSize) {\n",
       "                if (entry.contentBoxSize instanceof Array) {\n",
       "                    // Chrome 84 implements new version of spec.\n",
       "                    width = entry.contentBoxSize[0].inlineSize;\n",
       "                    height = entry.contentBoxSize[0].blockSize;\n",
       "                } else {\n",
       "                    // Firefox implements old version of spec.\n",
       "                    width = entry.contentBoxSize.inlineSize;\n",
       "                    height = entry.contentBoxSize.blockSize;\n",
       "                }\n",
       "            } else {\n",
       "                // Chrome <84 implements even older version of spec.\n",
       "                width = entry.contentRect.width;\n",
       "                height = entry.contentRect.height;\n",
       "            }\n",
       "\n",
       "            // Keep the size of the canvas and rubber band canvas in sync with\n",
       "            // the canvas container.\n",
       "            if (entry.devicePixelContentBoxSize) {\n",
       "                // Chrome 84 implements new version of spec.\n",
       "                canvas.setAttribute(\n",
       "                    'width',\n",
       "                    entry.devicePixelContentBoxSize[0].inlineSize\n",
       "                );\n",
       "                canvas.setAttribute(\n",
       "                    'height',\n",
       "                    entry.devicePixelContentBoxSize[0].blockSize\n",
       "                );\n",
       "            } else {\n",
       "                canvas.setAttribute('width', width * fig.ratio);\n",
       "                canvas.setAttribute('height', height * fig.ratio);\n",
       "            }\n",
       "            /* This rescales the canvas back to display pixels, so that it\n",
       "             * appears correct on HiDPI screens. */\n",
       "            canvas.style.width = width + 'px';\n",
       "            canvas.style.height = height + 'px';\n",
       "\n",
       "            rubberband_canvas.setAttribute('width', width);\n",
       "            rubberband_canvas.setAttribute('height', height);\n",
       "\n",
       "            // And update the size in Python. We ignore the initial 0/0 size\n",
       "            // that occurs as the element is placed into the DOM, which should\n",
       "            // otherwise not happen due to the minimum size styling.\n",
       "            if (fig.ws.readyState == 1 && width != 0 && height != 0) {\n",
       "                fig.request_resize(width, height);\n",
       "            }\n",
       "        }\n",
       "    });\n",
       "    this.resizeObserverInstance.observe(canvas_div);\n",
       "\n",
       "    function on_mouse_event_closure(name) {\n",
       "        /* User Agent sniffing is bad, but WebKit is busted:\n",
       "         * https://bugs.webkit.org/show_bug.cgi?id=144526\n",
       "         * https://bugs.webkit.org/show_bug.cgi?id=181818\n",
       "         * The worst that happens here is that they get an extra browser\n",
       "         * selection when dragging, if this check fails to catch them.\n",
       "         */\n",
       "        var UA = navigator.userAgent;\n",
       "        var isWebKit = /AppleWebKit/.test(UA) && !/Chrome/.test(UA);\n",
       "        if(isWebKit) {\n",
       "            return function (event) {\n",
       "                /* This prevents the web browser from automatically changing to\n",
       "                 * the text insertion cursor when the button is pressed. We\n",
       "                 * want to control all of the cursor setting manually through\n",
       "                 * the 'cursor' event from matplotlib */\n",
       "                event.preventDefault()\n",
       "                return fig.mouse_event(event, name);\n",
       "            };\n",
       "        } else {\n",
       "            return function (event) {\n",
       "                return fig.mouse_event(event, name);\n",
       "            };\n",
       "        }\n",
       "    }\n",
       "\n",
       "    canvas_div.addEventListener(\n",
       "        'mousedown',\n",
       "        on_mouse_event_closure('button_press')\n",
       "    );\n",
       "    canvas_div.addEventListener(\n",
       "        'mouseup',\n",
       "        on_mouse_event_closure('button_release')\n",
       "    );\n",
       "    canvas_div.addEventListener(\n",
       "        'dblclick',\n",
       "        on_mouse_event_closure('dblclick')\n",
       "    );\n",
       "    // Throttle sequential mouse events to 1 every 20ms.\n",
       "    canvas_div.addEventListener(\n",
       "        'mousemove',\n",
       "        on_mouse_event_closure('motion_notify')\n",
       "    );\n",
       "\n",
       "    canvas_div.addEventListener(\n",
       "        'mouseenter',\n",
       "        on_mouse_event_closure('figure_enter')\n",
       "    );\n",
       "    canvas_div.addEventListener(\n",
       "        'mouseleave',\n",
       "        on_mouse_event_closure('figure_leave')\n",
       "    );\n",
       "\n",
       "    canvas_div.addEventListener('wheel', function (event) {\n",
       "        if (event.deltaY < 0) {\n",
       "            event.step = 1;\n",
       "        } else {\n",
       "            event.step = -1;\n",
       "        }\n",
       "        on_mouse_event_closure('scroll')(event);\n",
       "    });\n",
       "\n",
       "    canvas_div.appendChild(canvas);\n",
       "    canvas_div.appendChild(rubberband_canvas);\n",
       "\n",
       "    this.rubberband_context = rubberband_canvas.getContext('2d');\n",
       "    this.rubberband_context.strokeStyle = '#000000';\n",
       "\n",
       "    this._resize_canvas = function (width, height, forward) {\n",
       "        if (forward) {\n",
       "            canvas_div.style.width = width + 'px';\n",
       "            canvas_div.style.height = height + 'px';\n",
       "        }\n",
       "    };\n",
       "\n",
       "    // Disable right mouse context menu.\n",
       "    canvas_div.addEventListener('contextmenu', function (_e) {\n",
       "        event.preventDefault();\n",
       "        return false;\n",
       "    });\n",
       "\n",
       "    function set_focus() {\n",
       "        canvas.focus();\n",
       "        canvas_div.focus();\n",
       "    }\n",
       "\n",
       "    window.setTimeout(set_focus, 100);\n",
       "};\n",
       "\n",
       "mpl.figure.prototype._init_toolbar = function () {\n",
       "    var fig = this;\n",
       "\n",
       "    var toolbar = document.createElement('div');\n",
       "    toolbar.classList = 'mpl-toolbar';\n",
       "    this.root.appendChild(toolbar);\n",
       "\n",
       "    function on_click_closure(name) {\n",
       "        return function (_event) {\n",
       "            return fig.toolbar_button_onclick(name);\n",
       "        };\n",
       "    }\n",
       "\n",
       "    function on_mouseover_closure(tooltip) {\n",
       "        return function (event) {\n",
       "            if (!event.currentTarget.disabled) {\n",
       "                return fig.toolbar_button_onmouseover(tooltip);\n",
       "            }\n",
       "        };\n",
       "    }\n",
       "\n",
       "    fig.buttons = {};\n",
       "    var buttonGroup = document.createElement('div');\n",
       "    buttonGroup.classList = 'mpl-button-group';\n",
       "    for (var toolbar_ind in mpl.toolbar_items) {\n",
       "        var name = mpl.toolbar_items[toolbar_ind][0];\n",
       "        var tooltip = mpl.toolbar_items[toolbar_ind][1];\n",
       "        var image = mpl.toolbar_items[toolbar_ind][2];\n",
       "        var method_name = mpl.toolbar_items[toolbar_ind][3];\n",
       "\n",
       "        if (!name) {\n",
       "            /* Instead of a spacer, we start a new button group. */\n",
       "            if (buttonGroup.hasChildNodes()) {\n",
       "                toolbar.appendChild(buttonGroup);\n",
       "            }\n",
       "            buttonGroup = document.createElement('div');\n",
       "            buttonGroup.classList = 'mpl-button-group';\n",
       "            continue;\n",
       "        }\n",
       "\n",
       "        var button = (fig.buttons[name] = document.createElement('button'));\n",
       "        button.classList = 'mpl-widget';\n",
       "        button.setAttribute('role', 'button');\n",
       "        button.setAttribute('aria-disabled', 'false');\n",
       "        button.addEventListener('click', on_click_closure(method_name));\n",
       "        button.addEventListener('mouseover', on_mouseover_closure(tooltip));\n",
       "\n",
       "        var icon_img = document.createElement('img');\n",
       "        icon_img.src = '_images/' + image + '.png';\n",
       "        icon_img.srcset = '_images/' + image + '_large.png 2x';\n",
       "        icon_img.alt = tooltip;\n",
       "        button.appendChild(icon_img);\n",
       "\n",
       "        buttonGroup.appendChild(button);\n",
       "    }\n",
       "\n",
       "    if (buttonGroup.hasChildNodes()) {\n",
       "        toolbar.appendChild(buttonGroup);\n",
       "    }\n",
       "\n",
       "    var fmt_picker = document.createElement('select');\n",
       "    fmt_picker.classList = 'mpl-widget';\n",
       "    toolbar.appendChild(fmt_picker);\n",
       "    this.format_dropdown = fmt_picker;\n",
       "\n",
       "    for (var ind in mpl.extensions) {\n",
       "        var fmt = mpl.extensions[ind];\n",
       "        var option = document.createElement('option');\n",
       "        option.selected = fmt === mpl.default_extension;\n",
       "        option.innerHTML = fmt;\n",
       "        fmt_picker.appendChild(option);\n",
       "    }\n",
       "\n",
       "    var status_bar = document.createElement('span');\n",
       "    status_bar.classList = 'mpl-message';\n",
       "    toolbar.appendChild(status_bar);\n",
       "    this.message = status_bar;\n",
       "};\n",
       "\n",
       "mpl.figure.prototype.request_resize = function (x_pixels, y_pixels) {\n",
       "    // Request matplotlib to resize the figure. Matplotlib will then trigger a resize in the client,\n",
       "    // which will in turn request a refresh of the image.\n",
       "    this.send_message('resize', { width: x_pixels, height: y_pixels });\n",
       "};\n",
       "\n",
       "mpl.figure.prototype.send_message = function (type, properties) {\n",
       "    properties['type'] = type;\n",
       "    properties['figure_id'] = this.id;\n",
       "    this.ws.send(JSON.stringify(properties));\n",
       "};\n",
       "\n",
       "mpl.figure.prototype.send_draw_message = function () {\n",
       "    if (!this.waiting) {\n",
       "        this.waiting = true;\n",
       "        this.ws.send(JSON.stringify({ type: 'draw', figure_id: this.id }));\n",
       "    }\n",
       "};\n",
       "\n",
       "mpl.figure.prototype.handle_save = function (fig, _msg) {\n",
       "    var format_dropdown = fig.format_dropdown;\n",
       "    var format = format_dropdown.options[format_dropdown.selectedIndex].value;\n",
       "    fig.ondownload(fig, format);\n",
       "};\n",
       "\n",
       "mpl.figure.prototype.handle_resize = function (fig, msg) {\n",
       "    var size = msg['size'];\n",
       "    if (size[0] !== fig.canvas.width || size[1] !== fig.canvas.height) {\n",
       "        fig._resize_canvas(size[0], size[1], msg['forward']);\n",
       "        fig.send_message('refresh', {});\n",
       "    }\n",
       "};\n",
       "\n",
       "mpl.figure.prototype.handle_rubberband = function (fig, msg) {\n",
       "    var x0 = msg['x0'] / fig.ratio;\n",
       "    var y0 = (fig.canvas.height - msg['y0']) / fig.ratio;\n",
       "    var x1 = msg['x1'] / fig.ratio;\n",
       "    var y1 = (fig.canvas.height - msg['y1']) / fig.ratio;\n",
       "    x0 = Math.floor(x0) + 0.5;\n",
       "    y0 = Math.floor(y0) + 0.5;\n",
       "    x1 = Math.floor(x1) + 0.5;\n",
       "    y1 = Math.floor(y1) + 0.5;\n",
       "    var min_x = Math.min(x0, x1);\n",
       "    var min_y = Math.min(y0, y1);\n",
       "    var width = Math.abs(x1 - x0);\n",
       "    var height = Math.abs(y1 - y0);\n",
       "\n",
       "    fig.rubberband_context.clearRect(\n",
       "        0,\n",
       "        0,\n",
       "        fig.canvas.width / fig.ratio,\n",
       "        fig.canvas.height / fig.ratio\n",
       "    );\n",
       "\n",
       "    fig.rubberband_context.strokeRect(min_x, min_y, width, height);\n",
       "};\n",
       "\n",
       "mpl.figure.prototype.handle_figure_label = function (fig, msg) {\n",
       "    // Updates the figure title.\n",
       "    fig.header.textContent = msg['label'];\n",
       "};\n",
       "\n",
       "mpl.figure.prototype.handle_cursor = function (fig, msg) {\n",
       "    fig.canvas_div.style.cursor = msg['cursor'];\n",
       "};\n",
       "\n",
       "mpl.figure.prototype.handle_message = function (fig, msg) {\n",
       "    fig.message.textContent = msg['message'];\n",
       "};\n",
       "\n",
       "mpl.figure.prototype.handle_draw = function (fig, _msg) {\n",
       "    // Request the server to send over a new figure.\n",
       "    fig.send_draw_message();\n",
       "};\n",
       "\n",
       "mpl.figure.prototype.handle_image_mode = function (fig, msg) {\n",
       "    fig.image_mode = msg['mode'];\n",
       "};\n",
       "\n",
       "mpl.figure.prototype.handle_history_buttons = function (fig, msg) {\n",
       "    for (var key in msg) {\n",
       "        if (!(key in fig.buttons)) {\n",
       "            continue;\n",
       "        }\n",
       "        fig.buttons[key].disabled = !msg[key];\n",
       "        fig.buttons[key].setAttribute('aria-disabled', !msg[key]);\n",
       "    }\n",
       "};\n",
       "\n",
       "mpl.figure.prototype.handle_navigate_mode = function (fig, msg) {\n",
       "    if (msg['mode'] === 'PAN') {\n",
       "        fig.buttons['Pan'].classList.add('active');\n",
       "        fig.buttons['Zoom'].classList.remove('active');\n",
       "    } else if (msg['mode'] === 'ZOOM') {\n",
       "        fig.buttons['Pan'].classList.remove('active');\n",
       "        fig.buttons['Zoom'].classList.add('active');\n",
       "    } else {\n",
       "        fig.buttons['Pan'].classList.remove('active');\n",
       "        fig.buttons['Zoom'].classList.remove('active');\n",
       "    }\n",
       "};\n",
       "\n",
       "mpl.figure.prototype.updated_canvas_event = function () {\n",
       "    // Called whenever the canvas gets updated.\n",
       "    this.send_message('ack', {});\n",
       "};\n",
       "\n",
       "// A function to construct a web socket function for onmessage handling.\n",
       "// Called in the figure constructor.\n",
       "mpl.figure.prototype._make_on_message_function = function (fig) {\n",
       "    return function socket_on_message(evt) {\n",
       "        if (evt.data instanceof Blob) {\n",
       "            var img = evt.data;\n",
       "            if (img.type !== 'image/png') {\n",
       "                /* FIXME: We get \"Resource interpreted as Image but\n",
       "                 * transferred with MIME type text/plain:\" errors on\n",
       "                 * Chrome.  But how to set the MIME type?  It doesn't seem\n",
       "                 * to be part of the websocket stream */\n",
       "                img.type = 'image/png';\n",
       "            }\n",
       "\n",
       "            /* Free the memory for the previous frames */\n",
       "            if (fig.imageObj.src) {\n",
       "                (window.URL || window.webkitURL).revokeObjectURL(\n",
       "                    fig.imageObj.src\n",
       "                );\n",
       "            }\n",
       "\n",
       "            fig.imageObj.src = (window.URL || window.webkitURL).createObjectURL(\n",
       "                img\n",
       "            );\n",
       "            fig.updated_canvas_event();\n",
       "            fig.waiting = false;\n",
       "            return;\n",
       "        } else if (\n",
       "            typeof evt.data === 'string' &&\n",
       "            evt.data.slice(0, 21) === 'data:image/png;base64'\n",
       "        ) {\n",
       "            fig.imageObj.src = evt.data;\n",
       "            fig.updated_canvas_event();\n",
       "            fig.waiting = false;\n",
       "            return;\n",
       "        }\n",
       "\n",
       "        var msg = JSON.parse(evt.data);\n",
       "        var msg_type = msg['type'];\n",
       "\n",
       "        // Call the  \"handle_{type}\" callback, which takes\n",
       "        // the figure and JSON message as its only arguments.\n",
       "        try {\n",
       "            var callback = fig['handle_' + msg_type];\n",
       "        } catch (e) {\n",
       "            console.log(\n",
       "                \"No handler for the '\" + msg_type + \"' message type: \",\n",
       "                msg\n",
       "            );\n",
       "            return;\n",
       "        }\n",
       "\n",
       "        if (callback) {\n",
       "            try {\n",
       "                // console.log(\"Handling '\" + msg_type + \"' message: \", msg);\n",
       "                callback(fig, msg);\n",
       "            } catch (e) {\n",
       "                console.log(\n",
       "                    \"Exception inside the 'handler_\" + msg_type + \"' callback:\",\n",
       "                    e,\n",
       "                    e.stack,\n",
       "                    msg\n",
       "                );\n",
       "            }\n",
       "        }\n",
       "    };\n",
       "};\n",
       "\n",
       "function getModifiers(event) {\n",
       "    var mods = [];\n",
       "    if (event.ctrlKey) {\n",
       "        mods.push('ctrl');\n",
       "    }\n",
       "    if (event.altKey) {\n",
       "        mods.push('alt');\n",
       "    }\n",
       "    if (event.shiftKey) {\n",
       "        mods.push('shift');\n",
       "    }\n",
       "    if (event.metaKey) {\n",
       "        mods.push('meta');\n",
       "    }\n",
       "    return mods;\n",
       "}\n",
       "\n",
       "/*\n",
       " * return a copy of an object with only non-object keys\n",
       " * we need this to avoid circular references\n",
       " * https://stackoverflow.com/a/24161582/3208463\n",
       " */\n",
       "function simpleKeys(original) {\n",
       "    return Object.keys(original).reduce(function (obj, key) {\n",
       "        if (typeof original[key] !== 'object') {\n",
       "            obj[key] = original[key];\n",
       "        }\n",
       "        return obj;\n",
       "    }, {});\n",
       "}\n",
       "\n",
       "mpl.figure.prototype.mouse_event = function (event, name) {\n",
       "    if (name === 'button_press') {\n",
       "        this.canvas.focus();\n",
       "        this.canvas_div.focus();\n",
       "    }\n",
       "\n",
       "    // from https://stackoverflow.com/q/1114465\n",
       "    var boundingRect = this.canvas.getBoundingClientRect();\n",
       "    var x = (event.clientX - boundingRect.left) * this.ratio;\n",
       "    var y = (event.clientY - boundingRect.top) * this.ratio;\n",
       "\n",
       "    this.send_message(name, {\n",
       "        x: x,\n",
       "        y: y,\n",
       "        button: event.button,\n",
       "        step: event.step,\n",
       "        modifiers: getModifiers(event),\n",
       "        guiEvent: simpleKeys(event),\n",
       "    });\n",
       "\n",
       "    return false;\n",
       "};\n",
       "\n",
       "mpl.figure.prototype._key_event_extra = function (_event, _name) {\n",
       "    // Handle any extra behaviour associated with a key event\n",
       "};\n",
       "\n",
       "mpl.figure.prototype.key_event = function (event, name) {\n",
       "    // Prevent repeat events\n",
       "    if (name === 'key_press') {\n",
       "        if (event.key === this._key) {\n",
       "            return;\n",
       "        } else {\n",
       "            this._key = event.key;\n",
       "        }\n",
       "    }\n",
       "    if (name === 'key_release') {\n",
       "        this._key = null;\n",
       "    }\n",
       "\n",
       "    var value = '';\n",
       "    if (event.ctrlKey && event.key !== 'Control') {\n",
       "        value += 'ctrl+';\n",
       "    }\n",
       "    else if (event.altKey && event.key !== 'Alt') {\n",
       "        value += 'alt+';\n",
       "    }\n",
       "    else if (event.shiftKey && event.key !== 'Shift') {\n",
       "        value += 'shift+';\n",
       "    }\n",
       "\n",
       "    value += 'k' + event.key;\n",
       "\n",
       "    this._key_event_extra(event, name);\n",
       "\n",
       "    this.send_message(name, { key: value, guiEvent: simpleKeys(event) });\n",
       "    return false;\n",
       "};\n",
       "\n",
       "mpl.figure.prototype.toolbar_button_onclick = function (name) {\n",
       "    if (name === 'download') {\n",
       "        this.handle_save(this, null);\n",
       "    } else {\n",
       "        this.send_message('toolbar_button', { name: name });\n",
       "    }\n",
       "};\n",
       "\n",
       "mpl.figure.prototype.toolbar_button_onmouseover = function (tooltip) {\n",
       "    this.message.textContent = tooltip;\n",
       "};\n",
       "\n",
       "///////////////// REMAINING CONTENT GENERATED BY embed_js.py /////////////////\n",
       "// prettier-ignore\n",
       "var _JSXTOOLS_RESIZE_OBSERVER=function(A){var t,i=new WeakMap,n=new WeakMap,a=new WeakMap,r=new WeakMap,o=new Set;function s(e){if(!(this instanceof s))throw new TypeError(\"Constructor requires 'new' operator\");i.set(this,e)}function h(){throw new TypeError(\"Function is not a constructor\")}function c(e,t,i,n){e=0 in arguments?Number(arguments[0]):0,t=1 in arguments?Number(arguments[1]):0,i=2 in arguments?Number(arguments[2]):0,n=3 in arguments?Number(arguments[3]):0,this.right=(this.x=this.left=e)+(this.width=i),this.bottom=(this.y=this.top=t)+(this.height=n),Object.freeze(this)}function d(){t=requestAnimationFrame(d);var s=new WeakMap,p=new Set;o.forEach((function(t){r.get(t).forEach((function(i){var r=t instanceof window.SVGElement,o=a.get(t),d=r?0:parseFloat(o.paddingTop),f=r?0:parseFloat(o.paddingRight),l=r?0:parseFloat(o.paddingBottom),u=r?0:parseFloat(o.paddingLeft),g=r?0:parseFloat(o.borderTopWidth),m=r?0:parseFloat(o.borderRightWidth),w=r?0:parseFloat(o.borderBottomWidth),b=u+f,F=d+l,v=(r?0:parseFloat(o.borderLeftWidth))+m,W=g+w,y=r?0:t.offsetHeight-W-t.clientHeight,E=r?0:t.offsetWidth-v-t.clientWidth,R=b+v,z=F+W,M=r?t.width:parseFloat(o.width)-R-E,O=r?t.height:parseFloat(o.height)-z-y;if(n.has(t)){var k=n.get(t);if(k[0]===M&&k[1]===O)return}n.set(t,[M,O]);var S=Object.create(h.prototype);S.target=t,S.contentRect=new c(u,d,M,O),s.has(i)||(s.set(i,[]),p.add(i)),s.get(i).push(S)}))})),p.forEach((function(e){i.get(e).call(e,s.get(e),e)}))}return s.prototype.observe=function(i){if(i instanceof window.Element){r.has(i)||(r.set(i,new Set),o.add(i),a.set(i,window.getComputedStyle(i)));var n=r.get(i);n.has(this)||n.add(this),cancelAnimationFrame(t),t=requestAnimationFrame(d)}},s.prototype.unobserve=function(i){if(i instanceof window.Element&&r.has(i)){var n=r.get(i);n.has(this)&&(n.delete(this),n.size||(r.delete(i),o.delete(i))),n.size||r.delete(i),o.size||cancelAnimationFrame(t)}},A.DOMRectReadOnly=c,A.ResizeObserver=s,A.ResizeObserverEntry=h,A}; // eslint-disable-line\n",
       "mpl.toolbar_items = [[\"Home\", \"Reset original view\", \"fa fa-home\", \"home\"], [\"Back\", \"Back to previous view\", \"fa fa-arrow-left\", \"back\"], [\"Forward\", \"Forward to next view\", \"fa fa-arrow-right\", \"forward\"], [\"\", \"\", \"\", \"\"], [\"Pan\", \"Left button pans, Right button zooms\\nx/y fixes axis, CTRL fixes aspect\", \"fa fa-arrows\", \"pan\"], [\"Zoom\", \"Zoom to rectangle\\nx/y fixes axis\", \"fa fa-square-o\", \"zoom\"], [\"\", \"\", \"\", \"\"], [\"Download\", \"Download plot\", \"fa fa-floppy-o\", \"download\"]];\n",
       "\n",
       "mpl.extensions = [\"eps\", \"jpeg\", \"pgf\", \"pdf\", \"png\", \"ps\", \"raw\", \"svg\", \"tif\", \"webp\"];\n",
       "\n",
       "mpl.default_extension = \"png\";/* global mpl */\n",
       "\n",
       "var comm_websocket_adapter = function (comm) {\n",
       "    // Create a \"websocket\"-like object which calls the given IPython comm\n",
       "    // object with the appropriate methods. Currently this is a non binary\n",
       "    // socket, so there is still some room for performance tuning.\n",
       "    var ws = {};\n",
       "\n",
       "    ws.binaryType = comm.kernel.ws.binaryType;\n",
       "    ws.readyState = comm.kernel.ws.readyState;\n",
       "    function updateReadyState(_event) {\n",
       "        if (comm.kernel.ws) {\n",
       "            ws.readyState = comm.kernel.ws.readyState;\n",
       "        } else {\n",
       "            ws.readyState = 3; // Closed state.\n",
       "        }\n",
       "    }\n",
       "    comm.kernel.ws.addEventListener('open', updateReadyState);\n",
       "    comm.kernel.ws.addEventListener('close', updateReadyState);\n",
       "    comm.kernel.ws.addEventListener('error', updateReadyState);\n",
       "\n",
       "    ws.close = function () {\n",
       "        comm.close();\n",
       "    };\n",
       "    ws.send = function (m) {\n",
       "        //console.log('sending', m);\n",
       "        comm.send(m);\n",
       "    };\n",
       "    // Register the callback with on_msg.\n",
       "    comm.on_msg(function (msg) {\n",
       "        //console.log('receiving', msg['content']['data'], msg);\n",
       "        var data = msg['content']['data'];\n",
       "        if (data['blob'] !== undefined) {\n",
       "            data = {\n",
       "                data: new Blob(msg['buffers'], { type: data['blob'] }),\n",
       "            };\n",
       "        }\n",
       "        // Pass the mpl event to the overridden (by mpl) onmessage function.\n",
       "        ws.onmessage(data);\n",
       "    });\n",
       "    return ws;\n",
       "};\n",
       "\n",
       "mpl.mpl_figure_comm = function (comm, msg) {\n",
       "    // This is the function which gets called when the mpl process\n",
       "    // starts-up an IPython Comm through the \"matplotlib\" channel.\n",
       "\n",
       "    var id = msg.content.data.id;\n",
       "    // Get hold of the div created by the display call when the Comm\n",
       "    // socket was opened in Python.\n",
       "    var element = document.getElementById(id);\n",
       "    var ws_proxy = comm_websocket_adapter(comm);\n",
       "\n",
       "    function ondownload(figure, _format) {\n",
       "        window.open(figure.canvas.toDataURL());\n",
       "    }\n",
       "\n",
       "    var fig = new mpl.figure(id, ws_proxy, ondownload, element);\n",
       "\n",
       "    // Call onopen now - mpl needs it, as it is assuming we've passed it a real\n",
       "    // web socket which is closed, not our websocket->open comm proxy.\n",
       "    ws_proxy.onopen();\n",
       "\n",
       "    fig.parent_element = element;\n",
       "    fig.cell_info = mpl.find_output_cell(\"<div id='\" + id + \"'></div>\");\n",
       "    if (!fig.cell_info) {\n",
       "        console.error('Failed to find cell for figure', id, fig);\n",
       "        return;\n",
       "    }\n",
       "    fig.cell_info[0].output_area.element.on(\n",
       "        'cleared',\n",
       "        { fig: fig },\n",
       "        fig._remove_fig_handler\n",
       "    );\n",
       "};\n",
       "\n",
       "mpl.figure.prototype.handle_close = function (fig, msg) {\n",
       "    var width = fig.canvas.width / fig.ratio;\n",
       "    fig.cell_info[0].output_area.element.off(\n",
       "        'cleared',\n",
       "        fig._remove_fig_handler\n",
       "    );\n",
       "    fig.resizeObserverInstance.unobserve(fig.canvas_div);\n",
       "\n",
       "    // Update the output cell to use the data from the current canvas.\n",
       "    fig.push_to_output();\n",
       "    var dataURL = fig.canvas.toDataURL();\n",
       "    // Re-enable the keyboard manager in IPython - without this line, in FF,\n",
       "    // the notebook keyboard shortcuts fail.\n",
       "    IPython.keyboard_manager.enable();\n",
       "    fig.parent_element.innerHTML =\n",
       "        '<img src=\"' + dataURL + '\" width=\"' + width + '\">';\n",
       "    fig.close_ws(fig, msg);\n",
       "};\n",
       "\n",
       "mpl.figure.prototype.close_ws = function (fig, msg) {\n",
       "    fig.send_message('closing', msg);\n",
       "    // fig.ws.close()\n",
       "};\n",
       "\n",
       "mpl.figure.prototype.push_to_output = function (_remove_interactive) {\n",
       "    // Turn the data on the canvas into data in the output cell.\n",
       "    var width = this.canvas.width / this.ratio;\n",
       "    var dataURL = this.canvas.toDataURL();\n",
       "    this.cell_info[1]['text/html'] =\n",
       "        '<img src=\"' + dataURL + '\" width=\"' + width + '\">';\n",
       "};\n",
       "\n",
       "mpl.figure.prototype.updated_canvas_event = function () {\n",
       "    // Tell IPython that the notebook contents must change.\n",
       "    IPython.notebook.set_dirty(true);\n",
       "    this.send_message('ack', {});\n",
       "    var fig = this;\n",
       "    // Wait a second, then push the new image to the DOM so\n",
       "    // that it is saved nicely (might be nice to debounce this).\n",
       "    setTimeout(function () {\n",
       "        fig.push_to_output();\n",
       "    }, 1000);\n",
       "};\n",
       "\n",
       "mpl.figure.prototype._init_toolbar = function () {\n",
       "    var fig = this;\n",
       "\n",
       "    var toolbar = document.createElement('div');\n",
       "    toolbar.classList = 'btn-toolbar';\n",
       "    this.root.appendChild(toolbar);\n",
       "\n",
       "    function on_click_closure(name) {\n",
       "        return function (_event) {\n",
       "            return fig.toolbar_button_onclick(name);\n",
       "        };\n",
       "    }\n",
       "\n",
       "    function on_mouseover_closure(tooltip) {\n",
       "        return function (event) {\n",
       "            if (!event.currentTarget.disabled) {\n",
       "                return fig.toolbar_button_onmouseover(tooltip);\n",
       "            }\n",
       "        };\n",
       "    }\n",
       "\n",
       "    fig.buttons = {};\n",
       "    var buttonGroup = document.createElement('div');\n",
       "    buttonGroup.classList = 'btn-group';\n",
       "    var button;\n",
       "    for (var toolbar_ind in mpl.toolbar_items) {\n",
       "        var name = mpl.toolbar_items[toolbar_ind][0];\n",
       "        var tooltip = mpl.toolbar_items[toolbar_ind][1];\n",
       "        var image = mpl.toolbar_items[toolbar_ind][2];\n",
       "        var method_name = mpl.toolbar_items[toolbar_ind][3];\n",
       "\n",
       "        if (!name) {\n",
       "            /* Instead of a spacer, we start a new button group. */\n",
       "            if (buttonGroup.hasChildNodes()) {\n",
       "                toolbar.appendChild(buttonGroup);\n",
       "            }\n",
       "            buttonGroup = document.createElement('div');\n",
       "            buttonGroup.classList = 'btn-group';\n",
       "            continue;\n",
       "        }\n",
       "\n",
       "        button = fig.buttons[name] = document.createElement('button');\n",
       "        button.classList = 'btn btn-default';\n",
       "        button.href = '#';\n",
       "        button.title = name;\n",
       "        button.innerHTML = '<i class=\"fa ' + image + ' fa-lg\"></i>';\n",
       "        button.addEventListener('click', on_click_closure(method_name));\n",
       "        button.addEventListener('mouseover', on_mouseover_closure(tooltip));\n",
       "        buttonGroup.appendChild(button);\n",
       "    }\n",
       "\n",
       "    if (buttonGroup.hasChildNodes()) {\n",
       "        toolbar.appendChild(buttonGroup);\n",
       "    }\n",
       "\n",
       "    // Add the status bar.\n",
       "    var status_bar = document.createElement('span');\n",
       "    status_bar.classList = 'mpl-message pull-right';\n",
       "    toolbar.appendChild(status_bar);\n",
       "    this.message = status_bar;\n",
       "\n",
       "    // Add the close button to the window.\n",
       "    var buttongrp = document.createElement('div');\n",
       "    buttongrp.classList = 'btn-group inline pull-right';\n",
       "    button = document.createElement('button');\n",
       "    button.classList = 'btn btn-mini btn-primary';\n",
       "    button.href = '#';\n",
       "    button.title = 'Stop Interaction';\n",
       "    button.innerHTML = '<i class=\"fa fa-power-off icon-remove icon-large\"></i>';\n",
       "    button.addEventListener('click', function (_evt) {\n",
       "        fig.handle_close(fig, {});\n",
       "    });\n",
       "    button.addEventListener(\n",
       "        'mouseover',\n",
       "        on_mouseover_closure('Stop Interaction')\n",
       "    );\n",
       "    buttongrp.appendChild(button);\n",
       "    var titlebar = this.root.querySelector('.ui-dialog-titlebar');\n",
       "    titlebar.insertBefore(buttongrp, titlebar.firstChild);\n",
       "};\n",
       "\n",
       "mpl.figure.prototype._remove_fig_handler = function (event) {\n",
       "    var fig = event.data.fig;\n",
       "    if (event.target !== this) {\n",
       "        // Ignore bubbled events from children.\n",
       "        return;\n",
       "    }\n",
       "    fig.close_ws(fig, {});\n",
       "};\n",
       "\n",
       "mpl.figure.prototype._root_extra_style = function (el) {\n",
       "    el.style.boxSizing = 'content-box'; // override notebook setting of border-box.\n",
       "};\n",
       "\n",
       "mpl.figure.prototype._canvas_extra_style = function (el) {\n",
       "    // this is important to make the div 'focusable\n",
       "    el.setAttribute('tabindex', 0);\n",
       "    // reach out to IPython and tell the keyboard manager to turn it's self\n",
       "    // off when our div gets focus\n",
       "\n",
       "    // location in version 3\n",
       "    if (IPython.notebook.keyboard_manager) {\n",
       "        IPython.notebook.keyboard_manager.register_events(el);\n",
       "    } else {\n",
       "        // location in version 2\n",
       "        IPython.keyboard_manager.register_events(el);\n",
       "    }\n",
       "};\n",
       "\n",
       "mpl.figure.prototype._key_event_extra = function (event, _name) {\n",
       "    // Check for shift+enter\n",
       "    if (event.shiftKey && event.which === 13) {\n",
       "        this.canvas_div.blur();\n",
       "        // select the cell after this one\n",
       "        var index = IPython.notebook.find_cell_index(this.cell_info[0]);\n",
       "        IPython.notebook.select(index + 1);\n",
       "    }\n",
       "};\n",
       "\n",
       "mpl.figure.prototype.handle_save = function (fig, _msg) {\n",
       "    fig.ondownload(fig, null);\n",
       "};\n",
       "\n",
       "mpl.find_output_cell = function (html_output) {\n",
       "    // Return the cell and output element which can be found *uniquely* in the notebook.\n",
       "    // Note - this is a bit hacky, but it is done because the \"notebook_saving.Notebook\"\n",
       "    // IPython event is triggered only after the cells have been serialised, which for\n",
       "    // our purposes (turning an active figure into a static one), is too late.\n",
       "    var cells = IPython.notebook.get_cells();\n",
       "    var ncells = cells.length;\n",
       "    for (var i = 0; i < ncells; i++) {\n",
       "        var cell = cells[i];\n",
       "        if (cell.cell_type === 'code') {\n",
       "            for (var j = 0; j < cell.output_area.outputs.length; j++) {\n",
       "                var data = cell.output_area.outputs[j];\n",
       "                if (data.data) {\n",
       "                    // IPython >= 3 moved mimebundle to data attribute of output\n",
       "                    data = data.data;\n",
       "                }\n",
       "                if (data['text/html'] === html_output) {\n",
       "                    return [cell, data, j];\n",
       "                }\n",
       "            }\n",
       "        }\n",
       "    }\n",
       "};\n",
       "\n",
       "// Register the function which deals with the matplotlib target/channel.\n",
       "// The kernel may be null if the page has been refreshed.\n",
       "if (IPython.notebook.kernel !== null) {\n",
       "    IPython.notebook.kernel.comm_manager.register_target(\n",
       "        'matplotlib',\n",
       "        mpl.mpl_figure_comm\n",
       "    );\n",
       "}\n"
      ],
      "text/plain": [
       "<IPython.core.display.Javascript object>"
      ]
     },
     "metadata": {},
     "output_type": "display_data"
    },
    {
     "data": {
      "text/html": [
       "<img src=\"data:image/png;base64,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\" width=\"640\">"
      ],
      "text/plain": [
       "<IPython.core.display.HTML object>"
      ]
     },
     "metadata": {},
     "output_type": "display_data"
    }
   ],
   "source": [
    "%matplotlib notebook\n",
    "\n",
    "from mpl_toolkits.mplot3d import axes3d\n",
    "\n",
    "fig = plt.figure()\n",
    "\n",
    "ax = fig.add_subplot(111, projection='3d')\n",
    "\n",
    "ax.scatter(projected[:,0], projected[:,1], projected[:,2],\n",
    "           c=y_train, cmap=mpl.colormaps['Spectral'])\n",
    "\n",
    "plt.show()"
   ]
  },
  {
   "cell_type": "code",
   "execution_count": 29,
   "id": "531cc865",
   "metadata": {},
   "outputs": [
    {
     "data": {
      "text/plain": [
       "array([0.14073392, 0.13515743, 0.09274768])"
      ]
     },
     "execution_count": 29,
     "metadata": {},
     "output_type": "execute_result"
    }
   ],
   "source": [
    "pca.explained_variance_ratio_"
   ]
  },
  {
   "cell_type": "code",
   "execution_count": 30,
   "id": "fc11229f",
   "metadata": {},
   "outputs": [],
   "source": [
    "pca = PCA(2)\n",
    "projected = pca.fit_transform(X_train_scaled_temp)"
   ]
  },
  {
   "cell_type": "code",
   "execution_count": 33,
   "id": "b291034a",
   "metadata": {},
   "outputs": [
    {
     "data": {
      "image/png": "[encoded data removed]",
      "text/plain": [
       "<Figure size 640x480 with 1 Axes>"
      ]
     },
     "metadata": {},
     "output_type": "display_data"
    }
   ],
   "source": [
    "%matplotlib inline\n",
    "\n",
    "fig = plt.figure()\n",
    "\n",
    "ax = fig.add_subplot()\n",
    "\n",
    "ax.scatter(projected[mask_true,0], projected[mask_true,1], c='red', label='Diabbetic')\n",
    "#ax.scatter(projected[~mask_true,0], projected[~mask_true,1], c='blue', label='Non Diabetic')\n",
    "\n",
    "plt.legend()\n",
    "\n",
    "plt.show()"
   ]
  },
  {
   "cell_type": "code",
   "execution_count": 34,
   "id": "4ad59dfe",
   "metadata": {},
   "outputs": [
    {
     "data": {
      "image/png": "[encoded data removed]",
      "text/plain": [
       "<Figure size 640x480 with 1 Axes>"
      ]
     },
     "metadata": {},
     "output_type": "display_data"
    }
   ],
   "source": [
    "%matplotlib inline\n",
    "\n",
    "fig = plt.figure()\n",
    "\n",
    "ax = fig.add_subplot()\n",
    "\n",
    "#ax.scatter(projected[mask_true,0], projected[mask_true,1], c='red', label='Diabbetic')\n",
    "ax.scatter(projected[~mask_true,0], projected[~mask_true,1], c='blue', label='Non Diabetic')\n",
    "\n",
    "plt.legend()\n",
    "\n",
    "plt.show()"
   ]
  },
  {
   "cell_type": "code",
   "execution_count": 35,
   "id": "409bed39",
   "metadata": {},
   "outputs": [
    {
     "data": {
      "text/plain": [
       "(86500, 2)"
      ]
     },
     "execution_count": 35,
     "metadata": {},
     "output_type": "execute_result"
    }
   ],
   "source": [
    "projected.shape"
   ]
  },
  {
   "cell_type": "code",
   "execution_count": 36,
   "id": "0cbcac54",
   "metadata": {},
   "outputs": [
    {
     "data": {
      "text/plain": [
       "(86500,)"
      ]
     },
     "execution_count": 36,
     "metadata": {},
     "output_type": "execute_result"
    }
   ],
   "source": [
    "y_train.shape"
   ]
  },
  {
   "cell_type": "code",
   "execution_count": null,
   "id": "fc3f83f9",
   "metadata": {},
   "outputs": [],
   "source": []
  },
  {
   "cell_type": "code",
   "execution_count": null,
   "id": "161413c1",
   "metadata": {},
   "outputs": [],
   "source": []
  },
  {
   "cell_type": "markdown",
   "id": "050753ac",
   "metadata": {},
   "source": [
    "##### Treating imbalance in the Target Variable"
   ]
  },
  {
   "cell_type": "code",
   "execution_count": 37,
   "id": "f763209e",
   "metadata": {},
   "outputs": [
    {
     "data": {
      "image/png": "[encoded data removed]",
      "text/plain": [
       "<Figure size 640x480 with 1 Axes>"
      ]
     },
     "metadata": {},
     "output_type": "display_data"
    }
   ],
   "source": [
    "sns.barplot(y_train.value_counts());"
   ]
  },
  {
   "cell_type": "markdown",
   "id": "7c94d102",
   "metadata": {},
   "source": [
    "The target variable is highly imbalanced. Therefore, we first treat this imbalance before continuing with logistic regression model"
   ]
  },
  {
   "cell_type": "code",
   "execution_count": 38,
   "id": "bdd9ff97",
   "metadata": {},
   "outputs": [],
   "source": [
    "from imblearn.over_sampling import SMOTE"
   ]
  },
  {
   "cell_type": "code",
   "execution_count": 39,
   "id": "fa095e85",
   "metadata": {},
   "outputs": [],
   "source": [
    "#SMOTE?"
   ]
  },
  {
   "cell_type": "code",
   "execution_count": 40,
   "id": "b27ec62d",
   "metadata": {},
   "outputs": [],
   "source": [
    "smt = SMOTE(sampling_strategy='minority', random_state=123)"
   ]
  },
  {
   "cell_type": "code",
   "execution_count": 41,
   "id": "1fcf51d3",
   "metadata": {},
   "outputs": [],
   "source": [
    "X_res, y_res = smt.fit_resample(X_train,y_train)"
   ]
  },
  {
   "cell_type": "code",
   "execution_count": 42,
   "id": "324b20de",
   "metadata": {},
   "outputs": [
    {
     "data": {
      "image/png": "[encoded data removed]",
      "text/plain": [
       "<Figure size 640x480 with 1 Axes>"
      ]
     },
     "metadata": {},
     "output_type": "display_data"
    }
   ],
   "source": [
    "sns.barplot(y_res.value_counts());"
   ]
  },
  {
   "cell_type": "markdown",
   "id": "ad2a38f8",
   "metadata": {},
   "source": [
    "##### Model Building"
   ]
  },
  {
   "cell_type": "code",
   "execution_count": 43,
   "id": "fb04dbda",
   "metadata": {},
   "outputs": [],
   "source": [
    "from sklearn.linear_model import LogisticRegression\n",
    "from sklearn.preprocessing import StandardScaler\n",
    "# Normalizing train features for training model.\n",
    "scaler = StandardScaler().fit(X_res)\n",
    "X_train_scaled = scaler.transform(X_res)\n",
    "\n",
    "model = LogisticRegression(C=0.001, max_iter=1000, tol=1e-20).fit(X_train_scaled, y_res)"
   ]
  },
  {
   "cell_type": "code",
   "execution_count": 44,
   "id": "ab11b130",
   "metadata": {},
   "outputs": [],
   "source": [
    "#LogisticRegression?"
   ]
  },
  {
   "cell_type": "markdown",
   "id": "8d96d98b",
   "metadata": {},
   "source": [
    "##### Model Evaluation\n",
    "\n",
    "We are going to carry out predictions on  our dev sets and also use our train set to verify if our model is overfitting or not. Then we would use the test evaluate our modeling finally on an entirely unseen data."
   ]
  },
  {
   "cell_type": "code",
   "execution_count": 45,
   "id": "da9903ea",
   "metadata": {},
   "outputs": [
    {
     "data": {
      "text/plain": [
       "0.8830628381190179"
      ]
     },
     "execution_count": 45,
     "metadata": {},
     "output_type": "execute_result"
    }
   ],
   "source": [
    "from sklearn.metrics import accuracy_score, f1_score\n",
    "\n",
    "y_pred = model.predict(scaler.transform(X_dev))\n",
    "accuracy_score(y_dev,y_pred)"
   ]
  },
  {
   "cell_type": "code",
   "execution_count": 46,
   "id": "e8b8ff02",
   "metadata": {},
   "outputs": [
    {
     "data": {
      "text/plain": [
       "0.566358024691358"
      ]
     },
     "execution_count": 46,
     "metadata": {},
     "output_type": "execute_result"
    }
   ],
   "source": [
    "f1_score(y_dev,y_pred)"
   ]
  },
  {
   "cell_type": "code",
   "execution_count": 47,
   "id": "1fff377a",
   "metadata": {},
   "outputs": [
    {
     "data": {
      "text/plain": [
       "0.8884025980616025"
      ]
     },
     "execution_count": 47,
     "metadata": {},
     "output_type": "execute_result"
    }
   ],
   "source": [
    "# Checking our train dataset --> Overfitting\n",
    "y_train_pred = model.predict(X_train_scaled)\n",
    "accuracy_score(y_res,y_train_pred)"
   ]
  },
  {
   "cell_type": "code",
   "execution_count": 48,
   "id": "c5af7053",
   "metadata": {},
   "outputs": [
    {
     "data": {
      "text/plain": [
       "0.8887793160123902"
      ]
     },
     "execution_count": 48,
     "metadata": {},
     "output_type": "execute_result"
    }
   ],
   "source": [
    "f1_score(y_res,y_train_pred)"
   ]
  },
  {
   "cell_type": "code",
   "execution_count": 49,
   "id": "b79652e5",
   "metadata": {},
   "outputs": [
    {
     "data": {
      "text/plain": [
       "0.8859758635039534"
      ]
     },
     "execution_count": 49,
     "metadata": {},
     "output_type": "execute_result"
    }
   ],
   "source": [
    "# Finally trying on test dataset\n",
    "\n",
    "y_test_pred = model.predict(scaler.transform(X_test))\n",
    "accuracy_score(y_test, y_test_pred)\n"
   ]
  },
  {
   "cell_type": "code",
   "execution_count": 50,
   "id": "c6cc967a",
   "metadata": {},
   "outputs": [
    {
     "data": {
      "text/plain": [
       "0.5500821018062397"
      ]
     },
     "execution_count": 50,
     "metadata": {},
     "output_type": "execute_result"
    }
   ],
   "source": [
    "f1_score(y_test,y_test_pred)"
   ]
  },
  {
   "cell_type": "markdown",
   "id": "14c5547f",
   "metadata": {},
   "source": [
    "#### Confusion Matrix for Method 1"
   ]
  },
  {
   "cell_type": "code",
   "execution_count": 51,
   "id": "0191d51b",
   "metadata": {},
   "outputs": [
    {
     "data": {
      "image/png": "[encoded data removed]",
      "text/plain": [
       "<Figure size 700x500 with 1 Axes>"
      ]
     },
     "metadata": {},
     "output_type": "display_data"
    }
   ],
   "source": [
    "color  = ['#3355FF','#00FF00','#0D004D','#00bfff','#ffcc99','#006600']\n",
    "# sns.countplot(x='Purchased', data = insurance, palette = color[2:4]);\n",
    "\n",
    "\n",
    "def ConfusionMatrix(ytest, ypred, label: [str, str] = [\"Negative\", \"Positive\"]):\n",
    "    \"A beautiful confusion matrix function to check the model performance\"\n",
    "    from sklearn.metrics import confusion_matrix\n",
    "    import seaborn as sns\n",
    "    cm = confusion_matrix(ytest, ypred)\n",
    "    plt.figure(figsize=(7,5))\n",
    "    sns.heatmap(cm, annot = True, cbar = False, fmt = 'd', cmap = 'Blues_r')\n",
    "    plt.xlabel('Predicted',font = 'Century Gothic', fontsize = 13)\n",
    "    plt.ylabel('Actual', font = 'Century Gothic', fontsize = 13)\n",
    "    plt.xticks([0.5, 1.5], label)\n",
    "    plt.yticks([0.5, 1.5], label)\n",
    "    plt.title('Confusion matrix for Dabiates Prediction', font = \"Century Gothic\", fontsize = 15,fontweight = 'bold');\n",
    "\n",
    "\n",
    "ConfusionMatrix(y_test, y_test_pred, label = [\"Normal\", \"Diabetic\"])"
   ]
  },
  {
   "cell_type": "markdown",
   "id": "12c5f897",
   "metadata": {},
   "source": [
    "### Method 2 - Cross Validation"
   ]
  },
  {
   "cell_type": "markdown",
   "id": "632440cd",
   "metadata": {},
   "source": [
    "We have a total of 10,000 datasets, we would carry out cross validation to make sure we immerse the whole of our dataset into model training and test. For this we would have a kfold of 5."
   ]
  },
  {
   "cell_type": "code",
   "execution_count": 52,
   "id": "27ee24cb",
   "metadata": {},
   "outputs": [],
   "source": [
    "from sklearn.model_selection import train_test_split\n",
    "X_train_val, X_test, y_train_val, y_test = train_test_split(X, y, test_size=0.2, random_state=123)"
   ]
  },
  {
   "cell_type": "markdown",
   "id": "09899f46",
   "metadata": {},
   "source": [
    "#### Cross Validation using F1 score as evaluation metrics"
   ]
  },
  {
   "cell_type": "code",
   "execution_count": 53,
   "id": "1c94e307",
   "metadata": {},
   "outputs": [
    {
     "name": "stdout",
     "output_type": "stream",
     "text": [
      "Cross-Validation Results: [0.88965981 0.88845443 0.88968502 0.88643366 0.89180977]\n",
      "Mean F1 score: 0.89\n",
      "Standard deviation of F1 score: 0.00\n"
     ]
    }
   ],
   "source": [
    "from sklearn.model_selection import cross_val_score, StratifiedKFold\n",
    "from imblearn.over_sampling import SMOTE\n",
    "from sklearn.linear_model import LogisticRegression\n",
    "from sklearn.preprocessing import StandardScaler\n",
    "from sklearn.metrics import make_scorer, f1_score\n",
    "\n",
    "smt = SMOTE(sampling_strategy='minority',random_state=123)\n",
    "X_res,y_res = smt.fit_resample(X_train_val,y_train_val)\n",
    "\n",
    "model = LogisticRegression(C=0.0001, max_iter=1000, tol=1e-20)\n",
    "\n",
    "kf = StratifiedKFold(n_splits=5, shuffle=True, random_state=123)\n",
    "scaler = StandardScaler().fit(X_res)\n",
    "X_train_val_scaled = scaler.transform(X_res)\n",
    "\n",
    "\n",
    "f1_scorer = make_scorer(f1_score, average=\"binary\")\n",
    "cross_val_result_arr = cross_val_score(model, X_train_val_scaled, y_res, cv=kf, scoring=f1_scorer)\n",
    "\n",
    "# Printing the results\n",
    "print(\"Cross-Validation Results:\", cross_val_result_arr)\n",
    "print(f\"Mean F1 score: {cross_val_result_arr.mean():.2f}\")\n",
    "print(f\"Standard deviation of F1 score: {cross_val_result_arr.std():.2f}\")"
   ]
  },
  {
   "cell_type": "code",
   "execution_count": 54,
   "id": "f7266458",
   "metadata": {},
   "outputs": [
    {
     "name": "stdout",
     "output_type": "stream",
     "text": [
      "F1 Score on Test Set: 0.5524139257549529\n"
     ]
    }
   ],
   "source": [
    "## Using on test dataset\n",
    "model = LogisticRegression(C=0.0001, max_iter=1000, tol=1e-20)\n",
    "\n",
    "model.fit(X_train_val_scaled, y_res)\n",
    "\n",
    "y_pred = model.predict(scaler.transform(X_test))\n",
    "\n",
    "f1_test_score = f1_score(y_test, y_pred, average='binary')\n",
    "\n",
    "print(\"F1 Score on Test Set:\", f1_test_score)"
   ]
  },
  {
   "cell_type": "markdown",
   "id": "451a3d71",
   "metadata": {},
   "source": [
    "### Confusion Matrix"
   ]
  },
  {
   "cell_type": "code",
   "execution_count": 55,
   "id": "fe147a4b",
   "metadata": {},
   "outputs": [
    {
     "data": {
      "image/png": "[encoded data removed]",
      "text/plain": [
       "<Figure size 700x500 with 1 Axes>"
      ]
     },
     "metadata": {},
     "output_type": "display_data"
    }
   ],
   "source": [
    "color  = ['#3355FF','#00FF00','#0D004D','#00bfff','#ffcc99','#006600']\n",
    "# sns.countplot(x='Purchased', data = insurance, palette = color[2:4]);\n",
    "\n",
    "\n",
    "def ConfusionMatrix(ytest, ypred, label: [str, str] = [\"Negative\", \"Positive\"]):\n",
    "    \"A beautiful confusion matrix function to check the model performance\"\n",
    "    from sklearn.metrics import confusion_matrix\n",
    "    import seaborn as sns\n",
    "    cm = confusion_matrix(ytest, ypred)\n",
    "    plt.figure(figsize=(7,5))\n",
    "    sns.heatmap(cm, annot = True, cbar = False, fmt = 'd', cmap = 'Blues_r')\n",
    "    plt.xlabel('Predicted',font = 'Century Gothic', fontsize = 13)\n",
    "    plt.ylabel('Actual', font = 'Century Gothic', fontsize = 13)\n",
    "    plt.xticks([0.5, 1.5], label)\n",
    "    plt.yticks([0.5, 1.5], label)\n",
    "    plt.title('Confusion matrix for Dabiates Prediction', font = \"Century Gothic\", fontsize = 17,fontweight = 'bold');\n",
    "\n",
    "\n",
    "ConfusionMatrix(y_test, y_pred, label = [\"Normal\", \"Diabetic\"])"
   ]
  },
  {
   "cell_type": "markdown",
   "id": "b2f58b70",
   "metadata": {},
   "source": [
    "### Interpretation of the Logistic Regression Model Evaluation Performance\n",
    "There are `18082` True Positives (TP):predicting that patients are  not diabetic and truly the patients are not diabetic.\n",
    "\n",
    "There `669` False Positives(TP):predicting that the patients are not diabetic meanwhile the patients are diabetic.\n",
    "\n",
    "There are `1080` True Negative(TN): predicting that the patients are diabetic and they actually diabetic.\n",
    "\n",
    "There are also `669` False Negative(FN): predicting that the patients are diabetic meanwhile they are actually not diabetic.\n",
    "\n",
    "Based on the confusion matrix, we can see that although performed very well in predicting the positive and negative cases, it can still be better."
   ]
  },
  {
   "cell_type": "markdown",
   "id": "6f362342",
   "metadata": {},
   "source": [
    "### Polynomial Engineering for Model Complexity."
   ]
  },
  {
   "cell_type": "code",
   "execution_count": 56,
   "id": "d187e677",
   "metadata": {},
   "outputs": [],
   "source": [
    "from sklearn.pipeline import make_pipeline\n",
    "from sklearn.model_selection import validation_curve\n",
    "from sklearn.preprocessing import PolynomialFeatures"
   ]
  },
  {
   "cell_type": "code",
   "execution_count": 62,
   "id": "d235c48b",
   "metadata": {},
   "outputs": [],
   "source": [
    "def PolynomialRegression(degree=2, **kwargs):\n",
    "    return make_pipeline(PolynomialFeatures(degree, include_bias=False),\n",
    "                         LogisticRegression(**kwargs))"
   ]
  },
  {
   "cell_type": "code",
   "execution_count": 63,
   "id": "4139e95f",
   "metadata": {},
   "outputs": [],
   "source": [
    "X_train_dev = pd.concat([X_res,X_dev])"
   ]
  },
  {
   "cell_type": "code",
   "execution_count": 64,
   "id": "3d92aa61",
   "metadata": {},
   "outputs": [],
   "source": [
    "y_train_dev = pd.concat([y_res,y_dev])"
   ]
  },
  {
   "cell_type": "code",
   "execution_count": 65,
   "id": "f3636970",
   "metadata": {},
   "outputs": [],
   "source": [
    "X_train_dev_scaled = StandardScaler().fit_transform(X_train_dev)"
   ]
  },
  {
   "cell_type": "code",
   "execution_count": 69,
   "id": "089d4330",
   "metadata": {},
   "outputs": [],
   "source": [
    "degree = np.arange(1,4)"
   ]
  },
  {
   "cell_type": "code",
   "execution_count": 70,
   "id": "d182ae75",
   "metadata": {},
   "outputs": [
    {
     "ename": "KeyboardInterrupt",
     "evalue": "",
     "output_type": "error",
     "traceback": [
      "\u001b[1;31m---------------------------------------------------------------------------\u001b[0m",
      "\u001b[1;31mKeyboardInterrupt\u001b[0m                         Traceback (most recent call last)",
      "Cell \u001b[1;32mIn[70], line 1\u001b[0m\n\u001b[1;32m----> 1\u001b[0m train_score, val_score \u001b[38;5;241m=\u001b[39m validation_curve(PolynomialRegression(max_iter\u001b[38;5;241m=\u001b[39m\u001b[38;5;241m100000\u001b[39m),\n\u001b[0;32m      2\u001b[0m                                           X_train_dev_scaled,y_train_dev,\n\u001b[0;32m      3\u001b[0m                                           param_name\u001b[38;5;241m=\u001b[39m\u001b[38;5;124m'\u001b[39m\u001b[38;5;124mpolynomialfeatures__degree\u001b[39m\u001b[38;5;124m'\u001b[39m,\n\u001b[0;32m      4\u001b[0m                                           param_range\u001b[38;5;241m=\u001b[39mdegree,cv\u001b[38;5;241m=\u001b[39m\u001b[38;5;241m5\u001b[39m)\n",
      "File \u001b[1;32m~\\anaconda3\\envs\\Team_Johson_Sirleaf\\Lib\\site-packages\\sklearn\\utils\\_param_validation.py:214\u001b[0m, in \u001b[0;36mvalidate_params.<locals>.decorator.<locals>.wrapper\u001b[1;34m(*args, **kwargs)\u001b[0m\n\u001b[0;32m    208\u001b[0m \u001b[38;5;28;01mtry\u001b[39;00m:\n\u001b[0;32m    209\u001b[0m     \u001b[38;5;28;01mwith\u001b[39;00m config_context(\n\u001b[0;32m    210\u001b[0m         skip_parameter_validation\u001b[38;5;241m=\u001b[39m(\n\u001b[0;32m    211\u001b[0m             prefer_skip_nested_validation \u001b[38;5;129;01mor\u001b[39;00m global_skip_validation\n\u001b[0;32m    212\u001b[0m         )\n\u001b[0;32m    213\u001b[0m     ):\n\u001b[1;32m--> 214\u001b[0m         \u001b[38;5;28;01mreturn\u001b[39;00m func(\u001b[38;5;241m*\u001b[39margs, \u001b[38;5;241m*\u001b[39m\u001b[38;5;241m*\u001b[39mkwargs)\n\u001b[0;32m    215\u001b[0m \u001b[38;5;28;01mexcept\u001b[39;00m InvalidParameterError \u001b[38;5;28;01mas\u001b[39;00m e:\n\u001b[0;32m    216\u001b[0m     \u001b[38;5;66;03m# When the function is just a wrapper around an estimator, we allow\u001b[39;00m\n\u001b[0;32m    217\u001b[0m     \u001b[38;5;66;03m# the function to delegate validation to the estimator, but we replace\u001b[39;00m\n\u001b[0;32m    218\u001b[0m     \u001b[38;5;66;03m# the name of the estimator by the name of the function in the error\u001b[39;00m\n\u001b[0;32m    219\u001b[0m     \u001b[38;5;66;03m# message to avoid confusion.\u001b[39;00m\n\u001b[0;32m    220\u001b[0m     msg \u001b[38;5;241m=\u001b[39m re\u001b[38;5;241m.\u001b[39msub(\n\u001b[0;32m    221\u001b[0m         \u001b[38;5;124mr\u001b[39m\u001b[38;5;124m\"\u001b[39m\u001b[38;5;124mparameter of \u001b[39m\u001b[38;5;124m\\\u001b[39m\u001b[38;5;124mw+ must be\u001b[39m\u001b[38;5;124m\"\u001b[39m,\n\u001b[0;32m    222\u001b[0m         \u001b[38;5;124mf\u001b[39m\u001b[38;5;124m\"\u001b[39m\u001b[38;5;124mparameter of \u001b[39m\u001b[38;5;132;01m{\u001b[39;00mfunc\u001b[38;5;241m.\u001b[39m\u001b[38;5;18m__qualname__\u001b[39m\u001b[38;5;132;01m}\u001b[39;00m\u001b[38;5;124m must be\u001b[39m\u001b[38;5;124m\"\u001b[39m,\n\u001b[0;32m    223\u001b[0m         \u001b[38;5;28mstr\u001b[39m(e),\n\u001b[0;32m    224\u001b[0m     )\n",
      "File \u001b[1;32m~\\anaconda3\\envs\\Team_Johson_Sirleaf\\Lib\\site-packages\\sklearn\\model_selection\\_validation.py:1982\u001b[0m, in \u001b[0;36mvalidation_curve\u001b[1;34m(estimator, X, y, param_name, param_range, groups, cv, scoring, n_jobs, pre_dispatch, verbose, error_score, fit_params)\u001b[0m\n\u001b[0;32m   1979\u001b[0m scorer \u001b[38;5;241m=\u001b[39m check_scoring(estimator, scoring\u001b[38;5;241m=\u001b[39mscoring)\n\u001b[0;32m   1981\u001b[0m parallel \u001b[38;5;241m=\u001b[39m Parallel(n_jobs\u001b[38;5;241m=\u001b[39mn_jobs, pre_dispatch\u001b[38;5;241m=\u001b[39mpre_dispatch, verbose\u001b[38;5;241m=\u001b[39mverbose)\n\u001b[1;32m-> 1982\u001b[0m results \u001b[38;5;241m=\u001b[39m parallel(\n\u001b[0;32m   1983\u001b[0m     delayed(_fit_and_score)(\n\u001b[0;32m   1984\u001b[0m         clone(estimator),\n\u001b[0;32m   1985\u001b[0m         X,\n\u001b[0;32m   1986\u001b[0m         y,\n\u001b[0;32m   1987\u001b[0m         scorer,\n\u001b[0;32m   1988\u001b[0m         train,\n\u001b[0;32m   1989\u001b[0m         test,\n\u001b[0;32m   1990\u001b[0m         verbose,\n\u001b[0;32m   1991\u001b[0m         parameters\u001b[38;5;241m=\u001b[39m{param_name: v},\n\u001b[0;32m   1992\u001b[0m         fit_params\u001b[38;5;241m=\u001b[39mfit_params,\n\u001b[0;32m   1993\u001b[0m         return_train_score\u001b[38;5;241m=\u001b[39m\u001b[38;5;28;01mTrue\u001b[39;00m,\n\u001b[0;32m   1994\u001b[0m         error_score\u001b[38;5;241m=\u001b[39merror_score,\n\u001b[0;32m   1995\u001b[0m     )\n\u001b[0;32m   1996\u001b[0m     \u001b[38;5;66;03m# NOTE do not change order of iteration to allow one time cv splitters\u001b[39;00m\n\u001b[0;32m   1997\u001b[0m     \u001b[38;5;28;01mfor\u001b[39;00m train, test \u001b[38;5;129;01min\u001b[39;00m cv\u001b[38;5;241m.\u001b[39msplit(X, y, groups)\n\u001b[0;32m   1998\u001b[0m     \u001b[38;5;28;01mfor\u001b[39;00m v \u001b[38;5;129;01min\u001b[39;00m param_range\n\u001b[0;32m   1999\u001b[0m )\n\u001b[0;32m   2000\u001b[0m n_params \u001b[38;5;241m=\u001b[39m \u001b[38;5;28mlen\u001b[39m(param_range)\n\u001b[0;32m   2002\u001b[0m results \u001b[38;5;241m=\u001b[39m _aggregate_score_dicts(results)\n",
      "File \u001b[1;32m~\\anaconda3\\envs\\Team_Johson_Sirleaf\\Lib\\site-packages\\sklearn\\utils\\parallel.py:65\u001b[0m, in \u001b[0;36mParallel.__call__\u001b[1;34m(self, iterable)\u001b[0m\n\u001b[0;32m     60\u001b[0m config \u001b[38;5;241m=\u001b[39m get_config()\n\u001b[0;32m     61\u001b[0m iterable_with_config \u001b[38;5;241m=\u001b[39m (\n\u001b[0;32m     62\u001b[0m     (_with_config(delayed_func, config), args, kwargs)\n\u001b[0;32m     63\u001b[0m     \u001b[38;5;28;01mfor\u001b[39;00m delayed_func, args, kwargs \u001b[38;5;129;01min\u001b[39;00m iterable\n\u001b[0;32m     64\u001b[0m )\n\u001b[1;32m---> 65\u001b[0m \u001b[38;5;28;01mreturn\u001b[39;00m \u001b[38;5;28msuper\u001b[39m()\u001b[38;5;241m.\u001b[39m\u001b[38;5;21m__call__\u001b[39m(iterable_with_config)\n",
      "File \u001b[1;32m~\\anaconda3\\envs\\Team_Johson_Sirleaf\\Lib\\site-packages\\joblib\\parallel.py:1863\u001b[0m, in \u001b[0;36mParallel.__call__\u001b[1;34m(self, iterable)\u001b[0m\n\u001b[0;32m   1861\u001b[0m     output \u001b[38;5;241m=\u001b[39m \u001b[38;5;28mself\u001b[39m\u001b[38;5;241m.\u001b[39m_get_sequential_output(iterable)\n\u001b[0;32m   1862\u001b[0m     \u001b[38;5;28mnext\u001b[39m(output)\n\u001b[1;32m-> 1863\u001b[0m     \u001b[38;5;28;01mreturn\u001b[39;00m output \u001b[38;5;28;01mif\u001b[39;00m \u001b[38;5;28mself\u001b[39m\u001b[38;5;241m.\u001b[39mreturn_generator \u001b[38;5;28;01melse\u001b[39;00m \u001b[38;5;28mlist\u001b[39m(output)\n\u001b[0;32m   1865\u001b[0m \u001b[38;5;66;03m# Let's create an ID that uniquely identifies the current call. If the\u001b[39;00m\n\u001b[0;32m   1866\u001b[0m \u001b[38;5;66;03m# call is interrupted early and that the same instance is immediately\u001b[39;00m\n\u001b[0;32m   1867\u001b[0m \u001b[38;5;66;03m# re-used, this id will be used to prevent workers that were\u001b[39;00m\n\u001b[0;32m   1868\u001b[0m \u001b[38;5;66;03m# concurrently finalizing a task from the previous call to run the\u001b[39;00m\n\u001b[0;32m   1869\u001b[0m \u001b[38;5;66;03m# callback.\u001b[39;00m\n\u001b[0;32m   1870\u001b[0m \u001b[38;5;28;01mwith\u001b[39;00m \u001b[38;5;28mself\u001b[39m\u001b[38;5;241m.\u001b[39m_lock:\n",
      "File \u001b[1;32m~\\anaconda3\\envs\\Team_Johson_Sirleaf\\Lib\\site-packages\\joblib\\parallel.py:1792\u001b[0m, in \u001b[0;36mParallel._get_sequential_output\u001b[1;34m(self, iterable)\u001b[0m\n\u001b[0;32m   1790\u001b[0m \u001b[38;5;28mself\u001b[39m\u001b[38;5;241m.\u001b[39mn_dispatched_batches \u001b[38;5;241m+\u001b[39m\u001b[38;5;241m=\u001b[39m \u001b[38;5;241m1\u001b[39m\n\u001b[0;32m   1791\u001b[0m \u001b[38;5;28mself\u001b[39m\u001b[38;5;241m.\u001b[39mn_dispatched_tasks \u001b[38;5;241m+\u001b[39m\u001b[38;5;241m=\u001b[39m \u001b[38;5;241m1\u001b[39m\n\u001b[1;32m-> 1792\u001b[0m res \u001b[38;5;241m=\u001b[39m func(\u001b[38;5;241m*\u001b[39margs, \u001b[38;5;241m*\u001b[39m\u001b[38;5;241m*\u001b[39mkwargs)\n\u001b[0;32m   1793\u001b[0m \u001b[38;5;28mself\u001b[39m\u001b[38;5;241m.\u001b[39mn_completed_tasks \u001b[38;5;241m+\u001b[39m\u001b[38;5;241m=\u001b[39m \u001b[38;5;241m1\u001b[39m\n\u001b[0;32m   1794\u001b[0m \u001b[38;5;28mself\u001b[39m\u001b[38;5;241m.\u001b[39mprint_progress()\n",
      "File \u001b[1;32m~\\anaconda3\\envs\\Team_Johson_Sirleaf\\Lib\\site-packages\\sklearn\\utils\\parallel.py:127\u001b[0m, in \u001b[0;36m_FuncWrapper.__call__\u001b[1;34m(self, *args, **kwargs)\u001b[0m\n\u001b[0;32m    125\u001b[0m     config \u001b[38;5;241m=\u001b[39m {}\n\u001b[0;32m    126\u001b[0m \u001b[38;5;28;01mwith\u001b[39;00m config_context(\u001b[38;5;241m*\u001b[39m\u001b[38;5;241m*\u001b[39mconfig):\n\u001b[1;32m--> 127\u001b[0m     \u001b[38;5;28;01mreturn\u001b[39;00m \u001b[38;5;28mself\u001b[39m\u001b[38;5;241m.\u001b[39mfunction(\u001b[38;5;241m*\u001b[39margs, \u001b[38;5;241m*\u001b[39m\u001b[38;5;241m*\u001b[39mkwargs)\n",
      "File \u001b[1;32m~\\anaconda3\\envs\\Team_Johson_Sirleaf\\Lib\\site-packages\\sklearn\\model_selection\\_validation.py:729\u001b[0m, in \u001b[0;36m_fit_and_score\u001b[1;34m(estimator, X, y, scorer, train, test, verbose, parameters, fit_params, return_train_score, return_parameters, return_n_test_samples, return_times, return_estimator, split_progress, candidate_progress, error_score)\u001b[0m\n\u001b[0;32m    727\u001b[0m         estimator\u001b[38;5;241m.\u001b[39mfit(X_train, \u001b[38;5;241m*\u001b[39m\u001b[38;5;241m*\u001b[39mfit_params)\n\u001b[0;32m    728\u001b[0m     \u001b[38;5;28;01melse\u001b[39;00m:\n\u001b[1;32m--> 729\u001b[0m         estimator\u001b[38;5;241m.\u001b[39mfit(X_train, y_train, \u001b[38;5;241m*\u001b[39m\u001b[38;5;241m*\u001b[39mfit_params)\n\u001b[0;32m    731\u001b[0m \u001b[38;5;28;01mexcept\u001b[39;00m \u001b[38;5;167;01mException\u001b[39;00m:\n\u001b[0;32m    732\u001b[0m     \u001b[38;5;66;03m# Note fit time as time until error\u001b[39;00m\n\u001b[0;32m    733\u001b[0m     fit_time \u001b[38;5;241m=\u001b[39m time\u001b[38;5;241m.\u001b[39mtime() \u001b[38;5;241m-\u001b[39m start_time\n",
      "File \u001b[1;32m~\\anaconda3\\envs\\Team_Johson_Sirleaf\\Lib\\site-packages\\sklearn\\base.py:1152\u001b[0m, in \u001b[0;36m_fit_context.<locals>.decorator.<locals>.wrapper\u001b[1;34m(estimator, *args, **kwargs)\u001b[0m\n\u001b[0;32m   1145\u001b[0m     estimator\u001b[38;5;241m.\u001b[39m_validate_params()\n\u001b[0;32m   1147\u001b[0m \u001b[38;5;28;01mwith\u001b[39;00m config_context(\n\u001b[0;32m   1148\u001b[0m     skip_parameter_validation\u001b[38;5;241m=\u001b[39m(\n\u001b[0;32m   1149\u001b[0m         prefer_skip_nested_validation \u001b[38;5;129;01mor\u001b[39;00m global_skip_validation\n\u001b[0;32m   1150\u001b[0m     )\n\u001b[0;32m   1151\u001b[0m ):\n\u001b[1;32m-> 1152\u001b[0m     \u001b[38;5;28;01mreturn\u001b[39;00m fit_method(estimator, \u001b[38;5;241m*\u001b[39margs, \u001b[38;5;241m*\u001b[39m\u001b[38;5;241m*\u001b[39mkwargs)\n",
      "File \u001b[1;32m~\\anaconda3\\envs\\Team_Johson_Sirleaf\\Lib\\site-packages\\sklearn\\pipeline.py:427\u001b[0m, in \u001b[0;36mPipeline.fit\u001b[1;34m(self, X, y, **fit_params)\u001b[0m\n\u001b[0;32m    425\u001b[0m     \u001b[38;5;28;01mif\u001b[39;00m \u001b[38;5;28mself\u001b[39m\u001b[38;5;241m.\u001b[39m_final_estimator \u001b[38;5;241m!=\u001b[39m \u001b[38;5;124m\"\u001b[39m\u001b[38;5;124mpassthrough\u001b[39m\u001b[38;5;124m\"\u001b[39m:\n\u001b[0;32m    426\u001b[0m         fit_params_last_step \u001b[38;5;241m=\u001b[39m fit_params_steps[\u001b[38;5;28mself\u001b[39m\u001b[38;5;241m.\u001b[39msteps[\u001b[38;5;241m-\u001b[39m\u001b[38;5;241m1\u001b[39m][\u001b[38;5;241m0\u001b[39m]]\n\u001b[1;32m--> 427\u001b[0m         \u001b[38;5;28mself\u001b[39m\u001b[38;5;241m.\u001b[39m_final_estimator\u001b[38;5;241m.\u001b[39mfit(Xt, y, \u001b[38;5;241m*\u001b[39m\u001b[38;5;241m*\u001b[39mfit_params_last_step)\n\u001b[0;32m    429\u001b[0m \u001b[38;5;28;01mreturn\u001b[39;00m \u001b[38;5;28mself\u001b[39m\n",
      "File \u001b[1;32m~\\anaconda3\\envs\\Team_Johson_Sirleaf\\Lib\\site-packages\\sklearn\\base.py:1152\u001b[0m, in \u001b[0;36m_fit_context.<locals>.decorator.<locals>.wrapper\u001b[1;34m(estimator, *args, **kwargs)\u001b[0m\n\u001b[0;32m   1145\u001b[0m     estimator\u001b[38;5;241m.\u001b[39m_validate_params()\n\u001b[0;32m   1147\u001b[0m \u001b[38;5;28;01mwith\u001b[39;00m config_context(\n\u001b[0;32m   1148\u001b[0m     skip_parameter_validation\u001b[38;5;241m=\u001b[39m(\n\u001b[0;32m   1149\u001b[0m         prefer_skip_nested_validation \u001b[38;5;129;01mor\u001b[39;00m global_skip_validation\n\u001b[0;32m   1150\u001b[0m     )\n\u001b[0;32m   1151\u001b[0m ):\n\u001b[1;32m-> 1152\u001b[0m     \u001b[38;5;28;01mreturn\u001b[39;00m fit_method(estimator, \u001b[38;5;241m*\u001b[39margs, \u001b[38;5;241m*\u001b[39m\u001b[38;5;241m*\u001b[39mkwargs)\n",
      "File \u001b[1;32m~\\anaconda3\\envs\\Team_Johson_Sirleaf\\Lib\\site-packages\\sklearn\\linear_model\\_logistic.py:1303\u001b[0m, in \u001b[0;36mLogisticRegression.fit\u001b[1;34m(self, X, y, sample_weight)\u001b[0m\n\u001b[0;32m   1300\u001b[0m \u001b[38;5;28;01melse\u001b[39;00m:\n\u001b[0;32m   1301\u001b[0m     n_threads \u001b[38;5;241m=\u001b[39m \u001b[38;5;241m1\u001b[39m\n\u001b[1;32m-> 1303\u001b[0m fold_coefs_ \u001b[38;5;241m=\u001b[39m Parallel(n_jobs\u001b[38;5;241m=\u001b[39m\u001b[38;5;28mself\u001b[39m\u001b[38;5;241m.\u001b[39mn_jobs, verbose\u001b[38;5;241m=\u001b[39m\u001b[38;5;28mself\u001b[39m\u001b[38;5;241m.\u001b[39mverbose, prefer\u001b[38;5;241m=\u001b[39mprefer)(\n\u001b[0;32m   1304\u001b[0m     path_func(\n\u001b[0;32m   1305\u001b[0m         X,\n\u001b[0;32m   1306\u001b[0m         y,\n\u001b[0;32m   1307\u001b[0m         pos_class\u001b[38;5;241m=\u001b[39mclass_,\n\u001b[0;32m   1308\u001b[0m         Cs\u001b[38;5;241m=\u001b[39m[C_],\n\u001b[0;32m   1309\u001b[0m         l1_ratio\u001b[38;5;241m=\u001b[39m\u001b[38;5;28mself\u001b[39m\u001b[38;5;241m.\u001b[39ml1_ratio,\n\u001b[0;32m   1310\u001b[0m         fit_intercept\u001b[38;5;241m=\u001b[39m\u001b[38;5;28mself\u001b[39m\u001b[38;5;241m.\u001b[39mfit_intercept,\n\u001b[0;32m   1311\u001b[0m         tol\u001b[38;5;241m=\u001b[39m\u001b[38;5;28mself\u001b[39m\u001b[38;5;241m.\u001b[39mtol,\n\u001b[0;32m   1312\u001b[0m         verbose\u001b[38;5;241m=\u001b[39m\u001b[38;5;28mself\u001b[39m\u001b[38;5;241m.\u001b[39mverbose,\n\u001b[0;32m   1313\u001b[0m         solver\u001b[38;5;241m=\u001b[39msolver,\n\u001b[0;32m   1314\u001b[0m         multi_class\u001b[38;5;241m=\u001b[39mmulti_class,\n\u001b[0;32m   1315\u001b[0m         max_iter\u001b[38;5;241m=\u001b[39m\u001b[38;5;28mself\u001b[39m\u001b[38;5;241m.\u001b[39mmax_iter,\n\u001b[0;32m   1316\u001b[0m         class_weight\u001b[38;5;241m=\u001b[39m\u001b[38;5;28mself\u001b[39m\u001b[38;5;241m.\u001b[39mclass_weight,\n\u001b[0;32m   1317\u001b[0m         check_input\u001b[38;5;241m=\u001b[39m\u001b[38;5;28;01mFalse\u001b[39;00m,\n\u001b[0;32m   1318\u001b[0m         random_state\u001b[38;5;241m=\u001b[39m\u001b[38;5;28mself\u001b[39m\u001b[38;5;241m.\u001b[39mrandom_state,\n\u001b[0;32m   1319\u001b[0m         coef\u001b[38;5;241m=\u001b[39mwarm_start_coef_,\n\u001b[0;32m   1320\u001b[0m         penalty\u001b[38;5;241m=\u001b[39mpenalty,\n\u001b[0;32m   1321\u001b[0m         max_squared_sum\u001b[38;5;241m=\u001b[39mmax_squared_sum,\n\u001b[0;32m   1322\u001b[0m         sample_weight\u001b[38;5;241m=\u001b[39msample_weight,\n\u001b[0;32m   1323\u001b[0m         n_threads\u001b[38;5;241m=\u001b[39mn_threads,\n\u001b[0;32m   1324\u001b[0m     )\n\u001b[0;32m   1325\u001b[0m     \u001b[38;5;28;01mfor\u001b[39;00m class_, warm_start_coef_ \u001b[38;5;129;01min\u001b[39;00m \u001b[38;5;28mzip\u001b[39m(classes_, warm_start_coef)\n\u001b[0;32m   1326\u001b[0m )\n\u001b[0;32m   1328\u001b[0m fold_coefs_, _, n_iter_ \u001b[38;5;241m=\u001b[39m \u001b[38;5;28mzip\u001b[39m(\u001b[38;5;241m*\u001b[39mfold_coefs_)\n\u001b[0;32m   1329\u001b[0m \u001b[38;5;28mself\u001b[39m\u001b[38;5;241m.\u001b[39mn_iter_ \u001b[38;5;241m=\u001b[39m np\u001b[38;5;241m.\u001b[39masarray(n_iter_, dtype\u001b[38;5;241m=\u001b[39mnp\u001b[38;5;241m.\u001b[39mint32)[:, \u001b[38;5;241m0\u001b[39m]\n",
      "File \u001b[1;32m~\\anaconda3\\envs\\Team_Johson_Sirleaf\\Lib\\site-packages\\sklearn\\utils\\parallel.py:65\u001b[0m, in \u001b[0;36mParallel.__call__\u001b[1;34m(self, iterable)\u001b[0m\n\u001b[0;32m     60\u001b[0m config \u001b[38;5;241m=\u001b[39m get_config()\n\u001b[0;32m     61\u001b[0m iterable_with_config \u001b[38;5;241m=\u001b[39m (\n\u001b[0;32m     62\u001b[0m     (_with_config(delayed_func, config), args, kwargs)\n\u001b[0;32m     63\u001b[0m     \u001b[38;5;28;01mfor\u001b[39;00m delayed_func, args, kwargs \u001b[38;5;129;01min\u001b[39;00m iterable\n\u001b[0;32m     64\u001b[0m )\n\u001b[1;32m---> 65\u001b[0m \u001b[38;5;28;01mreturn\u001b[39;00m \u001b[38;5;28msuper\u001b[39m()\u001b[38;5;241m.\u001b[39m\u001b[38;5;21m__call__\u001b[39m(iterable_with_config)\n",
      "File \u001b[1;32m~\\anaconda3\\envs\\Team_Johson_Sirleaf\\Lib\\site-packages\\joblib\\parallel.py:1863\u001b[0m, in \u001b[0;36mParallel.__call__\u001b[1;34m(self, iterable)\u001b[0m\n\u001b[0;32m   1861\u001b[0m     output \u001b[38;5;241m=\u001b[39m \u001b[38;5;28mself\u001b[39m\u001b[38;5;241m.\u001b[39m_get_sequential_output(iterable)\n\u001b[0;32m   1862\u001b[0m     \u001b[38;5;28mnext\u001b[39m(output)\n\u001b[1;32m-> 1863\u001b[0m     \u001b[38;5;28;01mreturn\u001b[39;00m output \u001b[38;5;28;01mif\u001b[39;00m \u001b[38;5;28mself\u001b[39m\u001b[38;5;241m.\u001b[39mreturn_generator \u001b[38;5;28;01melse\u001b[39;00m \u001b[38;5;28mlist\u001b[39m(output)\n\u001b[0;32m   1865\u001b[0m \u001b[38;5;66;03m# Let's create an ID that uniquely identifies the current call. If the\u001b[39;00m\n\u001b[0;32m   1866\u001b[0m \u001b[38;5;66;03m# call is interrupted early and that the same instance is immediately\u001b[39;00m\n\u001b[0;32m   1867\u001b[0m \u001b[38;5;66;03m# re-used, this id will be used to prevent workers that were\u001b[39;00m\n\u001b[0;32m   1868\u001b[0m \u001b[38;5;66;03m# concurrently finalizing a task from the previous call to run the\u001b[39;00m\n\u001b[0;32m   1869\u001b[0m \u001b[38;5;66;03m# callback.\u001b[39;00m\n\u001b[0;32m   1870\u001b[0m \u001b[38;5;28;01mwith\u001b[39;00m \u001b[38;5;28mself\u001b[39m\u001b[38;5;241m.\u001b[39m_lock:\n",
      "File \u001b[1;32m~\\anaconda3\\envs\\Team_Johson_Sirleaf\\Lib\\site-packages\\joblib\\parallel.py:1792\u001b[0m, in \u001b[0;36mParallel._get_sequential_output\u001b[1;34m(self, iterable)\u001b[0m\n\u001b[0;32m   1790\u001b[0m \u001b[38;5;28mself\u001b[39m\u001b[38;5;241m.\u001b[39mn_dispatched_batches \u001b[38;5;241m+\u001b[39m\u001b[38;5;241m=\u001b[39m \u001b[38;5;241m1\u001b[39m\n\u001b[0;32m   1791\u001b[0m \u001b[38;5;28mself\u001b[39m\u001b[38;5;241m.\u001b[39mn_dispatched_tasks \u001b[38;5;241m+\u001b[39m\u001b[38;5;241m=\u001b[39m \u001b[38;5;241m1\u001b[39m\n\u001b[1;32m-> 1792\u001b[0m res \u001b[38;5;241m=\u001b[39m func(\u001b[38;5;241m*\u001b[39margs, \u001b[38;5;241m*\u001b[39m\u001b[38;5;241m*\u001b[39mkwargs)\n\u001b[0;32m   1793\u001b[0m \u001b[38;5;28mself\u001b[39m\u001b[38;5;241m.\u001b[39mn_completed_tasks \u001b[38;5;241m+\u001b[39m\u001b[38;5;241m=\u001b[39m \u001b[38;5;241m1\u001b[39m\n\u001b[0;32m   1794\u001b[0m \u001b[38;5;28mself\u001b[39m\u001b[38;5;241m.\u001b[39mprint_progress()\n",
      "File \u001b[1;32m~\\anaconda3\\envs\\Team_Johson_Sirleaf\\Lib\\site-packages\\sklearn\\utils\\parallel.py:127\u001b[0m, in \u001b[0;36m_FuncWrapper.__call__\u001b[1;34m(self, *args, **kwargs)\u001b[0m\n\u001b[0;32m    125\u001b[0m     config \u001b[38;5;241m=\u001b[39m {}\n\u001b[0;32m    126\u001b[0m \u001b[38;5;28;01mwith\u001b[39;00m config_context(\u001b[38;5;241m*\u001b[39m\u001b[38;5;241m*\u001b[39mconfig):\n\u001b[1;32m--> 127\u001b[0m     \u001b[38;5;28;01mreturn\u001b[39;00m \u001b[38;5;28mself\u001b[39m\u001b[38;5;241m.\u001b[39mfunction(\u001b[38;5;241m*\u001b[39margs, \u001b[38;5;241m*\u001b[39m\u001b[38;5;241m*\u001b[39mkwargs)\n",
      "File \u001b[1;32m~\\anaconda3\\envs\\Team_Johson_Sirleaf\\Lib\\site-packages\\sklearn\\linear_model\\_logistic.py:452\u001b[0m, in \u001b[0;36m_logistic_regression_path\u001b[1;34m(X, y, pos_class, Cs, fit_intercept, max_iter, tol, verbose, solver, coef, class_weight, dual, penalty, intercept_scaling, multi_class, random_state, check_input, max_squared_sum, sample_weight, l1_ratio, n_threads)\u001b[0m\n\u001b[0;32m    448\u001b[0m l2_reg_strength \u001b[38;5;241m=\u001b[39m \u001b[38;5;241m1.0\u001b[39m \u001b[38;5;241m/\u001b[39m C\n\u001b[0;32m    449\u001b[0m iprint \u001b[38;5;241m=\u001b[39m [\u001b[38;5;241m-\u001b[39m\u001b[38;5;241m1\u001b[39m, \u001b[38;5;241m50\u001b[39m, \u001b[38;5;241m1\u001b[39m, \u001b[38;5;241m100\u001b[39m, \u001b[38;5;241m101\u001b[39m][\n\u001b[0;32m    450\u001b[0m     np\u001b[38;5;241m.\u001b[39msearchsorted(np\u001b[38;5;241m.\u001b[39marray([\u001b[38;5;241m0\u001b[39m, \u001b[38;5;241m1\u001b[39m, \u001b[38;5;241m2\u001b[39m, \u001b[38;5;241m3\u001b[39m]), verbose)\n\u001b[0;32m    451\u001b[0m ]\n\u001b[1;32m--> 452\u001b[0m opt_res \u001b[38;5;241m=\u001b[39m optimize\u001b[38;5;241m.\u001b[39mminimize(\n\u001b[0;32m    453\u001b[0m     func,\n\u001b[0;32m    454\u001b[0m     w0,\n\u001b[0;32m    455\u001b[0m     method\u001b[38;5;241m=\u001b[39m\u001b[38;5;124m\"\u001b[39m\u001b[38;5;124mL-BFGS-B\u001b[39m\u001b[38;5;124m\"\u001b[39m,\n\u001b[0;32m    456\u001b[0m     jac\u001b[38;5;241m=\u001b[39m\u001b[38;5;28;01mTrue\u001b[39;00m,\n\u001b[0;32m    457\u001b[0m     args\u001b[38;5;241m=\u001b[39m(X, target, sample_weight, l2_reg_strength, n_threads),\n\u001b[0;32m    458\u001b[0m     options\u001b[38;5;241m=\u001b[39m{\u001b[38;5;124m\"\u001b[39m\u001b[38;5;124miprint\u001b[39m\u001b[38;5;124m\"\u001b[39m: iprint, \u001b[38;5;124m\"\u001b[39m\u001b[38;5;124mgtol\u001b[39m\u001b[38;5;124m\"\u001b[39m: tol, \u001b[38;5;124m\"\u001b[39m\u001b[38;5;124mmaxiter\u001b[39m\u001b[38;5;124m\"\u001b[39m: max_iter},\n\u001b[0;32m    459\u001b[0m )\n\u001b[0;32m    460\u001b[0m n_iter_i \u001b[38;5;241m=\u001b[39m _check_optimize_result(\n\u001b[0;32m    461\u001b[0m     solver,\n\u001b[0;32m    462\u001b[0m     opt_res,\n\u001b[0;32m    463\u001b[0m     max_iter,\n\u001b[0;32m    464\u001b[0m     extra_warning_msg\u001b[38;5;241m=\u001b[39m_LOGISTIC_SOLVER_CONVERGENCE_MSG,\n\u001b[0;32m    465\u001b[0m )\n\u001b[0;32m    466\u001b[0m w0, loss \u001b[38;5;241m=\u001b[39m opt_res\u001b[38;5;241m.\u001b[39mx, opt_res\u001b[38;5;241m.\u001b[39mfun\n",
      "File \u001b[1;32m~\\anaconda3\\envs\\Team_Johson_Sirleaf\\Lib\\site-packages\\scipy\\optimize\\_minimize.py:710\u001b[0m, in \u001b[0;36mminimize\u001b[1;34m(fun, x0, args, method, jac, hess, hessp, bounds, constraints, tol, callback, options)\u001b[0m\n\u001b[0;32m    707\u001b[0m     res \u001b[38;5;241m=\u001b[39m _minimize_newtoncg(fun, x0, args, jac, hess, hessp, callback,\n\u001b[0;32m    708\u001b[0m                              \u001b[38;5;241m*\u001b[39m\u001b[38;5;241m*\u001b[39moptions)\n\u001b[0;32m    709\u001b[0m \u001b[38;5;28;01melif\u001b[39;00m meth \u001b[38;5;241m==\u001b[39m \u001b[38;5;124m'\u001b[39m\u001b[38;5;124ml-bfgs-b\u001b[39m\u001b[38;5;124m'\u001b[39m:\n\u001b[1;32m--> 710\u001b[0m     res \u001b[38;5;241m=\u001b[39m _minimize_lbfgsb(fun, x0, args, jac, bounds,\n\u001b[0;32m    711\u001b[0m                            callback\u001b[38;5;241m=\u001b[39mcallback, \u001b[38;5;241m*\u001b[39m\u001b[38;5;241m*\u001b[39moptions)\n\u001b[0;32m    712\u001b[0m \u001b[38;5;28;01melif\u001b[39;00m meth \u001b[38;5;241m==\u001b[39m \u001b[38;5;124m'\u001b[39m\u001b[38;5;124mtnc\u001b[39m\u001b[38;5;124m'\u001b[39m:\n\u001b[0;32m    713\u001b[0m     res \u001b[38;5;241m=\u001b[39m _minimize_tnc(fun, x0, args, jac, bounds, callback\u001b[38;5;241m=\u001b[39mcallback,\n\u001b[0;32m    714\u001b[0m                         \u001b[38;5;241m*\u001b[39m\u001b[38;5;241m*\u001b[39moptions)\n",
      "File \u001b[1;32m~\\anaconda3\\envs\\Team_Johson_Sirleaf\\Lib\\site-packages\\scipy\\optimize\\_lbfgsb_py.py:365\u001b[0m, in \u001b[0;36m_minimize_lbfgsb\u001b[1;34m(fun, x0, args, jac, bounds, disp, maxcor, ftol, gtol, eps, maxfun, maxiter, iprint, callback, maxls, finite_diff_rel_step, **unknown_options)\u001b[0m\n\u001b[0;32m    359\u001b[0m task_str \u001b[38;5;241m=\u001b[39m task\u001b[38;5;241m.\u001b[39mtobytes()\n\u001b[0;32m    360\u001b[0m \u001b[38;5;28;01mif\u001b[39;00m task_str\u001b[38;5;241m.\u001b[39mstartswith(\u001b[38;5;124mb\u001b[39m\u001b[38;5;124m'\u001b[39m\u001b[38;5;124mFG\u001b[39m\u001b[38;5;124m'\u001b[39m):\n\u001b[0;32m    361\u001b[0m     \u001b[38;5;66;03m# The minimization routine wants f and g at the current x.\u001b[39;00m\n\u001b[0;32m    362\u001b[0m     \u001b[38;5;66;03m# Note that interruptions due to maxfun are postponed\u001b[39;00m\n\u001b[0;32m    363\u001b[0m     \u001b[38;5;66;03m# until the completion of the current minimization iteration.\u001b[39;00m\n\u001b[0;32m    364\u001b[0m     \u001b[38;5;66;03m# Overwrite f and g:\u001b[39;00m\n\u001b[1;32m--> 365\u001b[0m     f, g \u001b[38;5;241m=\u001b[39m func_and_grad(x)\n\u001b[0;32m    366\u001b[0m \u001b[38;5;28;01melif\u001b[39;00m task_str\u001b[38;5;241m.\u001b[39mstartswith(\u001b[38;5;124mb\u001b[39m\u001b[38;5;124m'\u001b[39m\u001b[38;5;124mNEW_X\u001b[39m\u001b[38;5;124m'\u001b[39m):\n\u001b[0;32m    367\u001b[0m     \u001b[38;5;66;03m# new iteration\u001b[39;00m\n\u001b[0;32m    368\u001b[0m     n_iterations \u001b[38;5;241m+\u001b[39m\u001b[38;5;241m=\u001b[39m \u001b[38;5;241m1\u001b[39m\n",
      "File \u001b[1;32m~\\anaconda3\\envs\\Team_Johson_Sirleaf\\Lib\\site-packages\\scipy\\optimize\\_differentiable_functions.py:285\u001b[0m, in \u001b[0;36mScalarFunction.fun_and_grad\u001b[1;34m(self, x)\u001b[0m\n\u001b[0;32m    283\u001b[0m \u001b[38;5;28;01mif\u001b[39;00m \u001b[38;5;129;01mnot\u001b[39;00m np\u001b[38;5;241m.\u001b[39marray_equal(x, \u001b[38;5;28mself\u001b[39m\u001b[38;5;241m.\u001b[39mx):\n\u001b[0;32m    284\u001b[0m     \u001b[38;5;28mself\u001b[39m\u001b[38;5;241m.\u001b[39m_update_x_impl(x)\n\u001b[1;32m--> 285\u001b[0m \u001b[38;5;28mself\u001b[39m\u001b[38;5;241m.\u001b[39m_update_fun()\n\u001b[0;32m    286\u001b[0m \u001b[38;5;28mself\u001b[39m\u001b[38;5;241m.\u001b[39m_update_grad()\n\u001b[0;32m    287\u001b[0m \u001b[38;5;28;01mreturn\u001b[39;00m \u001b[38;5;28mself\u001b[39m\u001b[38;5;241m.\u001b[39mf, \u001b[38;5;28mself\u001b[39m\u001b[38;5;241m.\u001b[39mg\n",
      "File \u001b[1;32m~\\anaconda3\\envs\\Team_Johson_Sirleaf\\Lib\\site-packages\\scipy\\optimize\\_differentiable_functions.py:251\u001b[0m, in \u001b[0;36mScalarFunction._update_fun\u001b[1;34m(self)\u001b[0m\n\u001b[0;32m    249\u001b[0m \u001b[38;5;28;01mdef\u001b[39;00m \u001b[38;5;21m_update_fun\u001b[39m(\u001b[38;5;28mself\u001b[39m):\n\u001b[0;32m    250\u001b[0m     \u001b[38;5;28;01mif\u001b[39;00m \u001b[38;5;129;01mnot\u001b[39;00m \u001b[38;5;28mself\u001b[39m\u001b[38;5;241m.\u001b[39mf_updated:\n\u001b[1;32m--> 251\u001b[0m         \u001b[38;5;28mself\u001b[39m\u001b[38;5;241m.\u001b[39m_update_fun_impl()\n\u001b[0;32m    252\u001b[0m         \u001b[38;5;28mself\u001b[39m\u001b[38;5;241m.\u001b[39mf_updated \u001b[38;5;241m=\u001b[39m \u001b[38;5;28;01mTrue\u001b[39;00m\n",
      "File \u001b[1;32m~\\anaconda3\\envs\\Team_Johson_Sirleaf\\Lib\\site-packages\\scipy\\optimize\\_differentiable_functions.py:155\u001b[0m, in \u001b[0;36mScalarFunction.__init__.<locals>.update_fun\u001b[1;34m()\u001b[0m\n\u001b[0;32m    154\u001b[0m \u001b[38;5;28;01mdef\u001b[39;00m \u001b[38;5;21mupdate_fun\u001b[39m():\n\u001b[1;32m--> 155\u001b[0m     \u001b[38;5;28mself\u001b[39m\u001b[38;5;241m.\u001b[39mf \u001b[38;5;241m=\u001b[39m fun_wrapped(\u001b[38;5;28mself\u001b[39m\u001b[38;5;241m.\u001b[39mx)\n",
      "File \u001b[1;32m~\\anaconda3\\envs\\Team_Johson_Sirleaf\\Lib\\site-packages\\scipy\\optimize\\_differentiable_functions.py:137\u001b[0m, in \u001b[0;36mScalarFunction.__init__.<locals>.fun_wrapped\u001b[1;34m(x)\u001b[0m\n\u001b[0;32m    133\u001b[0m \u001b[38;5;28mself\u001b[39m\u001b[38;5;241m.\u001b[39mnfev \u001b[38;5;241m+\u001b[39m\u001b[38;5;241m=\u001b[39m \u001b[38;5;241m1\u001b[39m\n\u001b[0;32m    134\u001b[0m \u001b[38;5;66;03m# Send a copy because the user may overwrite it.\u001b[39;00m\n\u001b[0;32m    135\u001b[0m \u001b[38;5;66;03m# Overwriting results in undefined behaviour because\u001b[39;00m\n\u001b[0;32m    136\u001b[0m \u001b[38;5;66;03m# fun(self.x) will change self.x, with the two no longer linked.\u001b[39;00m\n\u001b[1;32m--> 137\u001b[0m fx \u001b[38;5;241m=\u001b[39m fun(np\u001b[38;5;241m.\u001b[39mcopy(x), \u001b[38;5;241m*\u001b[39margs)\n\u001b[0;32m    138\u001b[0m \u001b[38;5;66;03m# Make sure the function returns a true scalar\u001b[39;00m\n\u001b[0;32m    139\u001b[0m \u001b[38;5;28;01mif\u001b[39;00m \u001b[38;5;129;01mnot\u001b[39;00m np\u001b[38;5;241m.\u001b[39misscalar(fx):\n",
      "File \u001b[1;32m~\\anaconda3\\envs\\Team_Johson_Sirleaf\\Lib\\site-packages\\scipy\\optimize\\_optimize.py:77\u001b[0m, in \u001b[0;36mMemoizeJac.__call__\u001b[1;34m(self, x, *args)\u001b[0m\n\u001b[0;32m     75\u001b[0m \u001b[38;5;28;01mdef\u001b[39;00m \u001b[38;5;21m__call__\u001b[39m(\u001b[38;5;28mself\u001b[39m, x, \u001b[38;5;241m*\u001b[39margs):\n\u001b[0;32m     76\u001b[0m \u001b[38;5;250m    \u001b[39m\u001b[38;5;124;03m\"\"\" returns the function value \"\"\"\u001b[39;00m\n\u001b[1;32m---> 77\u001b[0m     \u001b[38;5;28mself\u001b[39m\u001b[38;5;241m.\u001b[39m_compute_if_needed(x, \u001b[38;5;241m*\u001b[39margs)\n\u001b[0;32m     78\u001b[0m     \u001b[38;5;28;01mreturn\u001b[39;00m \u001b[38;5;28mself\u001b[39m\u001b[38;5;241m.\u001b[39m_value\n",
      "File \u001b[1;32m~\\anaconda3\\envs\\Team_Johson_Sirleaf\\Lib\\site-packages\\scipy\\optimize\\_optimize.py:71\u001b[0m, in \u001b[0;36mMemoizeJac._compute_if_needed\u001b[1;34m(self, x, *args)\u001b[0m\n\u001b[0;32m     69\u001b[0m \u001b[38;5;28;01mif\u001b[39;00m \u001b[38;5;129;01mnot\u001b[39;00m np\u001b[38;5;241m.\u001b[39mall(x \u001b[38;5;241m==\u001b[39m \u001b[38;5;28mself\u001b[39m\u001b[38;5;241m.\u001b[39mx) \u001b[38;5;129;01mor\u001b[39;00m \u001b[38;5;28mself\u001b[39m\u001b[38;5;241m.\u001b[39m_value \u001b[38;5;129;01mis\u001b[39;00m \u001b[38;5;28;01mNone\u001b[39;00m \u001b[38;5;129;01mor\u001b[39;00m \u001b[38;5;28mself\u001b[39m\u001b[38;5;241m.\u001b[39mjac \u001b[38;5;129;01mis\u001b[39;00m \u001b[38;5;28;01mNone\u001b[39;00m:\n\u001b[0;32m     70\u001b[0m     \u001b[38;5;28mself\u001b[39m\u001b[38;5;241m.\u001b[39mx \u001b[38;5;241m=\u001b[39m np\u001b[38;5;241m.\u001b[39masarray(x)\u001b[38;5;241m.\u001b[39mcopy()\n\u001b[1;32m---> 71\u001b[0m     fg \u001b[38;5;241m=\u001b[39m \u001b[38;5;28mself\u001b[39m\u001b[38;5;241m.\u001b[39mfun(x, \u001b[38;5;241m*\u001b[39margs)\n\u001b[0;32m     72\u001b[0m     \u001b[38;5;28mself\u001b[39m\u001b[38;5;241m.\u001b[39mjac \u001b[38;5;241m=\u001b[39m fg[\u001b[38;5;241m1\u001b[39m]\n\u001b[0;32m     73\u001b[0m     \u001b[38;5;28mself\u001b[39m\u001b[38;5;241m.\u001b[39m_value \u001b[38;5;241m=\u001b[39m fg[\u001b[38;5;241m0\u001b[39m]\n",
      "File \u001b[1;32m~\\anaconda3\\envs\\Team_Johson_Sirleaf\\Lib\\site-packages\\sklearn\\linear_model\\_linear_loss.py:292\u001b[0m, in \u001b[0;36mLinearModelLoss.loss_gradient\u001b[1;34m(self, coef, X, y, sample_weight, l2_reg_strength, n_threads, raw_prediction)\u001b[0m\n\u001b[0;32m    290\u001b[0m     grad[:n_features] \u001b[38;5;241m=\u001b[39m X\u001b[38;5;241m.\u001b[39mT \u001b[38;5;241m@\u001b[39m grad_pointwise \u001b[38;5;241m+\u001b[39m l2_reg_strength \u001b[38;5;241m*\u001b[39m weights\n\u001b[0;32m    291\u001b[0m     \u001b[38;5;28;01mif\u001b[39;00m \u001b[38;5;28mself\u001b[39m\u001b[38;5;241m.\u001b[39mfit_intercept:\n\u001b[1;32m--> 292\u001b[0m         grad[\u001b[38;5;241m-\u001b[39m\u001b[38;5;241m1\u001b[39m] \u001b[38;5;241m=\u001b[39m grad_pointwise\u001b[38;5;241m.\u001b[39msum()\n\u001b[0;32m    293\u001b[0m \u001b[38;5;28;01melse\u001b[39;00m:\n\u001b[0;32m    294\u001b[0m     grad \u001b[38;5;241m=\u001b[39m np\u001b[38;5;241m.\u001b[39mempty((n_classes, n_dof), dtype\u001b[38;5;241m=\u001b[39mweights\u001b[38;5;241m.\u001b[39mdtype, order\u001b[38;5;241m=\u001b[39m\u001b[38;5;124m\"\u001b[39m\u001b[38;5;124mF\u001b[39m\u001b[38;5;124m\"\u001b[39m)\n",
      "File \u001b[1;32m~\\anaconda3\\envs\\Team_Johson_Sirleaf\\Lib\\site-packages\\numpy\\core\\_methods.py:47\u001b[0m, in \u001b[0;36m_sum\u001b[1;34m(a, axis, dtype, out, keepdims, initial, where)\u001b[0m\n\u001b[0;32m     43\u001b[0m \u001b[38;5;28;01mdef\u001b[39;00m \u001b[38;5;21m_amin\u001b[39m(a, axis\u001b[38;5;241m=\u001b[39m\u001b[38;5;28;01mNone\u001b[39;00m, out\u001b[38;5;241m=\u001b[39m\u001b[38;5;28;01mNone\u001b[39;00m, keepdims\u001b[38;5;241m=\u001b[39m\u001b[38;5;28;01mFalse\u001b[39;00m,\n\u001b[0;32m     44\u001b[0m           initial\u001b[38;5;241m=\u001b[39m_NoValue, where\u001b[38;5;241m=\u001b[39m\u001b[38;5;28;01mTrue\u001b[39;00m):\n\u001b[0;32m     45\u001b[0m     \u001b[38;5;28;01mreturn\u001b[39;00m umr_minimum(a, axis, \u001b[38;5;28;01mNone\u001b[39;00m, out, keepdims, initial, where)\n\u001b[1;32m---> 47\u001b[0m \u001b[38;5;28;01mdef\u001b[39;00m \u001b[38;5;21m_sum\u001b[39m(a, axis\u001b[38;5;241m=\u001b[39m\u001b[38;5;28;01mNone\u001b[39;00m, dtype\u001b[38;5;241m=\u001b[39m\u001b[38;5;28;01mNone\u001b[39;00m, out\u001b[38;5;241m=\u001b[39m\u001b[38;5;28;01mNone\u001b[39;00m, keepdims\u001b[38;5;241m=\u001b[39m\u001b[38;5;28;01mFalse\u001b[39;00m,\n\u001b[0;32m     48\u001b[0m          initial\u001b[38;5;241m=\u001b[39m_NoValue, where\u001b[38;5;241m=\u001b[39m\u001b[38;5;28;01mTrue\u001b[39;00m):\n\u001b[0;32m     49\u001b[0m     \u001b[38;5;28;01mreturn\u001b[39;00m umr_sum(a, axis, dtype, out, keepdims, initial, where)\n\u001b[0;32m     51\u001b[0m \u001b[38;5;28;01mdef\u001b[39;00m \u001b[38;5;21m_prod\u001b[39m(a, axis\u001b[38;5;241m=\u001b[39m\u001b[38;5;28;01mNone\u001b[39;00m, dtype\u001b[38;5;241m=\u001b[39m\u001b[38;5;28;01mNone\u001b[39;00m, out\u001b[38;5;241m=\u001b[39m\u001b[38;5;28;01mNone\u001b[39;00m, keepdims\u001b[38;5;241m=\u001b[39m\u001b[38;5;28;01mFalse\u001b[39;00m,\n\u001b[0;32m     52\u001b[0m           initial\u001b[38;5;241m=\u001b[39m_NoValue, where\u001b[38;5;241m=\u001b[39m\u001b[38;5;28;01mTrue\u001b[39;00m):\n",
      "\u001b[1;31mKeyboardInterrupt\u001b[0m: "
     ]
    }
   ],
   "source": [
    "train_score, val_score = validation_curve(PolynomialRegression(max_iter=100000),\n",
    "                                          X_train_dev_scaled,y_train_dev,\n",
    "                                          param_name='polynomialfeatures__degree',\n",
    "                                          param_range=degree,cv=5)"
   ]
  },
  {
   "cell_type": "code",
   "execution_count": null,
   "id": "4ad2cdce",
   "metadata": {
    "scrolled": false
   },
   "outputs": [],
   "source": [
    "plt.plot(degree,np.median(train_score,1),'b',label='training score')\n",
    "plt.plot(degree,np.median(val_score,1),'r',label='validation score')\n",
    "plt.xlabel('Degree')\n",
    "plt.ylabel('Score')\n",
    "plt.legend();"
   ]
  },
  {
   "cell_type": "markdown",
   "id": "9e65edd2",
   "metadata": {},
   "source": [
    "The plot above shows that our model can still improve up to around 97% using 3rd order polynomial feature generation.\n",
    "\n",
    "They is posibility to achieve more than this. The model was built only up to the 3rd degree polynomial because of the long time needed for higher orders"
   ]
  },
  {
   "cell_type": "code",
   "execution_count": null,
   "id": "9a50cece",
   "metadata": {},
   "outputs": [],
   "source": []
  }
 ],
 "metadata": {
  "kernelspec": {
   "display_name": "Python 3 (ipykernel)",
   "language": "python",
   "name": "python3"
  },
  "language_info": {
   "codemirror_mode": {
    "name": "ipython",
    "version": 3
   },
   "file_extension": ".py",
   "mimetype": "text/x-python",
   "name": "python",
   "nbconvert_exporter": "python",
   "pygments_lexer": "ipython3",
   "version": "3.11.5"
  }
 },
 "nbformat": 4,
 "nbformat_minor": 5
}
