{
 "cells": [
  {
   "cell_type": "markdown",
   "id": "67bb34cf",
   "metadata": {},
   "source": [
    "<h1 align=center><font size = 5>AI SATURDAY LAGOS COHORT 8</font></h1>   \n",
    "\n",
    "<h1 align=center><font size = 5>TEAM JOHNSON-SIRLEAF </font></h1>  \n",
    "<h2 align=center><font size = 6>MACHINE LEARNING APPROACH TO\n",
    "PREDICTING DIABETES RISKS</font></h2>\n",
    "\n",
    "<h5 align=center><font size = 2>Data Source: <a href=\"https://www.kaggle.com/datasets/iammustafatz/diabetes-prediction-dataset\" target=\"_blank\">Kaggle.<a/></font></h5>"
   ]
  },
  {
   "cell_type": "markdown",
   "id": "e327f8e1",
   "metadata": {},
   "source": [
    "## DATA PREPARATION"
   ]
  },
  {
   "cell_type": "code",
   "execution_count": 1,
   "id": "55283733",
   "metadata": {},
   "outputs": [],
   "source": [
    "# import libraries\n",
    "\n",
    "import numpy as np                      # for mahematical operations\n",
    "import pandas as pd                     # for data manipulation and cleaning\n",
    "import seaborn as sns                   # for data visulization\n",
    "import plotly.express as px             # for data visulization\n",
    "import matplotlib.pyplot as plt         # for data visulization\n",
    "\n",
    "from sklearn.preprocessing import OneHotEncoder, LabelEncoder"
   ]
  },
  {
   "cell_type": "markdown",
   "id": "cb607e84",
   "metadata": {},
   "source": [
    "### Data Loading"
   ]
  },
  {
   "cell_type": "code",
   "execution_count": 2,
   "id": "4f763e69",
   "metadata": {},
   "outputs": [],
   "source": [
    "# Read in dataset\n",
    "df = pd.read_csv('../data/diabetes_prediction_dataset.csv')"
   ]
  },
  {
   "cell_type": "code",
   "execution_count": 3,
   "id": "9c78de62",
   "metadata": {},
   "outputs": [
    {
     "data": {
      "text/html": [
       "<div>\n",
       "<style scoped>\n",
       "    .dataframe tbody tr th:only-of-type {\n",
       "        vertical-align: middle;\n",
       "    }\n",
       "\n",
       "    .dataframe tbody tr th {\n",
       "        vertical-align: top;\n",
       "    }\n",
       "\n",
       "    .dataframe thead th {\n",
       "        text-align: right;\n",
       "    }\n",
       "</style>\n",
       "<table border=\"1\" class=\"dataframe\">\n",
       "  <thead>\n",
       "    <tr style=\"text-align: right;\">\n",
       "      <th></th>\n",
       "      <th>gender</th>\n",
       "      <th>age</th>\n",
       "      <th>hypertension</th>\n",
       "      <th>heart_disease</th>\n",
       "      <th>smoking_history</th>\n",
       "      <th>bmi</th>\n",
       "      <th>HbA1c_level</th>\n",
       "      <th>blood_glucose_level</th>\n",
       "      <th>diabetes</th>\n",
       "    </tr>\n",
       "  </thead>\n",
       "  <tbody>\n",
       "    <tr>\n",
       "      <th>0</th>\n",
       "      <td>Female</td>\n",
       "      <td>80.0</td>\n",
       "      <td>0</td>\n",
       "      <td>1</td>\n",
       "      <td>never</td>\n",
       "      <td>25.19</td>\n",
       "      <td>6.6</td>\n",
       "      <td>140</td>\n",
       "      <td>0</td>\n",
       "    </tr>\n",
       "    <tr>\n",
       "      <th>1</th>\n",
       "      <td>Female</td>\n",
       "      <td>54.0</td>\n",
       "      <td>0</td>\n",
       "      <td>0</td>\n",
       "      <td>No Info</td>\n",
       "      <td>27.32</td>\n",
       "      <td>6.6</td>\n",
       "      <td>80</td>\n",
       "      <td>0</td>\n",
       "    </tr>\n",
       "    <tr>\n",
       "      <th>2</th>\n",
       "      <td>Male</td>\n",
       "      <td>28.0</td>\n",
       "      <td>0</td>\n",
       "      <td>0</td>\n",
       "      <td>never</td>\n",
       "      <td>27.32</td>\n",
       "      <td>5.7</td>\n",
       "      <td>158</td>\n",
       "      <td>0</td>\n",
       "    </tr>\n",
       "  </tbody>\n",
       "</table>\n",
       "</div>"
      ],
      "text/plain": [
       "   gender   age  hypertension  heart_disease smoking_history    bmi  \\\n",
       "0  Female  80.0             0              1           never  25.19   \n",
       "1  Female  54.0             0              0         No Info  27.32   \n",
       "2    Male  28.0             0              0           never  27.32   \n",
       "\n",
       "   HbA1c_level  blood_glucose_level  diabetes  \n",
       "0          6.6                  140         0  \n",
       "1          6.6                   80         0  \n",
       "2          5.7                  158         0  "
      ]
     },
     "execution_count": 3,
     "metadata": {},
     "output_type": "execute_result"
    }
   ],
   "source": [
    "df.head(3)"
   ]
  },
  {
   "cell_type": "code",
   "execution_count": 4,
   "id": "3544af40",
   "metadata": {},
   "outputs": [
    {
     "name": "stdout",
     "output_type": "stream",
     "text": [
      "The number of data points for non diabetic patients is (91500, 9)\n",
      "The number of data points for diabetic patients is (8500, 9)\n"
     ]
    }
   ],
   "source": [
    "# Proof of Imbalanced Dataset\n",
    "Data_diabetic = df[df[\"diabetes\"] == 1]\n",
    "Data_not_diabetic = df[df[\"diabetes\"] == 0]\n",
    "print(f\"The number of data points for non diabetic patients is {Data_not_diabetic.shape}\")\n",
    "print(f\"The number of data points for diabetic patients is {Data_diabetic.shape}\")"
   ]
  },
  {
   "cell_type": "markdown",
   "id": "0d4efe94",
   "metadata": {},
   "source": [
    "### Data Dictionary"
   ]
  },
  {
   "cell_type": "markdown",
   "id": "ce0cfd19",
   "metadata": {},
   "source": [
    "| variable       | class     | description                                                                  |\n",
    "|:---------------|:----------|:-----------------------------------------------------------------------------|\n",
    "| Gender               | character | Biological sex of the individual  |\n",
    "| Age                  | numeric   | Age of the individual  |\n",
    "| Hypertension         | numeric   | 0 = No Hypertension / 1 = Has Hypertension|\n",
    "| Heart_disease        | numeric   | 0 = No Heart disease / 1 = Has Heart disease|\n",
    "| Smoking_history      | character | 5 categories i.e not current,former,No Info,current,never and ever |\n",
    "| bmi                  | numeric   | Body Mass Index, a measure of body fat based on weight and height|\n",
    "| HbA1c_level          | numeric   | Hemoglobin A1c, a measure of a person's average blood sugar level over the past 2-3 months|\n",
    "| Blood_glucose_level  | numeric | Amount of glucose in the bloodstream at a given time|\n",
    "| Diabetes             | numeric | 0 indicates absence of diabetes, 1 indicates presence of Diabetes|"
   ]
  },
  {
   "cell_type": "code",
   "execution_count": 5,
   "id": "24ce4465",
   "metadata": {},
   "outputs": [
    {
     "data": {
      "text/plain": [
       "gender                  object\n",
       "age                    float64\n",
       "hypertension             int64\n",
       "heart_disease            int64\n",
       "smoking_history         object\n",
       "bmi                    float64\n",
       "HbA1c_level            float64\n",
       "blood_glucose_level      int64\n",
       "diabetes                 int64\n",
       "dtype: object"
      ]
     },
     "execution_count": 5,
     "metadata": {},
     "output_type": "execute_result"
    }
   ],
   "source": [
    "# check the data types of each features\n",
    "df.dtypes"
   ]
  },
  {
   "cell_type": "code",
   "execution_count": 6,
   "id": "c1236ef8",
   "metadata": {},
   "outputs": [
    {
     "data": {
      "text/plain": [
       "(100000, 9)"
      ]
     },
     "execution_count": 6,
     "metadata": {},
     "output_type": "execute_result"
    }
   ],
   "source": [
    "# check the shape of the data\n",
    "df.shape"
   ]
  },
  {
   "cell_type": "code",
   "execution_count": 7,
   "id": "e8022d6d",
   "metadata": {},
   "outputs": [
    {
     "data": {
      "text/plain": [
       "gender                 0\n",
       "age                    0\n",
       "hypertension           0\n",
       "heart_disease          0\n",
       "smoking_history        0\n",
       "bmi                    0\n",
       "HbA1c_level            0\n",
       "blood_glucose_level    0\n",
       "diabetes               0\n",
       "dtype: int64"
      ]
     },
     "execution_count": 7,
     "metadata": {},
     "output_type": "execute_result"
    }
   ],
   "source": [
    "df.isnull().sum()"
   ]
  },
  {
   "cell_type": "code",
   "execution_count": 8,
   "id": "756f66ee",
   "metadata": {},
   "outputs": [
    {
     "name": "stdout",
     "output_type": "stream",
     "text": [
      "<class 'pandas.core.frame.DataFrame'>\n",
      "RangeIndex: 100000 entries, 0 to 99999\n",
      "Data columns (total 9 columns):\n",
      " #   Column               Non-Null Count   Dtype  \n",
      "---  ------               --------------   -----  \n",
      " 0   gender               100000 non-null  object \n",
      " 1   age                  100000 non-null  float64\n",
      " 2   hypertension         100000 non-null  int64  \n",
      " 3   heart_disease        100000 non-null  int64  \n",
      " 4   smoking_history      100000 non-null  object \n",
      " 5   bmi                  100000 non-null  float64\n",
      " 6   HbA1c_level          100000 non-null  float64\n",
      " 7   blood_glucose_level  100000 non-null  int64  \n",
      " 8   diabetes             100000 non-null  int64  \n",
      "dtypes: float64(3), int64(4), object(2)\n",
      "memory usage: 6.9+ MB\n"
     ]
    }
   ],
   "source": [
    "df.info()"
   ]
  },
  {
   "cell_type": "code",
   "execution_count": 9,
   "id": "7cf3a571",
   "metadata": {
    "scrolled": true
   },
   "outputs": [
    {
     "data": {
      "text/html": [
       "<div>\n",
       "<style scoped>\n",
       "    .dataframe tbody tr th:only-of-type {\n",
       "        vertical-align: middle;\n",
       "    }\n",
       "\n",
       "    .dataframe tbody tr th {\n",
       "        vertical-align: top;\n",
       "    }\n",
       "\n",
       "    .dataframe thead th {\n",
       "        text-align: right;\n",
       "    }\n",
       "</style>\n",
       "<table border=\"1\" class=\"dataframe\">\n",
       "  <thead>\n",
       "    <tr style=\"text-align: right;\">\n",
       "      <th></th>\n",
       "      <th>age</th>\n",
       "      <th>hypertension</th>\n",
       "      <th>heart_disease</th>\n",
       "      <th>bmi</th>\n",
       "      <th>HbA1c_level</th>\n",
       "      <th>blood_glucose_level</th>\n",
       "      <th>diabetes</th>\n",
       "    </tr>\n",
       "  </thead>\n",
       "  <tbody>\n",
       "    <tr>\n",
       "      <th>count</th>\n",
       "      <td>100000.000000</td>\n",
       "      <td>100000.00000</td>\n",
       "      <td>100000.000000</td>\n",
       "      <td>100000.000000</td>\n",
       "      <td>100000.000000</td>\n",
       "      <td>100000.000000</td>\n",
       "      <td>100000.000000</td>\n",
       "    </tr>\n",
       "    <tr>\n",
       "      <th>mean</th>\n",
       "      <td>41.885856</td>\n",
       "      <td>0.07485</td>\n",
       "      <td>0.039420</td>\n",
       "      <td>27.320767</td>\n",
       "      <td>5.527507</td>\n",
       "      <td>138.058060</td>\n",
       "      <td>0.085000</td>\n",
       "    </tr>\n",
       "    <tr>\n",
       "      <th>std</th>\n",
       "      <td>22.516840</td>\n",
       "      <td>0.26315</td>\n",
       "      <td>0.194593</td>\n",
       "      <td>6.636783</td>\n",
       "      <td>1.070672</td>\n",
       "      <td>40.708136</td>\n",
       "      <td>0.278883</td>\n",
       "    </tr>\n",
       "    <tr>\n",
       "      <th>min</th>\n",
       "      <td>0.080000</td>\n",
       "      <td>0.00000</td>\n",
       "      <td>0.000000</td>\n",
       "      <td>10.010000</td>\n",
       "      <td>3.500000</td>\n",
       "      <td>80.000000</td>\n",
       "      <td>0.000000</td>\n",
       "    </tr>\n",
       "    <tr>\n",
       "      <th>25%</th>\n",
       "      <td>24.000000</td>\n",
       "      <td>0.00000</td>\n",
       "      <td>0.000000</td>\n",
       "      <td>23.630000</td>\n",
       "      <td>4.800000</td>\n",
       "      <td>100.000000</td>\n",
       "      <td>0.000000</td>\n",
       "    </tr>\n",
       "    <tr>\n",
       "      <th>50%</th>\n",
       "      <td>43.000000</td>\n",
       "      <td>0.00000</td>\n",
       "      <td>0.000000</td>\n",
       "      <td>27.320000</td>\n",
       "      <td>5.800000</td>\n",
       "      <td>140.000000</td>\n",
       "      <td>0.000000</td>\n",
       "    </tr>\n",
       "    <tr>\n",
       "      <th>75%</th>\n",
       "      <td>60.000000</td>\n",
       "      <td>0.00000</td>\n",
       "      <td>0.000000</td>\n",
       "      <td>29.580000</td>\n",
       "      <td>6.200000</td>\n",
       "      <td>159.000000</td>\n",
       "      <td>0.000000</td>\n",
       "    </tr>\n",
       "    <tr>\n",
       "      <th>max</th>\n",
       "      <td>80.000000</td>\n",
       "      <td>1.00000</td>\n",
       "      <td>1.000000</td>\n",
       "      <td>95.690000</td>\n",
       "      <td>9.000000</td>\n",
       "      <td>300.000000</td>\n",
       "      <td>1.000000</td>\n",
       "    </tr>\n",
       "  </tbody>\n",
       "</table>\n",
       "</div>"
      ],
      "text/plain": [
       "                 age  hypertension  heart_disease            bmi  \\\n",
       "count  100000.000000  100000.00000  100000.000000  100000.000000   \n",
       "mean       41.885856       0.07485       0.039420      27.320767   \n",
       "std        22.516840       0.26315       0.194593       6.636783   \n",
       "min         0.080000       0.00000       0.000000      10.010000   \n",
       "25%        24.000000       0.00000       0.000000      23.630000   \n",
       "50%        43.000000       0.00000       0.000000      27.320000   \n",
       "75%        60.000000       0.00000       0.000000      29.580000   \n",
       "max        80.000000       1.00000       1.000000      95.690000   \n",
       "\n",
       "         HbA1c_level  blood_glucose_level       diabetes  \n",
       "count  100000.000000        100000.000000  100000.000000  \n",
       "mean        5.527507           138.058060       0.085000  \n",
       "std         1.070672            40.708136       0.278883  \n",
       "min         3.500000            80.000000       0.000000  \n",
       "25%         4.800000           100.000000       0.000000  \n",
       "50%         5.800000           140.000000       0.000000  \n",
       "75%         6.200000           159.000000       0.000000  \n",
       "max         9.000000           300.000000       1.000000  "
      ]
     },
     "execution_count": 9,
     "metadata": {},
     "output_type": "execute_result"
    }
   ],
   "source": [
    "# Checking statistics of the numeric features\n",
    "df.describe()"
   ]
  },
  {
   "cell_type": "markdown",
   "id": "311fcdac",
   "metadata": {},
   "source": [
    "### Data Wrangling"
   ]
  },
  {
   "cell_type": "code",
   "execution_count": 10,
   "id": "b107e8ab",
   "metadata": {},
   "outputs": [],
   "source": [
    "# save a copy of the data\n",
    "df_copy = df.copy('Dataset/diabetes_prediction_dataset.csv')"
   ]
  },
  {
   "cell_type": "code",
   "execution_count": 11,
   "id": "0bc37d81",
   "metadata": {},
   "outputs": [],
   "source": [
    "def df_wrangle(df, dtype_convert, OneHot_cols):\n",
    "    '''\n",
    "    This function wrangles (cleans) our dataset by correcting datypes and One-Hot\n",
    "    encoding dpecified columns\n",
    "    \n",
    "    Inputs\n",
    "    df: (dataframe), dataframe to wrangle\n",
    "    dtype_convert: (dictionary), pairs of column, dtype to convert to\n",
    "    OneHot_col: (list), columns in the dataframe to One-Hot encode\n",
    "    \n",
    "    Output\n",
    "    df: (dataframe), wrangled (cleaned) dataframe\n",
    "    '''\n",
    "    \n",
    "    # convert datatypes to correct formats\n",
    "    for col, dtype in dtype_convert.items():\n",
    "        df[col] = df[col].astype(dtype)\n",
    "        \n",
    "    # One_Hot encode neccesary columns\n",
    "    \n",
    "    # Initialize the One-Hot Encoder\n",
    "    encoder = OneHotEncoder()\n",
    "    \n",
    "    # One-Hot encode each column\n",
    "    for col in OneHot_cols:\n",
    "        # variable to store new column names\n",
    "        df_col_name = []\n",
    "        \n",
    "        # unique values in current column\n",
    "        vals = df[col].unique()             \n",
    "\n",
    "        for val in vals:\n",
    "            # replace spaces in values with underscore\n",
    "            val = val.replace(' ', '_')\n",
    "            \n",
    "            # combine initial column name and current value as new column name\n",
    "            df_col_name.append(col+'_'+val) \n",
    "                                            \n",
    "        # encode the columns\n",
    "        encoded_df = pd.DataFrame(encoder.fit_transform(df[[col]]).toarray())\n",
    "        \n",
    "        # rename the new columns\n",
    "        encoded_df.columns = df_col_name\n",
    "        \n",
    "        # add new columns to dataframe\n",
    "        df = df.join(encoded_df)\n",
    "\n",
    "    # drop the initial columns\n",
    "    df.drop(OneHot_cols, axis=1, inplace=True)\n",
    "    \n",
    "    # drop duplicate records\n",
    "    df.drop_duplicates(inplace=True)\n",
    "    \n",
    "    return df"
   ]
  },
  {
   "cell_type": "code",
   "execution_count": 12,
   "id": "9f3ce2ee",
   "metadata": {},
   "outputs": [],
   "source": [
    "df = df_wrangle(df, {'age':'int'}, ['gender', 'smoking_history'])"
   ]
  },
  {
   "cell_type": "code",
   "execution_count": 13,
   "id": "424848b1",
   "metadata": {},
   "outputs": [
    {
     "data": {
      "text/html": [
       "<div>\n",
       "<style scoped>\n",
       "    .dataframe tbody tr th:only-of-type {\n",
       "        vertical-align: middle;\n",
       "    }\n",
       "\n",
       "    .dataframe tbody tr th {\n",
       "        vertical-align: top;\n",
       "    }\n",
       "\n",
       "    .dataframe thead th {\n",
       "        text-align: right;\n",
       "    }\n",
       "</style>\n",
       "<table border=\"1\" class=\"dataframe\">\n",
       "  <thead>\n",
       "    <tr style=\"text-align: right;\">\n",
       "      <th></th>\n",
       "      <th>age</th>\n",
       "      <th>hypertension</th>\n",
       "      <th>heart_disease</th>\n",
       "      <th>bmi</th>\n",
       "      <th>HbA1c_level</th>\n",
       "      <th>blood_glucose_level</th>\n",
       "      <th>diabetes</th>\n",
       "      <th>gender_Female</th>\n",
       "      <th>gender_Male</th>\n",
       "      <th>gender_Other</th>\n",
       "      <th>smoking_history_never</th>\n",
       "      <th>smoking_history_No_Info</th>\n",
       "      <th>smoking_history_current</th>\n",
       "      <th>smoking_history_former</th>\n",
       "      <th>smoking_history_ever</th>\n",
       "      <th>smoking_history_not_current</th>\n",
       "    </tr>\n",
       "  </thead>\n",
       "  <tbody>\n",
       "    <tr>\n",
       "      <th>0</th>\n",
       "      <td>80</td>\n",
       "      <td>0</td>\n",
       "      <td>1</td>\n",
       "      <td>25.19</td>\n",
       "      <td>6.6</td>\n",
       "      <td>140</td>\n",
       "      <td>0</td>\n",
       "      <td>1.0</td>\n",
       "      <td>0.0</td>\n",
       "      <td>0.0</td>\n",
       "      <td>0.0</td>\n",
       "      <td>0.0</td>\n",
       "      <td>0.0</td>\n",
       "      <td>0.0</td>\n",
       "      <td>1.0</td>\n",
       "      <td>0.0</td>\n",
       "    </tr>\n",
       "    <tr>\n",
       "      <th>1</th>\n",
       "      <td>54</td>\n",
       "      <td>0</td>\n",
       "      <td>0</td>\n",
       "      <td>27.32</td>\n",
       "      <td>6.6</td>\n",
       "      <td>80</td>\n",
       "      <td>0</td>\n",
       "      <td>1.0</td>\n",
       "      <td>0.0</td>\n",
       "      <td>0.0</td>\n",
       "      <td>1.0</td>\n",
       "      <td>0.0</td>\n",
       "      <td>0.0</td>\n",
       "      <td>0.0</td>\n",
       "      <td>0.0</td>\n",
       "      <td>0.0</td>\n",
       "    </tr>\n",
       "    <tr>\n",
       "      <th>2</th>\n",
       "      <td>28</td>\n",
       "      <td>0</td>\n",
       "      <td>0</td>\n",
       "      <td>27.32</td>\n",
       "      <td>5.7</td>\n",
       "      <td>158</td>\n",
       "      <td>0</td>\n",
       "      <td>0.0</td>\n",
       "      <td>1.0</td>\n",
       "      <td>0.0</td>\n",
       "      <td>0.0</td>\n",
       "      <td>0.0</td>\n",
       "      <td>0.0</td>\n",
       "      <td>0.0</td>\n",
       "      <td>1.0</td>\n",
       "      <td>0.0</td>\n",
       "    </tr>\n",
       "    <tr>\n",
       "      <th>3</th>\n",
       "      <td>36</td>\n",
       "      <td>0</td>\n",
       "      <td>0</td>\n",
       "      <td>23.45</td>\n",
       "      <td>5.0</td>\n",
       "      <td>155</td>\n",
       "      <td>0</td>\n",
       "      <td>1.0</td>\n",
       "      <td>0.0</td>\n",
       "      <td>0.0</td>\n",
       "      <td>0.0</td>\n",
       "      <td>1.0</td>\n",
       "      <td>0.0</td>\n",
       "      <td>0.0</td>\n",
       "      <td>0.0</td>\n",
       "      <td>0.0</td>\n",
       "    </tr>\n",
       "    <tr>\n",
       "      <th>4</th>\n",
       "      <td>76</td>\n",
       "      <td>1</td>\n",
       "      <td>1</td>\n",
       "      <td>20.14</td>\n",
       "      <td>4.8</td>\n",
       "      <td>155</td>\n",
       "      <td>0</td>\n",
       "      <td>0.0</td>\n",
       "      <td>1.0</td>\n",
       "      <td>0.0</td>\n",
       "      <td>0.0</td>\n",
       "      <td>1.0</td>\n",
       "      <td>0.0</td>\n",
       "      <td>0.0</td>\n",
       "      <td>0.0</td>\n",
       "      <td>0.0</td>\n",
       "    </tr>\n",
       "  </tbody>\n",
       "</table>\n",
       "</div>"
      ],
      "text/plain": [
       "   age  hypertension  heart_disease    bmi  HbA1c_level  blood_glucose_level  \\\n",
       "0   80             0              1  25.19          6.6                  140   \n",
       "1   54             0              0  27.32          6.6                   80   \n",
       "2   28             0              0  27.32          5.7                  158   \n",
       "3   36             0              0  23.45          5.0                  155   \n",
       "4   76             1              1  20.14          4.8                  155   \n",
       "\n",
       "   diabetes  gender_Female  gender_Male  gender_Other  smoking_history_never  \\\n",
       "0         0            1.0          0.0           0.0                    0.0   \n",
       "1         0            1.0          0.0           0.0                    1.0   \n",
       "2         0            0.0          1.0           0.0                    0.0   \n",
       "3         0            1.0          0.0           0.0                    0.0   \n",
       "4         0            0.0          1.0           0.0                    0.0   \n",
       "\n",
       "   smoking_history_No_Info  smoking_history_current  smoking_history_former  \\\n",
       "0                      0.0                      0.0                     0.0   \n",
       "1                      0.0                      0.0                     0.0   \n",
       "2                      0.0                      0.0                     0.0   \n",
       "3                      1.0                      0.0                     0.0   \n",
       "4                      1.0                      0.0                     0.0   \n",
       "\n",
       "   smoking_history_ever  smoking_history_not_current  \n",
       "0                   1.0                          0.0  \n",
       "1                   0.0                          0.0  \n",
       "2                   1.0                          0.0  \n",
       "3                   0.0                          0.0  \n",
       "4                   0.0                          0.0  "
      ]
     },
     "execution_count": 13,
     "metadata": {},
     "output_type": "execute_result"
    }
   ],
   "source": [
    "df.head()"
   ]
  },
  {
   "cell_type": "code",
   "execution_count": 14,
   "id": "68ad28c8",
   "metadata": {},
   "outputs": [
    {
     "name": "stdout",
     "output_type": "stream",
     "text": [
      "<class 'pandas.core.frame.DataFrame'>\n",
      "Index: 96112 entries, 0 to 99999\n",
      "Data columns (total 16 columns):\n",
      " #   Column                       Non-Null Count  Dtype  \n",
      "---  ------                       --------------  -----  \n",
      " 0   age                          96112 non-null  int32  \n",
      " 1   hypertension                 96112 non-null  int64  \n",
      " 2   heart_disease                96112 non-null  int64  \n",
      " 3   bmi                          96112 non-null  float64\n",
      " 4   HbA1c_level                  96112 non-null  float64\n",
      " 5   blood_glucose_level          96112 non-null  int64  \n",
      " 6   diabetes                     96112 non-null  int64  \n",
      " 7   gender_Female                96112 non-null  float64\n",
      " 8   gender_Male                  96112 non-null  float64\n",
      " 9   gender_Other                 96112 non-null  float64\n",
      " 10  smoking_history_never        96112 non-null  float64\n",
      " 11  smoking_history_No_Info      96112 non-null  float64\n",
      " 12  smoking_history_current      96112 non-null  float64\n",
      " 13  smoking_history_former       96112 non-null  float64\n",
      " 14  smoking_history_ever         96112 non-null  float64\n",
      " 15  smoking_history_not_current  96112 non-null  float64\n",
      "dtypes: float64(11), int32(1), int64(4)\n",
      "memory usage: 12.1 MB\n"
     ]
    }
   ],
   "source": [
    "df.info()"
   ]
  },
  {
   "cell_type": "code",
   "execution_count": 15,
   "id": "ca13ce39",
   "metadata": {},
   "outputs": [
    {
     "data": {
      "text/html": [
       "<div>\n",
       "<style scoped>\n",
       "    .dataframe tbody tr th:only-of-type {\n",
       "        vertical-align: middle;\n",
       "    }\n",
       "\n",
       "    .dataframe tbody tr th {\n",
       "        vertical-align: top;\n",
       "    }\n",
       "\n",
       "    .dataframe thead th {\n",
       "        text-align: right;\n",
       "    }\n",
       "</style>\n",
       "<table border=\"1\" class=\"dataframe\">\n",
       "  <thead>\n",
       "    <tr style=\"text-align: right;\">\n",
       "      <th></th>\n",
       "      <th>age</th>\n",
       "      <th>hypertension</th>\n",
       "      <th>heart_disease</th>\n",
       "      <th>bmi</th>\n",
       "      <th>HbA1c_level</th>\n",
       "      <th>blood_glucose_level</th>\n",
       "      <th>diabetes</th>\n",
       "      <th>gender_Female</th>\n",
       "      <th>gender_Male</th>\n",
       "      <th>gender_Other</th>\n",
       "      <th>smoking_history_never</th>\n",
       "      <th>smoking_history_No_Info</th>\n",
       "      <th>smoking_history_current</th>\n",
       "      <th>smoking_history_former</th>\n",
       "      <th>smoking_history_ever</th>\n",
       "      <th>smoking_history_not_current</th>\n",
       "    </tr>\n",
       "  </thead>\n",
       "  <tbody>\n",
       "    <tr>\n",
       "      <th>count</th>\n",
       "      <td>96112.000000</td>\n",
       "      <td>96112.000000</td>\n",
       "      <td>96112.000000</td>\n",
       "      <td>96112.000000</td>\n",
       "      <td>96112.000000</td>\n",
       "      <td>96112.000000</td>\n",
       "      <td>96112.000000</td>\n",
       "      <td>96112.000000</td>\n",
       "      <td>96112.000000</td>\n",
       "      <td>96112.000000</td>\n",
       "      <td>96112.000000</td>\n",
       "      <td>96112.000000</td>\n",
       "      <td>96112.000000</td>\n",
       "      <td>96112.000000</td>\n",
       "      <td>96112.000000</td>\n",
       "      <td>96112.000000</td>\n",
       "    </tr>\n",
       "    <tr>\n",
       "      <th>mean</th>\n",
       "      <td>41.798287</td>\n",
       "      <td>0.077628</td>\n",
       "      <td>0.040817</td>\n",
       "      <td>27.321923</td>\n",
       "      <td>5.532618</td>\n",
       "      <td>138.221013</td>\n",
       "      <td>0.088251</td>\n",
       "      <td>0.584131</td>\n",
       "      <td>0.415682</td>\n",
       "      <td>0.000187</td>\n",
       "      <td>0.341820</td>\n",
       "      <td>0.095690</td>\n",
       "      <td>0.041597</td>\n",
       "      <td>0.096752</td>\n",
       "      <td>0.357895</td>\n",
       "      <td>0.066246</td>\n",
       "    </tr>\n",
       "    <tr>\n",
       "      <th>std</th>\n",
       "      <td>22.472901</td>\n",
       "      <td>0.267587</td>\n",
       "      <td>0.197867</td>\n",
       "      <td>6.768534</td>\n",
       "      <td>1.073288</td>\n",
       "      <td>40.911287</td>\n",
       "      <td>0.283661</td>\n",
       "      <td>0.492874</td>\n",
       "      <td>0.492842</td>\n",
       "      <td>0.013684</td>\n",
       "      <td>0.474322</td>\n",
       "      <td>0.294168</td>\n",
       "      <td>0.199668</td>\n",
       "      <td>0.295621</td>\n",
       "      <td>0.479384</td>\n",
       "      <td>0.248712</td>\n",
       "    </tr>\n",
       "    <tr>\n",
       "      <th>min</th>\n",
       "      <td>0.000000</td>\n",
       "      <td>0.000000</td>\n",
       "      <td>0.000000</td>\n",
       "      <td>10.010000</td>\n",
       "      <td>3.500000</td>\n",
       "      <td>80.000000</td>\n",
       "      <td>0.000000</td>\n",
       "      <td>0.000000</td>\n",
       "      <td>0.000000</td>\n",
       "      <td>0.000000</td>\n",
       "      <td>0.000000</td>\n",
       "      <td>0.000000</td>\n",
       "      <td>0.000000</td>\n",
       "      <td>0.000000</td>\n",
       "      <td>0.000000</td>\n",
       "      <td>0.000000</td>\n",
       "    </tr>\n",
       "    <tr>\n",
       "      <th>25%</th>\n",
       "      <td>24.000000</td>\n",
       "      <td>0.000000</td>\n",
       "      <td>0.000000</td>\n",
       "      <td>23.400000</td>\n",
       "      <td>4.800000</td>\n",
       "      <td>100.000000</td>\n",
       "      <td>0.000000</td>\n",
       "      <td>0.000000</td>\n",
       "      <td>0.000000</td>\n",
       "      <td>0.000000</td>\n",
       "      <td>0.000000</td>\n",
       "      <td>0.000000</td>\n",
       "      <td>0.000000</td>\n",
       "      <td>0.000000</td>\n",
       "      <td>0.000000</td>\n",
       "      <td>0.000000</td>\n",
       "    </tr>\n",
       "    <tr>\n",
       "      <th>50%</th>\n",
       "      <td>43.000000</td>\n",
       "      <td>0.000000</td>\n",
       "      <td>0.000000</td>\n",
       "      <td>27.320000</td>\n",
       "      <td>5.800000</td>\n",
       "      <td>140.000000</td>\n",
       "      <td>0.000000</td>\n",
       "      <td>1.000000</td>\n",
       "      <td>0.000000</td>\n",
       "      <td>0.000000</td>\n",
       "      <td>0.000000</td>\n",
       "      <td>0.000000</td>\n",
       "      <td>0.000000</td>\n",
       "      <td>0.000000</td>\n",
       "      <td>0.000000</td>\n",
       "      <td>0.000000</td>\n",
       "    </tr>\n",
       "    <tr>\n",
       "      <th>75%</th>\n",
       "      <td>59.000000</td>\n",
       "      <td>0.000000</td>\n",
       "      <td>0.000000</td>\n",
       "      <td>29.860000</td>\n",
       "      <td>6.200000</td>\n",
       "      <td>159.000000</td>\n",
       "      <td>0.000000</td>\n",
       "      <td>1.000000</td>\n",
       "      <td>1.000000</td>\n",
       "      <td>0.000000</td>\n",
       "      <td>1.000000</td>\n",
       "      <td>0.000000</td>\n",
       "      <td>0.000000</td>\n",
       "      <td>0.000000</td>\n",
       "      <td>1.000000</td>\n",
       "      <td>0.000000</td>\n",
       "    </tr>\n",
       "    <tr>\n",
       "      <th>max</th>\n",
       "      <td>80.000000</td>\n",
       "      <td>1.000000</td>\n",
       "      <td>1.000000</td>\n",
       "      <td>95.690000</td>\n",
       "      <td>9.000000</td>\n",
       "      <td>300.000000</td>\n",
       "      <td>1.000000</td>\n",
       "      <td>1.000000</td>\n",
       "      <td>1.000000</td>\n",
       "      <td>1.000000</td>\n",
       "      <td>1.000000</td>\n",
       "      <td>1.000000</td>\n",
       "      <td>1.000000</td>\n",
       "      <td>1.000000</td>\n",
       "      <td>1.000000</td>\n",
       "      <td>1.000000</td>\n",
       "    </tr>\n",
       "  </tbody>\n",
       "</table>\n",
       "</div>"
      ],
      "text/plain": [
       "                age  hypertension  heart_disease           bmi   HbA1c_level  \\\n",
       "count  96112.000000  96112.000000   96112.000000  96112.000000  96112.000000   \n",
       "mean      41.798287      0.077628       0.040817     27.321923      5.532618   \n",
       "std       22.472901      0.267587       0.197867      6.768534      1.073288   \n",
       "min        0.000000      0.000000       0.000000     10.010000      3.500000   \n",
       "25%       24.000000      0.000000       0.000000     23.400000      4.800000   \n",
       "50%       43.000000      0.000000       0.000000     27.320000      5.800000   \n",
       "75%       59.000000      0.000000       0.000000     29.860000      6.200000   \n",
       "max       80.000000      1.000000       1.000000     95.690000      9.000000   \n",
       "\n",
       "       blood_glucose_level      diabetes  gender_Female   gender_Male  \\\n",
       "count         96112.000000  96112.000000   96112.000000  96112.000000   \n",
       "mean            138.221013      0.088251       0.584131      0.415682   \n",
       "std              40.911287      0.283661       0.492874      0.492842   \n",
       "min              80.000000      0.000000       0.000000      0.000000   \n",
       "25%             100.000000      0.000000       0.000000      0.000000   \n",
       "50%             140.000000      0.000000       1.000000      0.000000   \n",
       "75%             159.000000      0.000000       1.000000      1.000000   \n",
       "max             300.000000      1.000000       1.000000      1.000000   \n",
       "\n",
       "       gender_Other  smoking_history_never  smoking_history_No_Info  \\\n",
       "count  96112.000000           96112.000000             96112.000000   \n",
       "mean       0.000187               0.341820                 0.095690   \n",
       "std        0.013684               0.474322                 0.294168   \n",
       "min        0.000000               0.000000                 0.000000   \n",
       "25%        0.000000               0.000000                 0.000000   \n",
       "50%        0.000000               0.000000                 0.000000   \n",
       "75%        0.000000               1.000000                 0.000000   \n",
       "max        1.000000               1.000000                 1.000000   \n",
       "\n",
       "       smoking_history_current  smoking_history_former  smoking_history_ever  \\\n",
       "count             96112.000000            96112.000000          96112.000000   \n",
       "mean                  0.041597                0.096752              0.357895   \n",
       "std                   0.199668                0.295621              0.479384   \n",
       "min                   0.000000                0.000000              0.000000   \n",
       "25%                   0.000000                0.000000              0.000000   \n",
       "50%                   0.000000                0.000000              0.000000   \n",
       "75%                   0.000000                0.000000              1.000000   \n",
       "max                   1.000000                1.000000              1.000000   \n",
       "\n",
       "       smoking_history_not_current  \n",
       "count                 96112.000000  \n",
       "mean                      0.066246  \n",
       "std                       0.248712  \n",
       "min                       0.000000  \n",
       "25%                       0.000000  \n",
       "50%                       0.000000  \n",
       "75%                       0.000000  \n",
       "max                       1.000000  "
      ]
     },
     "execution_count": 15,
     "metadata": {},
     "output_type": "execute_result"
    }
   ],
   "source": [
    "df.describe()"
   ]
  },
  {
   "cell_type": "markdown",
   "id": "5f0ce201",
   "metadata": {},
   "source": [
    "### Defining Model Variables and Target"
   ]
  },
  {
   "cell_type": "code",
   "execution_count": 16,
   "id": "e103dda9",
   "metadata": {},
   "outputs": [
    {
     "data": {
      "text/plain": [
       "(96112, 15)"
      ]
     },
     "execution_count": 16,
     "metadata": {},
     "output_type": "execute_result"
    }
   ],
   "source": [
    "X = df.drop('diabetes', axis=1)\n",
    "X.shape"
   ]
  },
  {
   "cell_type": "code",
   "execution_count": 17,
   "id": "3b281989",
   "metadata": {},
   "outputs": [
    {
     "data": {
      "text/plain": [
       "(96112,)"
      ]
     },
     "execution_count": 17,
     "metadata": {},
     "output_type": "execute_result"
    }
   ],
   "source": [
    "y = df['diabetes']\n",
    "y.shape"
   ]
  },
  {
   "cell_type": "markdown",
   "id": "12c5f897",
   "metadata": {},
   "source": [
    "### Cross Validation"
   ]
  },
  {
   "cell_type": "markdown",
   "id": "632440cd",
   "metadata": {},
   "source": [
    "We have a total of 96,112 datasets, we would carry out cross validation to make sure we immerse the 80% of our dataset into model training and 20% into test. For this we would use a kfold of 5."
   ]
  },
  {
   "cell_type": "code",
   "execution_count": 18,
   "id": "27ee24cb",
   "metadata": {},
   "outputs": [],
   "source": [
    "from sklearn.model_selection import train_test_split\n",
    "X_train_val, X_test, y_train_val, y_test = train_test_split(X, y, test_size=0.2, random_state=123)"
   ]
  },
  {
   "cell_type": "code",
   "execution_count": 19,
   "id": "027c3e4a",
   "metadata": {},
   "outputs": [
    {
     "name": "stdout",
     "output_type": "stream",
     "text": [
      "Shape of X_train_val (76889, 15)    Shape of y_train_val (76889,)\n",
      "Shape of X_test      (19223, 15)    Shape of y_test      (19223,)\n"
     ]
    }
   ],
   "source": [
    "print(f'Shape of X_train_val {X_train_val.shape}    Shape of y_train_val {y_train_val.shape}')\n",
    "print(f'Shape of X_test      {X_test.shape}    Shape of y_test      {y_test.shape}')"
   ]
  },
  {
   "cell_type": "markdown",
   "id": "09899f46",
   "metadata": {},
   "source": [
    "#### Cross Validation using F1 score as evaluation metrics"
   ]
  },
  {
   "cell_type": "code",
   "execution_count": 20,
   "id": "5496a0a5",
   "metadata": {},
   "outputs": [],
   "source": [
    "from sklearn.model_selection import cross_val_score, StratifiedKFold\n",
    "from sklearn.linear_model import LogisticRegression\n",
    "from sklearn.preprocessing import StandardScaler\n",
    "from sklearn.metrics import make_scorer, f1_score"
   ]
  },
  {
   "cell_type": "code",
   "execution_count": 21,
   "id": "1c94e307",
   "metadata": {},
   "outputs": [],
   "source": [
    "model = LogisticRegression(max_iter=1000)"
   ]
  },
  {
   "cell_type": "code",
   "execution_count": 22,
   "id": "a27813a7",
   "metadata": {},
   "outputs": [],
   "source": [
    "scaler = StandardScaler().fit(X_train_val)\n",
    "X_train_val_scaled = scaler.transform(X_train_val)"
   ]
  },
  {
   "cell_type": "code",
   "execution_count": 23,
   "id": "d29beb6f",
   "metadata": {},
   "outputs": [],
   "source": [
    "kf = StratifiedKFold(n_splits=5, shuffle=True, random_state=42)\n",
    "f1_scorer = make_scorer(f1_score, average=\"binary\")"
   ]
  },
  {
   "cell_type": "code",
   "execution_count": 24,
   "id": "12340173",
   "metadata": {},
   "outputs": [],
   "source": [
    "cross_val_result_arr = cross_val_score(model, X_train_val_scaled, y_train_val, cv=kf, scoring=f1_scorer)"
   ]
  },
  {
   "cell_type": "code",
   "execution_count": 25,
   "id": "dec8d8b2",
   "metadata": {
    "scrolled": true
   },
   "outputs": [
    {
     "name": "stdout",
     "output_type": "stream",
     "text": [
      "Cross-Validation Results: [0.74675596 0.73065539 0.72245944 0.73164557 0.73254836]\n",
      "Mean F1 score: 0.7328\n",
      "Standard deviation of F1 score: 0.0078\n"
     ]
    }
   ],
   "source": [
    "# Printing the results\n",
    "print(\"Cross-Validation Results:\", cross_val_result_arr)\n",
    "print(f\"Mean F1 score: {cross_val_result_arr.mean():.4f}\")\n",
    "print(f\"Standard deviation of F1 score: {cross_val_result_arr.std():.4f}\")"
   ]
  },
  {
   "cell_type": "code",
   "execution_count": 26,
   "id": "f7266458",
   "metadata": {},
   "outputs": [
    {
     "name": "stdout",
     "output_type": "stream",
     "text": [
      "F1 Score on Test Set: 0.7204\n"
     ]
    }
   ],
   "source": [
    "## Evaluating on test dataset\n",
    "model = LogisticRegression()\n",
    "\n",
    "model.fit(X_train_val_scaled, y_train_val)\n",
    "\n",
    "y_pred = model.predict(scaler.transform(X_test))\n",
    "\n",
    "f1_test_score = f1_score(y_test, y_pred, average='binary')\n",
    "\n",
    "print(f\"F1 Score on Test Set: {f1_test_score:.4f}\")"
   ]
  },
  {
   "cell_type": "markdown",
   "id": "451a3d71",
   "metadata": {},
   "source": [
    "### Confusion Matrix"
   ]
  },
  {
   "cell_type": "code",
   "execution_count": 27,
   "id": "fe147a4b",
   "metadata": {},
   "outputs": [
    {
     "data": {
      "image/png": "[encoded data removed]",
      "text/plain": [
       "<Figure size 700x500 with 1 Axes>"
      ]
     },
     "metadata": {},
     "output_type": "display_data"
    }
   ],
   "source": [
    "color  = ['#3355FF','#00FF00','#0D004D','#00bfff','#ffcc99','#006600']\n",
    "# sns.countplot(x='Purchased', data = insurance, palette = color[2:4]);\n",
    "\n",
    "\n",
    "def ConfusionMatrix(ytest, ypred, label: [str, str] = [\"Negative\", \"Positive\"]):\n",
    "    \"A beautiful confusion matrix function to check the model performance\"\n",
    "    from sklearn.metrics import confusion_matrix\n",
    "    import seaborn as sns\n",
    "    cm = confusion_matrix(ytest, ypred)\n",
    "    plt.figure(figsize=(7,5))\n",
    "    sns.heatmap(cm, annot = True, cbar = False, fmt = 'd', cmap = 'Blues_r')\n",
    "    plt.xlabel('Predicted',font = 'Century Gothic', fontsize = 13)\n",
    "    plt.ylabel('Actual', font = 'Century Gothic', fontsize = 13)\n",
    "    plt.xticks([0.5, 1.5], label)\n",
    "    plt.yticks([0.5, 1.5], label)\n",
    "    plt.title('Confusion matrix for Dabiates Prediction', font = \"Century Gothic\", fontsize = 17,fontweight = 'bold');\n",
    "\n",
    "\n",
    "ConfusionMatrix(y_test, y_pred, label = [\"Normal\", \"Diabetic\"])"
   ]
  },
  {
   "cell_type": "markdown",
   "id": "b2f58b70",
   "metadata": {},
   "source": [
    "### Interpretation of the Logistic Regression Model Evaluation Performance\n",
    "Out of the `19,223` patient data used for the test dataset:\n",
    "\n",
    "There are `17406` True Negatives (TN): predicting that patients are  not diabetic and truly the patients are not diabetic.\n",
    "\n",
    "There `628` False Negatives (FN): predicting that the patients are not diabetic meanwhile the patients are diabetic.\n",
    "\n",
    "There are `1023` True Positives (TP): predicting that the patients are diabetic and they actually diabetic.\n",
    "\n",
    "There are also `166` False Positives (FP): predicting that the patients are diabetic meanwhile they are actually not diabetic.\n",
    "\n",
    "Based on the confusion matrix, we can see that although performed very well in predicting the positive and negative cases, it can still be better."
   ]
  },
  {
   "cell_type": "markdown",
   "id": "6f362342",
   "metadata": {},
   "source": [
    "### Polynomial Engineering for Model Complexity."
   ]
  },
  {
   "cell_type": "code",
   "execution_count": 28,
   "id": "d187e677",
   "metadata": {},
   "outputs": [],
   "source": [
    "from sklearn.pipeline import make_pipeline\n",
    "from sklearn.model_selection import validation_curve\n",
    "from sklearn.preprocessing import PolynomialFeatures"
   ]
  },
  {
   "cell_type": "code",
   "execution_count": 29,
   "id": "d235c48b",
   "metadata": {},
   "outputs": [],
   "source": [
    "def PolynomialRegression(degree, **kwargs):\n",
    "    return make_pipeline(PolynomialFeatures(degree, include_bias=False),\n",
    "                         LogisticRegression(**kwargs))"
   ]
  },
  {
   "cell_type": "code",
   "execution_count": 30,
   "id": "7842086f",
   "metadata": {},
   "outputs": [],
   "source": [
    "scaler = StandardScaler().fit(X_train_val)\n",
    "X_train_val_scaled = scaler.transform(X_train_val)"
   ]
  },
  {
   "cell_type": "code",
   "execution_count": 31,
   "id": "ce171a41",
   "metadata": {},
   "outputs": [],
   "source": [
    "kf = StratifiedKFold(n_splits=5, shuffle=True, random_state=42)\n",
    "f1_scorer = make_scorer(f1_score, average=\"binary\")"
   ]
  },
  {
   "cell_type": "code",
   "execution_count": 32,
   "id": "089d4330",
   "metadata": {},
   "outputs": [],
   "source": [
    "degree = np.arange(1,4)"
   ]
  },
  {
   "cell_type": "code",
   "execution_count": 33,
   "id": "d182ae75",
   "metadata": {},
   "outputs": [],
   "source": [
    "train_score, val_score = validation_curve(PolynomialRegression(degree, max_iter=100000),\n",
    "                                          X_train_val_scaled, y_train_val,\n",
    "                                          param_name='polynomialfeatures__degree',\n",
    "                                          param_range=degree, cv=kf, scoring=f1_scorer)"
   ]
  },
  {
   "cell_type": "code",
   "execution_count": 44,
   "id": "3bd5234f",
   "metadata": {
    "scrolled": true
   },
   "outputs": [
    {
     "name": "stdout",
     "output_type": "stream",
     "text": [
      "Train scores:\n",
      " [[0.7305579  0.73431073 0.73589689 0.73259377 0.73396624]\n",
      " [0.74696744 0.75058374 0.75390335 0.75074563 0.74941601]\n",
      " [0.80360592 0.80871516 0.81003737 0.80532589 0.80655176]]\n",
      "\n",
      "Validation scores:\n",
      " [[0.74675596 0.73065539 0.72245944 0.73164557 0.73254836]\n",
      " [0.7665827  0.74392842 0.73296185 0.74531516 0.74756046]\n",
      " [0.81297388 0.79190004 0.7887689  0.80171306 0.79415557]]\n",
      "\n",
      "Mean F1 score: [0.73281294 0.74726972 0.79790229]\n",
      "\n",
      "Standard deviation of F1 score: [0.00784463 0.0108883  0.00866209]\n"
     ]
    }
   ],
   "source": [
    "# Printing the results\n",
    "print(\"Train scores:\\n\", train_score)\n",
    "print()\n",
    "print(\"Validation scores:\\n\", val_score)\n",
    "print()\n",
    "print(f\"Mean F1 score: {val_score.mean(axis=1)}\")\n",
    "print()\n",
    "print(f\"Standard deviation of F1 score: {val_score.std(axis=1)}\")"
   ]
  },
  {
   "cell_type": "code",
   "execution_count": 46,
   "id": "4ad2cdce",
   "metadata": {
    "scrolled": false
   },
   "outputs": [
    {
     "data": {
      "image/png": "[encoded data removed]",
      "text/plain": [
       "<Figure size 640x480 with 1 Axes>"
      ]
     },
     "metadata": {},
     "output_type": "display_data"
    }
   ],
   "source": [
    "plt.plot(degree,np.mean(train_score,axis=1),'b',label='training score')\n",
    "plt.plot(degree,np.mean(val_score,axis=1),'r',label='validation score')\n",
    "plt.xlabel('Degree')\n",
    "plt.ylabel('F1 Score')\n",
    "plt.legend();"
   ]
  },
  {
   "cell_type": "markdown",
   "id": "9e65edd2",
   "metadata": {},
   "source": [
    "The plot above shows that our model can still improve up to around 97% using 3rd order polynomial feature genration.\n",
    "\n",
    "They is posibility to achieve more than this. The model was built only up to the 3rd degree polynomial because of the long time needed for higher orders"
   ]
  }
 ],
 "metadata": {
  "kernelspec": {
   "display_name": "Python 3 (ipykernel)",
   "language": "python",
   "name": "python3"
  },
  "language_info": {
   "codemirror_mode": {
    "name": "ipython",
    "version": 3
   },
   "file_extension": ".py",
   "mimetype": "text/x-python",
   "name": "python",
   "nbconvert_exporter": "python",
   "pygments_lexer": "ipython3",
   "version": "3.11.5"
  }
 },
 "nbformat": 4,
 "nbformat_minor": 5
}
