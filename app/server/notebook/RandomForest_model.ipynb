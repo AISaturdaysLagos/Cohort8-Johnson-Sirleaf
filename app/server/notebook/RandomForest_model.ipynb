{
 "cells": [
  {
   "cell_type": "markdown",
   "id": "67bb34cf",
   "metadata": {},
   "source": [
    "<h1 align=center><font size = 5>AI SATURDAY LAGOS COHORT 8</font></h1>   \n",
    "\n",
    "<h1 align=center><font size = 5>TEAM JOHNSON-SIRLEAF </font></h1>  \n",
    "<h2 align=center><font size = 6>MACHINE LEARNING APPROACH TO\n",
    "PREDICTING DIABETES RISKS</font></h2>\n",
    "\n",
    "<h5 align=center><font size = 2>Data Source: <a href=\"https://www.kaggle.com/datasets/iammustafatz/diabetes-prediction-dataset\" target=\"_blank\">Kaggle.<a/></font></h5>"
   ]
  },
  {
   "cell_type": "markdown",
   "id": "e327f8e1",
   "metadata": {},
   "source": [
    "## DATA PREPARATION"
   ]
  },
  {
   "cell_type": "markdown",
   "id": "6a94ae40",
   "metadata": {},
   "source": [
    "### Importing Libraries"
   ]
  },
  {
   "cell_type": "code",
   "execution_count": 64,
   "id": "55283733",
   "metadata": {},
   "outputs": [],
   "source": [
    "import numpy as np                      # for mahematical operations\n",
    "import pandas as pd                     # for data manipulation and cleaning\n",
    "import seaborn as sns                   # for data visulization\n",
    "import plotly.express as px             # for data visulization\n",
    "import matplotlib.pyplot as plt         # for data visulization\n",
    "\n",
    "from sklearn.preprocessing import OneHotEncoder, LabelEncoder"
   ]
  },
  {
   "cell_type": "markdown",
   "id": "cb607e84",
   "metadata": {},
   "source": [
    "### Loading Data"
   ]
  },
  {
   "cell_type": "code",
   "execution_count": 65,
   "id": "4f763e69",
   "metadata": {},
   "outputs": [],
   "source": [
    "# Read in dataset\n",
    "df = pd.read_csv('../data/diabetes_prediction_dataset.csv')"
   ]
  },
  {
   "cell_type": "code",
   "execution_count": 66,
   "id": "9c78de62",
   "metadata": {},
   "outputs": [
    {
     "data": {
      "text/html": [
       "<div>\n",
       "<style scoped>\n",
       "    .dataframe tbody tr th:only-of-type {\n",
       "        vertical-align: middle;\n",
       "    }\n",
       "\n",
       "    .dataframe tbody tr th {\n",
       "        vertical-align: top;\n",
       "    }\n",
       "\n",
       "    .dataframe thead th {\n",
       "        text-align: right;\n",
       "    }\n",
       "</style>\n",
       "<table border=\"1\" class=\"dataframe\">\n",
       "  <thead>\n",
       "    <tr style=\"text-align: right;\">\n",
       "      <th></th>\n",
       "      <th>gender</th>\n",
       "      <th>age</th>\n",
       "      <th>hypertension</th>\n",
       "      <th>heart_disease</th>\n",
       "      <th>smoking_history</th>\n",
       "      <th>bmi</th>\n",
       "      <th>HbA1c_level</th>\n",
       "      <th>blood_glucose_level</th>\n",
       "      <th>diabetes</th>\n",
       "    </tr>\n",
       "  </thead>\n",
       "  <tbody>\n",
       "    <tr>\n",
       "      <th>0</th>\n",
       "      <td>Female</td>\n",
       "      <td>80.0</td>\n",
       "      <td>0</td>\n",
       "      <td>1</td>\n",
       "      <td>never</td>\n",
       "      <td>25.19</td>\n",
       "      <td>6.6</td>\n",
       "      <td>140</td>\n",
       "      <td>0</td>\n",
       "    </tr>\n",
       "    <tr>\n",
       "      <th>1</th>\n",
       "      <td>Female</td>\n",
       "      <td>54.0</td>\n",
       "      <td>0</td>\n",
       "      <td>0</td>\n",
       "      <td>No Info</td>\n",
       "      <td>27.32</td>\n",
       "      <td>6.6</td>\n",
       "      <td>80</td>\n",
       "      <td>0</td>\n",
       "    </tr>\n",
       "    <tr>\n",
       "      <th>2</th>\n",
       "      <td>Male</td>\n",
       "      <td>28.0</td>\n",
       "      <td>0</td>\n",
       "      <td>0</td>\n",
       "      <td>never</td>\n",
       "      <td>27.32</td>\n",
       "      <td>5.7</td>\n",
       "      <td>158</td>\n",
       "      <td>0</td>\n",
       "    </tr>\n",
       "  </tbody>\n",
       "</table>\n",
       "</div>"
      ],
      "text/plain": [
       "   gender   age  hypertension  heart_disease smoking_history    bmi  \\\n",
       "0  Female  80.0             0              1           never  25.19   \n",
       "1  Female  54.0             0              0         No Info  27.32   \n",
       "2    Male  28.0             0              0           never  27.32   \n",
       "\n",
       "   HbA1c_level  blood_glucose_level  diabetes  \n",
       "0          6.6                  140         0  \n",
       "1          6.6                   80         0  \n",
       "2          5.7                  158         0  "
      ]
     },
     "execution_count": 66,
     "metadata": {},
     "output_type": "execute_result"
    }
   ],
   "source": [
    "df.head(3)"
   ]
  },
  {
   "cell_type": "markdown",
   "id": "0d4efe94",
   "metadata": {},
   "source": [
    "### Data Dictionary"
   ]
  },
  {
   "cell_type": "markdown",
   "id": "ce0cfd19",
   "metadata": {},
   "source": [
    "| variable       | class     | description                                                                  |\n",
    "|:---------------|:----------|:-----------------------------------------------------------------------------|\n",
    "| Gender               | character | Biological sex of the individual  |\n",
    "| Age                  | numeric   | Age of the individual  |\n",
    "| Hypertension         | numeric   | 0 = No Hypertension / 1 = Has Hypertension|\n",
    "| Heart_disease        | numeric   | 0 = No Heart disease / 1 = Has Heart disease|\n",
    "| Smoking_history      | character | 5 categories i.e not current,former,No Info,current,never and ever |\n",
    "| bmi                  | numeric   | Body Mass Index, a measure of body fat based on weight and height|\n",
    "| HbA1c_level          | numeric   | Hemoglobin A1c, a measure of a person's average blood sugar level over the past 2-3 months|\n",
    "| Blood_glucose_level  | numeric | Amount of glucose in the bloodstream at a given time|\n",
    "| Diabetes             | numeric | 0 indicates absence of diabetes, 1 indicates presence of Diabetes|"
   ]
  },
  {
   "cell_type": "markdown",
   "id": "6a37aab5",
   "metadata": {},
   "source": [
    "### Data Exploration"
   ]
  },
  {
   "cell_type": "code",
   "execution_count": 67,
   "id": "24ce4465",
   "metadata": {},
   "outputs": [
    {
     "data": {
      "text/plain": [
       "gender                  object\n",
       "age                    float64\n",
       "hypertension             int64\n",
       "heart_disease            int64\n",
       "smoking_history         object\n",
       "bmi                    float64\n",
       "HbA1c_level            float64\n",
       "blood_glucose_level      int64\n",
       "diabetes                 int64\n",
       "dtype: object"
      ]
     },
     "execution_count": 67,
     "metadata": {},
     "output_type": "execute_result"
    }
   ],
   "source": [
    "# check the data types of each features\n",
    "df.dtypes"
   ]
  },
  {
   "cell_type": "code",
   "execution_count": 68,
   "id": "c1236ef8",
   "metadata": {},
   "outputs": [
    {
     "data": {
      "text/plain": [
       "(100000, 9)"
      ]
     },
     "execution_count": 68,
     "metadata": {},
     "output_type": "execute_result"
    }
   ],
   "source": [
    "# check the shape of the data\n",
    "df.shape"
   ]
  },
  {
   "cell_type": "code",
   "execution_count": 69,
   "id": "e8022d6d",
   "metadata": {},
   "outputs": [
    {
     "data": {
      "text/plain": [
       "gender                 0\n",
       "age                    0\n",
       "hypertension           0\n",
       "heart_disease          0\n",
       "smoking_history        0\n",
       "bmi                    0\n",
       "HbA1c_level            0\n",
       "blood_glucose_level    0\n",
       "diabetes               0\n",
       "dtype: int64"
      ]
     },
     "execution_count": 69,
     "metadata": {},
     "output_type": "execute_result"
    }
   ],
   "source": [
    "df.isnull().sum()"
   ]
  },
  {
   "cell_type": "code",
   "execution_count": 70,
   "id": "756f66ee",
   "metadata": {},
   "outputs": [
    {
     "name": "stdout",
     "output_type": "stream",
     "text": [
      "<class 'pandas.core.frame.DataFrame'>\n",
      "RangeIndex: 100000 entries, 0 to 99999\n",
      "Data columns (total 9 columns):\n",
      " #   Column               Non-Null Count   Dtype  \n",
      "---  ------               --------------   -----  \n",
      " 0   gender               100000 non-null  object \n",
      " 1   age                  100000 non-null  float64\n",
      " 2   hypertension         100000 non-null  int64  \n",
      " 3   heart_disease        100000 non-null  int64  \n",
      " 4   smoking_history      100000 non-null  object \n",
      " 5   bmi                  100000 non-null  float64\n",
      " 6   HbA1c_level          100000 non-null  float64\n",
      " 7   blood_glucose_level  100000 non-null  int64  \n",
      " 8   diabetes             100000 non-null  int64  \n",
      "dtypes: float64(3), int64(4), object(2)\n",
      "memory usage: 6.9+ MB\n"
     ]
    }
   ],
   "source": [
    "df.info()"
   ]
  },
  {
   "cell_type": "code",
   "execution_count": 71,
   "id": "7cf3a571",
   "metadata": {
    "scrolled": true
   },
   "outputs": [
    {
     "data": {
      "text/html": [
       "<div>\n",
       "<style scoped>\n",
       "    .dataframe tbody tr th:only-of-type {\n",
       "        vertical-align: middle;\n",
       "    }\n",
       "\n",
       "    .dataframe tbody tr th {\n",
       "        vertical-align: top;\n",
       "    }\n",
       "\n",
       "    .dataframe thead th {\n",
       "        text-align: right;\n",
       "    }\n",
       "</style>\n",
       "<table border=\"1\" class=\"dataframe\">\n",
       "  <thead>\n",
       "    <tr style=\"text-align: right;\">\n",
       "      <th></th>\n",
       "      <th>age</th>\n",
       "      <th>hypertension</th>\n",
       "      <th>heart_disease</th>\n",
       "      <th>bmi</th>\n",
       "      <th>HbA1c_level</th>\n",
       "      <th>blood_glucose_level</th>\n",
       "      <th>diabetes</th>\n",
       "    </tr>\n",
       "  </thead>\n",
       "  <tbody>\n",
       "    <tr>\n",
       "      <th>count</th>\n",
       "      <td>100000.000000</td>\n",
       "      <td>100000.00000</td>\n",
       "      <td>100000.000000</td>\n",
       "      <td>100000.000000</td>\n",
       "      <td>100000.000000</td>\n",
       "      <td>100000.000000</td>\n",
       "      <td>100000.000000</td>\n",
       "    </tr>\n",
       "    <tr>\n",
       "      <th>mean</th>\n",
       "      <td>41.885856</td>\n",
       "      <td>0.07485</td>\n",
       "      <td>0.039420</td>\n",
       "      <td>27.320767</td>\n",
       "      <td>5.527507</td>\n",
       "      <td>138.058060</td>\n",
       "      <td>0.085000</td>\n",
       "    </tr>\n",
       "    <tr>\n",
       "      <th>std</th>\n",
       "      <td>22.516840</td>\n",
       "      <td>0.26315</td>\n",
       "      <td>0.194593</td>\n",
       "      <td>6.636783</td>\n",
       "      <td>1.070672</td>\n",
       "      <td>40.708136</td>\n",
       "      <td>0.278883</td>\n",
       "    </tr>\n",
       "    <tr>\n",
       "      <th>min</th>\n",
       "      <td>0.080000</td>\n",
       "      <td>0.00000</td>\n",
       "      <td>0.000000</td>\n",
       "      <td>10.010000</td>\n",
       "      <td>3.500000</td>\n",
       "      <td>80.000000</td>\n",
       "      <td>0.000000</td>\n",
       "    </tr>\n",
       "    <tr>\n",
       "      <th>25%</th>\n",
       "      <td>24.000000</td>\n",
       "      <td>0.00000</td>\n",
       "      <td>0.000000</td>\n",
       "      <td>23.630000</td>\n",
       "      <td>4.800000</td>\n",
       "      <td>100.000000</td>\n",
       "      <td>0.000000</td>\n",
       "    </tr>\n",
       "    <tr>\n",
       "      <th>50%</th>\n",
       "      <td>43.000000</td>\n",
       "      <td>0.00000</td>\n",
       "      <td>0.000000</td>\n",
       "      <td>27.320000</td>\n",
       "      <td>5.800000</td>\n",
       "      <td>140.000000</td>\n",
       "      <td>0.000000</td>\n",
       "    </tr>\n",
       "    <tr>\n",
       "      <th>75%</th>\n",
       "      <td>60.000000</td>\n",
       "      <td>0.00000</td>\n",
       "      <td>0.000000</td>\n",
       "      <td>29.580000</td>\n",
       "      <td>6.200000</td>\n",
       "      <td>159.000000</td>\n",
       "      <td>0.000000</td>\n",
       "    </tr>\n",
       "    <tr>\n",
       "      <th>max</th>\n",
       "      <td>80.000000</td>\n",
       "      <td>1.00000</td>\n",
       "      <td>1.000000</td>\n",
       "      <td>95.690000</td>\n",
       "      <td>9.000000</td>\n",
       "      <td>300.000000</td>\n",
       "      <td>1.000000</td>\n",
       "    </tr>\n",
       "  </tbody>\n",
       "</table>\n",
       "</div>"
      ],
      "text/plain": [
       "                 age  hypertension  heart_disease            bmi  \\\n",
       "count  100000.000000  100000.00000  100000.000000  100000.000000   \n",
       "mean       41.885856       0.07485       0.039420      27.320767   \n",
       "std        22.516840       0.26315       0.194593       6.636783   \n",
       "min         0.080000       0.00000       0.000000      10.010000   \n",
       "25%        24.000000       0.00000       0.000000      23.630000   \n",
       "50%        43.000000       0.00000       0.000000      27.320000   \n",
       "75%        60.000000       0.00000       0.000000      29.580000   \n",
       "max        80.000000       1.00000       1.000000      95.690000   \n",
       "\n",
       "         HbA1c_level  blood_glucose_level       diabetes  \n",
       "count  100000.000000        100000.000000  100000.000000  \n",
       "mean        5.527507           138.058060       0.085000  \n",
       "std         1.070672            40.708136       0.278883  \n",
       "min         3.500000            80.000000       0.000000  \n",
       "25%         4.800000           100.000000       0.000000  \n",
       "50%         5.800000           140.000000       0.000000  \n",
       "75%         6.200000           159.000000       0.000000  \n",
       "max         9.000000           300.000000       1.000000  "
      ]
     },
     "execution_count": 71,
     "metadata": {},
     "output_type": "execute_result"
    }
   ],
   "source": [
    "# Checking statistics of the numeric features\n",
    "df.describe()"
   ]
  },
  {
   "cell_type": "markdown",
   "id": "311fcdac",
   "metadata": {},
   "source": [
    "### Data Wrangling"
   ]
  },
  {
   "cell_type": "code",
   "execution_count": 72,
   "id": "b107e8ab",
   "metadata": {},
   "outputs": [],
   "source": [
    "# save a copy of the data\n",
    "df_copy = df.copy('Dataset/diabetes_prediction_dataset.csv')"
   ]
  },
  {
   "cell_type": "code",
   "execution_count": 73,
   "id": "0bc37d81",
   "metadata": {},
   "outputs": [],
   "source": [
    "def df_wrangle(df, dtype_convert, OneHot_cols):\n",
    "    '''\n",
    "    This function wrangles (cleans) our dataset by correcting datypes and One-Hot\n",
    "    encoding dpecified columns\n",
    "    \n",
    "    Inputs\n",
    "    df: (dataframe), dataframe to wrangle\n",
    "    dtype_convert: (dictionary), pairs of column, dtype to convert to\n",
    "    OneHot_col: (list), columns in the dataframe to One-Hot encode\n",
    "    \n",
    "    Output\n",
    "    df: (dataframe), wrangled (cleaned) dataframe\n",
    "    '''\n",
    "    \n",
    "    # convert datatypes to correct formats\n",
    "    for col, dtype in dtype_convert.items():\n",
    "        df[col] = df[col].astype(dtype)\n",
    "        \n",
    "    # One_Hot encode neccesary columns\n",
    "    \n",
    "    # Initialize the One-Hot Encoder\n",
    "    encoder = LabelEncoder()\n",
    "    \n",
    "    # Label encode each column\n",
    "    for col in OneHot_cols:\n",
    "        df[col + '_encoded'] = encoder.fit_transform(df[col])\n",
    "\n",
    "    # drop the initial columns\n",
    "    df.drop(OneHot_cols, axis=1, inplace=True)\n",
    "    \n",
    "    # drop duplicate records\n",
    "    df.drop_duplicates(inplace=True)\n",
    "    \n",
    "    return df"
   ]
  },
  {
   "cell_type": "code",
   "execution_count": 74,
   "id": "9f3ce2ee",
   "metadata": {},
   "outputs": [],
   "source": [
    "df = df_wrangle(df, {'age':'int'}, ['gender', 'smoking_history'])"
   ]
  },
  {
   "cell_type": "code",
   "execution_count": 75,
   "id": "424848b1",
   "metadata": {},
   "outputs": [
    {
     "data": {
      "text/html": [
       "<div>\n",
       "<style scoped>\n",
       "    .dataframe tbody tr th:only-of-type {\n",
       "        vertical-align: middle;\n",
       "    }\n",
       "\n",
       "    .dataframe tbody tr th {\n",
       "        vertical-align: top;\n",
       "    }\n",
       "\n",
       "    .dataframe thead th {\n",
       "        text-align: right;\n",
       "    }\n",
       "</style>\n",
       "<table border=\"1\" class=\"dataframe\">\n",
       "  <thead>\n",
       "    <tr style=\"text-align: right;\">\n",
       "      <th></th>\n",
       "      <th>age</th>\n",
       "      <th>hypertension</th>\n",
       "      <th>heart_disease</th>\n",
       "      <th>bmi</th>\n",
       "      <th>HbA1c_level</th>\n",
       "      <th>blood_glucose_level</th>\n",
       "      <th>diabetes</th>\n",
       "      <th>gender_encoded</th>\n",
       "      <th>smoking_history_encoded</th>\n",
       "    </tr>\n",
       "  </thead>\n",
       "  <tbody>\n",
       "    <tr>\n",
       "      <th>0</th>\n",
       "      <td>80</td>\n",
       "      <td>0</td>\n",
       "      <td>1</td>\n",
       "      <td>25.19</td>\n",
       "      <td>6.6</td>\n",
       "      <td>140</td>\n",
       "      <td>0</td>\n",
       "      <td>0</td>\n",
       "      <td>4</td>\n",
       "    </tr>\n",
       "    <tr>\n",
       "      <th>1</th>\n",
       "      <td>54</td>\n",
       "      <td>0</td>\n",
       "      <td>0</td>\n",
       "      <td>27.32</td>\n",
       "      <td>6.6</td>\n",
       "      <td>80</td>\n",
       "      <td>0</td>\n",
       "      <td>0</td>\n",
       "      <td>0</td>\n",
       "    </tr>\n",
       "    <tr>\n",
       "      <th>2</th>\n",
       "      <td>28</td>\n",
       "      <td>0</td>\n",
       "      <td>0</td>\n",
       "      <td>27.32</td>\n",
       "      <td>5.7</td>\n",
       "      <td>158</td>\n",
       "      <td>0</td>\n",
       "      <td>1</td>\n",
       "      <td>4</td>\n",
       "    </tr>\n",
       "    <tr>\n",
       "      <th>3</th>\n",
       "      <td>36</td>\n",
       "      <td>0</td>\n",
       "      <td>0</td>\n",
       "      <td>23.45</td>\n",
       "      <td>5.0</td>\n",
       "      <td>155</td>\n",
       "      <td>0</td>\n",
       "      <td>0</td>\n",
       "      <td>1</td>\n",
       "    </tr>\n",
       "    <tr>\n",
       "      <th>4</th>\n",
       "      <td>76</td>\n",
       "      <td>1</td>\n",
       "      <td>1</td>\n",
       "      <td>20.14</td>\n",
       "      <td>4.8</td>\n",
       "      <td>155</td>\n",
       "      <td>0</td>\n",
       "      <td>1</td>\n",
       "      <td>1</td>\n",
       "    </tr>\n",
       "  </tbody>\n",
       "</table>\n",
       "</div>"
      ],
      "text/plain": [
       "   age  hypertension  heart_disease    bmi  HbA1c_level  blood_glucose_level  \\\n",
       "0   80             0              1  25.19          6.6                  140   \n",
       "1   54             0              0  27.32          6.6                   80   \n",
       "2   28             0              0  27.32          5.7                  158   \n",
       "3   36             0              0  23.45          5.0                  155   \n",
       "4   76             1              1  20.14          4.8                  155   \n",
       "\n",
       "   diabetes  gender_encoded  smoking_history_encoded  \n",
       "0         0               0                        4  \n",
       "1         0               0                        0  \n",
       "2         0               1                        4  \n",
       "3         0               0                        1  \n",
       "4         0               1                        1  "
      ]
     },
     "execution_count": 75,
     "metadata": {},
     "output_type": "execute_result"
    }
   ],
   "source": [
    "df.head()"
   ]
  },
  {
   "cell_type": "code",
   "execution_count": 76,
   "id": "68ad28c8",
   "metadata": {},
   "outputs": [
    {
     "name": "stdout",
     "output_type": "stream",
     "text": [
      "<class 'pandas.core.frame.DataFrame'>\n",
      "Int64Index: 96112 entries, 0 to 99999\n",
      "Data columns (total 9 columns):\n",
      " #   Column                   Non-Null Count  Dtype  \n",
      "---  ------                   --------------  -----  \n",
      " 0   age                      96112 non-null  int64  \n",
      " 1   hypertension             96112 non-null  int64  \n",
      " 2   heart_disease            96112 non-null  int64  \n",
      " 3   bmi                      96112 non-null  float64\n",
      " 4   HbA1c_level              96112 non-null  float64\n",
      " 5   blood_glucose_level      96112 non-null  int64  \n",
      " 6   diabetes                 96112 non-null  int64  \n",
      " 7   gender_encoded           96112 non-null  int64  \n",
      " 8   smoking_history_encoded  96112 non-null  int64  \n",
      "dtypes: float64(2), int64(7)\n",
      "memory usage: 7.3 MB\n"
     ]
    }
   ],
   "source": [
    "df.info()"
   ]
  },
  {
   "cell_type": "code",
   "execution_count": 77,
   "id": "ca13ce39",
   "metadata": {
    "scrolled": true
   },
   "outputs": [
    {
     "data": {
      "text/html": [
       "<div>\n",
       "<style scoped>\n",
       "    .dataframe tbody tr th:only-of-type {\n",
       "        vertical-align: middle;\n",
       "    }\n",
       "\n",
       "    .dataframe tbody tr th {\n",
       "        vertical-align: top;\n",
       "    }\n",
       "\n",
       "    .dataframe thead th {\n",
       "        text-align: right;\n",
       "    }\n",
       "</style>\n",
       "<table border=\"1\" class=\"dataframe\">\n",
       "  <thead>\n",
       "    <tr style=\"text-align: right;\">\n",
       "      <th></th>\n",
       "      <th>age</th>\n",
       "      <th>hypertension</th>\n",
       "      <th>heart_disease</th>\n",
       "      <th>bmi</th>\n",
       "      <th>HbA1c_level</th>\n",
       "      <th>blood_glucose_level</th>\n",
       "      <th>diabetes</th>\n",
       "      <th>gender_encoded</th>\n",
       "      <th>smoking_history_encoded</th>\n",
       "    </tr>\n",
       "  </thead>\n",
       "  <tbody>\n",
       "    <tr>\n",
       "      <th>count</th>\n",
       "      <td>96112.000000</td>\n",
       "      <td>96112.000000</td>\n",
       "      <td>96112.000000</td>\n",
       "      <td>96112.000000</td>\n",
       "      <td>96112.000000</td>\n",
       "      <td>96112.000000</td>\n",
       "      <td>96112.000000</td>\n",
       "      <td>96112.000000</td>\n",
       "      <td>96112.000000</td>\n",
       "    </tr>\n",
       "    <tr>\n",
       "      <th>mean</th>\n",
       "      <td>41.798287</td>\n",
       "      <td>0.077628</td>\n",
       "      <td>0.040817</td>\n",
       "      <td>27.321923</td>\n",
       "      <td>5.532618</td>\n",
       "      <td>138.221013</td>\n",
       "      <td>0.088251</td>\n",
       "      <td>0.416056</td>\n",
       "      <td>2.231948</td>\n",
       "    </tr>\n",
       "    <tr>\n",
       "      <th>std</th>\n",
       "      <td>22.472901</td>\n",
       "      <td>0.267587</td>\n",
       "      <td>0.197867</td>\n",
       "      <td>6.768534</td>\n",
       "      <td>1.073288</td>\n",
       "      <td>40.911287</td>\n",
       "      <td>0.283661</td>\n",
       "      <td>0.493285</td>\n",
       "      <td>1.879827</td>\n",
       "    </tr>\n",
       "    <tr>\n",
       "      <th>min</th>\n",
       "      <td>0.000000</td>\n",
       "      <td>0.000000</td>\n",
       "      <td>0.000000</td>\n",
       "      <td>10.010000</td>\n",
       "      <td>3.500000</td>\n",
       "      <td>80.000000</td>\n",
       "      <td>0.000000</td>\n",
       "      <td>0.000000</td>\n",
       "      <td>0.000000</td>\n",
       "    </tr>\n",
       "    <tr>\n",
       "      <th>25%</th>\n",
       "      <td>24.000000</td>\n",
       "      <td>0.000000</td>\n",
       "      <td>0.000000</td>\n",
       "      <td>23.400000</td>\n",
       "      <td>4.800000</td>\n",
       "      <td>100.000000</td>\n",
       "      <td>0.000000</td>\n",
       "      <td>0.000000</td>\n",
       "      <td>0.000000</td>\n",
       "    </tr>\n",
       "    <tr>\n",
       "      <th>50%</th>\n",
       "      <td>43.000000</td>\n",
       "      <td>0.000000</td>\n",
       "      <td>0.000000</td>\n",
       "      <td>27.320000</td>\n",
       "      <td>5.800000</td>\n",
       "      <td>140.000000</td>\n",
       "      <td>0.000000</td>\n",
       "      <td>0.000000</td>\n",
       "      <td>3.000000</td>\n",
       "    </tr>\n",
       "    <tr>\n",
       "      <th>75%</th>\n",
       "      <td>59.000000</td>\n",
       "      <td>0.000000</td>\n",
       "      <td>0.000000</td>\n",
       "      <td>29.860000</td>\n",
       "      <td>6.200000</td>\n",
       "      <td>159.000000</td>\n",
       "      <td>0.000000</td>\n",
       "      <td>1.000000</td>\n",
       "      <td>4.000000</td>\n",
       "    </tr>\n",
       "    <tr>\n",
       "      <th>max</th>\n",
       "      <td>80.000000</td>\n",
       "      <td>1.000000</td>\n",
       "      <td>1.000000</td>\n",
       "      <td>95.690000</td>\n",
       "      <td>9.000000</td>\n",
       "      <td>300.000000</td>\n",
       "      <td>1.000000</td>\n",
       "      <td>2.000000</td>\n",
       "      <td>5.000000</td>\n",
       "    </tr>\n",
       "  </tbody>\n",
       "</table>\n",
       "</div>"
      ],
      "text/plain": [
       "                age  hypertension  heart_disease           bmi   HbA1c_level  \\\n",
       "count  96112.000000  96112.000000   96112.000000  96112.000000  96112.000000   \n",
       "mean      41.798287      0.077628       0.040817     27.321923      5.532618   \n",
       "std       22.472901      0.267587       0.197867      6.768534      1.073288   \n",
       "min        0.000000      0.000000       0.000000     10.010000      3.500000   \n",
       "25%       24.000000      0.000000       0.000000     23.400000      4.800000   \n",
       "50%       43.000000      0.000000       0.000000     27.320000      5.800000   \n",
       "75%       59.000000      0.000000       0.000000     29.860000      6.200000   \n",
       "max       80.000000      1.000000       1.000000     95.690000      9.000000   \n",
       "\n",
       "       blood_glucose_level      diabetes  gender_encoded  \\\n",
       "count         96112.000000  96112.000000    96112.000000   \n",
       "mean            138.221013      0.088251        0.416056   \n",
       "std              40.911287      0.283661        0.493285   \n",
       "min              80.000000      0.000000        0.000000   \n",
       "25%             100.000000      0.000000        0.000000   \n",
       "50%             140.000000      0.000000        0.000000   \n",
       "75%             159.000000      0.000000        1.000000   \n",
       "max             300.000000      1.000000        2.000000   \n",
       "\n",
       "       smoking_history_encoded  \n",
       "count             96112.000000  \n",
       "mean                  2.231948  \n",
       "std                   1.879827  \n",
       "min                   0.000000  \n",
       "25%                   0.000000  \n",
       "50%                   3.000000  \n",
       "75%                   4.000000  \n",
       "max                   5.000000  "
      ]
     },
     "execution_count": 77,
     "metadata": {},
     "output_type": "execute_result"
    }
   ],
   "source": [
    "df.describe()"
   ]
  },
  {
   "cell_type": "markdown",
   "id": "010e804c",
   "metadata": {},
   "source": [
    "#### Encoded Values"
   ]
  },
  {
   "cell_type": "code",
   "execution_count": 78,
   "id": "e5a57026",
   "metadata": {},
   "outputs": [
    {
     "name": "stdout",
     "output_type": "stream",
     "text": [
      "Gender\n",
      "0 -> Female\n",
      "1 -> Male\n",
      "2 -> Other\n",
      "\n",
      "Smoking History\n",
      "0 -> No Info\n",
      "1 -> current\n",
      "2 -> ever\n",
      "3 -> former\n",
      "4 -> never\n",
      "5 -> not current\n"
     ]
    }
   ],
   "source": [
    "print(\"Gender\")\n",
    "for val in np.sort(df['gender_encoded'].unique()):\n",
    "    print(f\"{val} -> {df_copy.iloc[df[df['gender_encoded'] == val].index[0]]['gender']}\")\n",
    "    \n",
    "print()\n",
    "\n",
    "print(\"Smoking History\")\n",
    "for val in np.sort(df['smoking_history_encoded'].unique()):\n",
    "    print(f\"{val} -> {df_copy.iloc[df[df['smoking_history_encoded'] == val].index[0]]['smoking_history']}\")"
   ]
  },
  {
   "cell_type": "markdown",
   "id": "5f0ce201",
   "metadata": {},
   "source": [
    "### Defining Model Variables and Target"
   ]
  },
  {
   "cell_type": "code",
   "execution_count": 79,
   "id": "e103dda9",
   "metadata": {},
   "outputs": [
    {
     "data": {
      "text/plain": [
       "(96112, 8)"
      ]
     },
     "execution_count": 79,
     "metadata": {},
     "output_type": "execute_result"
    }
   ],
   "source": [
    "X = df.drop('diabetes', axis=1)\n",
    "X.shape"
   ]
  },
  {
   "cell_type": "code",
   "execution_count": 80,
   "id": "3b281989",
   "metadata": {},
   "outputs": [
    {
     "data": {
      "text/plain": [
       "(96112,)"
      ]
     },
     "execution_count": 80,
     "metadata": {},
     "output_type": "execute_result"
    }
   ],
   "source": [
    "y = df['diabetes']\n",
    "y.shape"
   ]
  },
  {
   "cell_type": "markdown",
   "id": "6b81aa34",
   "metadata": {},
   "source": [
    "## Splitting, Tuning and Model Building"
   ]
  },
  {
   "cell_type": "markdown",
   "id": "ad13620d",
   "metadata": {},
   "source": [
    "### Data Splitting\n",
    "\n",
    "For our data splitting, the dataset contains 100,000 samples of data. The splitting would be done in the ratio 90:5:5, which implies 90000 data point for training, 5000 data points for dev set and 5000 data points for test set.\n",
    "\n",
    "This is because 5% (5,000) samples is enough for each of our development and test sets.\n",
    "\n",
    "> <b>NOTE</b>: Both dev set and test sets are referred to as validation dataset in our code."
   ]
  },
  {
   "cell_type": "markdown",
   "id": "57710b4f",
   "metadata": {},
   "source": [
    "##### Training Set and Validation Set\n",
    "\n",
    "We will first split our data into 90% (90,000) for training, `X_train` and `y_train` while the reamining 10% (10,000) for validation, `X_val` and `y_val`"
   ]
  },
  {
   "cell_type": "code",
   "execution_count": 81,
   "id": "e3bc1da3",
   "metadata": {},
   "outputs": [],
   "source": [
    "from sklearn.model_selection import train_test_split"
   ]
  },
  {
   "cell_type": "code",
   "execution_count": 82,
   "id": "ce9889a9",
   "metadata": {},
   "outputs": [],
   "source": [
    "# 90,000 data points for training of dataset\n",
    "X_train, X_val, y_train, y_val = train_test_split(X, y, test_size=0.1, random_state=123)"
   ]
  },
  {
   "cell_type": "markdown",
   "id": "aab9adf9",
   "metadata": {},
   "source": [
    "##### Validation Set - Dev and Test set\n",
    "We are going to use about 10,000 data points for our validation test set. The `X_dev` and `y_dev` is the training dataset in the validation cycle, while the `X_test` and `y_test` are the test dataset in the validation cycle."
   ]
  },
  {
   "cell_type": "code",
   "execution_count": 83,
   "id": "a52244a2",
   "metadata": {},
   "outputs": [],
   "source": [
    "X_dev, X_test, y_dev, y_test = train_test_split(X_val, y_val, test_size=0.5, random_state=123)"
   ]
  },
  {
   "cell_type": "code",
   "execution_count": 84,
   "id": "31df607b",
   "metadata": {},
   "outputs": [
    {
     "name": "stdout",
     "output_type": "stream",
     "text": [
      "Shape of X_train (86500, 8)    Shape of y_train (86500,)\n",
      "Shape of X_dev (4806, 8)       Shape of y_dev (4806,)\n",
      "Shape of X_test (4806, 8)      Shape of y_test (4806,)\n"
     ]
    }
   ],
   "source": [
    "print(f'Shape of X_train {X_train.shape}    Shape of y_train {y_train.shape}')\n",
    "print(f'Shape of X_dev {X_dev.shape}       Shape of y_dev {y_dev.shape}')\n",
    "print(f'Shape of X_test {X_test.shape}      Shape of y_test {y_test.shape}')"
   ]
  },
  {
   "cell_type": "markdown",
   "id": "49a6134c",
   "metadata": {},
   "source": [
    "### Hyperparameter Tuning"
   ]
  },
  {
   "cell_type": "code",
   "execution_count": 85,
   "id": "6c66ae29",
   "metadata": {},
   "outputs": [],
   "source": [
    "from sklearn.ensemble import RandomForestClassifier\n",
    "from sklearn.metrics import accuracy_score, f1_score"
   ]
  },
  {
   "cell_type": "markdown",
   "id": "8a79ddf2",
   "metadata": {},
   "source": [
    "#### Choosing `min_samples_split` Hyperparameter Value"
   ]
  },
  {
   "cell_type": "code",
   "execution_count": 86,
   "id": "af404352",
   "metadata": {},
   "outputs": [],
   "source": [
    "min_samples_split_list = [2,10, 30, 50, 100, 200, 300, 700]"
   ]
  },
  {
   "cell_type": "code",
   "execution_count": 87,
   "id": "9d70fd3a",
   "metadata": {},
   "outputs": [],
   "source": [
    "accuracy_list_train = []\n",
    "f1_list_train = []\n",
    "accuracy_list_dev = []\n",
    "f1_list_dev = []\n",
    "\n",
    "for min_samples_split in min_samples_split_list:\n",
    "    model = RandomForestClassifier(min_samples_split = min_samples_split,\n",
    "                                   random_state = 123).fit(X_train,y_train) \n",
    "    predictions_train = model.predict(X_train)\n",
    "    predictions_dev = model.predict(X_dev)\n",
    "    accuracy_train = accuracy_score(predictions_train,y_train)\n",
    "    f1_train = f1_score(predictions_train,y_train)\n",
    "    accuracy_dev = accuracy_score(predictions_dev,y_dev)\n",
    "    f1_dev = f1_score(predictions_dev,y_dev)\n",
    "    accuracy_list_train.append(accuracy_train)\n",
    "    f1_list_train.append(f1_train)\n",
    "    # print(f1_list_train)\n",
    "    accuracy_list_dev.append(accuracy_dev)\n",
    "    f1_list_dev.append(f1_dev)"
   ]
  },
  {
   "cell_type": "code",
   "execution_count": 88,
   "id": "7bae2714",
   "metadata": {},
   "outputs": [
    {
     "data": {
      "image/png": "[encoded data removed]",
      "text/plain": [
       "<Figure size 640x480 with 1 Axes>"
      ]
     },
     "metadata": {},
     "output_type": "display_data"
    }
   ],
   "source": [
    "plt.title('Train and Validation f1 Scores')\n",
    "plt.xlabel('min_samples_split')\n",
    "plt.ylabel('f1 Score')\n",
    "plt.xticks(ticks = range(len(min_samples_split_list )),labels=min_samples_split_list) \n",
    "plt.plot(f1_list_train)\n",
    "plt.plot(f1_list_dev)\n",
    "plt.legend(['Train','Development']);"
   ]
  },
  {
   "cell_type": "code",
   "execution_count": 89,
   "id": "ce0edf2e",
   "metadata": {},
   "outputs": [
    {
     "name": "stdout",
     "output_type": "stream",
     "text": [
      "Parameter with best performance is:  50\n"
     ]
    }
   ],
   "source": [
    "best_ind = np.argmax(f1_list_dev)\n",
    "best_min_samples_split = min_samples_split_list[best_ind]\n",
    "\n",
    "print(\"Parameter with best performance is: \",best_min_samples_split)"
   ]
  },
  {
   "cell_type": "markdown",
   "id": "335f05e7",
   "metadata": {},
   "source": [
    "The model performed best around when the parameter is 50"
   ]
  },
  {
   "cell_type": "code",
   "execution_count": 90,
   "id": "0cc19f85",
   "metadata": {},
   "outputs": [],
   "source": [
    "min_samples_split_list = np.arange(45, 55)"
   ]
  },
  {
   "cell_type": "code",
   "execution_count": 91,
   "id": "54a7599a",
   "metadata": {},
   "outputs": [],
   "source": [
    "accuracy_list_train = []\n",
    "f1_list_train = []\n",
    "accuracy_list_dev = []\n",
    "f1_list_dev = []\n",
    "\n",
    "for min_samples_split in min_samples_split_list:\n",
    "    model = RandomForestClassifier(min_samples_split = min_samples_split,\n",
    "                                   random_state = 123).fit(X_train,y_train) \n",
    "    predictions_train = model.predict(X_train)\n",
    "    predictions_dev = model.predict(X_dev)\n",
    "    accuracy_train = accuracy_score(predictions_train,y_train)\n",
    "    f1_train = f1_score(predictions_train,y_train)\n",
    "    accuracy_dev = accuracy_score(predictions_dev,y_dev)\n",
    "    f1_dev = f1_score(predictions_dev,y_dev)\n",
    "    accuracy_list_train.append(accuracy_train)\n",
    "    f1_list_train.append(f1_train)\n",
    "    accuracy_list_dev.append(accuracy_dev)\n",
    "    f1_list_dev.append(f1_dev)"
   ]
  },
  {
   "cell_type": "code",
   "execution_count": 92,
   "id": "936e5fa8",
   "metadata": {},
   "outputs": [
    {
     "data": {
      "image/png": "[encoded data removed]",
      "text/plain": [
       "<Figure size 640x480 with 1 Axes>"
      ]
     },
     "metadata": {},
     "output_type": "display_data"
    }
   ],
   "source": [
    "plt.title('Train and Validation f1 Scores')\n",
    "plt.xlabel('min_samples_split')\n",
    "plt.ylabel('f1 Score')\n",
    "plt.xticks(ticks = range(len(min_samples_split_list )),labels=min_samples_split_list) \n",
    "plt.plot(f1_list_train)\n",
    "plt.plot(f1_list_dev)\n",
    "plt.legend(['Train','Development']);"
   ]
  },
  {
   "cell_type": "code",
   "execution_count": 93,
   "id": "889605e4",
   "metadata": {},
   "outputs": [
    {
     "name": "stdout",
     "output_type": "stream",
     "text": [
      "Parameter with best performance is: 49\n"
     ]
    }
   ],
   "source": [
    "best_ind = np.argmax(f1_list_dev)\n",
    "best_min_samples_split = min_samples_split_list[best_ind]\n",
    "\n",
    "print(\"Parameter with best performance is:\",best_min_samples_split)"
   ]
  },
  {
   "cell_type": "markdown",
   "id": "2093ee38",
   "metadata": {},
   "source": [
    "> The model performed best when the parameter is 49. We are going with 31 for `min_samples_split`"
   ]
  },
  {
   "cell_type": "markdown",
   "id": "8db9454c",
   "metadata": {},
   "source": [
    "#### Choosing `max_depth` Hyperparameter Value"
   ]
  },
  {
   "cell_type": "code",
   "execution_count": 94,
   "id": "49dd4952",
   "metadata": {},
   "outputs": [],
   "source": [
    "max_depth_list = [1,2, 3, 4, 8, 16, 32, 64, None]"
   ]
  },
  {
   "cell_type": "code",
   "execution_count": 95,
   "id": "c9aff21e",
   "metadata": {},
   "outputs": [],
   "source": [
    "accuracy_list_train = []\n",
    "f1_list_train = []\n",
    "accuracy_list_dev = []\n",
    "f1_list_dev = []\n",
    "\n",
    "for max_depth in max_depth_list:\n",
    "    model = RandomForestClassifier(max_depth=max_depth,\n",
    "                                   random_state = 123).fit(X_train,y_train) \n",
    "    predictions_train = model.predict(X_train)\n",
    "    predictions_dev = model.predict(X_dev)\n",
    "    accuracy_train = accuracy_score(predictions_train,y_train)\n",
    "    f1_train = f1_score(predictions_train,y_train)\n",
    "    accuracy_dev = accuracy_score(predictions_dev,y_dev)\n",
    "    f1_dev = f1_score(predictions_dev,y_dev)\n",
    "    accuracy_list_train.append(accuracy_train)\n",
    "    f1_list_train.append(f1_train)\n",
    "    accuracy_list_dev.append(accuracy_dev)\n",
    "    f1_list_dev.append(f1_dev)"
   ]
  },
  {
   "cell_type": "code",
   "execution_count": 96,
   "id": "a050d291",
   "metadata": {},
   "outputs": [
    {
     "data": {
      "image/png": "[encoded data removed]",
      "text/plain": [
       "<Figure size 640x480 with 1 Axes>"
      ]
     },
     "metadata": {},
     "output_type": "display_data"
    }
   ],
   "source": [
    "plt.title('Train and Validation f1 Scores')\n",
    "plt.xlabel('max_depth')\n",
    "plt.ylabel('f1 Score')\n",
    "plt.xticks(ticks = range(len(max_depth_list)),labels=max_depth_list) \n",
    "plt.plot(f1_list_train)\n",
    "plt.plot(f1_list_dev)\n",
    "plt.legend(['Train','Development']);"
   ]
  },
  {
   "cell_type": "code",
   "execution_count": 97,
   "id": "0f56d509",
   "metadata": {},
   "outputs": [
    {
     "name": "stdout",
     "output_type": "stream",
     "text": [
      "Parameter with best performance is: 16\n"
     ]
    }
   ],
   "source": [
    "best_ind = np.argmax(f1_list_dev)\n",
    "best_max_depth = max_depth_list[best_ind]\n",
    "\n",
    "print(\"Parameter with best performance is:\",best_max_depth)"
   ]
  },
  {
   "cell_type": "code",
   "execution_count": 98,
   "id": "6cb5471e",
   "metadata": {},
   "outputs": [],
   "source": [
    "max_depth_list = np.arange(10, 25)"
   ]
  },
  {
   "cell_type": "code",
   "execution_count": 99,
   "id": "ab5af020",
   "metadata": {},
   "outputs": [],
   "source": [
    "accuracy_list_train = []\n",
    "f1_list_train = []\n",
    "accuracy_list_dev = []\n",
    "f1_list_dev = []\n",
    "\n",
    "for max_depth in max_depth_list:\n",
    "    model = RandomForestClassifier(max_depth=max_depth,\n",
    "                                   random_state = 123).fit(X_train,y_train) \n",
    "    predictions_train = model.predict(X_train)\n",
    "    predictions_dev = model.predict(X_dev)\n",
    "    accuracy_train = accuracy_score(predictions_train,y_train)\n",
    "    f1_train = f1_score(predictions_train,y_train)\n",
    "    accuracy_dev = accuracy_score(predictions_dev,y_dev)\n",
    "    f1_dev = f1_score(predictions_dev,y_dev)\n",
    "    accuracy_list_train.append(accuracy_train)\n",
    "    f1_list_train.append(f1_train)\n",
    "    accuracy_list_dev.append(accuracy_dev)\n",
    "    f1_list_dev.append(f1_dev)"
   ]
  },
  {
   "cell_type": "code",
   "execution_count": 100,
   "id": "b90cdb46",
   "metadata": {},
   "outputs": [
    {
     "data": {
      "image/png": "[encoded data removed]",
      "text/plain": [
       "<Figure size 640x480 with 1 Axes>"
      ]
     },
     "metadata": {},
     "output_type": "display_data"
    }
   ],
   "source": [
    "plt.title('Train and Validation f1 Scores')\n",
    "plt.xlabel('max_depth')\n",
    "plt.ylabel('f1 Score')\n",
    "plt.xticks(ticks = range(len(max_depth_list)),labels=max_depth_list) \n",
    "plt.plot(f1_list_train)\n",
    "plt.plot(f1_list_dev)\n",
    "plt.legend(['Train','Development']);"
   ]
  },
  {
   "cell_type": "code",
   "execution_count": 101,
   "id": "a7c75f9d",
   "metadata": {},
   "outputs": [
    {
     "name": "stdout",
     "output_type": "stream",
     "text": [
      "Parameter with best performance is: 14\n"
     ]
    }
   ],
   "source": [
    "best_ind = np.argmax(f1_list_dev)\n",
    "best_max_depth = max_depth_list[best_ind]\n",
    "\n",
    "print(\"Parameter with best performance is:\",best_max_depth)"
   ]
  },
  {
   "cell_type": "markdown",
   "id": "17efc072",
   "metadata": {},
   "source": [
    "> The model performed best when the parameter is 14. We are going with 14 for `max_depth`"
   ]
  },
  {
   "cell_type": "markdown",
   "id": "afeffed0",
   "metadata": {},
   "source": [
    "#### Choosing `n_estimators` Hyperparameter Value"
   ]
  },
  {
   "cell_type": "code",
   "execution_count": 102,
   "id": "78a43b2c",
   "metadata": {},
   "outputs": [],
   "source": [
    "n_estimators_list = [10,50,100,500,1000,2000]"
   ]
  },
  {
   "cell_type": "code",
   "execution_count": 103,
   "id": "409c49d6",
   "metadata": {},
   "outputs": [
    {
     "ename": "",
     "evalue": "",
     "output_type": "error",
     "traceback": [
      "\u001b[1;31mThe Kernel crashed while executing code in the the current cell or a previous cell. Please review the code in the cell(s) to identify a possible cause of the failure. Click <a href='https://aka.ms/vscodeJupyterKernelCrash'>here</a> for more info. View Jupyter <a href='command:jupyter.viewOutput'>log</a> for further details."
     ]
    }
   ],
   "source": [
    "accuracy_list_train = []\n",
    "f1_list_train = []\n",
    "accuracy_list_dev = []\n",
    "f1_list_dev = []\n",
    "\n",
    "for n_estimators in n_estimators_list:\n",
    "    model = RandomForestClassifier(n_estimators=n_estimators,\n",
    "                                   random_state = 123).fit(X_train,y_train) \n",
    "    predictions_train = model.predict(X_train)\n",
    "    predictions_dev = model.predict(X_dev)\n",
    "    accuracy_train = accuracy_score(predictions_train,y_train)\n",
    "    f1_train = f1_score(predictions_train,y_train)\n",
    "    accuracy_dev = accuracy_score(predictions_dev,y_dev)\n",
    "    f1_dev = f1_score(predictions_dev,y_dev)\n",
    "    accuracy_list_train.append(accuracy_train)\n",
    "    f1_list_train.append(f1_train)\n",
    "    accuracy_list_dev.append(accuracy_dev)\n",
    "    f1_list_dev.append(f1_dev)"
   ]
  },
  {
   "cell_type": "code",
   "execution_count": null,
   "id": "4b8e1e40",
   "metadata": {},
   "outputs": [
    {
     "data": {
      "image/png": "[encoded data removed]",
      "text/plain": [
       "<Figure size 640x480 with 1 Axes>"
      ]
     },
     "metadata": {},
     "output_type": "display_data"
    }
   ],
   "source": [
    "plt.title('Train and Validation f1 Scores')\n",
    "plt.xlabel('n_estimators')\n",
    "plt.ylabel('f1 Score')\n",
    "plt.xticks(ticks = range(len(n_estimators_list)),labels=n_estimators_list) \n",
    "plt.plot(f1_list_train)\n",
    "plt.plot(f1_list_dev)\n",
    "plt.legend(['Train','Development']);"
   ]
  },
  {
   "cell_type": "code",
   "execution_count": null,
   "id": "744f0a9d",
   "metadata": {},
   "outputs": [
    {
     "name": "stdout",
     "output_type": "stream",
     "text": [
      "Parameter with best performance is: 10\n"
     ]
    }
   ],
   "source": [
    "\n",
    "best_ind = np.argmax(f1_list_dev)\n",
    "best_n_estimators = n_estimators_list[best_ind]\n",
    "\n",
    "print(\"Parameter with best performance is:\",best_n_estimators)"
   ]
  },
  {
   "cell_type": "markdown",
   "id": "99b98fde",
   "metadata": {},
   "source": [
    "The model performed best around when the parameter is 1000"
   ]
  },
  {
   "cell_type": "code",
   "execution_count": null,
   "id": "268b0eaa",
   "metadata": {},
   "outputs": [],
   "source": [
    "n_estimators_list = np.arange(50,160,10)"
   ]
  },
  {
   "cell_type": "code",
   "execution_count": null,
   "id": "9782a52c",
   "metadata": {},
   "outputs": [],
   "source": [
    "accuracy_list_train = []\n",
    "f1_list_train = []\n",
    "accuracy_list_dev = []\n",
    "f1_list_dev = []\n",
    "\n",
    "for n_estimators in n_estimators_list:\n",
    "    model = RandomForestClassifier(n_estimators=n_estimators,\n",
    "                                   random_state = 123).fit(X_train,y_train) \n",
    "    predictions_train = model.predict(X_train)\n",
    "    predictions_dev = model.predict(X_dev)\n",
    "    accuracy_train = accuracy_score(predictions_train,y_train)\n",
    "    f1_train = f1_score(predictions_train,y_train)\n",
    "    accuracy_dev = accuracy_score(predictions_dev,y_dev)\n",
    "    f1_dev = f1_score(predictions_dev,y_dev)\n",
    "    accuracy_list_train.append(accuracy_train)\n",
    "    f1_list_train.append(f1_train)\n",
    "    accuracy_list_dev.append(accuracy_dev)\n",
    "    f1_list_dev.append(f1_dev)"
   ]
  },
  {
   "cell_type": "code",
   "execution_count": null,
   "id": "b8ef9a0a",
   "metadata": {},
   "outputs": [
    {
     "data": {
      "image/png": "[encoded data removed]",
      "text/plain": [
       "<Figure size 640x480 with 1 Axes>"
      ]
     },
     "metadata": {},
     "output_type": "display_data"
    }
   ],
   "source": [
    "plt.title('Train and Validation f1 Scores')\n",
    "plt.xlabel('n_estimators')\n",
    "plt.ylabel('f1 Score')\n",
    "plt.xticks(ticks = range(len(n_estimators_list)),labels=n_estimators_list) \n",
    "plt.plot(f1_list_train)\n",
    "plt.plot(f1_list_dev)\n",
    "plt.legend(['Train','Development']);"
   ]
  },
  {
   "cell_type": "code",
   "execution_count": null,
   "id": "c4238f2b",
   "metadata": {},
   "outputs": [
    {
     "name": "stdout",
     "output_type": "stream",
     "text": [
      "Parameter with best performance is: 8\n"
     ]
    }
   ],
   "source": [
    "best_ind = np.argmax(f1_list_dev)\n",
    "best_n_estimators = n_estimators_list[best_ind]\n",
    "\n",
    "print(\"Parameter with best performance is:\",best_n_estimators)"
   ]
  },
  {
   "cell_type": "markdown",
   "id": "8836a9a6",
   "metadata": {},
   "source": [
    "> The model performed best when the parameter is 8. We are going with 8 for `n_estimators`"
   ]
  },
  {
   "cell_type": "markdown",
   "id": "16b7806b",
   "metadata": {},
   "source": [
    "### Cross Validation\n",
    "We have a total of 96,112 datasets, we would carry out cross validation to make sure we immerse the 80% of our dataset into model training and 20% into test. For this we would use a kfold of 5."
   ]
  },
  {
   "cell_type": "code",
   "execution_count": null,
   "id": "47f5080d",
   "metadata": {},
   "outputs": [],
   "source": [
    "from sklearn.model_selection import train_test_split\n",
    "X_train_val, X_test, y_train_val, y_test = train_test_split(X.values, y.values, test_size=0.2, random_state=123)"
   ]
  },
  {
   "cell_type": "code",
   "execution_count": null,
   "id": "c497d864",
   "metadata": {},
   "outputs": [],
   "source": [
    "print(f'Shape of X_train_val {X_train_val.shape}    Shape of y_train_val {y_train_val.shape}')\n",
    "print(f'Shape of X_test      {X_test.shape}    Shape of y_test      {y_test.shape}')"
   ]
  },
  {
   "cell_type": "markdown",
   "id": "5bb705c3",
   "metadata": {},
   "source": [
    "##### Cross Validation using F1 score as evaluation metrics"
   ]
  },
  {
   "cell_type": "code",
   "execution_count": null,
   "id": "12ec277e",
   "metadata": {},
   "outputs": [],
   "source": [
    "from sklearn.model_selection import cross_val_score, StratifiedKFold\n",
    "from sklearn.metrics import make_scorer, f1_score"
   ]
  },
  {
   "cell_type": "code",
   "execution_count": null,
   "id": "987e0dac",
   "metadata": {},
   "outputs": [],
   "source": [
    "random_forest_model = RandomForestClassifier(n_estimators = best_n_estimators,\n",
    "                                             max_depth = best_max_depth, \n",
    "                                             min_samples_split = best_min_samples_split,\n",
    "                                             random_state=123)\n",
    "\n",
    "kf = StratifiedKFold(n_splits=5, shuffle=True, random_state=42)\n",
    "\n",
    "f1_scorer = make_scorer(f1_score, average=\"binary\")\n",
    "cross_val_result_arr = cross_val_score(model, X_train_val, y_train_val, cv=kf, scoring=f1_scorer)"
   ]
  },
  {
   "cell_type": "code",
   "execution_count": null,
   "id": "7eec7656",
   "metadata": {},
   "outputs": [],
   "source": [
    "# Printing the results\n",
    "print(\"Cross-Validation Results:\", cross_val_result_arr)\n",
    "print(f\"Mean F1 score: {cross_val_result_arr.mean():.4f}\")\n",
    "print(f\"Standard deviation of F1 score: {cross_val_result_arr.std():.4f}\")"
   ]
  },
  {
   "cell_type": "markdown",
   "id": "6b7b548b",
   "metadata": {},
   "source": [
    "### Model Building"
   ]
  },
  {
   "cell_type": "code",
   "execution_count": null,
   "id": "03effaed",
   "metadata": {},
   "outputs": [],
   "source": [
    "## Evaluating on test dataset\n",
    "random_forest_model = RandomForestClassifier(n_estimators = best_n_estimators,\n",
    "                                             max_depth = best_max_depth, \n",
    "                                             min_samples_split = best_min_samples_split,\n",
    "                                             random_state=123)\n",
    "\n",
    "random_forest_model.fit(X_train_val, y_train_val)\n",
    "\n",
    "y_pred = model.predict(X_test)\n",
    "\n",
    "f1_test_score = f1_score(y_test, y_pred, average='binary')\n",
    "\n",
    "print(f\"F1 Score on Test Set: {f1_test_score:.4f}\")"
   ]
  },
  {
   "cell_type": "markdown",
   "id": "451a3d71",
   "metadata": {},
   "source": [
    "### Confusion Matrix"
   ]
  },
  {
   "cell_type": "code",
   "execution_count": null,
   "id": "fe147a4b",
   "metadata": {},
   "outputs": [
    {
     "data": {
      "image/png": "[encoded data removed]",
      "text/plain": [
       "<Figure size 700x500 with 1 Axes>"
      ]
     },
     "metadata": {},
     "output_type": "display_data"
    }
   ],
   "source": [
    "color  = ['#3355FF','#00FF00','#0D004D','#00bfff','#ffcc99','#006600']\n",
    "# sns.countplot(x='Purchased', data = insurance, palette = color[2:4]);\n",
    "\n",
    "\n",
    "def ConfusionMatrix(ytest, ypred, label: [str, str] = [\"Negative\", \"Positive\"]):\n",
    "    \"A beautiful confusion matrix function to check the model performance\"\n",
    "    from sklearn.metrics import confusion_matrix\n",
    "    import seaborn as sns\n",
    "    cm = confusion_matrix(ytest, ypred)\n",
    "    plt.figure(figsize=(7,5))\n",
    "    sns.heatmap(cm, annot = True, cbar = False, fmt = 'd', cmap = 'Blues_r')\n",
    "    plt.xlabel('Predicted',font = 'Century Gothic', fontsize = 13)\n",
    "    plt.ylabel('Actual', font = 'Century Gothic', fontsize = 13)\n",
    "    plt.xticks([0.5, 1.5], label)\n",
    "    plt.yticks([0.5, 1.5], label)\n",
    "    plt.title('Confusion matrix for Dabiates Prediction', font = \"Century Gothic\", fontsize = 17,fontweight = 'bold');\n",
    "\n",
    "\n",
    "ConfusionMatrix(y_test, y_pred, label = [\"Normal\", \"Diabetic\"])"
   ]
  },
  {
   "cell_type": "markdown",
   "id": "ea98cee7",
   "metadata": {},
   "source": [
    "### Feature Engineering"
   ]
  },
  {
   "cell_type": "code",
   "execution_count": null,
   "id": "d187e677",
   "metadata": {},
   "outputs": [],
   "source": [
    "from sklearn.pipeline import make_pipeline\n",
    "from sklearn.model_selection import validation_curve\n",
    "from sklearn.preprocessing import PolynomialFeatures"
   ]
  },
  {
   "cell_type": "code",
   "execution_count": null,
   "id": "d235c48b",
   "metadata": {},
   "outputs": [],
   "source": [
    "def PolynomialRegression(degree=2, **kwargs):\n",
    "    return make_pipeline(PolynomialFeatures(degree, include_bias=False),\n",
    "                         RandomForestClassifier(\n",
    "                                                 n_estimators = 8,\n",
    "                                                 max_depth = 14, \n",
    "                                                 min_samples_split = 31,\n",
    "                                                 random_state=123\n",
    "                                               )\n",
    "                        )"
   ]
  },
  {
   "cell_type": "code",
   "execution_count": null,
   "id": "4139e95f",
   "metadata": {},
   "outputs": [],
   "source": [
    "X_train_dev = pd.concat([X_train,X_dev])"
   ]
  },
  {
   "cell_type": "code",
   "execution_count": null,
   "id": "3d92aa61",
   "metadata": {},
   "outputs": [],
   "source": [
    "y_train_dev = pd.concat([y_train,y_dev])"
   ]
  },
  {
   "cell_type": "code",
   "execution_count": null,
   "id": "089d4330",
   "metadata": {},
   "outputs": [],
   "source": [
    "degree = np.arange(1,6)"
   ]
  },
  {
   "cell_type": "code",
   "execution_count": null,
   "id": "d182ae75",
   "metadata": {},
   "outputs": [],
   "source": [
    "train_score, val_score = validation_curve(PolynomialRegression(max_iter=100000),\n",
    "                                          X_train_dev,y_train_dev,\n",
    "                                          param_name='polynomialfeatures__degree',\n",
    "                                          param_range=degree,cv=5)"
   ]
  },
  {
   "cell_type": "code",
   "execution_count": 34,
   "id": "4ad2cdce",
   "metadata": {
    "scrolled": false
   },
   "outputs": [
    {
     "data": {
      "image/png": "[encoded data removed]",
      "text/plain": [
       "<Figure size 640x480 with 1 Axes>"
      ]
     },
     "metadata": {},
     "output_type": "display_data"
    }
   ],
   "source": [
    "plt.plot(degree,np.median(train_score,1),'b',label='training score')\n",
    "plt.plot(degree,np.median(val_score,1),'r',label='validation score')\n",
    "plt.xlabel('Degree')\n",
    "plt.ylabel('Score')\n",
    "plt.legend();"
   ]
  },
  {
   "cell_type": "markdown",
   "id": "15fd0382",
   "metadata": {},
   "source": [
    "> Having polynomial features does not increase the performance significantly"
   ]
  }
 ],
 "metadata": {
  "kernelspec": {
   "display_name": "Python 3 (ipykernel)",
   "language": "python",
   "name": "python3"
  },
  "language_info": {
   "codemirror_mode": {
    "name": "ipython",
    "version": 3
   },
   "file_extension": ".py",
   "mimetype": "text/x-python",
   "name": "python",
   "nbconvert_exporter": "python",
   "pygments_lexer": "ipython3",
   "version": "3.10.6"
  }
 },
 "nbformat": 4,
 "nbformat_minor": 5
}
